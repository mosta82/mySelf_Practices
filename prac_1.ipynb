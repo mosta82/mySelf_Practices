{
  "nbformat": 4,
  "nbformat_minor": 0,
  "metadata": {
    "colab": {
      "provenance": [],
      "authorship_tag": "ABX9TyPUV3fF0FeJI1vHnj/i2YR8",
      "include_colab_link": true
    },
    "kernelspec": {
      "name": "python3",
      "display_name": "Python 3"
    },
    "language_info": {
      "name": "python"
    }
  },
  "cells": [
    {
      "cell_type": "markdown",
      "metadata": {
        "id": "view-in-github",
        "colab_type": "text"
      },
      "source": [
        "<a href=\"https://colab.research.google.com/github/mosta82/mySelf_Practices/blob/main/prac_1.ipynb\" target=\"_parent\"><img src=\"https://colab.research.google.com/assets/colab-badge.svg\" alt=\"Open In Colab\"/></a>"
      ]
    },
    {
      "cell_type": "code",
      "execution_count": null,
      "metadata": {
        "colab": {
          "base_uri": "https://localhost:8080/"
        },
        "id": "i-e7Yy7ampiv",
        "outputId": "34094d9e-86ec-4d12-d9b7-04634533379d"
      },
      "outputs": [
        {
          "output_type": "stream",
          "name": "stdout",
          "text": [
            "What's ur name?mm\n",
            "What's ur fav color?mm\n",
            "What's ur fav singer?nnn\n",
            "How old are you?nn\n",
            "mm mm nnn nn\n",
            "<class 'str'>\n",
            "<class 'str'>\n",
            "<class 'str'>\n",
            "<class 'str'>\n"
          ]
        }
      ],
      "source": [
        "  nam = input(\"What's ur name?\")\n",
        "  color = input(\"What's ur fav color?\")\n",
        "  singer = input(\"What's ur fav singer?\")\n",
        "  age = input(\"How old are you?\")\n",
        "  print(nam+\" \" + color+\" \" + singer+\" \" + age)\n",
        "  #print(type)\n",
        "  print(type(nam))\n",
        "  print(type(color))\n",
        "  print(type(singer))\n",
        "  print(type(age))"
      ]
    },
    {
      "cell_type": "code",
      "source": [],
      "metadata": {
        "id": "2m2-yr86nCc2"
      },
      "execution_count": null,
      "outputs": []
    },
    {
      "cell_type": "code",
      "source": [
        "user = int(input('how old are you?'))\n",
        "if user>18:\n",
        "  print('you are adult')\n",
        "else:\n",
        "  print('you are not adult')"
      ],
      "metadata": {
        "id": "T1MbGhxLnP9C",
        "colab": {
          "base_uri": "https://localhost:8080/"
        },
        "outputId": "dc34496d-ed9c-4f5a-a6ed-ba04d6962780"
      },
      "execution_count": null,
      "outputs": [
        {
          "output_type": "stream",
          "name": "stdout",
          "text": [
            "how old are you?25\n",
            "you are adult\n"
          ]
        }
      ]
    },
    {
      "cell_type": "code",
      "source": [
        "a=12\n",
        "b=13\n",
        "c=14\n",
        "max_num = max(a,b,c)\n",
        "print(max_num)"
      ],
      "metadata": {
        "colab": {
          "base_uri": "https://localhost:8080/"
        },
        "id": "EB58WFQP-aRl",
        "outputId": "fffc84bd-a827-404f-ca4f-1c3518bd717f"
      },
      "execution_count": null,
      "outputs": [
        {
          "output_type": "stream",
          "name": "stdout",
          "text": [
            "14\n"
          ]
        }
      ]
    },
    {
      "cell_type": "code",
      "source": [
        "mark = int(input(\"typing ur mark number: \"))\n",
        "if mark>=90 & mark<=100:\n",
        "  print('Grade: A+')\n",
        "elif mark>=80 & mark<90:\n",
        "  print(\"Grade: A\")\n",
        "elif mark>=70 & mark<80:\n",
        "  print(\"Grade: B\")\n",
        "elif mark>=60 & mark<70:\n",
        "  print(\"Grade: C\")\n",
        "elif mark>50 & mark<60:\n",
        "  print(\"Grade: D\")\n",
        "elif mark>100 or mark<0:\n",
        "  print(\"Invalid Mark. Please enter a value between 0 and 100.\")\n",
        "elif mark<50:\n",
        "  print(\"Grade: F(Fail)\")\n"
      ],
      "metadata": {
        "colab": {
          "base_uri": "https://localhost:8080/"
        },
        "id": "B_toTa5W_HVj",
        "outputId": "211881ba-5004-479f-dc45-2dee61890a29"
      },
      "execution_count": null,
      "outputs": [
        {
          "output_type": "stream",
          "name": "stdout",
          "text": [
            "typing ur mark number: 88\n",
            "Grade: A+\n"
          ]
        }
      ]
    },
    {
      "cell_type": "code",
      "source": [
        "mark = int(input(\"typing your mark number: \"))\n",
        "\n",
        "if mark > 100 or mark < 0:\n",
        "    print(\"Invalid Mark. Please enter a value between 0 and 100.\")\n",
        "elif mark >= 90:\n",
        "    print(\"Grade: A+\")\n",
        "elif mark >= 80:\n",
        "    print(\"Grade: A\")\n",
        "elif mark >= 70:\n",
        "    print(\"Grade: B\")\n",
        "elif mark >= 60:\n",
        "    print(\"Grade: C\")\n",
        "elif mark >= 50:\n",
        "    print(\"Grade: D\")\n",
        "else:\n",
        "    print(\"Grade: F (Fail)\")\n"
      ],
      "metadata": {
        "id": "pF83qgEGPSkt",
        "colab": {
          "base_uri": "https://localhost:8080/"
        },
        "outputId": "dce9ba54-a3f3-48dd-f317-7ae591007bcc"
      },
      "execution_count": null,
      "outputs": [
        {
          "output_type": "stream",
          "name": "stdout",
          "text": [
            "typing your mark number: -2\n",
            "Invalid Mark. Please enter a value between 0 and 100.\n"
          ]
        }
      ]
    },
    {
      "cell_type": "code",
      "source": [
        "user = int(input(\"Given input number\"))\n",
        "if(user%2==0):\n",
        "  if(user%3==0):\n",
        "    if(user%5==0):\n",
        "      print(\"Given number is divisible by 2,3,5\")\n",
        "else:\n",
        "  user()"
      ],
      "metadata": {
        "id": "ZHP7vyIAsC0b"
      },
      "execution_count": null,
      "outputs": []
    },
    {
      "cell_type": "code",
      "source": [
        "global_var = 10\n",
        "def my_func():\n",
        "    local_var = 20\n",
        "    global global_var\n",
        "    global_var += 5  # Modify global variable"
      ],
      "metadata": {
        "id": "SIbnphy_nEPI"
      },
      "execution_count": null,
      "outputs": []
    },
    {
      "cell_type": "code",
      "source": [
        "a = \"hello\"\n",
        "b = \"Hello\"\n",
        "print(a is b)  # True (interning reuses the same object)"
      ],
      "metadata": {
        "colab": {
          "base_uri": "https://localhost:8080/"
        },
        "id": "XflmEjrBpF2k",
        "outputId": "966e11fe-3b7a-43c0-a89c-ebc5ba152346"
      },
      "execution_count": null,
      "outputs": [
        {
          "output_type": "stream",
          "name": "stdout",
          "text": [
            "False\n"
          ]
        }
      ]
    },
    {
      "cell_type": "code",
      "source": [
        "count = 0\n",
        "while count < 3:\n",
        "    print(count)\n",
        "    count += 1"
      ],
      "metadata": {
        "colab": {
          "base_uri": "https://localhost:8080/"
        },
        "id": "qcW0EfmQtGX-",
        "outputId": "9ca4e388-2d5b-4c3e-9e76-559adc0741b9"
      },
      "execution_count": null,
      "outputs": [
        {
          "output_type": "stream",
          "name": "stdout",
          "text": [
            "0\n",
            "1\n",
            "2\n"
          ]
        }
      ]
    },
    {
      "cell_type": "code",
      "source": [],
      "metadata": {
        "id": "-bomRftftL1t"
      },
      "execution_count": null,
      "outputs": []
    },
    {
      "cell_type": "code",
      "source": [
        "for num in [1, 2, 3, 4]:\n",
        "    if num == 3:\n",
        "        break    # Exit loop\n",
        "    print(num)"
      ],
      "metadata": {
        "colab": {
          "base_uri": "https://localhost:8080/"
        },
        "id": "xeIz8exAt_yI",
        "outputId": "cee1158c-90eb-462b-f0a5-709458997378"
      },
      "execution_count": null,
      "outputs": [
        {
          "output_type": "stream",
          "name": "stdout",
          "text": [
            "1\n",
            "2\n"
          ]
        }
      ]
    },
    {
      "cell_type": "code",
      "source": [
        "for i in range(3):\n",
        "    print(i)\n",
        "else:\n",
        "    print(\"Loop finished!\")"
      ],
      "metadata": {
        "colab": {
          "base_uri": "https://localhost:8080/"
        },
        "id": "jdNDN2B2uQzR",
        "outputId": "978897c8-8703-443d-cc36-e00e43e5c29c"
      },
      "execution_count": null,
      "outputs": [
        {
          "output_type": "stream",
          "name": "stdout",
          "text": [
            "0\n",
            "1\n",
            "2\n",
            "Loop finished!\n"
          ]
        }
      ]
    },
    {
      "cell_type": "code",
      "source": [
        "squares = [x**2 for x in range(10)]\n",
        "even_squares = [x**2 for x in range(10) if x % 2 == 0]\n",
        "print(squares)\n",
        "print(even_squares)"
      ],
      "metadata": {
        "colab": {
          "base_uri": "https://localhost:8080/"
        },
        "id": "fzYOmj67uaNA",
        "outputId": "800a634d-8397-4d70-ae48-5c2513daca8a"
      },
      "execution_count": null,
      "outputs": [
        {
          "output_type": "stream",
          "name": "stdout",
          "text": [
            "[0, 1, 4, 9, 16, 25, 36, 49, 64, 81]\n",
            "[0, 4, 16, 36, 64]\n"
          ]
        }
      ]
    },
    {
      "cell_type": "code",
      "source": [
        "gen = (x**2 for x in range(10))  # Lazy evaluation\n",
        "print(next(gen))  # 0\n",
        "print(next(gen))  # 1\n",
        "print(next(gen))  # 4"
      ],
      "metadata": {
        "colab": {
          "base_uri": "https://localhost:8080/"
        },
        "id": "-4IbGQLpuysh",
        "outputId": "4059a371-fb28-4349-d92b-a04acf372698"
      },
      "execution_count": null,
      "outputs": [
        {
          "output_type": "stream",
          "name": "stdout",
          "text": [
            "0\n",
            "1\n",
            "4\n"
          ]
        }
      ]
    },
    {
      "cell_type": "code",
      "source": [
        "import numpy as np\n",
        "arr = np.arange(1e6)  # 1 million elements\n",
        "squared = arr ** 2    # Computed in C speed\n",
        "print(squared)"
      ],
      "metadata": {
        "colab": {
          "base_uri": "https://localhost:8080/"
        },
        "id": "PPn_rwlUwX15",
        "outputId": "72195c61-2530-4d42-d832-a542e75e0ae9"
      },
      "execution_count": null,
      "outputs": [
        {
          "output_type": "stream",
          "name": "stdout",
          "text": [
            "[0.00000e+00 1.00000e+00 4.00000e+00 ... 9.99994e+11 9.99996e+11\n",
            " 9.99998e+11]\n"
          ]
        }
      ]
    },
    {
      "cell_type": "code",
      "source": [
        "def greet(name):\n",
        "    return f\"Hello, {name}!\"\n",
        "\n",
        "\n",
        "nam = greet(\"Morshed\")\n",
        "print(nam)"
      ],
      "metadata": {
        "colab": {
          "base_uri": "https://localhost:8080/"
        },
        "id": "yxkULkkruoQ1",
        "outputId": "153f5387-2beb-45ca-efd9-c74833bf3071"
      },
      "execution_count": null,
      "outputs": [
        {
          "output_type": "stream",
          "name": "stdout",
          "text": [
            "Hello, Morshed!\n"
          ]
        }
      ]
    },
    {
      "cell_type": "code",
      "source": [
        "def adder(*num):\n",
        "    sum = 0\n",
        "\n",
        "    for n in num:\n",
        "        sum = sum + n\n",
        "\n",
        "    print(\"Sum:\",sum)\n",
        "\n",
        "adder(3,5)\n",
        "adder(4,5,6,7)\n",
        "adder(1,2,3,5,6)"
      ],
      "metadata": {
        "id": "F_NfbdAcQ1XG",
        "outputId": "0cc53eb6-10e7-4c0a-e69a-e9cf7f8b2a0e",
        "colab": {
          "base_uri": "https://localhost:8080/"
        }
      },
      "execution_count": null,
      "outputs": [
        {
          "output_type": "stream",
          "name": "stdout",
          "text": [
            "Sum: 8\n",
            "Sum: 22\n",
            "Sum: 17\n"
          ]
        }
      ]
    },
    {
      "cell_type": "code",
      "source": [
        "number1 = 10\n",
        "number2 = 15\n",
        "\n",
        "sum = number1 + number2\n",
        "\n",
        "print(\"The sum is:\", sum)\n",
        "# print('The product is:', product)"
      ],
      "metadata": {
        "colab": {
          "base_uri": "https://localhost:8080/"
        },
        "id": "YDZjCXkAyO9G",
        "outputId": "21ccfcc0-ef5a-49c5-ac95-8ae84713f600"
      },
      "execution_count": null,
      "outputs": [
        {
          "output_type": "stream",
          "name": "stdout",
          "text": [
            "The sum is: 25\n"
          ]
        }
      ]
    },
    {
      "cell_type": "code",
      "source": [
        "# Step 1: Input three numbers\n",
        "a = int(input(\"Enter number a: \"))\n",
        "b = int(input(\"Enter number b: \"))\n",
        "c = int(input(\"Enter number c: \"))\n",
        "\n",
        "# Step 2: Find maximum using logic\n",
        "if a >= b and a >= c:\n",
        "    max_num = a\n",
        "elif b >= a and b >= c:\n",
        "    max_num = b\n",
        "else:\n",
        "    max_num = c\n",
        "\n",
        "# Step 3: Find minimum using logic\n",
        "if a <= b and a <= c:\n",
        "    min_num = a\n",
        "elif b <= a and b <= c:\n",
        "    min_num = b\n",
        "else:\n",
        "    min_num = c\n",
        "\n",
        "# Step 4: Print result\n",
        "print(f\"✅ Maximum Number is: {max_num}\")\n",
        "print(f\"✅ Minimum Number is: {min_num}\")\n"
      ],
      "metadata": {
        "id": "NaEuQmxYK7lW",
        "outputId": "fdc43d42-ca18-45a7-9757-456c3833af4b",
        "colab": {
          "base_uri": "https://localhost:8080/"
        }
      },
      "execution_count": null,
      "outputs": [
        {
          "output_type": "stream",
          "name": "stdout",
          "text": [
            "Enter number a: 12\n",
            "Enter number b: 21\n",
            "Enter number c: 32\n",
            "✅ Maximum Number is: 32\n",
            "✅ Minimum Number is: 12\n"
          ]
        }
      ]
    },
    {
      "cell_type": "code",
      "source": [
        "a = int(input(\"Enter number a: \"))\n",
        "b = int(input(\"Enter number b: \"))\n",
        "c = int(input(\"Enter number c: \"))\n",
        "\n",
        "if a>=b and a>=c:\n",
        "  max_num = a\n",
        "elif b>=a and b>=c:\n",
        "  max_num = b\n",
        "else:\n",
        "  max_num = c\n",
        "\n",
        "\n",
        "if a<=b and a<=c:\n",
        "  min_num = a\n",
        "elif b<=a and b<=c:\n",
        "  min_num = b\n",
        "else:\n",
        "  min_num = c\n",
        "\n",
        "print(f\"Maximum Number is: {max_num}\")\n",
        "print(f\"Minimum Number is: {min_num}\")\n"
      ],
      "metadata": {
        "colab": {
          "base_uri": "https://localhost:8080/"
        },
        "id": "b5tYCSj8wOfO",
        "outputId": "36c6d9b9-c635-4253-82fa-88cab2184e30"
      },
      "execution_count": null,
      "outputs": [
        {
          "output_type": "stream",
          "name": "stdout",
          "text": [
            "Enter number a: 12\n",
            "Enter number b: 23\n",
            "Enter number c: 32\n",
            "Maximum Number is: 32\n",
            "Minimum Number is: 12\n"
          ]
        }
      ]
    },
    {
      "cell_type": "code",
      "source": [
        "r"
      ],
      "metadata": {
        "id": "MS-hfHo12Nu8"
      },
      "execution_count": null,
      "outputs": []
    },
    {
      "cell_type": "code",
      "source": [
        "year = int(input(\"Enter a year: \"))\n",
        "\n",
        "if (year % 4 == 0 and year %100 !=0 ) or (year % 400 ==0):\n",
        "  print(f\"{year} is a leap year\")\n",
        "else:\n",
        "  print(f\"{year}is not a leap year\")"
      ],
      "metadata": {
        "colab": {
          "base_uri": "https://localhost:8080/"
        },
        "id": "1V2a160_zEGA",
        "outputId": "39361337-24b5-46fb-e5e0-50de3fcead58"
      },
      "execution_count": null,
      "outputs": [
        {
          "output_type": "stream",
          "name": "stdout",
          "text": [
            "Enter a year: 2000\n",
            "2000 is a leap year\n"
          ]
        }
      ]
    },
    {
      "cell_type": "code",
      "source": [
        "pas = input(\"Enter a password: \")\n",
        "\n",
        "has_upper = False\n",
        "has_lower = False\n",
        "has_num = False\n",
        "has_spe = False\n",
        "\n",
        "for char in pas:\n",
        "  if char.isupper():\n",
        "    has_upper = True\n",
        "  elif char.islower():\n",
        "    has_lower = True\n",
        "  elif char.isdigit():\n",
        "    has_num = True\n",
        "  elif not char.isalnum():\n",
        "    has_spe = True\n",
        "\n",
        "\n",
        "if (len(pas)>=8)and has_upper and has_lower and has_num and has_spe:\n",
        "  print(\"strong password\")\n",
        "else:\n",
        "  print(\"Not strong password\")\n",
        "  if (len(pas)<8):\n",
        "    print(\"Password must be at least 8 characters long\")\n",
        "  if not has_upper:\n",
        "    print(\"upper charter misssing\")\n",
        "  if not has_lower:\n",
        "    print(\"lower charter missing\")\n",
        "\n",
        "  if not has_num:\n",
        "          print(\"not digit\")\n",
        "  if not has_spe:\n",
        "          print(\"atleast spesial character plaese\")"
      ],
      "metadata": {
        "colab": {
          "base_uri": "https://localhost:8080/"
        },
        "id": "l5V8pXyo2nqR",
        "outputId": "321988b0-c192-4278-fd7c-1fb64151a7dd"
      },
      "execution_count": null,
      "outputs": [
        {
          "output_type": "stream",
          "name": "stdout",
          "text": [
            "Enter a password: zxsd\n",
            "Not strong password\n",
            "Password must be at least 8 characters long\n",
            "upper charter misssing\n",
            "not digit\n",
            "atleast spesial character plaese\n"
          ]
        }
      ]
    },
    {
      "cell_type": "code",
      "source": [
        "a = int(input(\"Enter number a: \"))\n",
        "b = int(input(\"Enter number b: \"))\n",
        "c = int(input(\"Enter number c: \"))\n",
        "if a<= b and a<=c:\n",
        "  if b<=c:\n",
        "    order = (a,b,c)\n",
        "  else:\n",
        "    order = (a,c,b)\n",
        "elif b<= c and b<=a:\n",
        "  if a<=c:\n",
        "    order = (b,a,c)\n",
        "  else:\n",
        "    order = (b,c,a)\n",
        "\n",
        "else:\n",
        "  if a<=b:\n",
        "    order = (c,a,b)\n",
        "  else:\n",
        "    order = (c,b,a)\n",
        "print(order)\n",
        "\n"
      ],
      "metadata": {
        "colab": {
          "base_uri": "https://localhost:8080/"
        },
        "id": "bDZ9-NwU_CNx",
        "outputId": "962a9b98-4200-43f0-93a6-d1930ad42a38"
      },
      "execution_count": null,
      "outputs": [
        {
          "output_type": "stream",
          "name": "stdout",
          "text": [
            "Enter number a: 12\n",
            "Enter number b: 32\n",
            "Enter number c: 43\n",
            "(12, 32, 43)\n"
          ]
        }
      ]
    },
    {
      "cell_type": "code",
      "source": [
        "import numpy as np\n",
        "\n",
        "# Imagine a CSV file of students with [age, height, weight]\n",
        "data = np.array([\n",
        "  [18, 5.6, 60],\n",
        "  [20, 5.8, 65],\n",
        "  [22, 6.0, 72]\n",
        "])\n",
        "\n",
        "print(\"Shape:\", data.shape)  # (3, 3) → 3 rows, 3 features\n",
        "\n"
      ],
      "metadata": {
        "id": "_bHQPo9XLJ57",
        "colab": {
          "base_uri": "https://localhost:8080/"
        },
        "outputId": "05af0b85-05cd-40a2-c4a3-92610170f15f"
      },
      "execution_count": null,
      "outputs": [
        {
          "output_type": "stream",
          "name": "stdout",
          "text": [
            "Shape: (3, 3)\n"
          ]
        }
      ]
    },
    {
      "cell_type": "code",
      "source": [
        "# Model configuration using dictionary\n",
        "config = {\n",
        "    \"learning_rate\": 0.01,\n",
        "    \"batch_size\": 32,\n",
        "    \"optimizer\": \"adam\"\n",
        "}\n",
        "\n",
        "print(\"Learning rate:\", config[\"learning_rate\"])\n"
      ],
      "metadata": {
        "colab": {
          "base_uri": "https://localhost:8080/"
        },
        "id": "KJUg9JQbk9mO",
        "outputId": "fbac7240-7a7f-4043-856b-9d490c768825"
      },
      "execution_count": null,
      "outputs": [
        {
          "output_type": "stream",
          "name": "stdout",
          "text": [
            "Learning rate: 0.01\n"
          ]
        }
      ]
    },
    {
      "cell_type": "code",
      "source": [
        "# Dataset\n",
        "data = [\n",
        "    {\"text\": \"hello\", \"label\": 0},\n",
        "    {\"text\": \"hi\", \"label\": 0},\n",
        "    {\"text\": \"bye\", \"label\": 1}\n",
        "]\n",
        "\n",
        "# Function to preprocess\n",
        "def preprocess(text):\n",
        "    return text.upper()\n",
        "\n",
        "# Training loop\n",
        "for sample in data:\n",
        "    input_text = preprocess(sample[\"text\"])\n",
        "    label = sample[\"label\"]\n",
        "    print(f\"Input: {input_text}, Label: {label}\")\n"
      ],
      "metadata": {
        "id": "5rekxVnjTQdh",
        "colab": {
          "base_uri": "https://localhost:8080/"
        },
        "outputId": "5627fec6-73e4-4d2b-ec5c-89658ade2356"
      },
      "execution_count": null,
      "outputs": [
        {
          "output_type": "stream",
          "name": "stdout",
          "text": [
            "Input: HELLO, Label: 0\n",
            "Input: HI, Label: 0\n",
            "Input: BYE, Label: 1\n"
          ]
        }
      ]
    },
    {
      "cell_type": "code",
      "source": [
        "# Dataset (Spam keywords and messages)\n",
        "spam_keywords = [\"win\", \"free\", \"offer\", \"prize\", \"cash\", \"urgent\"]\n",
        "\n",
        "messages = [\n",
        "    \"You won a free cash prize!\",\n",
        "    \"Meeting at 5pm today\",\n",
        "    \"Limited time offer just for you\",\n",
        "    \"Hey, are you free tomorrow?\",\n",
        "    \"Urgent! Claim your prize now!\"\n",
        "]\n",
        "\n",
        "# Function to detect spam\n",
        "def is_spam(message, keywords):\n",
        "    message = message.lower()\n",
        "    for keyword in keywords:\n",
        "        if keyword in message:\n",
        "            return True\n",
        "    return False\n",
        "\n",
        "# Analyze each message\n",
        "results = []\n",
        "for msg in messages:\n",
        "    spam = is_spam(msg, spam_keywords)\n",
        "    results.append({\n",
        "        \"message\": msg,\n",
        "        \"is_spam\": spam\n",
        "    })\n",
        "\n",
        "# Print result\n",
        "print(\"📩 Spam Detection Results:\")\n",
        "for result in results:\n",
        "    label = \"SPAM\" if result[\"is_spam\"] else \"NOT SPAM\"\n",
        "    print(f\"[{label}] {result['message']}\")\n",
        "\n",
        "print(is_spam(\"Hey, are you free tomorrow?\", spam_keywords))\n"
      ],
      "metadata": {
        "colab": {
          "base_uri": "https://localhost:8080/"
        },
        "id": "rXYXV7HlNACF",
        "outputId": "efd45d06-7cb5-41df-d2e7-c043a58ec9e7"
      },
      "execution_count": null,
      "outputs": [
        {
          "output_type": "stream",
          "name": "stdout",
          "text": [
            "📩 Spam Detection Results:\n",
            "[SPAM] You won a free cash prize!\n",
            "[NOT SPAM] Meeting at 5pm today\n",
            "[SPAM] Limited time offer just for you\n",
            "[SPAM] Hey, are you free tomorrow?\n",
            "[SPAM] Urgent! Claim your prize now!\n",
            "True\n"
          ]
        }
      ]
    },
    {
      "cell_type": "code",
      "source": [
        "import numpy as np\n",
        "\n",
        "# Feature vector (1 sample, 3 features)\n",
        "x = np.array([0.5, 1.2, 3.3])\n",
        "\n",
        "# 2D Array: 5 samples × 3 features\n",
        "X = np.random.rand(5, 3)\n",
        "print(X.shape)  # (5, 3)\n"
      ],
      "metadata": {
        "colab": {
          "base_uri": "https://localhost:8080/"
        },
        "id": "FE9zKL8QiK2g",
        "outputId": "a23650bf-76ba-4d54-865d-c821d566a474"
      },
      "execution_count": null,
      "outputs": [
        {
          "output_type": "stream",
          "name": "stdout",
          "text": [
            "(5, 3)\n"
          ]
        }
      ]
    },
    {
      "cell_type": "code",
      "source": [
        "# Weights: 3 features → 1 output\n",
        "W = np.random.rand(3, 1)\n",
        "# Dot product for model prediction: y = XW\n",
        "y_pred = X @ W\n",
        "print(y_pred)\n",
        "print(y_pred.shape)  # (5, 1)\n",
        "\n"
      ],
      "metadata": {
        "colab": {
          "base_uri": "https://localhost:8080/"
        },
        "id": "T-4xdB9hifKb",
        "outputId": "44f266d2-bd41-483f-9ce8-e9626310000c"
      },
      "execution_count": null,
      "outputs": [
        {
          "output_type": "stream",
          "name": "stdout",
          "text": [
            "[[0.40027947]\n",
            " [0.81870607]\n",
            " [0.23689348]\n",
            " [0.31005844]\n",
            " [0.41056862]]\n",
            "(5, 1)\n"
          ]
        }
      ]
    },
    {
      "cell_type": "code",
      "source": [
        "import pandas as pd\n",
        "\n",
        "data = {\n",
        "    'age': [25, 32, 47],\n",
        "    'income': [50000, 64000, 120000],\n",
        "    'target': [0, 1, 1]\n",
        "}\n",
        "df = pd.DataFrame(data)\n",
        "print(df)\n"
      ],
      "metadata": {
        "colab": {
          "base_uri": "https://localhost:8080/"
        },
        "id": "MX2LofkPizCf",
        "outputId": "23e9024c-ca2b-4453-9694-5ee960c23146"
      },
      "execution_count": null,
      "outputs": [
        {
          "output_type": "stream",
          "name": "stdout",
          "text": [
            "   age  income  target\n",
            "0   25   50000       0\n",
            "1   32   64000       1\n",
            "2   47  120000       1\n"
          ]
        }
      ]
    },
    {
      "cell_type": "code",
      "source": [
        "# Access 'income' column\n",
        "df['income']\n",
        "\n",
        "# Access first row\n",
        "df.iloc[0]\n",
        "\n",
        "# Access by condition\n",
        "df[df['income'] > 60000]\n"
      ],
      "metadata": {
        "colab": {
          "base_uri": "https://localhost:8080/",
          "height": 775
        },
        "id": "jYSPtMgwjnmS",
        "outputId": "39578eb2-76c2-46e3-d5b5-3f15a509d628"
      },
      "execution_count": null,
      "outputs": [
        {
          "output_type": "execute_result",
          "data": {
            "text/plain": [
              "   age  income  target\n",
              "1   32   64000       1\n",
              "2   47  120000       1"
            ],
            "text/html": [
              "\n",
              "  <div id=\"df-b1901b3f-9b7b-470d-ac8a-cdb84169e1c4\" class=\"colab-df-container\">\n",
              "    <div>\n",
              "<style scoped>\n",
              "    .dataframe tbody tr th:only-of-type {\n",
              "        vertical-align: middle;\n",
              "    }\n",
              "\n",
              "    .dataframe tbody tr th {\n",
              "        vertical-align: top;\n",
              "    }\n",
              "\n",
              "    .dataframe thead th {\n",
              "        text-align: right;\n",
              "    }\n",
              "</style>\n",
              "<table border=\"1\" class=\"dataframe\">\n",
              "  <thead>\n",
              "    <tr style=\"text-align: right;\">\n",
              "      <th></th>\n",
              "      <th>age</th>\n",
              "      <th>income</th>\n",
              "      <th>target</th>\n",
              "    </tr>\n",
              "  </thead>\n",
              "  <tbody>\n",
              "    <tr>\n",
              "      <th>1</th>\n",
              "      <td>32</td>\n",
              "      <td>64000</td>\n",
              "      <td>1</td>\n",
              "    </tr>\n",
              "    <tr>\n",
              "      <th>2</th>\n",
              "      <td>47</td>\n",
              "      <td>120000</td>\n",
              "      <td>1</td>\n",
              "    </tr>\n",
              "  </tbody>\n",
              "</table>\n",
              "</div>\n",
              "    <div class=\"colab-df-buttons\">\n",
              "\n",
              "  <div class=\"colab-df-container\">\n",
              "    <button class=\"colab-df-convert\" onclick=\"convertToInteractive('df-b1901b3f-9b7b-470d-ac8a-cdb84169e1c4')\"\n",
              "            title=\"Convert this dataframe to an interactive table.\"\n",
              "            style=\"display:none;\">\n",
              "\n",
              "  <svg xmlns=\"http://www.w3.org/2000/svg\" height=\"24px\" viewBox=\"0 -960 960 960\">\n",
              "    <path d=\"M120-120v-720h720v720H120Zm60-500h600v-160H180v160Zm220 220h160v-160H400v160Zm0 220h160v-160H400v160ZM180-400h160v-160H180v160Zm440 0h160v-160H620v160ZM180-180h160v-160H180v160Zm440 0h160v-160H620v160Z\"/>\n",
              "  </svg>\n",
              "    </button>\n",
              "\n",
              "  <style>\n",
              "    .colab-df-container {\n",
              "      display:flex;\n",
              "      gap: 12px;\n",
              "    }\n",
              "\n",
              "    .colab-df-convert {\n",
              "      background-color: #E8F0FE;\n",
              "      border: none;\n",
              "      border-radius: 50%;\n",
              "      cursor: pointer;\n",
              "      display: none;\n",
              "      fill: #1967D2;\n",
              "      height: 32px;\n",
              "      padding: 0 0 0 0;\n",
              "      width: 32px;\n",
              "    }\n",
              "\n",
              "    .colab-df-convert:hover {\n",
              "      background-color: #E2EBFA;\n",
              "      box-shadow: 0px 1px 2px rgba(60, 64, 67, 0.3), 0px 1px 3px 1px rgba(60, 64, 67, 0.15);\n",
              "      fill: #174EA6;\n",
              "    }\n",
              "\n",
              "    .colab-df-buttons div {\n",
              "      margin-bottom: 4px;\n",
              "    }\n",
              "\n",
              "    [theme=dark] .colab-df-convert {\n",
              "      background-color: #3B4455;\n",
              "      fill: #D2E3FC;\n",
              "    }\n",
              "\n",
              "    [theme=dark] .colab-df-convert:hover {\n",
              "      background-color: #434B5C;\n",
              "      box-shadow: 0px 1px 3px 1px rgba(0, 0, 0, 0.15);\n",
              "      filter: drop-shadow(0px 1px 2px rgba(0, 0, 0, 0.3));\n",
              "      fill: #FFFFFF;\n",
              "    }\n",
              "  </style>\n",
              "\n",
              "    <script>\n",
              "      const buttonEl =\n",
              "        document.querySelector('#df-b1901b3f-9b7b-470d-ac8a-cdb84169e1c4 button.colab-df-convert');\n",
              "      buttonEl.style.display =\n",
              "        google.colab.kernel.accessAllowed ? 'block' : 'none';\n",
              "\n",
              "      async function convertToInteractive(key) {\n",
              "        const element = document.querySelector('#df-b1901b3f-9b7b-470d-ac8a-cdb84169e1c4');\n",
              "        const dataTable =\n",
              "          await google.colab.kernel.invokeFunction('convertToInteractive',\n",
              "                                                    [key], {});\n",
              "        if (!dataTable) return;\n",
              "\n",
              "        const docLinkHtml = 'Like what you see? Visit the ' +\n",
              "          '<a target=\"_blank\" href=https://colab.research.google.com/notebooks/data_table.ipynb>data table notebook</a>'\n",
              "          + ' to learn more about interactive tables.';\n",
              "        element.innerHTML = '';\n",
              "        dataTable['output_type'] = 'display_data';\n",
              "        await google.colab.output.renderOutput(dataTable, element);\n",
              "        const docLink = document.createElement('div');\n",
              "        docLink.innerHTML = docLinkHtml;\n",
              "        element.appendChild(docLink);\n",
              "      }\n",
              "    </script>\n",
              "  </div>\n",
              "\n",
              "\n",
              "    <div id=\"df-afae8ec6-4783-4cf9-bd81-fb7a423dd8e1\">\n",
              "      <button class=\"colab-df-quickchart\" onclick=\"quickchart('df-afae8ec6-4783-4cf9-bd81-fb7a423dd8e1')\"\n",
              "                title=\"Suggest charts\"\n",
              "                style=\"display:none;\">\n",
              "\n",
              "<svg xmlns=\"http://www.w3.org/2000/svg\" height=\"24px\"viewBox=\"0 0 24 24\"\n",
              "     width=\"24px\">\n",
              "    <g>\n",
              "        <path d=\"M19 3H5c-1.1 0-2 .9-2 2v14c0 1.1.9 2 2 2h14c1.1 0 2-.9 2-2V5c0-1.1-.9-2-2-2zM9 17H7v-7h2v7zm4 0h-2V7h2v10zm4 0h-2v-4h2v4z\"/>\n",
              "    </g>\n",
              "</svg>\n",
              "      </button>\n",
              "\n",
              "<style>\n",
              "  .colab-df-quickchart {\n",
              "      --bg-color: #E8F0FE;\n",
              "      --fill-color: #1967D2;\n",
              "      --hover-bg-color: #E2EBFA;\n",
              "      --hover-fill-color: #174EA6;\n",
              "      --disabled-fill-color: #AAA;\n",
              "      --disabled-bg-color: #DDD;\n",
              "  }\n",
              "\n",
              "  [theme=dark] .colab-df-quickchart {\n",
              "      --bg-color: #3B4455;\n",
              "      --fill-color: #D2E3FC;\n",
              "      --hover-bg-color: #434B5C;\n",
              "      --hover-fill-color: #FFFFFF;\n",
              "      --disabled-bg-color: #3B4455;\n",
              "      --disabled-fill-color: #666;\n",
              "  }\n",
              "\n",
              "  .colab-df-quickchart {\n",
              "    background-color: var(--bg-color);\n",
              "    border: none;\n",
              "    border-radius: 50%;\n",
              "    cursor: pointer;\n",
              "    display: none;\n",
              "    fill: var(--fill-color);\n",
              "    height: 32px;\n",
              "    padding: 0;\n",
              "    width: 32px;\n",
              "  }\n",
              "\n",
              "  .colab-df-quickchart:hover {\n",
              "    background-color: var(--hover-bg-color);\n",
              "    box-shadow: 0 1px 2px rgba(60, 64, 67, 0.3), 0 1px 3px 1px rgba(60, 64, 67, 0.15);\n",
              "    fill: var(--button-hover-fill-color);\n",
              "  }\n",
              "\n",
              "  .colab-df-quickchart-complete:disabled,\n",
              "  .colab-df-quickchart-complete:disabled:hover {\n",
              "    background-color: var(--disabled-bg-color);\n",
              "    fill: var(--disabled-fill-color);\n",
              "    box-shadow: none;\n",
              "  }\n",
              "\n",
              "  .colab-df-spinner {\n",
              "    border: 2px solid var(--fill-color);\n",
              "    border-color: transparent;\n",
              "    border-bottom-color: var(--fill-color);\n",
              "    animation:\n",
              "      spin 1s steps(1) infinite;\n",
              "  }\n",
              "\n",
              "  @keyframes spin {\n",
              "    0% {\n",
              "      border-color: transparent;\n",
              "      border-bottom-color: var(--fill-color);\n",
              "      border-left-color: var(--fill-color);\n",
              "    }\n",
              "    20% {\n",
              "      border-color: transparent;\n",
              "      border-left-color: var(--fill-color);\n",
              "      border-top-color: var(--fill-color);\n",
              "    }\n",
              "    30% {\n",
              "      border-color: transparent;\n",
              "      border-left-color: var(--fill-color);\n",
              "      border-top-color: var(--fill-color);\n",
              "      border-right-color: var(--fill-color);\n",
              "    }\n",
              "    40% {\n",
              "      border-color: transparent;\n",
              "      border-right-color: var(--fill-color);\n",
              "      border-top-color: var(--fill-color);\n",
              "    }\n",
              "    60% {\n",
              "      border-color: transparent;\n",
              "      border-right-color: var(--fill-color);\n",
              "    }\n",
              "    80% {\n",
              "      border-color: transparent;\n",
              "      border-right-color: var(--fill-color);\n",
              "      border-bottom-color: var(--fill-color);\n",
              "    }\n",
              "    90% {\n",
              "      border-color: transparent;\n",
              "      border-bottom-color: var(--fill-color);\n",
              "    }\n",
              "  }\n",
              "</style>\n",
              "\n",
              "      <script>\n",
              "        async function quickchart(key) {\n",
              "          const quickchartButtonEl =\n",
              "            document.querySelector('#' + key + ' button');\n",
              "          quickchartButtonEl.disabled = true;  // To prevent multiple clicks.\n",
              "          quickchartButtonEl.classList.add('colab-df-spinner');\n",
              "          try {\n",
              "            const charts = await google.colab.kernel.invokeFunction(\n",
              "                'suggestCharts', [key], {});\n",
              "          } catch (error) {\n",
              "            console.error('Error during call to suggestCharts:', error);\n",
              "          }\n",
              "          quickchartButtonEl.classList.remove('colab-df-spinner');\n",
              "          quickchartButtonEl.classList.add('colab-df-quickchart-complete');\n",
              "        }\n",
              "        (() => {\n",
              "          let quickchartButtonEl =\n",
              "            document.querySelector('#df-afae8ec6-4783-4cf9-bd81-fb7a423dd8e1 button');\n",
              "          quickchartButtonEl.style.display =\n",
              "            google.colab.kernel.accessAllowed ? 'block' : 'none';\n",
              "        })();\n",
              "      </script>\n",
              "    </div>\n",
              "\n",
              "    </div>\n",
              "  </div>\n"
            ],
            "application/vnd.google.colaboratory.intrinsic+json": {
              "type": "dataframe",
              "summary": "{\n  \"name\": \"df[df['income'] > 60000]\",\n  \"rows\": 2,\n  \"fields\": [\n    {\n      \"column\": \"age\",\n      \"properties\": {\n        \"dtype\": \"number\",\n        \"std\": 10,\n        \"min\": 32,\n        \"max\": 47,\n        \"num_unique_values\": 2,\n        \"samples\": [\n          47,\n          32\n        ],\n        \"semantic_type\": \"\",\n        \"description\": \"\"\n      }\n    },\n    {\n      \"column\": \"income\",\n      \"properties\": {\n        \"dtype\": \"number\",\n        \"std\": 39597,\n        \"min\": 64000,\n        \"max\": 120000,\n        \"num_unique_values\": 2,\n        \"samples\": [\n          120000,\n          64000\n        ],\n        \"semantic_type\": \"\",\n        \"description\": \"\"\n      }\n    },\n    {\n      \"column\": \"target\",\n      \"properties\": {\n        \"dtype\": \"number\",\n        \"std\": 0,\n        \"min\": 1,\n        \"max\": 1,\n        \"num_unique_values\": 1,\n        \"samples\": [\n          1\n        ],\n        \"semantic_type\": \"\",\n        \"description\": \"\"\n      }\n    }\n  ]\n}"
            }
          },
          "metadata": {},
          "execution_count": 10
        },
        {
          "output_type": "display_data",
          "data": {
            "text/plain": [
              "<google.colab._quickchart_helpers.SectionTitle at 0x7a8bb2956fd0>"
            ],
            "text/html": [
              "<h4 class=\"colab-quickchart-section-title\">Distributions</h4>\n",
              "<style>\n",
              "  .colab-quickchart-section-title {\n",
              "      clear: both;\n",
              "  }\n",
              "</style>"
            ]
          },
          "metadata": {}
        },
        {
          "output_type": "display_data",
          "data": {
            "text/plain": [
              "from matplotlib import pyplot as plt\n",
              "_df_0['age'].plot(kind='hist', bins=20, title='age')\n",
              "plt.gca().spines[['top', 'right',]].set_visible(False)"
            ],
            "text/html": [
              "      <div class=\"colab-quickchart-chart-with-code\" id=\"chart-b0f6aa00-7999-41bc-82c9-3ecd4c03a720\">\n",
              "        <img style=\"width: 180px;\" src=\"data:image/png;base64,iVBORw0KGgoAAAANSUhEUgAAAioAAAGrCAYAAADuNLxTAAAAOnRFWHRTb2Z0d2FyZQBNYXRwbG90\n",
              "bGliIHZlcnNpb24zLjEwLjAsIGh0dHBzOi8vbWF0cGxvdGxpYi5vcmcvlHJYcgAAAAlwSFlzAAAP\n",
              "YQAAD2EBqD+naQAAIKFJREFUeJzt3XtQ1XX+x/HXAfLQRcQQFwQPjgJmeSEMhkXbtpx2tS0srbZa\n",
              "TNxA7LoNzeSSNWk3bNrdtIsjXsYuzpaNYpG2tVu6djMRK9d0N0DFgy6KWYKVIpfP7w9/nfGEpw07\n",
              "X88HfD5mzgzn+PHL+zMgPud7vpzjMsYYAQAAWCgs1AMAAAAEQqgAAABrESoAAMBahAoAALAWoQIA\n",
              "AKxFqAAAAGsRKgAAwFqECgAAsBahAgAArEWoAAAAaxEqAADAWoQKAACwFqEC4JR79tlnNXToUEVF\n",
              "RSkuLk6TJk3SF198IUlqaWnRPffco7i4OMXGxqq4uFijR4/WzJkzfX9/z549uummm5SQkKC+ffvq\n",
              "xhtv1P79+0O0GwBOIlQAnHJxcXEqKyvTwYMHtWHDBlVVVenOO++UJJWUlOjVV1/VunXrtHv3brnd\n",
              "bm3YsMH3d5ubmzVmzBj169dPVVVV2rFjhyIiInTTTTeFajsAHOQyxphQDwHg9LZy5Url5+frwIED\n",
              "Sk5OVlFRkW677TZJUltbm/r166dbb71VM2fOVFlZme68807t3r1bLpdL0rEzLImJiaqrq1NiYmIo\n",
              "twIgyCJCPQCA009ZWZn+9Kc/qaamRkeOHFF7e7u++eYbtbW1ac+ePUpKSvKtDQ8PV//+/X33q6ur\n",
              "tW/fPvXu3dvvmG63W16vl1ABuhme+gFwSu3evVvXXXed7rzzTnm9XjU1NenFF1+UJBljlJCQoF27\n",
              "dvnWt7e3a/fu3b77cXFxSkpK0sGDB/1uR44cUXZ29infDwBnESoATqmvv/5a7e3t6tOnjyIjI1Vd\n",
              "Xa2SkhLfn0+aNElPPvmkqqqqdPToUT3yyCM6cOCA788nTJiglpYWPfDAA2psbJQkNTQ0aNmyZad8\n",
              "LwCcR6gAOKXOO+88lZSU6Oabb1bPnj01efJk5ebm+v68uLhYv/nNb3TxxRcrISFBhw8f1oUXXqjI\n",
              "yEhJUs+ePbV+/Xp5vV4NGzZMUVFRys7O1rvvvhuqLQFwEBfTArBaa2ur4uPj9dRTT+nGG28M9TgA\n",
              "TjHOqACwyqFDh/T666/r6NGj+vrrrzV9+nS1t7dr3LhxoR4NQAgQKgCs0t7erocfflh9+vRRQkKC\n",
              "Kioq9MYbbyg6OjrUowEIAZ76AQAA1uKMCgAAsBahAgAArEWoAAAAaxEqAADAWt0iVObOnRvqEQAA\n",
              "gAO6Ragc/74gAACg++gWoQIAALonQgUAAFiLUAEAANYiVAAAgLUIFQAAYC1CBQAAWItQAQAA1iJU\n",
              "AACAtQgVAABgLUIFAABYi1ABAADWIlQAAIC1HA2Vu+66SwMGDJDL5dKnn34acN3ixYuVkpKiQYMG\n",
              "qaCgQC0tLU6OBQAAughHQ+Xaa6/V+++/r6SkpIBrdu7cqQceeEDvvfeeampqtG/fPi1YsMDJsQAA\n",
              "QBfhaKj84he/UGJi4g+uWb58uXJychQXFyeXy6Vp06bppZdeCri+ublZTU1Nfre2trZgjw4AACwQ\n",
              "EeoBvF6v3xmXAQMGyOv1BlxfUlKiWbNm+T2WlZXlyGwD/rjakeNKUu3s3zh2bADA6cep/7NC/f9V\n",
              "l7uYtri4WI2NjX63zMzMUI8FAAAcEPIzKh6PR9u3b/fdr62tlcfjCbje7XbL7Xb7PRYeHu7YfAAA\n",
              "IHRCfkZl4sSJKi8v1969e2WM0fz583XDDTeEeiwAAGABR0OlsLBQiYmJ2r17t379618rOTlZkpSf\n",
              "n6/y8nJJ0sCBAzVr1iyNGjVKycnJio2NVWFhoZNjAQCALsLRp35KS0tP+PiiRYv87hcUFKigoMDJ\n",
              "UQAAQBcU8qd+AAAAAiFUAACAtQgVAABgLUIFAABYi1ABAADWIlQAAIC1CBUAAGAtQgUAAFiLUAEA\n",
              "ANYiVAAAgLUIFQAAYC1CBQAAWItQAQAA1iJUAACAtQgVAABgLUIFAABYi1ABAADWIlQAAIC1CBUA\n",
              "AGAtQgUAAFiLUAEAANYiVAAAgLUIFQAAYC1CBQAAWItQAQAA1iJUAACAtQgVAABgLUIFAABYi1AB\n",
              "AADWIlQAAIC1CBUAAGAtQgUAAFiLUAEAANYiVAAAgLUIFQAAYC1CBQAAWItQAQAA1iJUAACAtQgV\n",
              "AABgLUIFAABYi1ABAADWIlQAAIC1CBUAAGAtQgUAAFiLUAEAANYiVAAAgLUIFQAAYC1CBQAAWItQ\n",
              "AQAA1iJUAACAtQgVAABgLUIFAABYi1ABAADWIlQAAIC1CBUAAGAtQgUAAFiLUAEAANYiVAAAgLUI\n",
              "FQAAYC1CBQAAWItQAQAA1nI0VKqrq5Wdna3U1FRlZGRo69atHda0t7erqKhI559/voYPH65LL71U\n",
              "NTU1To4FAAC6CEdDpbCwUFOnTlVVVZWmT5+uvLy8DmvKy8v1wQcfaPPmzfrXv/6lMWPG6L777nNy\n",
              "LAAA0EU4FioNDQ2qrKxUbm6uJGnixImqq6vrcLbE5XKpublZR44ckTFGTU1NSkxMdGosAADQhUQ4\n",
              "deC6ujrFx8crIuLYp3C5XPJ4PPJ6vUpOTvatu+qqq7R27VrFxcWpZ8+eSkhI0Lp16wIet7m5Wc3N\n",
              "zX6PtbW1ObMJAAAQUiG/mLayslKfffaZ9uzZo//+978aM2aMpk2bFnB9SUmJevXq5XerqKg4hRMD\n",
              "AIBTxbFQ6d+/v+rr69Xa2ipJMsbI6/XK4/H4rXvhhRd02WWXKTo6WmFhYZo8ebLWrl0b8LjFxcVq\n",
              "bGz0u2VmZjq1DQAAEEKOhUrfvn2Vnp6upUuXSpJWrFihxMREv6d9JGngwIFas2aNjh49KklatWqV\n",
              "hg4dGvC4brdbUVFRfrfw8HCntgEAAELIsWtUJKm0tFR5eXl67LHHFBUVpSVLlkiS8vPzlZOTo5yc\n",
              "HN1+++3697//rREjRuiMM85QXFyc5s+f7+RYAACgi3A0VAYPHqz169d3eHzRokW+j91utxYuXOjk\n",
              "GAAAoIsK+cW0AAAAgRAqAADAWoQKAACwFqECAACsRagAAABrESoAAMBahAoAALAWoQIAAKxFqAAA\n",
              "AGsRKgAAwFqECgAAsBahAgAArEWoAAAAaxEqAADAWoQKAACwFqECAACsRagAAABrESoAAMBahAoA\n",
              "ALAWoQIAAKxFqAAAAGsRKgAAwFqECgAAsBahAgAArEWoAAAAaxEqAADAWoQKAACwFqECAACsRagA\n",
              "AABrESoAAMBahAoAALAWoQIAAKxFqAAAAGsRKgAAwFqECgAAsBahAgAArEWoAAAAaxEqAADAWoQK\n",
              "AACwFqECAACsRagAAABrESoAAMBahAoAALAWoQIAAKxFqAAAAGsRKgAAwFqECgAAsBahAgAArEWo\n",
              "AAAAaxEqAADAWoQKAACwFqECAACsRagAAABrESoAAMBahAoAALAWoQIAAKxFqAAAAGsRKgAAwFqE\n",
              "CgAAsBahAgAArEWoAAAAaxEqAADAWo6GSnV1tbKzs5WamqqMjAxt3br1hOu2bNmiX/7ylxoyZIiG\n",
              "DBmisrIyJ8cCAABdRISTBy8sLNTUqVOVl5en5cuXKy8vTxs3bvRb8+2332r8+PF64YUXNHr0aLW1\n",
              "tenLL790ciwAANBFOHZGpaGhQZWVlcrNzZUkTZw4UXV1daqpqfFb99e//lVZWVkaPXq0JCk8PFyx\n",
              "sbEBj9vc3Kympia/W1tbm1PbAAAAIeRYqNTV1Sk+Pl4REcdO2rhcLnk8Hnm9Xr9127Ztk9vt1pVX\n",
              "Xqm0tDTdfPPN2r9/f8DjlpSUqFevXn63iooKp7YBAABCqNOh8tZbbwV1gNbWVr399tsqLS3VJ598\n",
              "ooSEBN16660B1xcXF6uxsdHvlpmZGdSZAACAHTodKg899JAGDx6suXPnqqmpKeC6/v37q76+Xq2t\n",
              "rZIkY4y8Xq88Ho/fOo/Ho0svvVQJCQlyuVzKzc3VRx99FPC4brdbUVFRfrfw8PDObgMAAHQBnQ6V\n",
              "Dz74QC+//LI+++wzpaam6rbbbtO2bds6rOvbt6/S09O1dOlSSdKKFSuUmJio5ORkv3XXX3+9Nm7c\n",
              "6IueN954QyNGjDiZvQAAgG7mpK5RufDCC7Vw4UK9+eabWrVqlYYPH67LL79cW7Zs8VtXWlqq0tJS\n",
              "paamavbs2VqyZIkkKT8/X+Xl5ZKOnVG57777lJ2dreHDh2vNmjWaP3/+T9wWAADoDk7q15Pffvtt\n",
              "Pf3009qyZYtuv/123XLLLfrnP/+pa665xu+3egYPHqz169d3+PuLFi3yuz9p0iRNmjTpZEYBAADd\n",
              "WKdDZciQIerTp4/uuusuTZgwwXd9yLXXXqvFixcHfUAAAHD66nSoLF26VCNHjjzhn/3tb3/7yQMB\n",
              "AAB8p9PXqGzatMnvlWMPHDighQsXBnUoAAAA6SRCZd68eTr33HN992NiYjRv3rygDgUAACCdRKgY\n",
              "Yzo8xkvYAwAAJ3Q6VOLj4/XKK6/47i9btkzx8fFBHQoAAEA6iYtp58yZo/Hjx+vee++VJJ111ll6\n",
              "7bXXgj4YAABAp0PlvPPO07Zt2/T5559LOvZaKbyEPQAAcMJJveCby+VSdHS0WltbtWfPHknq8B4+\n",
              "AAAAP1WnQ+W5557TXXfdpTPOOENhYccucXG5XGpoaAj6cAAA4PTW6VB5+OGHtXHjRg0ePNiJeQAA\n",
              "AHw6/Vs/ffr0IVIAAMAp0elQufrqqzVnzhw1NDSoqanJdwMAAAi2Tj/1M2PGDElSUVGRXC6XjDFy\n",
              "uVy86BsAAAi6TodKe3u7E3MAAAB00OmnfqRjb0z44osvSpIOHjyo+vr6oA4FAAAgneSbEv7+97/X\n",
              "zJkzJR179+Sbbrop2HMBAAB0PlQWLFigjz76SFFRUZKkQYMGaf/+/UEfDAAAoNOh4na7deaZZ/o9\n",
              "FhFxUi9wCwAA8IM6HSqxsbGqqqqSy+WSdOyVann5fAAA4ISTevfkG2+8Uf/5z3/Uv39/RUVFadWq\n",
              "VU7MBgAATnOdDpXk5GRt2LBBn3/+uYwxvHsyAABwTKdDxev1SpLOPvtsSeLdkwEAgGM6HSojR470\n",
              "vSLtkSNH9O233yomJoZ3TwYAAEHX6VD5/q8il5WVafPmzUEbCAAA4Dsn9cq0x5swYYJWr14djFkA\n",
              "AAD8dPqMyvHvlNzW1qYNGzbw7skAAMARnQ6V6Oho3zUq4eHhSklJ0VNPPeXEbAAA4DTHuycDAABr\n",
              "/eRrVAAAAJzS6TMqYWFhvpfPP54xRi6XS21tbUEZDAAAoNOh8tBDD+nw4cO69dZbJUnz58/XmWee\n",
              "qbvvvjvYswEAgNNcp0Nl5cqV2rRpk+/+I488opEjR2rGjBlBHQwAAKDT16gcOnTI71VoGxoadOjQ\n",
              "oaAOBQAAIJ3EGZV77rlHI0aM0BVXXCFJevPNNzVz5sxgzwUAAND5UCksLNSoUaO0du1aSVJRUZEu\n",
              "uOCCoA8GAADQ6VCRpJiYGA0bNky//OUv1draqqNHj6pHjx7Bng0AAJzmOn2NyvLly5WVlaUpU6ZI\n",
              "krZu3aqrr7462HMBAAB0PlRKSkr08ccfKzo6WpI0YsQI7dq1K9hzAQAAdD5UwsPDFRMT4/cYT/sA\n",
              "AAAndDpUevbsqX379vlenfadd97RueeeG/TBAAAAOn0x7eOPP65x48Zpx44dGj16tHbu3KnVq1c7\n",
              "MRsAADjNdSpU2tvb1dbWprVr1+rDDz+UMUbZ2dm+61UAAACCqVOhEhYWpqlTp2rz5s0aN26cUzMB\n",
              "AABIOolrVFJSUlRTU+PELAAAAH46fY3Kl19+qbS0NGVnZ+ucc87xPV5WVhbUwQAAAH50qEydOlUL\n",
              "FizQ5MmTlZOTo969ezs5FwAAwI8PlcrKSknS5MmTlZ6ero8//tixoQAAAKSTuEZFkowxwZ4DAACg\n",
              "gx99RuXw4cPasmWLjDE6cuSI7+PvDB8+3JEBAQDA6atToZKTk+O7f/zHLpdLO3bsCO5kAADgtPej\n",
              "Q6W2ttbBMQAAADo6qWtUAAAATgVCBQAAWItQAQAA1iJUAACAtQgVAABgLUIFAABYi1ABAADWIlQA\n",
              "AIC1CBUAAGAtR0Olurpa2dnZSk1NVUZGhrZu3RpwrTFGl112maKjo50cCQAAdCGOhkphYaGmTp2q\n",
              "qqoqTZ8+XXl5eQHXPvnkkxo0aJCT4wAAgC7GsVBpaGhQZWWlcnNzJUkTJ05UXV2dampqOqzdunWr\n",
              "Xn31Vf3xj3/8n8dtbm5WU1OT362trS3o8wMAgNBzLFTq6uoUHx+viIhj73vocrnk8Xjk9Xr91rW0\n",
              "tKigoEClpaUKDw//n8ctKSlRr169/G4VFRWO7AEAAIRWyC+mnTVrliZMmKAhQ4b8qPXFxcVqbGz0\n",
              "u2VmZjo8JQAACIUIpw7cv39/1dfXq7W1VRERETLGyOv1yuPx+K1bt26dvF6vnnnmGbW2tqqpqUkD\n",
              "BgzQxo0bFRsb2+G4brdbbrfb77EfcyYGAAB0PY6dUenbt6/S09O1dOlSSdKKFSuUmJio5ORkv3Xv\n",
              "vfeedu3apdraWr3//vuKiopSbW3tCSMFAACcXhx96qe0tFSlpaVKTU3V7NmztWTJEklSfn6+ysvL\n",
              "nfzUAACgG3DsqR9JGjx4sNavX9/h8UWLFp1w/YABA3Tw4EEnRwIAAF1IyC+mBQAACIRQAQAA1iJU\n",
              "AACAtQgVAABgLUIFAABYi1ABAADWIlQAAIC1CBUAAGAtQgUAAFiLUAEAANYiVAAAgLUIFQAAYC1C\n",
              "BQAAWItQAQAA1iJUAACAtQgVAABgLUIFAABYi1ABAADWIlQAAIC1CBUAAGAtQgUAAFiLUAEAANYi\n",
              "VAAAgLUIFQAAYC1CBQAAWItQAQAA1iJUAACAtQgVAABgLUIFAABYi1ABAADWIlQAAIC1CBUAAGAt\n",
              "QgUAAFiLUAEAANYiVAAAgLUIFQAAYC1CBQAAWItQAQAA1iJUAACAtQgVAABgLUIFAABYi1ABAADW\n",
              "IlQAAIC1CBUAAGAtQgUAAFiLUAEAANYiVAAAgLUIFQAAYC1CBQAAWItQAQAA1iJUAACAtQgVAABg\n",
              "LUIFAABYi1ABAADWIlQAAIC1CBUAAGAtQgUAAFiLUAEAANYiVAAAgLUIFQAAYC1CBQAAWItQAQAA\n",
              "1nI0VKqrq5Wdna3U1FRlZGRo69atHdasWbNGmZmZOv/883XBBRfo3nvvVXt7u5NjAQCALsLRUCks\n",
              "LNTUqVNVVVWl6dOnKy8vr8Oa3r176+WXX9a2bdu0adMmffjhh3rhhRecHAsAAHQRjoVKQ0ODKisr\n",
              "lZubK0maOHGi6urqVFNT47fuwgsv1MCBAyVJkZGRSktLU21tbcDjNjc3q6mpye/W1tbm1DYAAEAI\n",
              "ORYqdXV1io+PV0REhCTJ5XLJ4/HI6/UG/Dt79+7V8uXLdeWVVwZcU1JSol69evndKioqgj4/AAAI\n",
              "PWsupm1qatJVV12le++9VxdddFHAdcXFxWpsbPS7ZWZmnsJJAQDAqRLh1IH79++v+vp6tba2KiIi\n",
              "QsYYeb1eeTyeDmsPHTqksWPHavz48SoqKvrB47rdbrndbr/HwsPDgzo7AACwg2NnVPr27av09HQt\n",
              "XbpUkrRixQolJiYqOTnZb93XX3+tsWPHauzYsbr//vudGgcAAHRBjj71U1paqtLSUqWmpmr27Nla\n",
              "smSJJCk/P1/l5eWSpLlz56qiokJlZWVKS0tTWlqaHn30USfHAgAAXYRjT/1I0uDBg7V+/foOjy9a\n",
              "tMj38YwZMzRjxgwnxwAAAF2UNRfTAgAAfB+hAgAArEWoAAAAaxEqAADAWoQKAACwFqECAACsRagA\n",
              "AABrESoAAMBahAoAALAWoQIAAKxFqAAAAGsRKgAAwFqECgAAsBahAgAArEWoAAAAaxEqAADAWoQK\n",
              "AACwFqECAACsRagAAABrESoAAMBahAoAALAWoQIAAKxFqAAAAGsRKgAAwFqECgAAsBahAgAArEWo\n",
              "AAAAaxEqAADAWoQKAACwFqECAACsRagAAABrESoAAMBahAoAALAWoQIAAKxFqAAAAGsRKgAAwFqE\n",
              "CgAAsBahAgAArEWoAAAAaxEqAADAWoQKAACwFqECAACsRagAAABrESoAAMBahAoAALAWoQIAAKxF\n",
              "qAAAAGsRKgAAwFqECgAAsBahAgAArEWoAAAAaxEqAADAWoQKAACwFqECAACsRagAAABrESoAAMBa\n",
              "hAoAALAWoQIAAKxFqAAAAGsRKgAAwFqECgAAsJajoVJdXa3s7GylpqYqIyNDW7duPeG6xYsXKyUl\n",
              "RYMGDVJBQYFaWlqcHAsAAHQRjoZKYWGhpk6dqqqqKk2fPl15eXkd1uzcuVMPPPCA3nvvPdXU1Gjf\n",
              "vn1asGCBk2MBAIAuwrFQaWhoUGVlpXJzcyVJEydOVF1dnWpqavzWLV++XDk5OYqLi5PL5dK0adP0\n",
              "0ksvBTxuc3Ozmpqa/G5tbW1ObQMAAIRQhFMHrqurU3x8vCIijn0Kl8slj8cjr9er5ORk3zqv16uk\n",
              "pCTf/QEDBsjr9QY8bklJiWbNmuX32HnnnaeioqKgzt/W1qb4igplZmYqPDw8qMeWpKKid4J+zJ+q\n",
              "ra1NFQ7u2Tbst3tjv90b++1ogkOf28n/r5KSkvSHP/zhB9c4FipOKS4u7hAlbrdbbrc7qJ+nqalJ\n",
              "vXr10ltvvaWoqKigHttWp9ue2W/3xn67N/Z7+nAsVPr376/6+nq1trYqIiJCxhh5vV55PB6/dR6P\n",
              "R9u3b/fdr62t7bDmeE5ECQAAsJNj16j07dtX6enpWrp0qSRpxYoVSkxM9HvaRzp27Up5ebn27t0r\n",
              "Y4zmz5+vG264wamxAABAF+Lob/2UlpaqtLRUqampmj17tpYsWSJJys/PV3l5uSRp4MCBmjVrlkaN\n",
              "GqXk5GTFxsaqsLDQybEAAEAX4eg1KoMHD9b69es7PL5o0SK/+wUFBSooKHBylE5zu9168MEHT6un\n",
              "mU63PbPf7o39dm/s9/ThMsaYUA8BAABwIryEPgAAsBahAgAArEWoAAAAaxEqAADAWoTK//vVr36l\n",
              "4cOHKy0tTRdffLE++eQTHTlyRFdffbVSU1M1YsQIXX755R3eq6irOtF+j7dkyRK5XC69+uqroRkw\n",
              "yALtt7m5WXfccYdSUlI0bNgw33tTdQeB9vzGG28oPT1daWlpGjp0qJ5//vkQTxo83/++bWho0Nix\n",
              "Y5WSkqKhQ4fq3XffDe2AQfb9/U6ZMsX382rUqFHauHFjaAd0QKCfTWvWrFF4eLjmzJkTkrmc8v39\n",
              "GmM0c+ZMpaamatiwYbr00ktDO+CpYGCMMearr77yfVxWVmaGDx9uDh8+bFavXm3a29uNMcY8/fTT\n",
              "5pJLLgnNgEF2ov1+Z+fOnebnP/+5ycrKMitXrjz1wzkg0H7vvvtuc8cdd/i+xvX19aEYzxEn2nN7\n",
              "e7vp3bu32bx5szHm2Nfa7XabpqamEE0ZPCf6vp0yZYp58MEHjTHGVFRUmISEBHP06NHQDRlEJ9rv\n",
              "a6+9ZlpaWowxxrz++usmKSkpdAM6INDPpoMHD5qMjAxz5ZVXmieffDJk8wXbifY7Z84cc80115jm\n",
              "5mZjTPf6mRUIZ1T+X3R0tO/jxsZGuVwuRUZG6oorrpDL5ZIkZWVlqba2NjQDBtmJ9itJ7e3tys/P\n",
              "19NPP92tfl//RPv95ptvtHjxYj366KO+/cfFxYVowuAL9DV2uVw6ePCgpGPvHxITE9Plv9aBvm9f\n",
              "eeUVTZs2TZKUkZGhfv36ad26daEaM2gC7TcnJ8f3RrBZWVnas2ePWltbQzVmUP3Qz6Y77rhD999/\n",
              "v2JiYkI0XfAF2u8TTzyh2bNnq0ePHpK618+sQLrcmxI66eabb9batWslHTs9/n1z587V+PHjT/VY\n",
              "jjnRfv/yl79o1KhRGjlyZChHc8T397t9+3ade+65euyxx/T222/rzDPP1MyZMzVmzJgQTxo839+z\n",
              "y+XSsmXLNGHCBJ199tn66quvVFZW5vuh11Wd6Pv2wIEDamlp8ftB/r/enb2r+DH/TufOnasrrrjC\n",
              "Fy5dXaA9L1++XGFhYcrJyVFZWVmIpgu+E+23qalJ+/bt02uvvably5dLkoqKivTb3/42VGOeGqE+\n",
              "pWOj5557zowbN87vsUcffdRkZWWZb775JkRTOee7/W7ZssVkZWX5To1fcskl3eapn+N9t99NmzYZ\n",
              "Seb55583xhjz8ccfm5iYGLN3794QTxh83+25paXFXHLJJWbdunXGmGNPh8TFxZn9+/eHeMKTF+j7\n",
              "9osvvjA9evTwW3vdddeZxYsXh2LMoPkx/05ffPFFk5qa2m2+lwPtub6+3owYMcL3NOfkyZO7xVM/\n",
              "gfZ74MABI8nMmjXLGHPsqaH4+Hjz6aefhnJcxxEqAURGRpovvvjCGGPME088YUaOHOn3nH93ExkZ\n",
              "aR555BETFxdnkpKSTFJSknG73SY2NtbMmzcv1OMFXWRkpNm7d68JCwszra2tvscvuugi849//COE\n",
              "kzknMjLSfPTRRyYlJcXv8Ysuusj8/e9/D9FUP928efMCft+eddZZfs/hZ2RkdPmv7w/t1xhjXn75\n",
              "ZZOcnGx27doV4kmDJ9Cen3nmGdO3b1/f42effbbp3bu3ue+++0I98k/yQ1/jc845x2zfvt239tpr\n",
              "rzULFy4M4bTOI1TMsYsO9+zZ47u/cuVKk5CQYNrb282f//xnk56ebr788ssQThhcP7Tf43WXMyo/\n",
              "tN/LL7/crF692hhjzI4dO0xMTIzZvXt3qEYNmkB73rt3rznnnHPMtm3bjDHGVFdXm969e3er/9SO\n",
              "/76dPHmy38W0/fr16zYX037n+P0uW7bMJCcnm9ra2tAO5bBAP5u6yxmV7zt+vwUFBebZZ581xhhz\n",
              "4MAB4/F4zIYNG0I4nfO6x5OXP1FjY6Ouu+46HT58WGFhYYqNjdWqVau0Z88e3XPPPRo4cKDvV8Dc\n",
              "brc2bNgQ4ol/mkD7/e5iy+7mh/Y7f/583XLLLZo+fbrCwsJUWlqqhISEUI/8kwXa889+9jMtWLBA\n",
              "119/vcLCwtTe3q5nnnlGHo8n1CM74vHHH9ekSZOUkpKiHj16aOnSpTrjjDNCPZZjfve73ykuLs7v\n",
              "Wrp33nmnW11kerorKSnRlClTNG/ePEnS9OnTlZmZGeKpnMWbEgIAAGvx68kAAMBahAoAALAWoQIA\n",
              "AKxFqAAAAGsRKgAAwFqECgAAsBahAgAArEWoAAAAaxEqAADAWoQKAACw1v8BbRrVcIPVVAQAAAAA\n",
              "SUVORK5CYII=\n",
              "\">\n",
              "      </div>\n",
              "      <script type=\"text/javascript\">\n",
              "        (() => {\n",
              "          const chartElement = document.getElementById(\"chart-b0f6aa00-7999-41bc-82c9-3ecd4c03a720\");\n",
              "          async function getCodeForChartHandler(event) {\n",
              "            const chartCodeResponse =  await google.colab.kernel.invokeFunction(\n",
              "                'getCodeForChart', [\"chart-b0f6aa00-7999-41bc-82c9-3ecd4c03a720\"], {});\n",
              "            const responseJson = chartCodeResponse.data['application/json'];\n",
              "            await google.colab.notebook.addCell(responseJson.code, 'code');\n",
              "          }\n",
              "          chartElement.onclick = getCodeForChartHandler;\n",
              "        })();\n",
              "      </script>\n",
              "      <style>\n",
              "        .colab-quickchart-chart-with-code  {\n",
              "            display: block;\n",
              "            float: left;\n",
              "            border: 1px solid transparent;\n",
              "        }\n",
              "\n",
              "        .colab-quickchart-chart-with-code:hover {\n",
              "            cursor: pointer;\n",
              "            border: 1px solid #aaa;\n",
              "        }\n",
              "      </style>"
            ]
          },
          "metadata": {}
        },
        {
          "output_type": "display_data",
          "data": {
            "text/plain": [
              "from matplotlib import pyplot as plt\n",
              "_df_1['income'].plot(kind='hist', bins=20, title='income')\n",
              "plt.gca().spines[['top', 'right',]].set_visible(False)"
            ],
            "text/html": [
              "      <div class=\"colab-quickchart-chart-with-code\" id=\"chart-00fa0fc7-08f0-4a43-8759-2aa10b625dd3\">\n",
              "        <img style=\"width: 180px;\" src=\"data:image/png;base64,iVBORw0KGgoAAAANSUhEUgAAAioAAAGrCAYAAADuNLxTAAAAOnRFWHRTb2Z0d2FyZQBNYXRwbG90\n",
              "bGliIHZlcnNpb24zLjEwLjAsIGh0dHBzOi8vbWF0cGxvdGxpYi5vcmcvlHJYcgAAAAlwSFlzAAAP\n",
              "YQAAD2EBqD+naQAAH1RJREFUeJzt3XtQ1XXi//HXEdqzZoKXJEk4sHLzFhAGa9haWk66X0NX2qYt\n",
              "Kmq52DZjjbuTkTVltWGX3c3caURxWcutbJVatvtFo4sWYHnDSjHtUIK4moKTosD794fT+XUWaT3I\n",
              "R97o8zFzZjifz5sP7/OeiOec8/HzcRljjAAAACzUq7snAAAA0BFCBQAAWItQAQAA1iJUAACAtQgV\n",
              "AABgLUIFAABYi1ABAADWIlQAAIC1CBUAAGAtQgXASZk8ebIefPDB7p4GgNOUi0voAwAAW/GOCgAA\n",
              "sBahAuCkXHbZZbrnnnskSS6XSwsWLNDYsWN1zjnn6IILLtAHH3zgN37p0qVKTk5WaGiozjvvPN1+\n",
              "++2+fWvXrtUvfvEL9e/fXz/72c901113qbm52bc/Ojpa999/v6688kqdc845iouL06pVq/Tuu+8q\n",
              "MTFRffv21RVXXKH6+nrf9xw+fFh33323YmJi1L9/f40bN06ffvqpw6sCoKsQKgC6VHFxsZYuXar9\n",
              "+/fr8ssv1/XXX++37w9/+IMef/xx7d27VzU1NZo+fbokyev16oorrlBmZqZ2796tN998U//+9781\n",
              "e/Zsv+OXlJTo0Ucf1YEDB5SRkaHrr79eTz75pN555x3t2rVL3333ne677z7f+BkzZqiiokLl5eXa\n",
              "s2ePrrnmGl155ZXav3//KVkPACfJAMBJuPTSS82cOXOMMcZIMkuXLvXt27x5s5Fk6uvrjTHGjBw5\n",
              "0jz22GPHPc7DDz9skpOT/baVlpaa3r17m7a2NmOMMVFRUeaBBx7w7V+/fr2RZNasWePb9vjjj/uO\n",
              "85///MdIMp9//rnfcWNjY80zzzzT2ZcM4BQK7t5MAnC6Of/8831f9+nTR5LU1NSk8847Tzt27FBC\n",
              "QsJxv6+2tlYxMTF+22JjY3Xo0CHt2bNHYWFhkqTw8PB2x//vbU1NTZKkmpoaSdLPf/5zv+MeOXJE\n",
              "X3/9dadeH4BTi1ABcMpER0dr69atx90XGRmpjz76yG/b9u3b1bt3bw0aNKhTP2/w4MGSpI0bN8rj\n",
              "8XTqGAC6F+eoADhlbr/9dj3yyCNatWqVWltb1dTUpPLycknSddddpy+++EILFizQkSNHtH37dt17\n",
              "773KycmRy+Xq1M+LiorStGnTdNttt+mrr76SdOzdnddee011dXVd9roAOIdQAXDK5OXlqbCwUHfc\n",
              "cYf69++vuLg4vfTSS5KORcWbb76p5cuXKywsTBMmTNDkyZP16KOPntTPfPbZZzV69GhNnDhRffv2\n",
              "VUJCghYvXizDJaSAHoELvgEAAGvxjgoAALAWoQIAAKxFqAAAAGsRKgAAwFqECgAAsBahAgAArEWo\n",
              "AAAAa50WoTJ//vzungIAAHDAaREq318aGwAAnF5Oi1ABAACnJ0IFAABYi1ABAADWIlQAAIC1CBUA\n",
              "AGAtQgUAAFiLUAEAANYiVAAAgLUIFQAAYC1CBQAAWItQAQAA1iJUAACAtRwNlZkzZyo6Oloul0vr\n",
              "16/vcNySJUsUFxenmJgY5ebm6ujRo05OCwAA9BCOhsrVV1+tDz74QFFRUR2O2bFjh+699169//77\n",
              "qqmp0e7du7Vo0SInpwUAAHoIR0Nl3LhxioiI+NExK1asUEZGhgYPHiyXy6UZM2boueee63B8c3Oz\n",
              "Ghsb/R6tra1dPXUAAGCB4O6egNfr9XvHJTo6Wl6vt8PxhYWFmjt3rt+2MWPGODK36LteceS4krRz\n",
              "3v85dmwAwJnHqb9Z3f33qsedTFtQUKADBw74PdLS0rp7WgAAwAHd/o6Kx+PR9u3bfc937twpj8fT\n",
              "4Xi32y232+23LSgoyLH5AQCA7tPt76hkZmaqrKxM9fX1MsZo4cKFuvbaa7t7WgAAwAKOhkp+fr4i\n",
              "IiL09ddf68orr1RsbKwkKScnR2VlZZKkoUOHau7cuRo7dqxiY2M1aNAg5efnOzktAADQQzj60U9R\n",
              "UdFxtxcXF/s9z83NVW5urpNTAQAAPVC3f/QDAADQEUIFAABYi1ABAADWIlQAAIC1CBUAAGAtQgUA\n",
              "AFiLUAEAANYiVAAAgLUIFQAAYC1CBQAAWItQAQAA1iJUAACAtQgVAABgLUIFAABYi1ABAADWIlQA\n",
              "AIC1CBUAAGAtQgUAAFiLUAEAANYiVAAAgLUIFQAAYC1CBQAAWItQAQAA1iJUAACAtQgVAABgLUIF\n",
              "AABYi1ABAADWIlQAAIC1CBUAAGAtQgUAAFiLUAEAANYiVAAAgLUIFQAAYC1CBQAAWItQAQAA1iJU\n",
              "AACAtQgVAABgLUIFAABYi1ABAADWIlQAAIC1CBUAAGAtQgUAAFiLUAEAANYiVAAAgLUIFQAAYC1C\n",
              "BQAAWItQAQAA1iJUAACAtQgVAABgLUIFAABYi1ABAADWIlQAAIC1CBUAAGAtQgUAAFiLUAEAANYi\n",
              "VAAAgLUIFQAAYC1CBQAAWItQAQAA1iJUAACAtQgVAABgLUdDZdu2bUpPT1d8fLxSU1NVXV3dbkxb\n",
              "W5tmzZqlESNGKDExUePHj1dNTY2T0wIAAD2Eo6GSn5+vvLw8bd26VbNnz1Z2dna7MWVlZfrwww+1\n",
              "YcMGbdy4UZdffrnuvvtuJ6cFAAB6CMdCpaGhQVVVVcrKypIkZWZmqra2tt27JS6XS83NzTp8+LCM\n",
              "MWpsbFRERIRT0wIAAD1IsFMHrq2tVXh4uIKDj/0Il8slj8cjr9er2NhY37irrrpKq1ev1uDBg9W3\n",
              "b18NGTJE5eXlHR63ublZzc3NfttaW1udeREAAKBbdfvJtFVVVdq8ebO++eYb7dq1S5dffrlmzJjR\n",
              "4fjCwkKFhob6PSoqKk7hjAEAwKniWKhERkaqrq5OLS0tkiRjjLxerzwej9+4p59+WhMmTFC/fv3U\n",
              "q1cv3XTTTVq9enWHxy0oKNCBAwf8HmlpaU69DAAA0I0cC5WwsDClpKRo2bJlkqSVK1cqIiLC72Mf\n",
              "SRo6dKhWrVqlI0eOSJJefvlljRo1qsPjut1uhYSE+D2CgoKcehkAAKAbOXaOiiQVFRUpOztbDz/8\n",
              "sEJCQlRSUiJJysnJUUZGhjIyMnTbbbfps88+U1JSks466ywNHjxYCxcudHJaAACgh3A0VBISErR2\n",
              "7dp224uLi31fu91uLV682MlpAACAHqrbT6YFAADoCKECAACsRagAAABrESoAAMBahAoAALAWoQIA\n",
              "AKxFqAAAAGsRKgAAwFqECgAAsBahAgAArEWoAAAAaxEqAADAWoQKAACwFqECAACsRagAAABrESoA\n",
              "AMBahAoAALAWoQIAAKxFqAAAAGsRKgAAwFqECgAAsBahAgAArEWoAAAAaxEqAADAWoQKAACwFqEC\n",
              "AACsRagAAABrESoAAMBahAoAALAWoQIAAKxFqAAAAGsRKgAAwFqECgAAsBahAgAArEWoAAAAaxEq\n",
              "AADAWoQKAACwFqECAACsRagAAABrESoAAMBahAoAALAWoQIAAKxFqAAAAGsRKgAAwFqECgAAsBah\n",
              "AgAArEWoAAAAaxEqAADAWoQKAACwFqECAACsRagAAABrESoAAMBahAoAALAWoQIAAKxFqAAAAGsR\n",
              "KgAAwFqECgAAsBahAgAArEWoAAAAaxEqAADAWoQKAACwFqECAACs5WiobNu2Tenp6YqPj1dqaqqq\n",
              "q6uPO27Tpk267LLLNHz4cA0fPlylpaVOTgsAAPQQwU4ePD8/X3l5ecrOztaKFSuUnZ2tyspKvzHf\n",
              "ffedpk6dqqefflqXXHKJWltbtW/fPienBQAAegjH3lFpaGhQVVWVsrKyJEmZmZmqra1VTU2N37hn\n",
              "n31WY8aM0SWXXCJJCgoK0qBBgzo8bnNzsxobG/0era2tTr0MAADQjRwLldraWoWHhys4+NibNi6X\n",
              "Sx6PR16v12/cli1b5Ha7NWXKFCUnJ+vGG2/Unj17OjxuYWGhQkND/R4VFRVOvQwAANCNAg6VN954\n",
              "o0sn0NLSorfffltFRUX69NNPNWTIEN16660dji8oKNCBAwf8HmlpaV06JwAAYIeAQ+WBBx5QQkKC\n",
              "5s+fr8bGxg7HRUZGqq6uTi0tLZIkY4y8Xq88Ho/fOI/Ho/Hjx2vIkCFyuVzKysrSRx991OFx3W63\n",
              "QkJC/B5BQUGBvgwAANADBBwqH374oZ5//nlt3rxZ8fHx+t3vfqctW7a0GxcWFqaUlBQtW7ZMkrRy\n",
              "5UpFREQoNjbWb9w111yjyspKX/S8+uqrSkpK6sxrAQAAp5lOnaNy4YUXavHixXr99df18ssvKzEx\n",
              "URMnTtSmTZv8xhUVFamoqEjx8fGaN2+eSkpKJEk5OTkqKyuTdOwdlbvvvlvp6elKTEzUqlWrtHDh\n",
              "wpN8WQAA4HTQqX+e/Pbbb2vBggXatGmTbrvtNv32t7/Vu+++q1/96ld+/6onISFBa9eubff9xcXF\n",
              "fs9vuOEG3XDDDZ2ZCgAAOI0FHCrDhw/Xueeeq5kzZ2r69Om+80OuvvpqLVmypMsnCAAAzlwBh8qy\n",
              "Zcs0evTo4+577bXXTnpCAAAA3wv4HJV169b5XTl27969Wrx4cZdOCgAAQOpEqDz11FMaMGCA7/nA\n",
              "gQP11FNPdemkAAAApE6EijGm3TYuYQ8AAJwQcKiEh4frhRde8D1fvny5wsPDu3RSAAAAUidOpn3i\n",
              "iSc0depU3XnnnZKks88+W//617+6fGIAAAABh8qwYcO0ZcsWffHFF5KOXSuFS9gDAAAndOqCby6X\n",
              "S/369VNLS4u++eYbSWp3Dx8AAICTFXCo/P3vf9fMmTN11llnqVevY6e4uFwuNTQ0dPnkAADAmS3g\n",
              "UHnwwQdVWVmphIQEJ+YDAADgE/C/+jn33HOJFAAAcEoEHCrTpk3TE088oYaGBjU2NvoeAAAAXS3g\n",
              "j37mzJkjSZo1a5ZcLpeMMXK5XFz0DQAAdLmAQ6Wtrc2JeQAAALQT8Ec/0rEbEz7zzDOSpP3796uu\n",
              "rq5LJwUAACB18qaEt9xyi+6//35Jx+6efN1113X1vAAAAAIPlUWLFumjjz5SSEiIJCkmJkZ79uzp\n",
              "8okBAAAEHCput1u9e/f22xYc3KkL3AIAAPyogENl0KBB2rp1q1wul6RjV6rl8vkAAMAJnbp78m9+\n",
              "8xt9/vnnioyMVEhIiF5++WUn5gYAAM5wAYdKbGysPv74Y33xxRcyxnD3ZAAA4JiAQ8Xr9UqS+vTp\n",
              "I0ncPRkAADgm4FAZPXq074q0hw8f1nfffaeBAwdy92QAANDlAg6V//6nyKWlpdqwYUOXTQgAAOB7\n",
              "nboy7Q9Nnz5dr7zySlfMBQAAwE/A76j88E7Jra2t+vjjj7l7MgAAcETAodKvXz/fOSpBQUGKi4vT\n",
              "k08+6cTcAADAGY67JwMAAGud9DkqAAAATgn4HZVevXr5Lp//Q8YYuVwutba2dsnEAAAAAg6VBx54\n",
              "QIcOHdKtt94qSVq4cKF69+6tO+64o6vnBgAAznABh8qLL76odevW+Z4/9NBDGj16tObMmdOlEwMA\n",
              "AAj4HJWmpia/q9A2NDSoqampSycFAAAgdeIdld///vdKSkrSL3/5S0nS66+/rvvvv7+r5wUAABB4\n",
              "qOTn52vs2LFavXq1JGnWrFkaOXJkl08MAAAg4FCRpIEDB+qCCy7QZZddppaWFh05ckQ/+clPunpu\n",
              "AADgDBfwOSorVqzQmDFjdPPNN0uSqqurNW3atK6eFwAAQOChUlhYqE8++UT9+vWTJCUlJemrr77q\n",
              "6nkBAAAEHipBQUEaOHCg3zY+9gEAAE4IOFT69u2r3bt3+65O+84772jAgAFdPjEAAICAT6Z95JFH\n",
              "NHnyZH355Ze65JJLtGPHDr3yyitOzA0AAJzhAgqVtrY2tba2avXq1VqzZo2MMUpPT/edrwIAANCV\n",
              "AgqVXr16KS8vTxs2bNDkyZOdmhMAAICkTpyjEhcXp5qaGifmAgAA4Cfgc1T27dun5ORkpaen65xz\n",
              "zvFtLy0t7dKJAQAAnHCo5OXladGiRbrpppuUkZGh/v37OzkvAACAEw+VqqoqSdJNN92klJQUffLJ\n",
              "J45NCgAAQOrEOSqSZIzp6nkAAAC0c8LvqBw6dEibNm2SMUaHDx/2ff29xMRERyYIAADOXAGFSkZG\n",
              "hu/5D792uVz68ssvu3ZmAADgjHfCobJz504HpwEAANBep85RAQAAOBUIFQAAYC1CBQAAWItQAQAA\n",
              "1iJUAACAtQgVAABgLUIFAABYi1ABAADWIlQAAIC1HA2Vbdu2KT09XfHx8UpNTVV1dXWHY40xmjBh\n",
              "gvr16+fklAAAQA/iaKjk5+crLy9PW7du1ezZs5Wdnd3h2L/85S+KiYlxcjoAAKCHcSxUGhoaVFVV\n",
              "paysLElSZmamamtrVVNT025sdXW1XnrpJd11113/87jNzc1qbGz0e7S2tnb5/AEAQPdzLFRqa2sV\n",
              "Hh6u4OBj9z10uVzyeDzyer1+444eParc3FwVFRUpKCjofx63sLBQoaGhfo+KigpHXgMAAOhe3X4y\n",
              "7dy5czV9+nQNHz78hMYXFBTowIEDfo+0tDSHZwkAALpDsFMHjoyMVF1dnVpaWhQcHCxjjLxerzwe\n",
              "j9+48vJyeb1e/fWvf1VLS4saGxsVHR2tyspKDRo0qN1x3W633G6337YTeScGAAD0PI69oxIWFqaU\n",
              "lBQtW7ZMkrRy5UpFREQoNjbWb9z777+vr776Sjt37tQHH3ygkJAQ7dy587iRAgAAziyOfvRTVFSk\n",
              "oqIixcfHa968eSopKZEk5eTkqKyszMkfDQAATgOOffQjSQkJCVq7dm277cXFxccdHx0drf379zs5\n",
              "JQAA0IN0+8m0AAAAHSFUAACAtQgVAABgLUIFAABYi1ABAADWIlQAAIC1CBUAAGAtQgUAAFiLUAEA\n",
              "ANYiVAAAgLUIFQAAYC1CBQAAWItQAQAA1iJUAACAtQgVAABgLUIFAABYi1ABAADWIlQAAIC1CBUA\n",
              "AGAtQgUAAFiLUAEAANYiVAAAgLUIFQAAYC1CBQAAWItQAQAA1iJUAACAtQgVAABgLUIFAABYi1AB\n",
              "AADWIlQAAIC1CBUAAGAtQgUAAFiLUAEAANYiVAAAgLUIFQAAYC1CBQAAWItQAQAA1iJUAACAtQgV\n",
              "AABgLUIFAABYi1ABAADWIlQAAIC1CBUAAGAtQgUAAFiLUAEAANYiVAAAgLUIFQAAYC1CBQAAWItQ\n",
              "AQAA1iJUAACAtQgVAABgLUIFAABYi1ABAADWIlQAAIC1CBUAAGAtQgUAAFiLUAEAANYiVAAAgLUI\n",
              "FQAAYC1CBQAAWItQAQAA1iJUAACAtRwNlW3btik9PV3x8fFKTU1VdXV1uzGrVq1SWlqaRowYoZEj\n",
              "R+rOO+9UW1ubk9MCAAA9hKOhkp+fr7y8PG3dulWzZ89WdnZ2uzH9+/fX888/ry1btmjdunVas2aN\n",
              "nn76aSenBQAAegjHQqWhoUFVVVXKysqSJGVmZqq2tlY1NTV+4y688EINHTpUkvTTn/5UycnJ2rlz\n",
              "Z4fHbW5uVmNjo9+jtbXVqZcBAAC6kWOhUltbq/DwcAUHB0uSXC6XPB6PvF5vh99TX1+vFStWaMqU\n",
              "KR2OKSwsVGhoqN+joqKiy+cPAAC6nzUn0zY2Nuqqq67SnXfeqYsuuqjDcQUFBTpw4IDfIy0t7RTO\n",
              "FAAAnCrBTh04MjJSdXV1amlpUXBwsIwx8nq98ng87cY2NTVp0qRJmjp1qmbNmvWjx3W73XK73X7b\n",
              "goKCunTuAADADo69oxIWFqaUlBQtW7ZMkrRy5UpFREQoNjbWb9zBgwc1adIkTZo0Sffcc49T0wEA\n",
              "AD2Qox/9FBUVqaioSPHx8Zo3b55KSkokSTk5OSorK5MkzZ8/XxUVFSotLVVycrKSk5P1xz/+0clp\n",
              "AQCAHsKxj34kKSEhQWvXrm23vbi42Pf1nDlzNGfOHCenAQAAeihrTqYFAAD4b4QKAACwFqECAACs\n",
              "RagAAABrESoAAMBahAoAALAWoQIAAKxFqAAAAGsRKgAAwFqECgAAsBahAgAArEWoAAAAaxEqAADA\n",
              "WoQKAACwFqECAACsRagAAABrESoAAMBahAoAALAWoQIAAKxFqAAAAGsRKgAAwFqECgAAsBahAgAA\n",
              "rEWoAAAAaxEqAADAWoQKAACwFqECAACsRagAAABrESoAAMBahAoAALAWoQIAAKxFqAAAAGsRKgAA\n",
              "wFqECgAAsBahAgAArEWoAAAAaxEqAADAWoQKAACwFqECAACsRagAAABrESoAAMBahAoAALAWoQIA\n",
              "AKxFqAAAAGsRKgAAwFqECgAAsBahAgAArEWoAAAAaxEqAADAWoQKAACwFqECAACsRagAAABrESoA\n",
              "AMBahAoAALAWoQIAAKxFqAAAAGsRKgAAwFqECgAAsBahAgAArEWoAAAAaxEqAADAWo6GyrZt25Se\n",
              "nq74+Hilpqaqurr6uOOWLFmiuLg4xcTEKDc3V0ePHnVyWgAAoIdwNFTy8/OVl5enrVu3avbs2crO\n",
              "zm43ZseOHbr33nv1/vvvq6amRrt379aiRYucnBYAAOghHAuVhoYGVVVVKSsrS5KUmZmp2tpa1dTU\n",
              "+I1bsWKFMjIyNHjwYLlcLs2YMUPPPfdch8dtbm5WY2Oj36O1tdWplwEAALpRsFMHrq2tVXh4uIKD\n",
              "j/0Il8slj8cjr9er2NhY3ziv16uoqCjf8+joaHm93g6PW1hYqLlz5/ptGzZsmGbNmtXFr0Ca3uVH\n",
              "/P9mzXrHwaMf09raqoqKCqWlpSkoKMjxn3e6Yf1OHmt4cli/k3cmraETf7NaW1t18cUPObZ+UVFR\n",
              "uv322390jGOh4pSCgoJ2UeJ2u+V2u7tpRvZqbGxUaGio3njjDYWEhHT3dHoc1u/ksYYnh/U7eazh\n",
              "ybFh/RwLlcjISNXV1amlpUXBwcEyxsjr9crj8fiN83g82r59u+/5zp072435IaIEAIAzh2PnqISF\n",
              "hSklJUXLli2TJK1cuVIRERF+H/tIx85dKSsrU319vYwxWrhwoa699lqnpgUAAHoQR//VT1FRkYqK\n",
              "ihQfH6958+appKREkpSTk6OysjJJ0tChQzV37lyNHTtWsbGxGjRokPLz852cFgAA6CEcPUclISFB\n",
              "a9eubbe9uLjY73lubq5yc3OdnMoZye1267777uOjsk5i/U4ea3hyWL+TxxqeHBvWz2WMMd320wEA\n",
              "AH4El9AHAADWIlQAAIC1CBUAAGAtQgUAAFiLULHY3r17lZyc7HvEx8crODhY+/btU0NDgyZNmqS4\n",
              "uDiNGjVK7733nu/7nNjXU7366qtKSUlRcnKyRo0apaVLl0pyZo1Ox/WTpNdff10XXXSREhMTNWbM\n",
              "GG3YsEESa9iRmTNnKjo6Wi6XS+vXr/dt/7G7yZ/qfbbraA072i6xhj90vHU6fPiwpk2bpvj4eCUl\n",
              "JWnixIl+996z+vfZoMd47LHHzJQpU4wxxtx8883mvvvuM8YYU1FRYYYMGWKOHDni2L6eqK2tzfTv\n",
              "399s2LDBGGPMjh07jNvtNo2NjazfCdq3b58ZMGCA2bx5szHGmPfee8+MHDnSGMN/gx0pLy83tbW1\n",
              "Jioqynz66ae+7ePHjzclJSXGGGP++c9/mosuuqjb9tmuozXsaLsxrOEPHW+dDh06ZF555RXT1tZm\n",
              "jDFmwYIF5tJLL/V9j82/z4RKDzJs2DDz4osvGmOM6dOnj6mrq/PtS01NNW+99ZZj+3qitrY2M2DA\n",
              "AFNeXm6MMWbDhg3m/PPPN83NzazfCaqsrDRxcXF+2/r27WvWrVvHGv4PP/wjsXv3btO3b19z9OhR\n",
              "Y8yx/zbPO+88s23btlO+ryc5XpAcbztreHwdrZ8xx363o6KifM9t/n3ucTclPFOtWbNG3377raZM\n",
              "maK9e/fq6NGjGjx4sG//93eddmJfT+VyubR8+XJNnz5dffr00bfffqvS0lI1NTWxficoLi5Oe/fu\n",
              "1Zo1a5Senq6ysjI1NTVpx44drGEAfuxu8qGhoad033/fxuR0cKrX93RYw/nz52vq1KmSZP3fFEKl\n",
              "h1iyZIluvPFG3y8N/reWlhY99NBDKi0t1bhx41RZWamMjIx2n22jY6GhoVqxYoUKCgp08OBBXXzx\n",
              "xRoxYoQOHjzY3VMD0EkPP/ywampq9M4773T3VE4IJ9P2AAcPHtQLL7ygW265RZI0cOBABQcHq76+\n",
              "3jfm+7tOO7Gvp1q/fr127dqlcePGSZJSU1MVERGhjRs3sn4BGD9+vMrLy7Vu3Tr96U9/0q5duzR2\n",
              "7FjWMAA/vJu8JL+7yZ/qfacj1vDEPf744yotLdVrr72ms88+W5L9f1MIlR5g+fLlSkpK0rBhw3zb\n",
              "fv3rX2vhwoWSpMrKSn3zzTe69NJLHdvXE33/P5rPPvtMklRTU6Pt27crISGB9QtAXV2d7+sHH3xQ\n",
              "EyZMUGxsLGsYgB+7m/yp3nc6Yg1PzJ///Gc999xzeuutt9SvXz+/fVb/Pgd8VgtOuYsvvtj87W9/\n",
              "89tWX19vJk6caGJjY82IESPMqlWrHN3XUz377LNm1KhRJjEx0YwaNcr84x//MMawfoHIyckxCQkJ\n",
              "JiYmxmRlZZlvv/3WGMMadiQvL88MGTLEBAUFmbCwMBMTE2OMMebzzz83Y8aMMXFxcWb06NFm48aN\n",
              "vu851fts19EadrTdGNbwh463TrW1tUaSGTp0qElKSjJJSUkmLS3N9z02/z5zU0IAAGAtPvoBAADW\n",
              "IlQAAIC1CBUAAGAtQgUAAFiLUAEAANYiVAAAgLUIFQAAYC1CBQAAWItQAQAA1iJUAACAtf4foyJ9\n",
              "Anc2RK0AAAAASUVORK5CYII=\n",
              "\">\n",
              "      </div>\n",
              "      <script type=\"text/javascript\">\n",
              "        (() => {\n",
              "          const chartElement = document.getElementById(\"chart-00fa0fc7-08f0-4a43-8759-2aa10b625dd3\");\n",
              "          async function getCodeForChartHandler(event) {\n",
              "            const chartCodeResponse =  await google.colab.kernel.invokeFunction(\n",
              "                'getCodeForChart', [\"chart-00fa0fc7-08f0-4a43-8759-2aa10b625dd3\"], {});\n",
              "            const responseJson = chartCodeResponse.data['application/json'];\n",
              "            await google.colab.notebook.addCell(responseJson.code, 'code');\n",
              "          }\n",
              "          chartElement.onclick = getCodeForChartHandler;\n",
              "        })();\n",
              "      </script>\n",
              "      <style>\n",
              "        .colab-quickchart-chart-with-code  {\n",
              "            display: block;\n",
              "            float: left;\n",
              "            border: 1px solid transparent;\n",
              "        }\n",
              "\n",
              "        .colab-quickchart-chart-with-code:hover {\n",
              "            cursor: pointer;\n",
              "            border: 1px solid #aaa;\n",
              "        }\n",
              "      </style>"
            ]
          },
          "metadata": {}
        },
        {
          "output_type": "display_data",
          "data": {
            "text/plain": [
              "<google.colab._quickchart_helpers.SectionTitle at 0x7a8bb29ac4d0>"
            ],
            "text/html": [
              "<h4 class=\"colab-quickchart-section-title\">2-d distributions</h4>\n",
              "<style>\n",
              "  .colab-quickchart-section-title {\n",
              "      clear: both;\n",
              "  }\n",
              "</style>"
            ]
          },
          "metadata": {}
        },
        {
          "output_type": "display_data",
          "data": {
            "text/plain": [
              "from matplotlib import pyplot as plt\n",
              "_df_2.plot(kind='scatter', x='age', y='income', s=32, alpha=.8)\n",
              "plt.gca().spines[['top', 'right',]].set_visible(False)"
            ],
            "text/html": [
              "      <div class=\"colab-quickchart-chart-with-code\" id=\"chart-d8b3385a-bd6e-4e33-bc45-13979c78c7a8\">\n",
              "        <img style=\"width: 180px;\" src=\"data:image/png;base64,iVBORw0KGgoAAAANSUhEUgAAAkMAAAGkCAYAAAAykCE8AAAAOnRFWHRTb2Z0d2FyZQBNYXRwbG90\n",
              "bGliIHZlcnNpb24zLjEwLjAsIGh0dHBzOi8vbWF0cGxvdGxpYi5vcmcvlHJYcgAAAAlwSFlzAAAP\n",
              "YQAAD2EBqD+naQAAINRJREFUeJzt3WtwlOX9//HPZjfZKDmAKxAQkozNBkfDoZHwC1Dlj4oTrOOB\n",
              "gs5wULQKPuBHO/EBxIp4JFJsKpVatKWUml8rFFFsQVo8QSlKMiJqaQcJJMTGhEAI4TBkk02u/wPG\n",
              "HZYGS+zee0Ou92tmR7ivHL5XEsN77vvOxmOMMQIAALBUgtsDAAAAuIkYAgAAViOGAACA1YghAABg\n",
              "NWIIAABYjRgCAABWI4YAAIDViCEAAGA1Yug8LF261O0RAACAQ4ih83DgwAG3RwAAAA4hhgAAgNWI\n",
              "IQAAYDViCAAAWI0YAgAAViOGAACA1YghAABgNWIIAABYjRgCAABWI4YAAIDViCEAAGA1YggAALim\n",
              "tb1Dh0+E1Nre4doMPtfeMwAAsNah4yGVf1ijTX8/qFPtHbok0auJeRmaPjpLl6f44zqLo2eG5s6d\n",
              "q+zsbHk8Hu3atUuS1NraqjvuuEO5ubkaPny4JkyYoKqqqsjrNDY2qqioSMFgUHl5edq6daujawAA\n",
              "IL4OHQ/pf3//sf5vR61OhsLyJXh0MhRW+Y4DmvO7j3X4RCiu8zgaQ5MnT9a2bduUlZUVdXzWrFna\n",
              "s2ePPvnkE91+++164IEHImvz589XYWGh9u7dq5UrV2rq1Klqb293bA0AAMRX+Yc1qmo8rr4pfvXp\n",
              "laRefp/69EpS3xS/qhqPq/yDA3Gdx9EYuv766zVo0KCoY8nJybrlllvk8XgkSYWFhaqpqYmsr1mz\n",
              "Rg899JAkqaCgQAMHDtSWLVscWztbKBTSsWPHoh4dHe5dxwQAoCdpbe/Qpr8fVLLPK583OkN83gT5\n",
              "fV69tbshrvcQuX4D9dKlS3X77bdLkpqamtTe3q6MjIzIenZ2tmprax1Z60ppaanS09OjHhUVFbHe\n",
              "NgAAVjoRCutUe4eSfF0niN+XoFNtHToRCsdtJldjaNGiRaqqqlJpaambY0QpKSlRS0tL1GPUqFFu\n",
              "jwUAQI+Q4vfpkkSv2sKdXa6Hwp26JMmrFH/8fsbLtRh67rnntG7dOr311lu69NJLJUmBQEA+n08N\n",
              "DQ2Rl6upqVFmZqYja13x+/1KS0uLeni93lhvHwAAKyUnelWU11+t4Q6FO6KDKNzRqVC4QxOvyVBy\n",
              "Yvz+7XUlhsrKyvT73/9emzdvVu/evaPWpkyZouXLl0uSKisrVVdXp3Hjxjm2BgAA4mvG6Gzl9EvV\n",
              "oRMhHTnZppOhsI6cbNOhEyEF+6Vq+uis//xGYshjjDFOvfHZs2drw4YNamhoUCAQUGpqqt5//30N\n",
              "HjxYV155pVJTUyWdPhuzY8cOSdLBgwc1Y8YMVVdXKykpScuWLdP48eMdWzsfxcXFKisri+WHBgAA\n",
              "qx0+EVL5Bwf01u4GnWrr0CVJXk28xp3nGXI0hnoKYggAAGe0tp++WTrF74vrpbEz8QzUAADANcmJ\n",
              "Xtci6Cuu/2g9AACAm4ghAABgNWIIAABYjRgCAABWI4YAAIDViCEAAGA1YggAAFiNGAIAAFYjhgAA\n",
              "gNWIIQAAYDViCAAAWI0YAgAAViOGAACA1YghAABgNWIIAABYjRgCAABWI4YAAIDViCEAAGA1YggA\n",
              "AFiNGAIAAFYjhgAAgNWIIQAAYDViCAAAWI0YAgAAViOGAACA1YghAABgNWIIAABYjRgCAABWI4YA\n",
              "AIDViCEAAGA1YggAAFiNGAIAAFYjhgAAgNWIIQAAYDViCAAAWI0YAgAAViOGAACA1YghAABgNWII\n",
              "AABYjRgCAABWI4YAAIDViCEAAGA1YggAAFiNGAIAAFYjhgAAgNWIIQAAYDViCAAAWI0YAgAAViOG\n",
              "AACA1YghAABgNUdjaO7cucrOzpbH49GuXbv+43FJ2rt3r8aMGaPc3FwVFBRo9+7djq4BAAC7ORpD\n",
              "kydP1rZt25SVlXVexyVp9uzZmjVrlj7//HPNmzdPM2fOdHQNAADYzWOMMU6/k+zsbL3xxhsaMWLE\n",
              "1x5vbGxUTk6Ojhw5Ip/PJ2OMBgwYoG3btiktLS3mazk5Of82aygUUigUijq2YMECLV261KkPDwAA\n",
              "cNEFdc/QF198oQEDBsjn80mSPB6PMjMzVVtb68haV0pLS5Wenh71qKioiMPuAQCAGy6oGLoQlJSU\n",
              "qKWlJeoxatQot8cCAAAO8bk9wJkGDx6s+vp6hcPhyCWt2tpaZWZmKi0tLeZrXfH7/fL7/VHHvF5v\n",
              "PLYPAABccEGdGerXr5/y8/NVXl4uSXrttdc0aNAg5eTkOLIGAADg6A3Us2fP1oYNG9TQ0KBAIKDU\n",
              "1FRVVVWd87gk7dmzRzNnzlRTU5PS0tK0cuVKDR061LG181FcXKyysrIYf3QAAMCFIC4/TXaxI4YA\n",
              "AOi5LqjLZAAAAPFGDAEAAKsRQwAAwGrEEAAAsBoxBAAArEYMAQAAqxFDAADAasQQAACwGjEEAACs\n",
              "RgwBAACrEUMAAMBqxBAAALAaMQQAAKxGDAEAAKsRQwAAwGrEEAAAsBoxBAAArEYMAQAAqxFDAADA\n",
              "asQQAACwGjEEAACsRgwBAACrEUMAAMBqxBAAALAaMQQAAKxGDAEAAKsRQwAAwGrEEAAAsBoxBAAA\n",
              "rEYMAQAAqxFDAADAasQQAACwGjEEAACsRgwBAACrEUMAAMBqxBAAALAaMQQAAKxGDAEAAKsRQwAA\n",
              "wGrEEAAAsBoxBAAArEYMAQAAqxFDAADAasQQAACwGjEEAACsRgwBAACrEUMAAMBqxBAAALAaMQQA\n",
              "AKxGDAEAAKsRQwAAwGqOxtDcuXOVnZ0tj8ejXbt2RY7v3btXY8aMUW5urgoKCrR7927X1gAAgN0c\n",
              "jaHJkydr27ZtysrKijo+e/ZszZo1S59//rnmzZunmTNnurYGAADs5jHGGKffSXZ2tt544w2NGDFC\n",
              "jY2NysnJ0ZEjR+Tz+WSM0YABA7Rt2zalpaXFdS0nJ+ffZg2FQgqFQlHHFixYoKVLlzr9YQIAAC6I\n",
              "+z1DX3zxhQYMGCCfzydJ8ng8yszMVG1tbdzXulJaWqr09PSoR0VFhdMfFgAA4BJuoD5LSUmJWlpa\n",
              "oh6jRo1yeywAAOAQX7zf4eDBg1VfX69wOBy5bFVbW6vMzEylpaXFda0rfr9ffr8/6pjX643HhwYA\n",
              "ALgg7meG+vXrp/z8fJWXl0uSXnvtNQ0aNEg5OTlxXwMAAHD0BurZs2drw4YNamhoUCAQUGpqqqqq\n",
              "qrRnzx7NnDlTTU1NSktL08qVKzV06FBJivva+SguLlZZWVmMPzoAAOBCEJefJrvYEUMAAPRc3EAN\n",
              "AACsRgwBAACrEUMAAMBqxBAAALAaMQQAAKxGDAEAAKsRQwAAwGrEEAAAsBoxBAAArEYMAQAAqxFD\n",
              "AADAasQQAACwGjEEAACsRgwBAACrEUMAAMBqxBAAALAaMQQAAKxGDAEAAKsRQwAAwGrEEAAAsBox\n",
              "BAAArEYMAQAAqxFDAADAasQQAACw2jeKofr6er3//vuSpHA4rLa2tljOBAAAEDfdjqG1a9eqsLBQ\n",
              "M2fOlCTt3r1bd9xxR4zHAgAAiI9ux1Bpaal27typPn36SJKGDx+uAwcOxHwwAACAeOh2DHm9XgUC\n",
              "gahjSUlJMRsIAAAgnrodQ6mpqTp48KA8Ho8k6Z133tFll10W88EAAADiwdfdV1i8eLEmTpyo/fv3\n",
              "6zvf+Y6qq6u1YcMGJ2YDAABwXLdjaOTIkXrvvfe0fft2GWM0ZswY9e7d24HRAAAAnNftGJKk9PR0\n",
              "jR07VuFwWJ2dnTpy5AiXygAAwEWp2/cMrV69Wv369VMgEFBGRob69++vjIwMJ2YDAABwXLdjqKSk\n",
              "RBs3blR7e7va2toi/wUAALgYdTuGMjIyNHLkSCdmAQAAiLtu3zM0a9YsLVq0SJMnT1ZycnLkeGZm\n",
              "ZkwHAwAAiIdux1AoFNLTTz+t5557Tl6vV5Lk8XjU2NgY8+EAAACc1u0YWrRokT777DN961vfcmIe\n",
              "AACAuOr2PUODBg0ihAAAQI/R7TNDN9xwgx5++GHdfffdUfcMDRs2LKaDAQAAxEO3Y6i8vFyStG7d\n",
              "usgxj8ej/fv3x24qAACAOOl2DFVXVzsxBwAAgCu+0a/jqKio0Ntvvy1Juvnmm3neIQAAcNHq9g3U\n",
              "L7/8siZPnqzGxkYdOnRI3/ve9/SrX/3KidkAAAAc1+0zQ8uWLdNHH32kvn37SpIeeeQR3XjjjXrg\n",
              "gQdiPhwAAIDTun1mSFIkhM7+MwAAwMWm2zEUDAb1ox/9SLW1taqtrdWCBQsUDAadmA0AAMBx3Y6h\n",
              "5cuXa9++fcrPz9e1116rqqoq/eIXv3BiNgAAAMd1+56hvn376tVXX3ViFgAAgLjr9pmhhQsXqqmp\n",
              "KfL3w4cP64knnojpUAAAAPHS7Rhav369AoFA5O+XX3651q9fH9OhAAAA4qXbMdTZ2flvx9ra2rr9\n",
              "jjdt2qSRI0dq2LBhKiws1CeffCJJamxsVFFRkYLBoPLy8rR169bI6zixBgAA7NbtGBoyZIh+/OMf\n",
              "q6OjQ+FwWIsXL9ZVV13VrbfR3NysadOmadWqVfr000+1ZMkSTZs2TZI0f/58FRYWau/evVq5cqWm\n",
              "Tp2q9vZ2x9YAAIDlTDfV1dWZ8ePHm8TERJOUlGRuuukm8+WXX3brbVRWVppgMBh1LDU11Xz00Uem\n",
              "V69epr6+PnK8oKDAbN682RhjHFk7W2trq2lpaYl6zJ07t1v7AwAAF49unxkaOHCg3n33XTU3N+vI\n",
              "kSPavHmzBgwY0K23EQwG1dTUpO3bt0uS3nzzTR0/flzV1dVqb29XRkZG5GWzs7NVW1urpqammK91\n",
              "pbS0VOnp6VGPioqKbu0PAABcPL7RL2qtr69XdXW1wuFw5Nj1119/3q+fnp6utWvXqqSkRCdOnNDo\n",
              "0aN19dVX68SJE99knJgqKSlRcXFx1LEFCxa4NA0AAHBat2PomWee0ZIlS3TllVfK6/VKkjweT7fP\n",
              "nowfP17jx4+XJIVCIWVkZGjs2LHy+XxqaGiInMmpqalRZmamAoFAzNe64vf75ff7o459tU8AANDz\n",
              "dPsy2a9//Wvt27dPO3fuVGVlpSorK7/RZaT6+vrIn5966indcMMNysnJ0ZQpU7R8+XJJUmVlperq\n",
              "6jRu3DhJcmQNAADYrdtnhvr37x/1PEPf1GOPPaa//vWvCofDGj16tFasWCFJWrx4sWbMmKFgMKik\n",
              "pCSVl5crMTHRsTUAAGA3jzHGdOcVFi5cqJaWFk2dOlXJycmR48OGDYv5cBeK4uJilZWVuT0GAABw\n",
              "QLfPDP32t7+VpKhnnfZ4PNq/f3/spgIAAIiTbsdQdXW1E3MAAAC44rxj6OTJk+rVq5eOHTvW5Xpa\n",
              "WlrMhgIAAIiX846h6667Tjt37lTv3r3l8Xh05q1GHo9HHR0djgwIAADgpPOOoZ07d0rq+he1AgAA\n",
              "XKy6/TxDAAAAPQkxBAAArEYMAQAAqxFDAADAasQQAACwGjEEAACsRgwBAACrEUMAAMBqxBAAALAa\n",
              "MQQAAKxGDAEAAKsRQwAAwGrEEAAAsBoxBAAArEYMAQAAqxFDAADAasQQAACwGjEEAACsRgwBAACr\n",
              "EUMAAMBqxBAAALAaMQQAAKxGDAEAAKsRQwAAwGrEEAAAsBoxBAAArEYMAQAAqxFDAADAasQQAACw\n",
              "GjEEAACsRgwBAACrEUMAAMBqxBAAALAaMQQAAKxGDAEAAKsRQwAAwGrEEAAAsBoxBAAArEYMAQAA\n",
              "qxFDAADAasQQAACwGjEEAACsRgwBAACrEUMAAMBqxBAAALAaMQQAAKzmWgxt3LhR+fn5GjFihPLy\n",
              "8rRq1SpJUmNjo4qKihQMBpWXl6etW7dGXseJNQAAYDefG+/UGKPp06fr/fff17Bhw1RTU6OrrrpK\n",
              "kyZN0vz581VYWKhNmzapsrJSd955p6qrq5WYmOjIGgAAsJsrMSRJHo9HR48elSQdO3ZMgUBAfr9f\n",
              "a9asUVVVlSSpoKBAAwcO1JYtW3TTTTc5sna2UCikUCgUdayjo8OpDwMAAHCZKzHk8Xi0evVqTZo0\n",
              "Sb169VJzc7PWrVun48ePq729XRkZGZGXzc7OVm1trZqammK+1pXS0lI98cQTUccKCwtjtXUAAHCB\n",
              "ceWeoXA4rKefflrr1q3TgQMH9M4772jGjBkKh8NujBOlpKRELS0tUY9Ro0a5PRYAAHCIKzG0a9cu\n",
              "ffnll7r++uslnb50NWjQIH366afy+XxqaGiIvGxNTY0yMzMVCARivtYVv9+vtLS0qIfX6431hwAA\n",
              "AFwgXImhwYMHq76+Xv/85z8lSVVVVdq3b5+GDBmiKVOmaPny5ZKkyspK1dXVady4cZLkyBoAALCb\n",
              "K/cM9e/fXy+//LLuuusuJSQkqLOzU8uWLVNmZqYWL16sGTNmKBgMKikpSeXl5ZGf+nJiDQAA2M1j\n",
              "jDFuD3GhKy4uVllZmdtjAAAAB/AM1AAAwGrEEAAAsBoxBAAArEYMAQAAqxFDAADAasQQAACwGjEE\n",
              "AACsRgwBAACrEUMAAMBqxBAAALAaMQQAAKxGDAEAAKsRQwAAwGrEEAAAsBoxBAAArEYMAQAAqxFD\n",
              "AADAasQQAACwGjEEAACsRgwBAACrEUMAAMBqxBAAALAaMQQAAKxGDAEAAKsRQwAAwGrEEAAAsBox\n",
              "BAAArEYMAQAAqxFDAADAasQQAACwGjEEAACsRgwBAACrEUMAAMBqxBAAALAaMQQAAKxGDAEAAKsR\n",
              "QwAAwGrEEAAAsBoxBAAArEYMAQAAqxFDAADAasQQAACwGjEEAACsRgwBAACrEUMAAMBqxBAAALAa\n",
              "MQQAAKxGDAEAAKsRQwAAwGrEEAAAsBoxBAAArOZKDDU1NWnEiBGRR25urnw+n44cOaLGxkYVFRUp\n",
              "GAwqLy9PW7dujbyeE2sAAMBuPjfeaSAQ0K5duyJ/f+6557RlyxZddtlluv/++1VYWKhNmzapsrJS\n",
              "d955p6qrq5WYmKj58+fHfA0AANjNlRg624oVK1RaWipJWrNmjaqqqiRJBQUFGjhwoLZs2aKbbrrJ\n",
              "kbWzhUIhhUKhqGMdHR2O7R0AALjL9XuGtm/frubmZt16661qampSe3u7MjIyIuvZ2dmqra11ZK0r\n",
              "paWlSk9Pj3pUVFQ4sHMAAHAhcD2GVqxYoXvuuUc+3wVxkkolJSVqaWmJeowaNcrtsQAAgENcjaET\n",
              "J05ozZo1uv/++yWdvpfI5/OpoaEh8jI1NTXKzMx0ZK0rfr9faWlpUQ+v1xvrrQMAgAuEqzG0evVq\n",
              "DR8+XFdddVXk2JQpU7R8+XJJUmVlperq6jRu3DjH1gAAgN1cvTa1YsUKPfjgg1HHFi9erBkzZigY\n",
              "DCopKUnl5eWRn/pyYg0AANjNY4wxbg9xoSsuLlZZWZnbYwAAAAe4fgM1AACAm4ghAABgNWIIAABY\n",
              "jRgCAABWI4YAAIDViCEAAGA1YggAAFiNGAIAAFYjhgAAgNWIIQAAYDViCAAAWI0YAgAAViOGAACA\n",
              "1YghAABgNWIIAABYjRgCAABWI4YAAIDViCEAAGA1YggAAFiNGAIAAFYjhgAAgNWIIQAAYDViCAAA\n",
              "WI0YAgAAViOGAACA1YghF7W2d+jwiZBa2zvcHgUAAGv53B7ARoeOh1T+YY02/f2gTrV36JJErybm\n",
              "ZWj66CxdnuJ3ezwAAKzCmaE4O3Q8pP/9/cf6vx21OhkKy5fg0clQWOU7DmjO7z7W4RMht0cEAMAq\n",
              "xFCclX9Yo6rG4+qb4lefXknq5fepT68k9U3xq6rxuMo/OOD2iAAAWIUYiqPW9g5t+vtBJfu88nmj\n",
              "P/Q+b4L8Pq/e2t3APUQAAMQRMRRHJ0JhnWrvUJKv6w+735egU20dOhEKx3kyAADsRQzFUYrfp0sS\n",
              "vWoLd3a5Hgp36pIkr1L83NcOAEC8EENxlJzoVVFef7WGOxTuiA6icEenQuEOTbwmQ8mJXpcmBADA\n",
              "PpyCiLMZo7O1o7pZVY3H5fd55fclKBQ+HULBfqmaPjrL7REBALAKZ4bi7PIUv5ZN/bam/0+WUpJ9\n",
              "CncapST7NP1/svTC1G/zPEMAAMQZZ4ZccHmKXz+ckKuH/t+3dCIUVorfx6UxAABcQgy5KDnRSwQB\n",
              "AOAyLpMBAACrEUMAAMBqxBAAALAaMQQAAKxGDAEAAKsRQwAAwGrEEAAAsBoxBAAArEYMAQAAqxFD\n",
              "AADAah5jjHF7iAvdpEmTlJ2dHfO329HRoYqKCo0aNUpeb8//tRzst2djvz2bbfuV7NtzT9xvVlaW\n",
              "fvCDH/zHlyOGXHTs2DGlp6erpaVFaWlpbo/jOPbbs7Hfns22/Ur27dm2/Z6Jy2QAAMBqxBAAALAa\n",
              "MQQAAKxGDLnI7/dr4cKF8vv9bo8SF+y3Z2O/PZtt+5Xs27Nt+z0TN1ADAACrcWYIAABYjRgCAABW\n",
              "I4YAAIDViKE4uvnmmzVs2DCNGDFC1113nT7++GO1trbqjjvuUG5uroYPH64JEyaoqqrK7VFjoqv9\n",
              "nmnlypXyeDx644033Bkwxs6131AopDlz5igYDGro0KGaPn26y5PGxrn2u3HjRuXn52vEiBHKy8vT\n",
              "qlWrXJ40ts7+um1sbFRRUZGCwaDy8vK0detWdweMsbP3e99990W+X40dO1aVlZXuDhhj5/q+9O67\n",
              "78rr9er55593ZS6nnL1fY4wef/xx5ebmaujQoRo/fry7A8aLQdw0NzdH/rxu3TozbNgwc+rUKbNh\n",
              "wwbT2dlpjDHmhRdeMOPGjXNnwBjrar9fqa6uNqNHjzaFhYXm9ddfj/9wDjjXfn/4wx+aOXPmRD7H\n",
              "9fX1bowXc13tt7Oz0/Tp08d88sknxpjTn2e/32+OHTvm0pSx1dXX7X333WcWLlxojDGmoqLCXHHF\n",
              "Faatrc29IWOoq/2uX7/etLe3G2OM+eMf/2iysrLcGzDGzvV96ejRo6agoMDceuut5qc//alr88Va\n",
              "V/t9/vnnzZ133mlCoZAxpud8v/pPODMUR7179478uaWlRR6PR8nJybrlllvk8XgkSYWFhaqpqXFn\n",
              "wBjrar+S1NnZqQceeEAvvPBCj/oRzq72e/LkSa1YsULPPPNMZP8ZGRkuTRhb5/r8ejweHT16VNLp\n",
              "p/cPBAI94vN8rq/bNWvW6KGHHpIkFRQUaODAgdqyZYtbY8bMufZ72223yefzSTr9/aqurk7hcNit\n",
              "MWPm674vzZkzR48++qgCgYBL08Xeufa7ZMkSPfvss0pKSpLUc75f/Sc+twewzT333KP33ntP0unL\n",
              "CWdbunSpbr/99niP5Ziu9ltWVqaxY8fq2muvdXM0R5y933379umyyy7TokWL9Pbbb+uSSy7R448/\n",
              "rhtvvNHlSWPj7P16PB6tXr1akyZNUq9evdTc3Kx169ZFvrFezLr6um1qalJ7e3vUPxjZ2dmqra11\n",
              "Y8SYOp//T5cuXapbbrklEkcXs3Ptd+3atUpISNBtt92mdevWuTRd7HW132PHjungwYNav3691q5d\n",
              "K0kqLi7W3Xff7daY8eP2qSlb/eY3vzETJ06MOvbMM8+YwsJCc/LkSZemcs5X+/3ss89MYWFh5DLC\n",
              "uHHjesxlsjN9td+PPvrISDKrVq0yxhizc+dOEwgETENDg8sTxtZX+21vbzfjxo0zW7ZsMcacvmyU\n",
              "kZFhDh065PKE/51zfd0ePnzYJCUlRb3slClTzIoVK9wYM2bO5//TV155xeTm5vaIr+Vz7be+vt4M\n",
              "Hz48ckn43nvv7RGXyc6136amJiPJPPHEE8aY05fRBgwYYHbt2uXmuHFBDLkoOTnZHD582BhjzJIl\n",
              "S8y1114bdR9GT5OcnGyefvppk5GRYbKyskxWVpbx+/2mb9++5sUXX3R7vJhLTk42DQ0NJiEhwYTD\n",
              "4cjxkSNHms2bN7s4mTOSk5PNhx9+aILBYNTxkSNHmr/85S8uTRUbL7744jm/bi+99NKo+yoKCgou\n",
              "+s/v1+3XGGNeffVVk5OTYw4cOODypLFxrv0uW7bM9OvXL3K8V69epk+fPuaRRx5xe+T/ytd9flNS\n",
              "Usy+ffsiLzt58mTzy1/+0sVp44MYipPm5mZTV1cX+fvrr79urrjiCtPZ2Wl+8pOfmPz8fHPkyBEX\n",
              "J4ytr9vvmXrKmaGv2++ECRPMhg0bjDHG7N+/3wQCAfOvf/3LrVFj4lz7bWhoMCkpKeYf//iHMcaY\n",
              "vXv3mj59+vSYfzS/cubX7b333ht1A/XAgQN7zA3UXzlzv6tXrzY5OTmmpqbG3aEcdK7vSz3lzNDZ\n",
              "ztzvgw8+aH7+858bY4xpamoymZmZZseOHS5OFx8X/4Xei0RLS4umTJmiU6dOKSEhQX379tWf/vQn\n",
              "1dXV6eGHH9aVV14Z+RFGv9+vHTt2uDzxf+dc+/3qJtue5uv2u3z5cn3/+9/XvHnzlJCQoJdeeklX\n",
              "XHGF2yP/V8613/79++vll1/WXXfdpYSEBHV2dmrZsmXKzMx0e2THLF68WDNmzFAwGFRSUpLKy8uV\n",
              "mJjo9liOmTZtmjIyMqLubXznnXd61M3FNistLdV9992nF198UZI0b948jRo1yuWpnMfvJgMAAFbj\n",
              "R+sBAIDViCEAAGA1YggAAFiNGAIAAFYjhgAAgNWIIQA91rRp0zRy5EgNGzZM3/3ud9XQ0CBJeuml\n",
              "l5Sbm6v8/Hw99dRTUU/5UFlZqRtuuEEjR47Ut7/9bf3hD39wa3wAccKP1gPosQ4dOqS+fftKkp59\n",
              "9lnV1NRozpw5mjBhgj7++GNlZGRo4cKFevLJJ2WM0dGjRzV+/Hht3LhRAwYM0OHDh5Wfn68PPvjg\n",
              "on9uKADnxpMuAuixfve73+mVV15Ra2urWltbdfnll+vdd99VUVFR5JerPvjgg3ryySclSdu3b9f+\n",
              "/fs1ceLEqLezZ88eYgjowYghAD3Stm3b9LOf/UwffPCB+vXrpzfffFOPPfbYv73cmZfIjDG65ppr\n",
              "tH379niOCsBl3DMEoEdqbm5WamqqAoGA2tra9NJLL0mSxo8frz//+c9qbGyUJK1YsSLyOmPGjFF1\n",
              "dbXefvvtyLFdu3apra0tvsMDiCtiCECPVFRUpCFDhmjIkCG67rrrNGLECEnS0KFD9eijj2rs2LHK\n",
              "z89Xa2ur0tPTJUl9+vTRhg0btGjRIg0fPlxXX3215s+fr87OThd3AsBp3EANwDrHjx9XamqqJGnp\n",
              "0qXatGmT3nrrLZenAuAW7hkCYJ358+frb3/7m9rb2zVw4MDIJTQAduLMEAAAsBr3DAEAAKsRQwAA\n",
              "wGrEEAAAsBoxBAAArEYMAQAAqxFDAADAasQQAACwGjEEAACs9v8BqfQj3vFEKfAAAAAASUVORK5C\n",
              "YII=\n",
              "\">\n",
              "      </div>\n",
              "      <script type=\"text/javascript\">\n",
              "        (() => {\n",
              "          const chartElement = document.getElementById(\"chart-d8b3385a-bd6e-4e33-bc45-13979c78c7a8\");\n",
              "          async function getCodeForChartHandler(event) {\n",
              "            const chartCodeResponse =  await google.colab.kernel.invokeFunction(\n",
              "                'getCodeForChart', [\"chart-d8b3385a-bd6e-4e33-bc45-13979c78c7a8\"], {});\n",
              "            const responseJson = chartCodeResponse.data['application/json'];\n",
              "            await google.colab.notebook.addCell(responseJson.code, 'code');\n",
              "          }\n",
              "          chartElement.onclick = getCodeForChartHandler;\n",
              "        })();\n",
              "      </script>\n",
              "      <style>\n",
              "        .colab-quickchart-chart-with-code  {\n",
              "            display: block;\n",
              "            float: left;\n",
              "            border: 1px solid transparent;\n",
              "        }\n",
              "\n",
              "        .colab-quickchart-chart-with-code:hover {\n",
              "            cursor: pointer;\n",
              "            border: 1px solid #aaa;\n",
              "        }\n",
              "      </style>"
            ]
          },
          "metadata": {}
        },
        {
          "output_type": "display_data",
          "data": {
            "text/plain": [
              "<google.colab._quickchart_helpers.SectionTitle at 0x7a8b8638cbd0>"
            ],
            "text/html": [
              "<h4 class=\"colab-quickchart-section-title\">Time series</h4>\n",
              "<style>\n",
              "  .colab-quickchart-section-title {\n",
              "      clear: both;\n",
              "  }\n",
              "</style>"
            ]
          },
          "metadata": {}
        },
        {
          "output_type": "display_data",
          "data": {
            "text/plain": [
              "from matplotlib import pyplot as plt\n",
              "import seaborn as sns\n",
              "def _plot_series(series, series_name, series_index=0):\n",
              "  palette = list(sns.palettes.mpl_palette('Dark2'))\n",
              "  counted = (series['age']\n",
              "                .value_counts()\n",
              "              .reset_index(name='counts')\n",
              "              .rename({'index': 'age'}, axis=1)\n",
              "              .sort_values('age', ascending=True))\n",
              "  xs = counted['age']\n",
              "  ys = counted['counts']\n",
              "  plt.plot(xs, ys, label=series_name, color=palette[series_index % len(palette)])\n",
              "\n",
              "fig, ax = plt.subplots(figsize=(10, 5.2), layout='constrained')\n",
              "df_sorted = _df_3.sort_values('age', ascending=True)\n",
              "_plot_series(df_sorted, '')\n",
              "sns.despine(fig=fig, ax=ax)\n",
              "plt.xlabel('age')\n",
              "_ = plt.ylabel('count()')"
            ],
            "text/html": [
              "      <div class=\"colab-quickchart-chart-with-code\" id=\"chart-d86dd91f-43be-471a-a3c5-22ed484816d4\">\n",
              "        <img style=\"width: 180px;\" src=\"data:image/png;base64,iVBORw0KGgoAAAANSUhEUgAAA/MAAAITCAYAAABLz0yVAAAAOnRFWHRTb2Z0d2FyZQBNYXRwbG90\n",
              "bGliIHZlcnNpb24zLjEwLjAsIGh0dHBzOi8vbWF0cGxvdGxpYi5vcmcvlHJYcgAAAAlwSFlzAAAP\n",
              "YQAAD2EBqD+naQAAJSxJREFUeJzt3X+QVfV9//HXBWTxF0gVQSULRUCDogjIGEkkJrGiiST+Spxq\n",
              "DFYQZ+LoSFOBVuKPGDRJg6LWER3G8cdEY1FTRm3aqo1VMYIVTCImCrKuGAG1CMYKAnu/f2S636yy\n",
              "wCa7Xj7k8Zg5M957z9593/nMXu7Te+65lWq1Wg0AAABQjE61HgAAAABoGzEPAAAAhRHzAAAAUBgx\n",
              "DwAAAIUR8wAAAFAYMQ8AAACFEfMAAABQGDEPAAAAhdnpY37WrFm1HgEAAADa1U4f86+++mqtRwAA\n",
              "AIB2tdPHPAAAAOxsxDwAAAAURswDAABAYcQ8AAAAFEbMAwAAQGHEPAAAABRGzAMAAEBhxDwAAAAU\n",
              "RswDAABAYcQ8AAAAFEbMAwAAQGHEPAAAABRGzAMAAEBhxDwAAAAURswDAABAYcQ8AAAAFEbMAwAA\n",
              "QGHEPAAAABRGzAMAAEBhxDwAAAAURswDAABAYcQ8AAAAFEbMAwAAQGHEPAAAABRGzAMAAEBhxDwA\n",
              "AAAURswDAABAYcQ8AAAAFEbMAwAAQGHEPAAAABRGzAMAAEBhxDwAAAAURswDAABAYcQ8AAAAFEbM\n",
              "AwAAQGHEPAAAABRGzAMAAEBhxDwAAAAURswDAABAYcQ8AAAAFEbMAwAAQGHEPAAAABRGzAMAAEBh\n",
              "xDwAAAAURswDAABAYcQ8AAAAFEbMAwAAQGHEPAAAABRGzAMAAEBhxDwAAAAURswDAABAYcQ8AAAA\n",
              "FEbMAwAAQGHEPAAAABRGzAMAAEBhxDwAAAAURswDAABAYcQ8AAAAFEbMAwAAQGHEPAAAABRGzAMA\n",
              "AEBhOjTmL7zwwvTv3z+VSiWLFy9udb85c+Zk0KBBOfDAAzNx4sRs3Lixxe3VajWf+9znstdee3Xk\n",
              "uAAAAFCEDo350047LU8++WT69evX6j7Lly/P9OnT88QTT2Tp0qVZtWpVbrnllhb7XHvttTnwwAM7\n",
              "clQAAAAoRofG/DHHHJO+fftudZ+5c+dm3Lhx6dOnTyqVSs4///zcfffdzbe/8MIL+clPfpKpU6du\n",
              "8/dt2LAh69ata7Ft3rz5T34cAAAAsCOp+WfmGxsbW7xz379//zQ2NiZJNm7cmIkTJ2b27Nnp3Lnz\n",
              "Nu/r6quvTo8ePVpsCxYs6LDZAQAAoBZqHvNbc8UVV+SUU07JJz/5ye3af9q0aVm7dm2LbdSoUR08\n",
              "JQAAAHy8utR6gPr6+ixbtqz5ckNDQ+rr65Mkjz/+eBobG3PjjTdm06ZNWbduXfr375+FCxemV69e\n",
              "H7mvurq61NXVtbhue97RBwAAgJLU/J35U089NfPmzcvKlStTrVZz880354wzzkiSPPHEE3n11VfT\n",
              "0NCQJ598Mt27d09DQ8MWQx4AAAD+XHRozE+aNCl9+/bNihUrcvzxx2fgwIFJkgkTJmTevHlJkgED\n",
              "BuSKK67I6NGjM3DgwPTq1SuTJk3qyLEAAACgaJVqtVqt9RAdafLkyZk5c2atxwAAAIB2U/PD7AEA\n",
              "AIC2EfMAAABQGDEPAAAAhRHzAAAAUBgxDwAAAIUR8wAAAFAYMQ8AAACFEfMAAABQGDEPAAAAhRHz\n",
              "AAAAUBgxDwAAAIUR8wAAAFAYMQ8AAACFEfMAAABQGDEPAAAAhRHzAAAAUBgxDwAAAIUR8wAAAFAY\n",
              "MQ8AAACFEfMAAABQGDEPAAAAhRHzAAAAUBgxDwAAAIUR8wAAAFAYMQ8AAACFEfMAAABQGDEPAAAA\n",
              "hRHzAAAAUBgxDwAAAIUR8wAAAFAYMQ8AAACFEfMAAABQGDEPAAAAhRHzAAAAUBgxDwAAAIUR8wAA\n",
              "AFAYMQ8AAACFEfMAAABQGDEPAAAAhRHzAAAAUBgxDwAAAIUR8wAAAFAYMQ8AAACFEfMAAABQGDEP\n",
              "AAAAhRHzAAAAUBgxDwAAAIUR8wAAAFAYMQ8AAACFEfMAAABQGDEPAAAAhRHzAAAAUBgxDwAAAIUR\n",
              "8wAAAFAYMQ8AAACFEfMAAABQGDEPAAAAhRHzAAAAUBgxDwAAAIUR8wAAAFAYMQ8AAACFEfMAAABQ\n",
              "GDEPAAAAhRHzAAAAUBgxDwAAAIUR8wAAAFAYMQ8AAACFEfMAAABQGDEPAAAAhRHzAAAAUBgxDwAA\n",
              "AIUR8wAAAFAYMQ8AAACFEfMAAABQGDEPAAAAhRHzAAAAUBgxDwAAAIUR8wAAAFCYDo35Cy+8MP37\n",
              "90+lUsnixYtb3W/OnDkZNGhQDjzwwEycODEbN25Mkjz22GMZNWpUhgwZkkMOOSSXXHJJmpqaOnJk\n",
              "AAAA2OF1aMyfdtppefLJJ9OvX79W91m+fHmmT5+eJ554IkuXLs2qVatyyy23JEl69uyZe+65J0uW\n",
              "LMl///d/Z/78+bnjjjs6cmQAAADY4XVozB9zzDHp27fvVveZO3duxo0blz59+qRSqeT888/P3Xff\n",
              "nSQ54ogjMmDAgCRJt27dMmzYsDQ0NLR6Xxs2bMi6detabJs3b263xwMAAAA7gpp/Zr6xsbHFO/f9\n",
              "+/dPY2PjR/ZbuXJl5s6dmy996Uut3tfVV1+dHj16tNgWLFjQIXMDAABArdQ85rfHunXrctJJJ+WS\n",
              "Sy7JyJEjW91v2rRpWbt2bYtt1KhRH+OkAAAA0PG61HqA+vr6LFu2rPlyQ0ND6uvrmy+/++67GTt2\n",
              "bL785S9n8uTJW72vurq61NXVtbiuc+fO7TswAAAA1FjN35k/9dRTM2/evKxcuTLVajU333xzzjjj\n",
              "jCTJ7373u4wdOzZjx47NpZdeWuNJAQAAYMfQoTE/adKk9O3bNytWrMjxxx+fgQMHJkkmTJiQefPm\n",
              "JUkGDBiQK664IqNHj87AgQPTq1evTJo0KUkya9asLFiwIPfff3+GDRuWYcOG5bvf/W5HjgwAAAA7\n",
              "vEq1Wq3WeoiONHny5MycObPWYwAAAEC7qflh9gAAAEDbiHkAAAAojJgHAACAwoh5AAAAKIyYBwAA\n",
              "gMKIeQAAACiMmAcAAIDCiHkAAAAojJgHAACAwoh5AAAAKIyYBwAAgMKIeQAAACiMmAcAAIDCiHkA\n",
              "AAAojJgHAACAwoh5AAAAKIyYBwAAgMKIeQAAACiMmAcAAIDCiHkAAAAojJgHAACAwoh5AAAAKIyY\n",
              "BwAAgMKIeQAAACiMmAcAAIDCiHkAAAAojJgHAACAwoh5AAAAKIyYBwAAgMKIeQAAACiMmAcAAIDC\n",
              "iHkAAAAojJgHAACAwoh5AAAAKIyYBwAAgMKIeQAAACiMmAcAAIDCiHkAAAAojJgHAACAwoh5AAAA\n",
              "KIyYBwAAgMKIeQAAACiMmAcAAIDCiHkAAAAojJgHAACAwoh5AAAAKIyYBwAAgMKIeQAAACiMmAcA\n",
              "AIDCiHkAAAAojJgHAACAwoh5AAAAKIyYBwAAgMKIeQAAACiMmAcAAIDCiHkAAAAojJgHAACAwoh5\n",
              "AAAAKIyYBwAAgMKIeQAAACiMmAcAAIDCiHkAAAAojJgHAACAwoh5AAAAKEyXP+aHlixZkhUrVmTX\n",
              "XXfN0KFDs9dee7XzWAAAAEBrtjvm33333fzjP/5jbr311uy2227p3bt31q9fn2XLlmXUqFGZMmVK\n",
              "Pv/5z3fkrAAAAEDaEPPHHntszj777CxatCi9e/duvr6pqSlPPPFEbr755ixdujSTJk3qkEEBAACA\n",
              "39vumH/qqadSV1f3kes7deqUMWPGZMyYMdmwYUO7DgcAAAB81HafAG9LIf/H7AMAAAD8abY75r/0\n",
              "pS9l/vz5W7ztnXfeyQ9/+MPMnj273QYDAAAAtmy7D7OfMWNGpk2bliVLluTII49sPgHer3/967z+\n",
              "+uv55je/mb/5m7/pyFkBAACAtCHmDzvssDz00EN57bXX8vjjj2fFihXZbbfdcuaZZ+bTn/50unT5\n",
              "o77lDgAAAGijNhf4mjVrctZZZ7W47he/+EUOO+ywdhsKAAAAaN12f2b+/4wfP367rgMAAAA6xna/\n",
              "M7969eqsXLky77//fn75y1+mWq0mSdauXZv33nuvwwYEAAAAWtrumL/77rtz3XXX5be//W3GjRvX\n",
              "fH2PHj1yySWXdMhwAAAAwEdtd8xfdNFFueiii/Kd73wn06dP78iZAAAAgK1o8wnwpk+fnqampqxc\n",
              "uTKbNm1qvr6+vr5dBwMAAAC2rM0nwLv99tuz1157ZejQoRkxYkRGjBiRkSNHbnHfCy+8MP3790+l\n",
              "UsnixYtbvc85c+Zk0KBBOfDAAzNx4sRs3Lhxu24DAACAP0dtjvkrr7wyCxcuzNtvv50333wzb775\n",
              "ZlavXr3FfU877bQ8+eST6devX6v3t3z58kyfPj1PPPFEli5dmlWrVuWWW27Z5m0AAADw56rNh9nv\n",
              "s88+Oeigg7Zr32OOOWab+8ydOzfjxo1Lnz59kiTnn39+ZsyYkW9+85tbvW1nUq1W8/4mRxwAAAB0\n",
              "pF277JJKpVLrMdpFm2P+K1/5Sq677rr89V//dbp169Z8fffu3f+oARobG1u8c9+/f/80NjZu87Yt\n",
              "2bBhQzZs2NDius2bN/9Rc32c3t+0MYPv+natxwAAANipvXTWldltl661HqNdtPkw+3/4h3/I5MmT\n",
              "06dPn/Ts2TN77bVXevbs2RGztdnVV1+dHj16tNgWLFhQ67EAAACgXbX5nfmmpqZ2HaC+vj7Lli1r\n",
              "vtzQ0NB8Zvyt3bYl06ZNy+TJk1tcV8LX6O3aZZe8dNaVtR4DAABgp7Zrl11qPUK7aXPMt7dTTz01\n",
              "n/70p3P55Zend+/eufnmm3PGGWds87YtqaurS11dXYvrOnfu3KHzt4dKpbLTHOoBAABAx2vzYfad\n",
              "OnVK586dP7JtyaRJk9K3b9+sWLEixx9/fAYOHJgkmTBhQubNm5ckGTBgQK644oqMHj06AwcOTK9e\n",
              "vTJp0qRt3gYAAAB/rirVarXalh947733mv/7/fffzx133JHNmzfn7/7u79p9uPYwefLkzJw5s9Zj\n",
              "AAAAQLtp8zvzu+++e/O2zz77ZPLkyZk7d25HzAYAAABsQZtj/sN+/etf56233mqPWQAAAIDt0OYT\n",
              "4PXs2TOVSiVJsmnTpiTJDTfc0L5TAQAAAK1qc8wvXrz4//9wly7p06dPEWeMBwAAgJ1Fm2O+X79+\n",
              "+d///d/mqO/Zs2d222239p4LAAAAaEWbY37+/Pk59dRT06dPnyTJqlWrct999+VTn/pUuw8HAAAA\n",
              "fFSbY/7/zl4/evToJL+P+4svvjg///nP2304AAAA4KPafDb7999/vznkk+Too4/O+vXr23UoAAAA\n",
              "oHVtjvk99tgjjzzySPPlRx99NLvvvnu7DgUAAAC0rs2H2V9//fU55ZRTms9g39TUlPvvv7/dBwMA\n",
              "AAC2rM0x/9vf/jbPPvtsVq1alSTp3bt3FixY0O6DAQAAAFvW5sPsp0+fnl69euXQQw/NoYcemn32\n",
              "2SfTp0/viNkAAACALWhzzH9YpVLJ5s2b22MWAAAAYDu0Oeb33HPPzJ8/v/nyU089lT333LNdhwIA\n",
              "AABa1+bPzH//+9/PySefnIMPPjhJ8vLLL+eBBx5o98EAAACALWtzzH/qU5/Kiy++mKeffjrJ779n\n",
              "fq+99mrvuQAAAIBWtDnmk6Rnz5458cQT23sWAAAAYDv8ySfAAwAAAD5eYh4AAAAKI+YBAACgMGIe\n",
              "AAAACiPmAQAAoDBiHgAAAAoj5gEAAKAwYh4AAAAKI+YBAACgMGIeAAAACiPmAQAAoDBiHgAAAAoj\n",
              "5gEAAKAwYh4AAAAKI+YBAACgMGIeAAAACiPmAQAAoDBiHgAAAAoj5gEAAKAwYh4AAAAKI+YBAACg\n",
              "MGIeAAAACiPmAQAAoDBiHgAAAAoj5gEAAKAwYh4AAAAKI+YBAACgMGIeAAAACiPmAQAAoDBiHgAA\n",
              "AAoj5gEAAKAwYh4AAAAKI+YBAACgMGIeAAAACiPmAQAAoDBiHgAAAAoj5gEAAKAwYh4AAAAKI+YB\n",
              "AACgMGIeAAAACiPmAQAAoDBiHgAAAAoj5gEAAKAwYh4AAAAKI+YBAACgMGIeAAAACiPmAQAAoDBi\n",
              "HgAAAAoj5gEAAKAwYh4AAAAKI+YBAACgMGIeAAAACiPmAQAAoDBiHgAAAAoj5gEAAKAwYh4AAAAK\n",
              "I+YBAACgMGIeAAAACiPmAQAAoDBiHgAAAAoj5gEAAKAwYh4AAAAK06Ex//LLL+foo4/O4MGDc+SR\n",
              "R+aFF174yD5NTU351re+lUMPPTQHH3xwzj333HzwwQfNt3/ve9/LkCFDMmzYsBx11FFZsGBBR44M\n",
              "AAAAO7wOjflJkyblvPPOy0svvZQpU6Zk/PjxH9lnzpw5ee655/Lcc8/lxRdfTKdOnTJr1qwkyeLF\n",
              "i3PTTTdlwYIFWbx4cS644IJccMEFHTkyAAAA7PA6LOZXr16dZ599NmeddVaS5NRTT81rr72WpUuX\n",
              "ttjv+eefzxe+8IV07do1lUolJ5xwQu68884kSaVSycaNG/Pee+8lSd5555307du31d+5YcOGrFu3\n",
              "rsW2efPmDnqEAAAAUBsdFvOvvfZa9ttvv3Tp0iXJ78O8vr4+jY2NLfYbMWJE5s2bl3Xr1mXjxo25\n",
              "995709DQkCQ5/PDDc/HFF+cv//Iv07dv31x77bW54YYbWv2dV199dXr06NFic1g+AAAAO5uanwBv\n",
              "/PjxGTt2bMaMGZMxY8Zk8ODBzf8DYPny5bn//vuzdOnSrFixIhdffHG+9rWvtXpf06ZNy9q1a1ts\n",
              "o0aN+rgeCgAAAHwsOizmP/GJT+SNN97Ipk2bkiTVajWNjY2pr69vsV+lUsnll1+eRYsWZf78+Rky\n",
              "ZEgOOeSQJMl9992XoUOHZv/990+SnHPOOXnqqadanCDvD9XV1aV79+4tts6dO3fUQwQAAICa6LCY\n",
              "33fffTN8+PDcddddSX4f5n379s3AgQNb7Ld+/fqsWbMmSfLWW2/lmmuuySWXXJIkGTBgQJ566qn8\n",
              "7ne/S5I8+OCDGTx4cLp27dpRYwMAAMAOr0tH3vns2bMzfvz4zJgxI927d89tt92WJJkwYULGjRuX\n",
              "cePGZe3atfnsZz+bTp06pampKRdddFFOOumkJMnJJ5+chQsXZuTIkamrq8vuu++eH/3oRx05MgAA\n",
              "AOzwKtVqtVrrITrS5MmTM3PmzFqPAQAAAO2m5ifAAwAAANpGzAMAAEBhxDwAAAAURswDAABAYcQ8\n",
              "AAAAFEbMAwAAQGHEPAAAABRGzAMAAEBhxDwAAAAURswDAABAYcQ8AAAAFEbMAwAAQGHEPAAAABRG\n",
              "zAMAAEBhxDwAAAAURswDAABAYcQ8AAAAFEbMAwAAQGHEPAAAABRGzAMAAEBhxDwAAAAURswDAABA\n",
              "YcQ8AAAAFEbMAwAAQGHEPAAAABRGzAMAAEBhxDwAAAAURswDAABAYcQ8AAAAFEbMAwAAQGHEPAAA\n",
              "ABRGzAMAAEBhxDwAAAAURswDAABAYcQ8AAAAFEbMAwAAQGHEPAAAABRGzAMAAEBhxDwAAAAURswD\n",
              "AABAYcQ8AAAAFEbMAwAAQGHEPAAAABRGzAMAAEBhxDwAAAAURswDAABAYcQ8AAAAFEbMAwAAQGHE\n",
              "PAAAABRGzAMAAEBhxDwAAAAURswDAABAYcQ8AAAAFEbMAwAAQGHEPAAAABRGzAMAAEBhxDwAAAAU\n",
              "RswDAABAYcQ8AAAAFEbMAwAAQGHEPAAAABRGzAMAAEBhxDwAAAAURswDAABAYcQ8AAAAFEbMAwAA\n",
              "QGHEPAAAABRGzAMAAEBhxDwAAAAURswDAABAYcQ8AAAAFEbMAwAAQGHEPAAAABRGzAMAAEBhxDwA\n",
              "AAAURswDAABAYcQ8AAAAFEbMAwAAQGE6NOZffvnlHH300Rk8eHCOPPLIvPDCCx/Zp6mpKd/61rdy\n",
              "6KGH5uCDD865556bDz74oPn2xsbGnHTSSTnooIMyZMiQ3HDDDR05MgAAAOzwOjTmJ02alPPOOy8v\n",
              "vfRSpkyZkvHjx39knzlz5uS5557Lc889lxdffDGdOnXKrFmzkiTVajUnn3xyzj777PzmN7/JkiVL\n",
              "8tWvfrUjRwYAAIAdXofF/OrVq/Pss8/mrLPOSpKceuqpee2117J06dIW+z3//PP5whe+kK5du6ZS\n",
              "qeSEE07InXfemSR59NFHU1dXl9NPP715/969e7f6Ozds2JB169a12DZv3twBjw4AAABqp8Ni/rXX\n",
              "Xst+++2XLl26JEkqlUrq6+vT2NjYYr8RI0Zk3rx5WbduXTZu3Jh77703DQ0NSZIlS5akV69eOeOM\n",
              "M3LEEUfk5JNPziuvvNLq77z66qvTo0ePFtuCBQs66iECAABATdT8BHjjx4/P2LFjM2bMmIwZMyaD\n",
              "Bw9u/h8AmzZtymOPPZbp06dn0aJFOf7447d6mP20adOydu3aFtuoUaM+rocCAAAAH4sOi/lPfOIT\n",
              "eeONN7Jp06Ykv//8e2NjY+rr61vsV6lUcvnll2fRokWZP39+hgwZkkMOOSRJUl9fnyOOOKL58te/\n",
              "/vU899xz2bhx4xZ/Z11dXbp3795i69y5c0c9RAAAAKiJDov5fffdN8OHD89dd92VJLnvvvvSt2/f\n",
              "DBw4sMV+69evz5o1a5Ikb731Vq655ppccsklSZITTjghK1asyOuvv54kefjhh/PJT34yu+yyS0eN\n",
              "DQAAADu8Lh1557Nnz8748eMzY8aMdO/ePbfddluSZMKECRk3blzGjRuXtWvX5rOf/Ww6deqUpqam\n",
              "XHTRRTnppJOSJLvvvntuvvnmfPGLX0y1Wk2PHj1yzz33dOTIAAAAsMOrVKvVaq2H6EiTJ0/OzJkz\n",
              "az0GAAAAtJuanwAPAAAAaBsxDwAAAIUR8wAAAFAYMQ8AAACFEfMAAABQGDEPAAAAhRHzAAAAUBgx\n",
              "DwAAAIUR8wAAAFAYMQ8AAACFEfMAAABQGDEPAAAAhRHzAAAAUBgxDwAAAIUR8wAAAFAYMQ8AAACF\n",
              "EfMAAABQGDEPAAAAhRHzAAAAUBgxDwAAAIUR8wAAAFAYMQ8AAACFEfMAAABQGDEPAAAAhRHzAAAA\n",
              "UBgxDwAAAIUR8wAAAFAYMQ8AAACFEfMAAABQGDEPAAAAhRHzAAAAUBgxDwAAAIUR8wAAAFAYMQ8A\n",
              "AACFEfMAAABQGDEPAAAAhRHzAAAAUBgxDwAAAIUR8wAAAFAYMQ8AAACFEfMAAABQGDEPAAAAhRHz\n",
              "AAAAUBgxDwAAAIUR8wAAAFAYMQ8AAACFEfMAAABQGDEPAAAAhRHzAAAAUBgxDwAAAIUR8wAAAFAY\n",
              "MQ8AAACFEfMAAABQGDEPAAAAhRHzAAAAUBgxDwAAAIUR8wAAAFAYMQ8AAACFEfMAAABQGDEPAAAA\n",
              "halUq9VqrYfoSKecckr69+9f6zG2afPmzVmwYEFGjRqVzp0713oc/gTWcudgHXce1nLnYB13HtZy\n",
              "52Etdw7WccfUr1+/XHTRRVvdZ6eP+VKsW7cuPXr0yNq1a9O9e/daj8OfwFruHKzjzsNa7hys487D\n",
              "Wu48rOXOwTqWy2H2AAAAUBgxDwAAAIUR8wAAAFAYMb+DqKury2WXXZa6urpaj8KfyFruHKzjzsNa\n",
              "7hys487DWu48rOXOwTqWywnwAAAAoDDemQcAAIDCiHkAAAAojJgHAACAwoj5Gvmrv/qrHHbYYRk2\n",
              "bFg+85nPZNGiRVm/fn2+8pWvZPDgwTn88MNz3HHHZenSpbUela3Y0jr+odtuuy2VSiU/+clPajMg\n",
              "2621tdywYUMuuOCCDBo0KEOHDs1ZZ51V40nZltbW8uGHH87w4cMzbNiwHHroobn99ttrPCnb48PP\n",
              "o6tXr87YsWMzaNCgHHroofmv//qv2g7IdvvwWp5zzjnNr3lGjx6dhQsX1nZAtktrr20ee+yxdO7c\n",
              "Odddd11N5qLtPryW1Wo1l19+eQYPHpyhQ4fm2GOPre2AbFOXWg/w5+ree+/NXnvtlSR54IEHMn78\n",
              "+DzzzDM577zzcsIJJ6RSqeTGG2/MhAkT8rOf/ayms9K6La3j888/nyRpaGjIrbfemqOOOqqGE7K9\n",
              "WlvLqVOnplKp5KWXXkqlUsnKlStrOyjbtKW1XLx4cc4666z87Gc/y2GHHZaGhoYcfPDBOeWUU7Ln\n",
              "nnvWdmBataXn0alTp+aoo47KT3/60yxcuDAnn3xyli9fnl122aWGk7ItW1rLk08+Obfeemu6dOmS\n",
              "Bx98MKeffnoaGhpqNyTb1Nprm7Vr12bq1Kk58cQTazQZbbWltbz++uvzi1/8Ir/61a/StWtXr3kK\n",
              "4J35Gvm/F5rJ758AK5VKunXrlhNPPDGVSiVJctRRR/lHbQe3pXVMkqampkyYMCE33HCDr/koxJbW\n",
              "8r333sucOXPy3e9+t3lt+/TpU6MJ2V6t/V1WKpW88847SZJ169Zl77339ve5A2vtefTee+/N+eef\n",
              "nyQ58sgjs//+++fxxx+v1Zhsh9bWcty4cenS5ffvKx111FF5/fXXs2nTplqNyTZs7bXNBRdckEsv\n",
              "vTR77713jaajLVpbyx/84Ae55ppr0rVr1yRe85TAO/M1dPbZZ+c///M/k/z+8M8PmzVrVr785S9/\n",
              "3GPRRltax5kzZ2b06NEZMWJELUejjT68lsuWLctf/MVfZMaMGXnkkUey66675vLLL8/nP//5Gk/K\n",
              "tnx4LSuVSn784x/nlFNOye677541a9bk/vvvb37Bwo5nS8+jb7/9djZu3NjiBWb//v3T2NhYixHZ\n",
              "Ttvzb+KsWbNy4oknNsc9O57W1nHu3Lnp1KlTxo0bl/vvv79G09EWW1rLdevWZdWqVfmXf/mXzJ07\n",
              "N0kyefLkfO1rX6vVmGwHz5g1dMcddyRJbr/99kyZMqVF0M+YMSNLly7No48+Wqvx2E4fXsfvf//7\n",
              "ue+++3yOs0AfXsurrroqr776aoYMGZJrrrkmixYtynHHHZcXXnghvXv3rvG0bM2H13LevHm56qqr\n",
              "cv/99+eYY47JwoULM27cuPzyl7/MPvvsU+Np+bBf/epXnkd3EtuzlnfddVfuvfde670Da20dV65c\n",
              "mauuuspHQgvS2lpu2rQpmzZtyvvvv59nnnkmDQ0NOfroo3PwwQfn8MMPr9G0bFOVHUK3bt2qb731\n",
              "VrVarVZ/8IMfVEeMGFFds2ZNbYeizbp161a96qqrqn369Kn269ev2q9fv2pdXV21V69e1ZtuuqnW\n",
              "49EG3bp1q65cubLaqVOn6qZNm5qvHzlyZPU//uM/ajgZbdWtW7fqz3/+8+qgQYNaXD9y5Mjqv//7\n",
              "v9doKrbmpptuavV5dLfddqu+8cYbzfseeeSR/iZ3YFtby2q1Wr3nnnuqAwcOrL766qs1npStaW0d\n",
              "b7zxxuq+++7bfP3uu+9e7dmzZ/Xv//7vaz0yrdja3+Qee+xRXbZsWfO+p512WvXWW2+t4bRsi5iv\n",
              "gTVr1lRff/315ssPPPBA9YADDqg2NTVVf/jDH1aHDx9e/Z//+Z8aTsj22No6/qExY8ZUH3jggY95\n",
              "Otpia2t53HHHVR966KFqtVqtvvLKK9W99967umLFilqNyja0tpYrV66s7rHHHtUlS5ZUq9Vq9eWX\n",
              "X6727NlTQBTiD59Hv/GNb1Qvu+yyarVarS5YsKC6//77Vz/44IPaDUeb/OFa/vjHP64OHDiw2tDQ\n",
              "UNuhaLPWXtt84xvfqF577bUf+zz88f5wLSdOnFj9p3/6p2q1Wq2+/fbb1fr6+uozzzxTw+nYFofZ\n",
              "18DatWtz+umn5/3330+nTp3Sq1evPPjgg3n99dfzt3/7txkwYEDzV0HU1dXlmWeeqfHEbElr6/h/\n",
              "J9uiHFtby5tvvjnnnntupkyZkk6dOmX27Nk54IADaj0yrWhtLXv37p1bbrklX/3qV9OpU6c0NTXl\n",
              "xhtvTH19fa1Hpo2+973v5etf/3oGDRqUrl275q677nIm+0KdeeaZ6dOnT4vzAz366KNOogY1cvXV\n",
              "V+ecc87JTTfdlCSZMmVKRo0aVeOp2JpKtVqt1noIAAAAYPv5ajoAAAAojJgHAACAwoh5AAAAKIyY\n",
              "BwAAgMKIeQAAACiMmAcAPuLMM8/MyJEjc9hhh+WLX/xiVq5cmSSZPXt2Bg8enOHDh+c73/lOi6/j\n",
              "XLhwYT73uc9l5MiROeKII/LP//zPtRofAHZ6vpoOAPiIN998M7169UqSXHPNNWloaMgFF1yQ4447\n",
              "LosWLUqfPn1y2WWX5corr0y1Ws0777yTY489Ng8//HD222+/vPXWWxk+fHiefvrpHHDAATV+NACw\n",
              "8+lS6wEAgB3Pj370o9x5551Zv3591q9fn3322SePPfZYxo4dmz59+iRJJk6cmCuvvDJJMn/+/Lzy\n",
              "yis54YQTWtzPb37zGzEPAB1AzAMALTz55JO5/vrr8/TTT2fffffNvHnz8u1vf/sj+/3hIfbVajWH\n",
              "HHJI5s+f/3GOCgB/tnxmHgBoYc2aNdlzzz2z995754MPPsjs2bOTJMcee2z+7d/+LatXr06SzJkz\n",
              "p/lnjj766CxfvjyPPPJI83WLFy/OBx988PEODwB/JsQ8ANDC2LFjc9BBB+Wggw7KZz7zmQwbNixJ\n",
              "MnTo0Fx66aUZPXp0hg8fnvXr16dHjx5Jkp49e+ahhx7KjBkzcvjhh2fIkCGZOnVqmpqaavhIAGDn\n",
              "5QR4AMB2e/fdd7PnnnsmSWbNmpWf/vSn+dd//dcaTwUAf358Zh4A2G5Tp07NU089lY0bN2b//fdv\n",
              "PgQfAPh4eWceAAAACuMz8wAAAFAYMQ8AAACFEfMAAABQGDEPAAAAhRHzAAAAUBgxDwAAAIUR8wAA\n",
              "AFAYMQ8AAACF+X/S/NoS2QFJUwAAAABJRU5ErkJggg==\n",
              "\">\n",
              "      </div>\n",
              "      <script type=\"text/javascript\">\n",
              "        (() => {\n",
              "          const chartElement = document.getElementById(\"chart-d86dd91f-43be-471a-a3c5-22ed484816d4\");\n",
              "          async function getCodeForChartHandler(event) {\n",
              "            const chartCodeResponse =  await google.colab.kernel.invokeFunction(\n",
              "                'getCodeForChart', [\"chart-d86dd91f-43be-471a-a3c5-22ed484816d4\"], {});\n",
              "            const responseJson = chartCodeResponse.data['application/json'];\n",
              "            await google.colab.notebook.addCell(responseJson.code, 'code');\n",
              "          }\n",
              "          chartElement.onclick = getCodeForChartHandler;\n",
              "        })();\n",
              "      </script>\n",
              "      <style>\n",
              "        .colab-quickchart-chart-with-code  {\n",
              "            display: block;\n",
              "            float: left;\n",
              "            border: 1px solid transparent;\n",
              "        }\n",
              "\n",
              "        .colab-quickchart-chart-with-code:hover {\n",
              "            cursor: pointer;\n",
              "            border: 1px solid #aaa;\n",
              "        }\n",
              "      </style>"
            ]
          },
          "metadata": {}
        },
        {
          "output_type": "display_data",
          "data": {
            "text/plain": [
              "from matplotlib import pyplot as plt\n",
              "import seaborn as sns\n",
              "def _plot_series(series, series_name, series_index=0):\n",
              "  palette = list(sns.palettes.mpl_palette('Dark2'))\n",
              "  counted = (series['income']\n",
              "                .value_counts()\n",
              "              .reset_index(name='counts')\n",
              "              .rename({'index': 'income'}, axis=1)\n",
              "              .sort_values('income', ascending=True))\n",
              "  xs = counted['income']\n",
              "  ys = counted['counts']\n",
              "  plt.plot(xs, ys, label=series_name, color=palette[series_index % len(palette)])\n",
              "\n",
              "fig, ax = plt.subplots(figsize=(10, 5.2), layout='constrained')\n",
              "df_sorted = _df_4.sort_values('income', ascending=True)\n",
              "_plot_series(df_sorted, '')\n",
              "sns.despine(fig=fig, ax=ax)\n",
              "plt.xlabel('income')\n",
              "_ = plt.ylabel('count()')"
            ],
            "text/html": [
              "      <div class=\"colab-quickchart-chart-with-code\" id=\"chart-8aa8c386-c8a2-4def-9115-2fb09e428eee\">\n",
              "        <img style=\"width: 180px;\" src=\"data:image/png;base64,iVBORw0KGgoAAAANSUhEUgAAA/MAAAITCAYAAABLz0yVAAAAOnRFWHRTb2Z0d2FyZQBNYXRwbG90\n",
              "bGliIHZlcnNpb24zLjEwLjAsIGh0dHBzOi8vbWF0cGxvdGxpYi5vcmcvlHJYcgAAAAlwSFlzAAAP\n",
              "YQAAD2EBqD+naQAAI9NJREFUeJzt3X+QVfV9//HXBeIaifxIRTDisoEFDT8E5UcFMxCtVkyVRDCN\n",
              "k1IHExRnkurIpBrG0GiSYtpGEmOmg2aok2ijMUg6TLXtRJ0xKnbAH2jrjygGsqAC/uCHWkVgz/cP\n",
              "J/vtVjBs3Mvygcdj5sxwzzn37vsyn2F5cs8ealVVVQEAAACK0a2rBwAAAAA6RswDAABAYcQ8AAAA\n",
              "FEbMAwAAQGHEPAAAABRGzAMAAEBhxDwAAAAURswDAABAYQ74mL/uuuu6egQAAADoVAd8zP/2t7/t\n",
              "6hEAAACgUx3wMQ8AAAAHGjEPAAAAhRHzAAAAUBgxDwAAAIUR8wAAAFAYMQ8AAACFEfMAAABQGDEP\n",
              "AAAAhRHzAAAAUBgxDwAAAIUR8wAAAFAYMQ8AAACFEfMAAABQGDEPAAAAhRHzAAAAUBgxDwAAAIUR\n",
              "8wAAAFAYMQ8AAACFEfMAAABQGDEPAAAAhRHzAAAAUBgxDwAAAIUR8wAAAFAYMQ8AAACFEfMAAABQ\n",
              "GDEPAAAAhRHzAAAAUBgxDwAAAIUR8wAAAFAYMQ8AAACFEfMAAABQGDEPAAAAhRHzAAAAUBgxDwAA\n",
              "AIUR8wAAAFAYMQ8AAACFEfMAAABQGDEPAAAAhRHzAAAAUBgxDwAAAIUR8wAAAFAYMQ8AAACFEfMA\n",
              "AABQGDEPAAAAhRHzAAAAUBgxDwAAAIUR8wAAAFAYMQ8AAACFEfMAAABQGDEPAAAAhRHzAAAAUBgx\n",
              "DwAAAIUR8wAAAFAYMQ8AAACFEfMAAABQGDEPAAAAhRHzAAAAUBgxDwAAAIUR8wAAAFAYMQ8AAACF\n",
              "EfMAAABQmLrG/CWXXJKmpqbUarWsWrVqj+ctXrw4Q4cOzZAhQ3LhhRdmx44d7Y5XVZVTTz01ffr0\n",
              "qee4AAAAUIS6xvy5556bBx54IIMGDdrjOWvWrMn8+fNz//33Z/Xq1dm4cWNuvPHGdud873vfy5Ah\n",
              "Q+o5KgAAABSjrjE/efLkDBw48H3PWbJkSaZNm5YBAwakVqvl4osvzq233tp2/Mknn8y//Mu/5Gtf\n",
              "+9rv/Xrbt2/Ptm3b2m27du36wO8DAAAA9idd/jPzLS0t7T65b2pqSktLS5Jkx44dufDCC3PDDTek\n",
              "e/fuv/e1rrnmmvTu3bvdtmLFirrNDgAAAF2hy2P+/Vx99dWZPn16PvGJT+zV+fPmzcvWrVvbbRMm\n",
              "TKjzlAAAALBv9ejqARobG/P888+3PV67dm0aGxuTJPfdd19aWlrywx/+MDt37sy2bdvS1NSUlStX\n",
              "pl+/fu95rYaGhjQ0NLTbtzef6AMAAEBJuvyT+RkzZmTZsmXZsGFDqqrKokWLct555yVJ7r///vz2\n",
              "t7/N2rVr88ADD6RXr15Zu3btbkMeAAAADhZ1jfk5c+Zk4MCBWb9+fc4444w0NzcnSWbPnp1ly5Yl\n",
              "SQYPHpyrr746J598cpqbm9OvX7/MmTOnnmMBAABA0WpVVVVdPUQ9zZ07NwsXLuzqMQAAAKDTdPll\n",
              "9gAAAEDHiHkAAAAojJgHAACAwoh5AAAAKIyYBwAAgMKIeQAAACiMmAcAAIDCiHkAAAAojJgHAACA\n",
              "woh5AAAAKIyYBwAAgMKIeQAAACiMmAcAAIDCiHkAAAAojJgHAACAwoh5AAAAKIyYBwAAgMKIeQAA\n",
              "ACiMmAcAAIDCiHkAAAAojJgHAACAwoh5AAAAKIyYBwAAgMKIeQAAACiMmAcAAIDCiHkAAAAojJgH\n",
              "AACAwoh5AAAAKIyYBwAAgMKIeQAAACiMmAcAAIDCiHkAAAAojJgHAACAwoh5AAAAKIyYBwAAgMKI\n",
              "eQAAACiMmAcAAIDCiHkAAAAojJgHAACAwoh5AAAAKIyYBwAAgMKIeQAAACiMmAcAAIDCiHkAAAAo\n",
              "jJgHAACAwoh5AAAAKIyYBwAAgMKIeQAAACiMmAcAAIDCiHkAAAAojJgHAACAwoh5AAAAKIyYBwAA\n",
              "gMKIeQAAACiMmAcAAIDCiHkAAAAojJgHAACAwoh5AAAAKIyYBwAAgMKIeQAAACiMmAcAAIDCiHkA\n",
              "AAAojJgHAACAwoh5AAAAKIyYBwAAgMKIeQAAACiMmAcAAIDCiHkAAAAojJgHAACAwoh5AAAAKIyY\n",
              "BwAAgMKIeQAAACiMmAcAAIDCiHkAAAAojJgHAACAwoh5AAAAKIyYBwAAgMKIeQAAAChMXWP+kksu\n",
              "SVNTU2q1WlatWrXH8xYvXpyhQ4dmyJAhufDCC7Njx44kyb333psJEyZk+PDhGTFiRC6//PK0trbW\n",
              "c2QAAADY79U15s8999w88MADGTRo0B7PWbNmTebPn5/7778/q1evzsaNG3PjjTcmSfr27Zvbbrst\n",
              "Tz31VB555JEsX748P/nJT+o5MgAAAOz36hrzkydPzsCBA9/3nCVLlmTatGkZMGBAarVaLr744tx6\n",
              "661JkhNOOCGDBw9Okhx66KEZM2ZM1q5du8fX2r59e7Zt29Zu27VrV6e9HwAAANgfdPnPzLe0tLT7\n",
              "5L6pqSktLS3vOW/Dhg1ZsmRJzjrrrD2+1jXXXJPevXu321asWFGXuQEAAKCrdHnM741t27bl7LPP\n",
              "zuWXX55x48bt8bx58+Zl69at7bYJEybsw0kBAACg/np09QCNjY15/vnn2x6vXbs2jY2NbY9ff/31\n",
              "TJ06NZ/5zGcyd+7c932thoaGNDQ0tNvXvXv3zh0YAAAAuliXfzI/Y8aMLFu2LBs2bEhVVVm0aFHO\n",
              "O++8JMkbb7yRqVOnZurUqfn617/exZMCAADA/qGuMT9nzpwMHDgw69evzxlnnJHm5uYkyezZs7Ns\n",
              "2bIkyeDBg3P11Vfn5JNPTnNzc/r165c5c+YkSa677rqsWLEiS5cuzZgxYzJmzJj87d/+bT1HBgAA\n",
              "gP1eraqqqquHqKe5c+dm4cKFXT0GAAAAdJouv8weAAAA6BgxDwAAAIUR8wAAAFAYMQ8AAACFEfMA\n",
              "AABQGDEPAAAAhRHzAAAAUBgxDwAAAIUR8wAAAFAYMQ8AAACFEfMAAABQGDEPAAAAhRHzAAAAUBgx\n",
              "DwAAAIUR8wAAAFAYMQ8AAACFEfMAAABQGDEPAAAAhRHzAAAAUBgxDwAAAIUR8wAAAFAYMQ8AAACF\n",
              "EfMAAABQGDEPAAAAhRHzAAAAUBgxDwAAAIUR8wAAAFAYMQ8AAACFEfMAAABQGDEPAAAAhRHzAAAA\n",
              "UBgxDwAAAIUR8wAAAFAYMQ8AAACFEfMAAABQGDEPAAAAhRHzAAAAUBgxDwAAAIUR8wAAAFAYMQ8A\n",
              "AACFEfMAAABQGDEPAAAAhRHzAAAAUBgxDwAAAIUR8wAAAFAYMQ8AAACFEfMAAABQGDEPAAAAhRHz\n",
              "AAAAUBgxDwAAAIUR8wAAAFAYMQ8AAACFEfMAAABQGDEPAAAAhRHzAAAAUBgxDwAAAIUR8wAAAFAY\n",
              "MQ8AAACFEfMAAABQGDEPAAAAhRHzAAAAUBgxDwAAAIUR8wAAAFAYMQ8AAACF6fGHPOmpp57K+vXr\n",
              "8+EPfzijRo1Knz59OnksAAAAYE/2OuZff/31fPe7382PfvSjHHbYYenfv3/efvvtPP/885kwYUKu\n",
              "uOKK/Mmf/Ek9ZwUAAADSgZg/5ZRTcv755+exxx5L//792/a3trbm/vvvz6JFi7J69erMmTOnLoMC\n",
              "AAAA79rrmH/wwQfT0NDwnv3dunXLlClTMmXKlGzfvr1ThwMAAADea69vgLe7kP9DzgEAAAA+mL2O\n",
              "+bPOOivLly/f7bEtW7bk2muvzQ033NBpgwEAAAC7t9eX2S9YsCDz5s3LU089lfHjx7fdAO+ZZ57J\n",
              "Cy+8kC9/+cv54he/WM9ZAQAAgHQg5o8//vjceeedWbduXe67776sX78+hx12WP7iL/4in/zkJ9Oj\n",
              "xx/0v9wBAAAAHdThAt+8eXNmzpzZbt8TTzyR448/vtOGAgAAAPZsr39m/ndmzZq1V/sAAACA+tjr\n",
              "T+Y3bdqUDRs25K233sp//dd/paqqJMnWrVvz5ptv1m1AAAAAoL29jvlbb7013//+9/Piiy9m2rRp\n",
              "bft79+6dyy+/vC7DAQAAAO+11zF/6aWX5tJLL823vvWtzJ8/v54zAQAAAO+jwzfAmz9/flpbW7Nh\n",
              "w4bs3LmzbX9jY2OnDgYAAADsXodvgPfjH/84ffr0yahRozJ27NiMHTs248aN2+25l1xySZqamlKr\n",
              "1bJq1ao9vubixYszdOjQDBkyJBdeeGF27NixV8cAAADgYNThmP/mN7+ZlStX5tVXX83LL7+cl19+\n",
              "OZs2bdrtueeee24eeOCBDBo0aI+vt2bNmsyfPz/3339/Vq9enY0bN+bGG2/8vccAAADgYNXhy+yP\n",
              "OOKIHHvssXt17uTJk3/vOUuWLMm0adMyYMCAJMnFF1+cBQsW5Mtf/vL7HjuQVFWVt3a64gAAAKCe\n",
              "PtzjQ6nVal09RqfocMx/9rOfzfe///184QtfyKGHHtq2v1evXn/QAC0tLe0+uW9qakpLS8vvPbY7\n",
              "27dvz/bt29vt27Vr1x8017701s4dGXbL33T1GAAAAAe0Z2d+M4d96JCuHqNTdPgy+yuvvDJz587N\n",
              "gAED0rdv3/Tp0yd9+/atx2wdds0116R3797tthUrVnT1WAAAANCpOvzJfGtra6cO0NjYmOeff77t\n",
              "8dq1a9vujP9+x3Zn3rx5mTt3brt9Jfw3eh/u8aE8O/ObXT0GAADAAe3DPT7U1SN0mg7HfGebMWNG\n",
              "PvnJT+aqq65K//79s2jRopx33nm/99juNDQ0pKGhod2+7t2713X+zlCr1Q6YSz0AAACovw5fZt+t\n",
              "W7d07979PdvuzJkzJwMHDsz69etzxhlnpLm5OUkye/bsLFu2LEkyePDgXH311Tn55JPT3Nycfv36\n",
              "Zc6cOb/3GAAAABysalVVVR15wptvvtn267feeis/+clPsmvXrvz1X/91pw/XGebOnZuFCxd29RgA\n",
              "AADQaTr8yXzPnj3btiOOOCJz587NkiVL6jEbAAAAsBsdjvn/65lnnskrr7zSGbMAAAAAe6HDN8Dr\n",
              "27dvarVakmTnzp1Jkuuvv75zpwIAAAD2qMMxv2rVqv//5B49MmDAgCLuGA8AAAAHig7H/KBBg/I/\n",
              "//M/bVHft2/fHHbYYZ09FwAAALAHHY755cuXZ8aMGRkwYECSZOPGjbnjjjsyceLETh8OAAAAeK8O\n",
              "x/zv7l5/8sknJ3k37i+77LL853/+Z6cPBwAAALxXh+9m/9Zbb7WFfJJMmjQpb7/9dqcOBQAAAOxZ\n",
              "h2P+Ix/5SO6+++62x/fcc0969uzZqUMBAAAAe9bhy+x/8IMfZPr06W13sG9tbc3SpUs7fTAAAABg\n",
              "9zoc8y+++GIefvjhbNy4MUnSv3//rFixotMHAwAAAHavw5fZz58/P/369cvIkSMzcuTIHHHEEZk/\n",
              "f349ZgMAAAB2o8Mx/3/VarXs2rWrM2YBAAAA9kKHY/7www/P8uXL2x4/+OCDOfzwwzt1KAAAAGDP\n",
              "Ovwz83//93+fc845J8cdd1yS5LnnnssvfvGLTh8MAAAA2L0Ox/zEiRPz9NNP56GHHkry7v8z36dP\n",
              "n86eCwAAANiDDsd8kvTt2zef/vSnO3sWAAAAYC984BvgAQAAAPuWmAcAAIDCiHkAAAAojJgHAACA\n",
              "woh5AAAAKIyYBwAAgMKIeQAAACiMmAcAAIDCiHkAAAAojJgHAACAwoh5AAAAKIyYBwAAgMKIeQAA\n",
              "ACiMmAcAAIDCiHkAAAAojJgHAACAwoh5AAAAKIyYBwAAgMKIeQAAACiMmAcAAIDCiHkAAAAojJgH\n",
              "AACAwoh5AAAAKIyYBwAAgMKIeQAAACiMmAcAAIDCiHkAAAAojJgHAACAwoh5AAAAKIyYBwAAgMKI\n",
              "eQAAACiMmAcAAIDCiHkAAAAojJgHAACAwoh5AAAAKIyYBwAAgMKIeQAAACiMmAcAAIDCiHkAAAAo\n",
              "jJgHAACAwoh5AAAAKIyYBwAAgMKIeQAAACiMmAcAAIDCiHkAAAAojJgHAACAwoh5AAAAKIyYBwAA\n",
              "gMKIeQAAACiMmAcAAIDCiHkAAAAojJgHAACAwoh5AAAAKIyYBwAAgMKIeQAAACiMmAcAAIDCiHkA\n",
              "AAAojJgHAACAwoh5AAAAKIyYBwAAgMKIeQAAACiMmAcAAIDC1DXmn3vuuUyaNCnDhg3L+PHj8+ST\n",
              "T77nnNbW1nz1q1/NyJEjc9xxx+VLX/pS3nnnnbbjf/d3f5fhw4dnzJgxOemkk7JixYp6jgwAAAD7\n",
              "vbrG/Jw5c3LRRRfl2WefzRVXXJFZs2a955zFixfn0UcfzaOPPpqnn3463bp1y3XXXZckWbVqVf7x\n",
              "H/8xK1asyKpVq/KVr3wlX/nKV+o5MgAAAOz36hbzmzZtysMPP5yZM2cmSWbMmJF169Zl9erV7c57\n",
              "/PHHc9ppp+WQQw5JrVbLmWeemZtvvjlJUqvVsmPHjrz55ptJki1btmTgwIF7/Jrbt2/Ptm3b2m27\n",
              "du2q0zsEAACArlG3mF+3bl2OOuqo9OjRI8m7Yd7Y2JiWlpZ2540dOzbLli3Ltm3bsmPHjtx+++1Z\n",
              "u3ZtkmT06NG57LLL8vGPfzwDBw7M9773vVx//fV7/JrXXHNNevfu3W5zWT4AAAAHmi6/Ad6sWbMy\n",
              "derUTJkyJVOmTMmwYcPa/gFgzZo1Wbp0aVavXp3169fnsssuy+c///k9vta8efOydevWdtuECRP2\n",
              "1VsBAACAfaJuMX/MMcfkpZdeys6dO5MkVVWlpaUljY2N7c6r1Wq56qqr8thjj2X58uUZPnx4RowY\n",
              "kSS54447MmrUqHzsYx9LklxwwQV58MEH290g739raGhIr1692m3du3ev11sEAACALlG3mD/yyCNz\n",
              "4okn5pZbbknybpgPHDgwzc3N7c57++23s3nz5iTJK6+8ku985zu5/PLLkySDBw/Ogw8+mDfeeCNJ\n",
              "8q//+q8ZNmxYDjnkkHqNDQAAAPu9HvV88RtuuCGzZs3KggUL0qtXr9x0001JktmzZ2fatGmZNm1a\n",
              "tm7dmk996lPp1q1bWltbc+mll+bss89OkpxzzjlZuXJlxo0bl4aGhvTs2TM//elP6zkyAAAA7Pdq\n",
              "VVVVXT1EPc2dOzcLFy7s6jEAAACg03T5DfAAAACAjhHzAAAAUBgxDwAAAIUR8wAAAFAYMQ8AAACF\n",
              "EfMAAABQGDEPAAAAhRHzAAAAUBgxDwAAAIUR8wAAAFAYMQ8AAACFEfMAAABQGDEPAAAAhRHzAAAA\n",
              "UBgxDwAAAIUR8wAAAFAYMQ8AAACFEfMAAABQGDEPAAAAhRHzAAAAUBgxDwAAAIUR8wAAAFAYMQ8A\n",
              "AACFEfMAAABQGDEPAAAAhRHzAAAAUBgxDwAAAIUR8wAAAFAYMQ8AAACFEfMAAABQGDEPAAAAhRHz\n",
              "AAAAUBgxDwAAAIUR8wAAAFAYMQ8AAACFEfMAAABQGDEPAAAAhRHzAAAAUBgxDwAAAIUR8wAAAFAY\n",
              "MQ8AAACFEfMAAABQGDEPAAAAhRHzAAAAUBgxDwAAAIUR8wAAAFAYMQ8AAACFEfMAAABQGDEPAAAA\n",
              "hRHzAAAAUBgxDwAAAIUR8wAAAFAYMQ8AAACFEfMAAABQGDEPAAAAhRHzAAAAUBgxDwAAAIUR8wAA\n",
              "AFAYMQ8AAACFEfMAAABQGDEPAAAAhRHzAAAAUBgxDwAAAIUR8wAAAFAYMQ8AAACFEfMAAABQGDEP\n",
              "AAAAhRHzAAAAUBgxDwAAAIUR8wAAAFAYMQ8AAACFEfMAAABQGDEPAAAAhRHzAAAAUBgxDwAAAIUR\n",
              "8wAAAFAYMQ8AAACFEfMAAABQmLrG/HPPPZdJkyZl2LBhGT9+fJ588sn3nNPa2pqvfvWrGTlyZI47\n",
              "7rh86UtfyjvvvNN2vKWlJWeffXaOPfbYDB8+PNdff309RwYAAID9Xl1jfs6cObnooovy7LPP5oor\n",
              "rsisWbPec87ixYvz6KOP5tFHH83TTz+dbt265brrrkuSVFWVc845J+eff35+/etf56mnnsqf//mf\n",
              "13NkAAAA2O/VLeY3bdqUhx9+ODNnzkySzJgxI+vWrcvq1avbnff444/ntNNOyyGHHJJarZYzzzwz\n",
              "N998c5LknnvuSUNDQz73uc+1nd+/f/89fs3t27dn27Zt7bZdu3bV4d0BAABA16lbzK9bty5HHXVU\n",
              "evTokSSp1WppbGxMS0tLu/PGjh2bZcuWZdu2bdmxY0duv/32rF27Nkny1FNPpV+/fjnvvPNywgkn\n",
              "5JxzzslvfvObPX7Na665Jr179263rVixol5vEQAAALpEl98Ab9asWZk6dWqmTJmSKVOmZNiwYW3/\n",
              "ALBz587ce++9mT9/fh577LGcccYZ73uZ/bx587J169Z224QJE/bVWwEAAIB9om4xf8wxx+Sll17K\n",
              "zp07k7z78+8tLS1pbGxsd16tVstVV12Vxx57LMuXL8/w4cMzYsSIJEljY2NOOOGEtsd/+Zd/mUcf\n",
              "fTQ7duzY7ddsaGhIr1692m3du3ev11sEAACALlG3mD/yyCNz4okn5pZbbkmS3HHHHRk4cGCam5vb\n",
              "nff2229n8+bNSZJXXnkl3/nOd3L55ZcnSc4888ysX78+L7zwQpLkrrvuyic+8Yl86EMfqtfYAAAA\n",
              "sN/rUc8Xv+GGGzJr1qwsWLAgvXr1yk033ZQkmT17dqZNm5Zp06Zl69at+dSnPpVu3bqltbU1l156\n",
              "ac4+++wkSc+ePbNo0aL82Z/9WaqqSu/evXPbbbfVc2QAAADY79Wqqqq6eoh6mjt3bhYuXNjVYwAA\n",
              "AECn6fIb4AEAAAAdI+YBAACgMGIeAAAACiPmAQAAoDBiHgAAAAoj5gEAAKAwYh4AAAAKI+YBAACg\n",
              "MGIeAAAACiPmAQAAoDBiHgAAAAoj5gEAAKAwYh4AAAAKI+YBAACgMGIeAAAACiPmAQAAoDBiHgAA\n",
              "AAoj5gEAAKAwYh4AAAAKI+YBAACgMGIeAAAACiPmAQAAoDBiHgAAAAoj5gEAAKAwYh4AAAAKI+YB\n",
              "AACgMGIeAAAACiPmAQAAoDBiHgAAAAoj5gEAAKAwYh4AAAAKI+YBAACgMGIeAAAACiPmAQAAoDBi\n",
              "HgAAAAoj5gEAAKAwYh4AAAAKI+YBAACgMGIeAAAACiPmAQAAoDBiHgAAAAoj5gEAAKAwYh4AAAAK\n",
              "I+YBAACgMGIeAAAACiPmAQAAoDBiHgAAAAoj5gEAAKAwYh4AAAAKI+YBAACgMGIeAAAACiPmAQAA\n",
              "oDBiHgAAAAoj5gEAAKAwYh4AAAAKI+YBAACgMGIeAAAACiPmAQAAoDBiHgAAAAoj5gEAAKAwtaqq\n",
              "qq4eop6mT5+epqamrh6D/cyuXbuyYsWKTJgwId27d+/qcThAWWfUmzXGvmCdUW/WGPtCaets0KBB\n",
              "ufTSS9/3nAM+5mF3tm3blt69e2fr1q3p1atXV4/DAco6o96sMfYF64x6s8bYFw7EdeYyewAAACiM\n",
              "mAcAAIDCiHkAAAAojJjnoNTQ0JBvfOMbaWho6OpROIBZZ9SbNca+YJ1Rb9YY+8KBuM7cAA8AAAAK\n",
              "45N5AAAAKIyYBwAAgMKIeQAAACiMmKdIr776asaMGdO2DRs2LD169Mhrr72WTZs2ZerUqRk6dGhG\n",
              "jhyZX/3qV23Pq8cxDmx33XVXTjzxxIwZMyYjR47Mj3/84yT1WUvW2cHp3//93zNu3Lgcf/zxOemk\n",
              "k/L4448nscb4YC655JI0NTWlVqtl1apVbfufe+65TJo0KcOGDcv48ePz5JNPdtkxyranNban/Yk1\n",
              "Rsftbj29/fbb+exnP5thw4Zl9OjROf3007N69eq25xxU3z8rOAD8wz/8Q3XWWWdVVVVVF1xwQfWN\n",
              "b3yjqqqqWrFiRXX00UdX77zzTt2OceBqbW2t+vbtWz3++ONVVVXVmjVrqoaGhmrbtm3WGZ3itdde\n",
              "qz760Y9W//3f/11VVVX96le/qkaMGFFVlT/L+GDuu+++at26ddWgQYOqxx57rG3/KaecUt10001V\n",
              "VVXVz3/+82rcuHFddoyy7WmN7Wl/VVljdNzu1tNbb71V3XnnnVVra2tVVVV1/fXXV1OmTGl7zsH0\n",
              "/VPMc0A47rjjql/84hdVVVVVz549q5deeqnt2Pjx46tf/vKXdTvGgau1tbX66Ec/Wt13331VVVXV\n",
              "448/Xn3sYx+rtm/fbp3RKVauXFkNHTq03b7DDz+8euSRR6wxOsX//gvwxo0bq8MPP7zasWNHVVXv\n",
              "/hnXv3//6rnnntvnxzhw7C7ad7ffGuOD2NM6q6p3v5cOGjSo7fHB9P2zR1dfGQAf1PLly7N58+ac\n",
              "ddZZefXVV7Njx44MGDCg7XhTU1NaWlrqcowDW61Wy89+9rNMnz49PXv2zObNm7N06dK8/vrr1hmd\n",
              "YujQoXn11VezfPnyTJo0KcuWLcvrr7+eNWvWWGN0unXr1uWoo45Kjx7v/vWvVqulsbExLS0t6d27\n",
              "9z491tzc3AW/A3Slfb3+rLGDx3XXXZfPfOYzSXLQtYCYp3iLFy/O+eef3/YHOXSWnTt35tvf/naW\n",
              "Ll2ayZMnZ+XKlZk2bdp7fgYQ/lC9e/fOkiVLMm/evLzxxhuZOHFihg8fnjfeeKOrRwOA/d6CBQuy\n",
              "evXq3HPPPV09SpdwAzyK9sYbb+T222/PF7/4xSTJH/3RH6VHjx7ZsGFD2zlr165NY2NjXY5xYFu1\n",
              "alVefPHFTJ48OUkyfvz4DBw4ME888YR1Rqc55ZRTct999+WRRx7JtddemxdffDEnn3yyNUanO+aY\n",
              "Y/LSSy9l586dSZKqqtLS0pLGxsZ9foyDjzVGZ/vud7+bpUuX5t/+7d9y2GGHJTn4WkDMU7Sf/exn\n",
              "GT16dI477ri2fZ/73OeyaNGiJMnKlSvzwgsvZMqUKXU7xoHrd39JePrpp5Mkq1evzvPPP59jjz3W\n",
              "OqPTvPTSS22//ta3vpVTTz01zc3N1hid7sgjj8yJJ56YW265JUlyxx13ZODAgWlubt7nxzj4WGN0\n",
              "poULF+bWW2/NL3/5y/Tp06fdsYPq+2eX/bQ+dIKJEydW//RP/9Ru34YNG6rTTz+9am5uroYPH17d\n",
              "e++9dT3Gge2nP/1pNXLkyOr444+vRo4cWf3zP/9zVVXWGZ1n9uzZ1bHHHlsNGTKkmjlzZrV58+aq\n",
              "qqwxPpiLLrqoOvroo6vu3btXRx55ZDVkyJCqqqrqmWeeqU466aRq6NCh1dixY6snnnii7Tn7+hhl\n",
              "29Ma29P+qrLG6Ljdrad169ZVSarBgwdXo0ePrkaPHl1NmDCh7TkH0/fPWlVVVVf/gwIAAACw91xm\n",
              "DwAAAIUR8wAAAFAYMQ8AAACFEfMAcJAYM2ZMXn/99a4eAwDoBG6ABwAAAIXxyTwAHCRqtVq2bNmS\n",
              "JGlqasrf/M3fZOLEifn4xz+eb3/7223nvfDCCzn33HMzatSoHH/88Zk/f36SZNOmTZk+fXpGjRqV\n",
              "kSNH5oYbbmh7TlNTU77+9a9n0qRJOeaYY7Jo0aLcdNNNmThxYpqamnLbbbe1nbty5cqceuqpGTdu\n",
              "XE444YT8/Oc/3ze/AQBwAOnR1QMAAF1jy5Yteeihh/LKK69kyJAhueCCC3L00Udn5syZ+dM//dMs\n",
              "WbIkSfLyyy8nSf7qr/4qxx57bJYuXZpNmzZl7NixGT16dE466aQkyZtvvpnly5dn9erVGTVqVK68\n",
              "8so89NBDWblyZT796U/nvPPOy5YtW3LRRRflrrvuylFHHZVXXnklJ554YiZNmpSjjz66y34vAKA0\n",
              "Yh4ADlJf+MIXkiRHHHFEBg8enDVr1qR379554IEH8h//8R9t5/Xr1y9Jcvfdd+eRRx5Jkhx55JGZ\n",
              "Pn167r777raY//znP58kaW5uzqGHHppzzz03STJu3Li89tpr2bJlS5YvX57f/OY3OfPMM9vN8utf\n",
              "/1rMA0AHiHkAOEgdeuihbb/u3r17du7c2aHn12q193293z2u1Wqp1WrZuXNnqqrKiBEjsnz58g8w\n",
              "OQDgZ+YBgDYf+chHMnny5Fx77bVt+353mf1pp52WH/3oR237li5dmtNPP71Drz9p0qSsWbMmd999\n",
              "d9u+VatW5Z133umE6QHg4CHmAYB2br755jz88MMZMWJExowZkx/+8IdJkh/84Ad5+umnM2rUqJxy\n",
              "yim58sor88d//Mcdeu2+ffvmzjvvzIIFCzJ69OgMHz48X/va19La2lqPtwIAByz/NR0AAAAUxifz\n",
              "AAAAUBgxDwAAAIUR8wAAAFAYMQ8AAACFEfMAAABQGDEPAAAAhRHzAAAAUBgxDwAAAIUR8wAAAFAY\n",
              "MQ8AAACF+X8ltiOcEkEmwgAAAABJRU5ErkJggg==\n",
              "\">\n",
              "      </div>\n",
              "      <script type=\"text/javascript\">\n",
              "        (() => {\n",
              "          const chartElement = document.getElementById(\"chart-8aa8c386-c8a2-4def-9115-2fb09e428eee\");\n",
              "          async function getCodeForChartHandler(event) {\n",
              "            const chartCodeResponse =  await google.colab.kernel.invokeFunction(\n",
              "                'getCodeForChart', [\"chart-8aa8c386-c8a2-4def-9115-2fb09e428eee\"], {});\n",
              "            const responseJson = chartCodeResponse.data['application/json'];\n",
              "            await google.colab.notebook.addCell(responseJson.code, 'code');\n",
              "          }\n",
              "          chartElement.onclick = getCodeForChartHandler;\n",
              "        })();\n",
              "      </script>\n",
              "      <style>\n",
              "        .colab-quickchart-chart-with-code  {\n",
              "            display: block;\n",
              "            float: left;\n",
              "            border: 1px solid transparent;\n",
              "        }\n",
              "\n",
              "        .colab-quickchart-chart-with-code:hover {\n",
              "            cursor: pointer;\n",
              "            border: 1px solid #aaa;\n",
              "        }\n",
              "      </style>"
            ]
          },
          "metadata": {}
        },
        {
          "output_type": "display_data",
          "data": {
            "text/plain": [
              "from matplotlib import pyplot as plt\n",
              "import seaborn as sns\n",
              "def _plot_series(series, series_name, series_index=0):\n",
              "  palette = list(sns.palettes.mpl_palette('Dark2'))\n",
              "  counted = (series['target']\n",
              "                .value_counts()\n",
              "              .reset_index(name='counts')\n",
              "              .rename({'index': 'target'}, axis=1)\n",
              "              .sort_values('target', ascending=True))\n",
              "  xs = counted['target']\n",
              "  ys = counted['counts']\n",
              "  plt.plot(xs, ys, label=series_name, color=palette[series_index % len(palette)])\n",
              "\n",
              "fig, ax = plt.subplots(figsize=(10, 5.2), layout='constrained')\n",
              "df_sorted = _df_5.sort_values('target', ascending=True)\n",
              "_plot_series(df_sorted, '')\n",
              "sns.despine(fig=fig, ax=ax)\n",
              "plt.xlabel('target')\n",
              "_ = plt.ylabel('count()')"
            ],
            "text/html": [
              "      <div class=\"colab-quickchart-chart-with-code\" id=\"chart-f74b7d5f-5c3f-42f2-b965-8e09afdc6e15\">\n",
              "        <img style=\"width: 180px;\" src=\"data:image/png;base64,iVBORw0KGgoAAAANSUhEUgAAA/MAAAITCAYAAABLz0yVAAAAOnRFWHRTb2Z0d2FyZQBNYXRwbG90\n",
              "bGliIHZlcnNpb24zLjEwLjAsIGh0dHBzOi8vbWF0cGxvdGxpYi5vcmcvlHJYcgAAAAlwSFlzAAAP\n",
              "YQAAD2EBqD+naQAAL1hJREFUeJzt3X+wV3WB//HXh4te0vihUyosCzcUuiECF5LQUvwZyKQguSsz\n",
              "9oMVE4YanfBHMa2u5a5YaxRrueVik9ks6RSRWUxjtjkou5JeISfFldYLUZpadG+gF++Fz/cPp/vd\n",
              "u/zQi/dyfePjMXMmP5/zPufzfs+csXn6+ZxzK9VqtRoAAACgGH16ewIAAABA14h5AAAAKIyYBwAA\n",
              "gMKIeQAAACiMmAcAAIDCiHkAAAAojJgHAACAwoh5AAAAKMybOuaXLl3a21MAAACALntTx/ymTZt6\n",
              "ewoAAADQZW/qmAcAAIASiXkAAAAojJgHAACAwoh5AAAAKIyYBwAAgMKIeQAAACiMmAcAAIDCiHkA\n",
              "AAAojJgHAACAwoh5AAAAKIyYBwAAgMKIeQAAACiMmAcAAIDCiHkAAAAojJgHAACAwoh5AAAAKIyY\n",
              "BwAAgML0WMy3trZm5syZGTVqVMaNG5ezzz47Gzdu3G3ctm3bMnXq1LztbW/LoEGDdtt/zz33pL6+\n",
              "PiNHjsysWbPS0tLymvYBAADAwapHv5m/9NJL8+STT2b9+vWZMWNGLrnkkt3GHHLIIfnUpz6Vn/70\n",
              "p7vt27ZtW+bOnZuVK1fmqaeeypAhQ3L99de/6j4AAAA4mPVYzPfr1y/Tp09PpVJJkkyePDlNTU27\n",
              "jautrc0ZZ5yxx2/lV61alYaGhtTX1ydJFixYkOXLl7/qvj3ZsWNHWlpaOm07d+58nasEAACAA++A\n",
              "3TO/dOnSzJgxo0vHbN68OcOHD+94XVdXl2eeeSbt7e373LcnixcvzsCBAztta9eu3b/FAAAAQC86\n",
              "IDF/ww03ZOPGjVm8ePGB+Lg9WrRoUZqbmzttkyZN6rX5AAAAwP7q8Zi/6aabsmLFiqxatSqHHXZY\n",
              "l44dNmxYNm3a1PG6qakpgwcPTt++ffe5b09qa2szYMCATltNTc3+LQoAAAB6UY/G/JIlS7J8+fLc\n",
              "e++9e7wn/tVMmzYtjY2N2bBhQ5LklltuyezZs191HwAAABzM9vw1djfYsmVLrrjiiowYMSKnn356\n",
              "kle+HX/ooYdy7bXXZsiQIZk/f36SZOzYsXn++efT0tKSoUOH5vTTT88dd9yR/v37Z9myZZk5c2ba\n",
              "29szZsyY3H777Umyz30AAABwMKtUq9Vqb0+ityxcuDBLlizp7WkAAABAlxywp9kDAAAA3UPMAwAA\n",
              "QGHEPAAAABRGzAMAAEBhxDwAAAAURswDAABAYcQ8AAAAFEbMAwAAQGHEPAAAABRGzAMAAEBhxDwA\n",
              "AAAURswDAABAYcQ8AAAAFEbMAwAAQGHEPAAAABRGzAMAAEBhxDwAAAAURswDAABAYcQ8AAAAFEbM\n",
              "AwAAQGHEPAAAABRGzAMAAEBhxDwAAAAURswDAABAYcQ8AAAAFEbMAwAAQGHEPAAAABRGzAMAAEBh\n",
              "xDwAAAAURswDAABAYcQ8AAAAFEbMAwAAQGHEPAAAABRGzAMAAEBhxDwAAAAURswDAABAYcQ8AAAA\n",
              "FEbMAwAAQGHEPAAAABRGzAMAAEBhxDwAAAAURswDAABAYcQ8AAAAFEbMAwAAQGHEPAAAABSmx2K+\n",
              "tbU1M2fOzKhRozJu3LicffbZ2bhx4x7H3nPPPamvr8/IkSMza9astLS0JEl+8pOfZPz48R3bkCFD\n",
              "MmHChI7jKpVKTjjhhI79q1ev7qnlAAAAwBtGpVqtVnvixK2trfnZz36Wc845J5VKJV/5ylfy3e9+\n",
              "Nz//+c87jdu2bVuOPfbY3H///amvr88nPvGJvOUtb8k///M/73bOD3zgAzn99NNzxRVXvDL5SiVb\n",
              "t27NoEGD9muOCxcuzJIlS/brWAAAAOgtPfbNfL9+/TJ9+vRUKpUkyeTJk9PU1LTbuFWrVqWhoSH1\n",
              "9fVJkgULFmT58uW7jfvd736X++67Lx/+8Id7asoAAABQhL4H6oOWLl2aGTNm7Pb+5s2bM3z48I7X\n",
              "dXV1eeaZZ9Le3p6+ff//9L75zW9m+vTpOeqoozodf+aZZ6a9vT1nnnlmrr/++hx++OF7/PwdO3Zk\n",
              "x44dnd7buXPn61kSAAAA9IoD8gC8G264IRs3bszixYv36/hqtZpvfOMbmTt3bqf3N23alEceeSRr\n",
              "1qzJ888/n6uuumqv51i8eHEGDhzYaVu7du1+zQcAAAB6U4/H/E033ZQVK1Zk1apVOeyww3bbP2zY\n",
              "sGzatKnjdVNTUwYPHtzpW/n7778/ra2tmTp16m7HJsnhhx+eBQsW7PMBeIsWLUpzc3OnbdKkSa93\n",
              "eQAAAHDA9WjML1myJMuXL8+9996714fUTZs2LY2NjdmwYUOS5JZbbsns2bM7jbntttsyZ86c1NTU\n",
              "dLy3devWvPjii0mSXbt25c4770xDQ8Ne51JbW5sBAwZ02v73+QAAAKAUPXbP/JYtW3LFFVdkxIgR\n",
              "Of3005O8EtQPPfRQrr322gwZMiTz589P//79s2zZssycOTPt7e0ZM2ZMbr/99o7zNDc3Z8WKFXns\n",
              "scc6nX/Dhg2ZN29eKpVK2tvbM2HChCxdurSnlgMAAABvGD32p+lK4E/TAQAAUKID8gA8AAAAoPuI\n",
              "eQAAACiMmAcAAIDCiHkAAAAojJgHAACAwoh5AAAAKIyYBwAAgMKIeQAAACiMmAcAAIDCiHkAAAAo\n",
              "jJgHAACAwoh5AAAAKIyYBwAAgMKIeQAAACiMmAcAAIDCiHkAAAAojJgHAACAwoh5AAAAKIyYBwAA\n",
              "gMKIeQAAACiMmAcAAIDCiHkAAAAojJgHAACAwoh5AAAAKIyYBwAAgMKIeQAAACiMmAcAAIDCiHkA\n",
              "AAAojJgHAACAwoh5AAAAKIyYBwAAgMKIeQAAACiMmAcAAIDCiHkAAAAojJgHAACAwoh5AAAAKIyY\n",
              "BwAAgMKIeQAAACiMmAcAAIDCiHkAAAAojJgHAACAwoh5AAAAKIyYBwAAgMKIeQAAACiMmAcAAIDC\n",
              "iHkAAAAoTI/FfGtra2bOnJlRo0Zl3LhxOfvss7Nx48Y9jr3nnntSX1+fkSNHZtasWWlpaUmSNDU1\n",
              "paamJuPHj+/Yfv3rX7/qcQAAAHAw69Fv5i+99NI8+eSTWb9+fWbMmJFLLrlktzHbtm3L3Llzs3Ll\n",
              "yjz11FMZMmRIrr/++o79/fv3z7p16zq2Y4899jUdBwAAAAerHov5fv36Zfr06alUKkmSyZMnp6mp\n",
              "abdxq1atSkNDQ+rr65MkCxYsyPLly1/1/F09bseOHWlpaem07dy5cz9WBgAAAL3rgN0zv3Tp0syY\n",
              "MWO39zdv3pzhw4d3vK6rq8szzzyT9vb2JMn27dtz4oknZsKECfnc5z7XEeCvdtz/tXjx4gwcOLDT\n",
              "tnbt2u5cIgAAABwQByTmb7jhhmzcuDGLFy/u0nGDBw/Ob3/72/ziF7/IT3/606xevTpf/OIX92sO\n",
              "ixYtSnNzc6dt0qRJ+3UuAAAA6E09HvM33XRTVqxYkVWrVuWwww7bbf+wYcOyadOmjtdNTU0ZPHhw\n",
              "+vbtm9ra2hx11FFJkiOPPDIXX3xxVq9e/arH7UltbW0GDBjQaaupqenOpQIAAMAB0aMxv2TJkixf\n",
              "vjz33ntvBg0atMcx06ZNS2NjYzZs2JAkueWWWzJ79uwkyXPPPZe2trYkr9zzvmLFijQ0NLzqcQAA\n",
              "AHAw2/PX2N1gy5YtueKKKzJixIicfvrpSV75dvyhhx7KtddemyFDhmT+/Pnp379/li1blpkzZ6a9\n",
              "vT1jxozJ7bffniR54IEHcu2116ampibt7e0544wz8pnPfCZJ9nkcAAAAHMwq1Wq12tuT6C0LFy7M\n",
              "kiVLensaAAAA0CUH7Gn2AAAAQPcQ8wAAAFAYMQ8AAACFEfMAAABQGDEPAAAAhRHzAAAAUBgxDwAA\n",
              "AIUR8wAAAFAYMQ8AAACFEfMAAABQGDEPAAAAhRHzAAAAUBgxDwAAAIUR8wAAAFAYMQ8AAACFEfMA\n",
              "AABQGDEPAAAAhRHzAAAAUBgxDwAAAIUR8wAAAFAYMQ8AAACFEfMAAABQGDEPAAAAhRHzAAAAUBgx\n",
              "DwAAAIUR8wAAAFAYMQ8AAACFEfMAAABQGDEPAAAAhRHzAAAAUBgxDwAAAIUR8wAAAFAYMQ8AAACF\n",
              "EfMAAABQGDEPAAAAhRHzAAAAUBgxDwAAAIUR8wAAAFAYMQ8AAACFEfMAAABQGDEPAAAAhRHzAAAA\n",
              "UBgxDwAAAIUR8wAAAFAYMQ8AAACFEfMAAABQmB6L+dbW1sycOTOjRo3KuHHjcvbZZ2fjxo17HHvP\n",
              "Pfekvr4+I0eOzKxZs9LS0pIkeeyxx3Lqqaemvr4+Y8aMycUXX5yXXnqp47hKpZITTjgh48ePz/jx\n",
              "47N69eqeWg4AAAC8YfToN/OXXnppnnzyyaxfvz4zZszIJZdcstuYbdu2Ze7cuVm5cmWeeuqpDBky\n",
              "JNdff32SpF+/fvnKV76SDRs2ZP369dm+fXs+//nPdzp+9erVWbduXdatW5dTTjmlJ5cDAAAAbwg9\n",
              "FvP9+vXL9OnTU6lUkiSTJ09OU1PTbuNWrVqVhoaG1NfXJ0kWLFiQ5cuXJ0lGjhyZsWPHJklqampy\n",
              "4okn7vEcr8WOHTvS0tLSadu5c+d+nQsAAAB60wG7Z37p0qWZMWPGbu9v3rw5w4cP73hdV1eXZ555\n",
              "Ju3t7Z3Gbd++PcuWLdvtHGeeeWbGjRuXhQsXZvv27Xv9/MWLF2fgwIGdtrVr177OVQEAAMCBd0Bi\n",
              "/oYbbsjGjRuzePHi/Tr+5ZdfzoUXXpj3v//9Of/88zve37RpUx555JGsWbMmzz//fK666qq9nmPR\n",
              "okVpbm7utE2aNGm/5gMAAAC9qcdj/qabbsqKFSuyatWqHHbYYbvtHzZsWDZt2tTxuqmpKYMHD07f\n",
              "vn2TJG1tbbnwwgszePDgLF26dLdjk+Twww/PggUL9vkAvNra2gwYMKDTVlNT0x1LBAAAgAOqR2N+\n",
              "yZIlWb58ee69994MGjRoj2OmTZuWxsbGbNiwIUlyyy23ZPbs2UmS9vb2zJ49O0ceeWRuvfXWjvvv\n",
              "k2Tr1q158cUXkyS7du3KnXfemYaGhp5cDgAAALwh9O2pE2/ZsiVXXHFFRowYkdNPPz3JK9+OP/TQ\n",
              "Q7n22mszZMiQzJ8/P/3798+yZcsyc+bMtLe3Z8yYMbn99tuTJHfeeWdWrFiRsWPHdoT6e9/73nz1\n",
              "q1/Nhg0bMm/evFQqlbS3t2fChAm7fXMPAAAAB6NKtVqt9vYkesvChQuzZMmS3p4GAAAAdMkBe5o9\n",
              "AAAA0D3EPAAAABRGzAMAAEBhxDwAAAAURswDAABAYcQ8AAAAFEbMAwAAQGHEPAAAABRGzAMAAEBh\n",
              "xDwAAAAURswDAABAYcQ8AAAAFEbMAwAAQGHEPAAAABRGzAMAAEBhxDwAAAAURswDAABAYcQ8AAAA\n",
              "FEbMAwAAQGHEPAAAABRGzAMAAEBhxDwAAAAURswDAABAYcQ8AAAAFEbMAwAAQGHEPAAAABRGzAMA\n",
              "AEBhxDwAAAAURswDAABAYcQ8AAAAFEbMAwAAQGH67s9Bjz/+eLZs2ZK3vOUtOeGEEzJo0KBunhYA\n",
              "AACwN6855v/85z/npptuyr/927/lsMMOy9FHH53W1tb8+te/zqRJk/KpT30qZ555Zk/OFQAAAEgX\n",
              "Yv7000/PRz7ykTz66KM5+uijO97ftWtXVq9ena997WvZuHFj5s2b1yMTBQAAAF7xmmP+wQcfTG1t\n",
              "7W7v9+nTJ1OmTMmUKVOyY8eObp0cAAAAsLvX/AC8PYX8/owBAAAAXp/XHPMf+MAHsmbNmj3u+9Of\n",
              "/pQvfvGL+frXv95tEwMAAAD27DX/zP6GG27IokWL8vjjj+fEE0/seADehg0b8tvf/jYf//jHc/HF\n",
              "F/fkXAEAAIB0IebHjh2bH/3oR/nNb36T+++/P1u2bMlhhx2Wiy66KO973/vSt+9+/ZU7AAAAoIu6\n",
              "XOBbt27Nhz70oU7v/fKXv8zYsWO7bVIAAADA3r3me+b/Ys6cOa/pPQAAAKBnvOZv5p977rk8++yz\n",
              "eemll/LYY4+lWq0mSZqbm7N9+/YemyAAAADQ2WuO+eXLl+fLX/5yfve73+W8887reH/gwIG5+uqr\n",
              "e2RyAAAAwO5ec8xffvnlufzyy3P99dfnmmuu6ck5AQAAAPvQ5QfgXXPNNdm1a1eeffbZtLe3d7w/\n",
              "bNiwbp0YAAAAsGddfgDe7bffnkGDBuWEE07IxIkTM3HixLz73e/ebVxra2tmzpyZUaNGZdy4cTn7\n",
              "7LOzcePGPZ7znnvuSX19fUaOHJlZs2alpaXlde8DAACAg1WXY/5zn/tcfvGLX+QPf/hDnn/++Tz/\n",
              "/PN57rnn9jj20ksvzZNPPpn169dnxowZueSSS3Ybs23btsydOzcrV67MU089lSFDhuT6669/XfsA\n",
              "AADgYNblmH/b296Wd77zna86rl+/fpk+fXoqlUqSZPLkyWlqatpt3KpVq9LQ0JD6+vokyYIFC7J8\n",
              "+fLXtQ8AAAAOZl2O+ZkzZ+bLX/5ynnvuubS0tHRsr2bp0qWZMWPGbu9v3rw5w4cP73hdV1eXZ555\n",
              "Ju3t7fu9b0927NjRab4tLS3ZuXNnV5YOAAAAbwhdfgDeZz7zmSTJwoULU6lUUq1WU6lU9hnGN9xw\n",
              "QzZu3Jj77rtv/2f6Oi1evDif/exnO703efLkXpoNAAAA7L8ufzO/a9eujm3nzp0d/7s3N910U1as\n",
              "WJFVq1blsMMO223/sGHDsmnTpo7XTU1NGTx4cPr27bvf+/Zk0aJFaW5u7rRNmjSpq8sHAACAXtfl\n",
              "mO+KJUuWZPny5bn33nszaNCgPY6ZNm1aGhsbs2HDhiTJLbfcktmzZ7+ufXtSW1ubAQMGdNpqamq6\n",
              "a6kAAABwwHT5Z/Z9+vTpeKjd//Z/v53fsmVLrrjiiowYMSKnn356kleC+qGHHsq1116bIUOGZP78\n",
              "+enfv3+WLVuWmTNnpr29PWPGjMntt9+eJPu9DwAAAA5mlWq1Wu3KAdu3b+/455deeinf+ta3snPn\n",
              "zlx11VXdPrmetnDhwixZsqS3pwEAAABd0uWf2R9++OEd29ve9rYsXLgw3/3ud3tibgAAAMAevO57\n",
              "5jds2JAXXnihO+YCAAAAvAZdvmf+iCOO6Lhn/i9/0/3mm2/u3lkBAAAAe9XlmF+3bt3/P7hv3xxz\n",
              "zDGeCg8AAAAHUJdjfvjw4XnxxRc7ov6II47Y49+PBwAAAHpGl2N+zZo1+eAHP5hjjjkmSfL73/8+\n",
              "3/ve93LSSSd1++QAAACA3XU55v/y9Pr3vve9SV6J+09+8pP5r//6r26fHAAAALC7Lj/N/qWXXuoI\n",
              "+SQ5+eST09ra2q2TAgAAAPauyzH/1re+NT/96U87Xt933305/PDDu3VSAAAAwN51+Wf2//Iv/5JZ\n",
              "s2Z1PMF+165dWbFiRbdPDAAAANizLsf87373uzz88MP5/e9/nyQ5+uijs3bt2m6fGAAAALBnXf6Z\n",
              "/TXXXJO3v/3tGTNmTMaMGZO3ve1tueaaa3pibgAAAMAedDnm/69KpZKdO3d2x1wAAACA16DLMd+/\n",
              "f/+sWbOm4/WDDz6Y/v37d+ukAAAAgL3r8j3zX/jCF3L++eenvr4+SfLUU0/l+9//frdPDAAAANiz\n",
              "Lsf8SSedlCeeeCL/+Z//meSVvzM/aNCg7p4XAAAAsBddjvkkOeKIIzJ9+vTungsAAADwGrzuB+AB\n",
              "AAAAB5aYBwAAgMKIeQAAACiMmAcAAIDCiHkAAAAojJgHAACAwoh5AAAAKIyYBwAAgMKIeQAAACiM\n",
              "mAcAAIDCiHkAAAAojJgHAACAwoh5AAAAKIyYBwAAgMKIeQAAACiMmAcAAIDCiHkAAAAojJgHAACA\n",
              "woh5AAAAKIyYBwAAgMKIeQAAACiMmAcAAIDCiHkAAAAojJgHAACAwoh5AAAAKIyYBwAAgMKIeQAA\n",
              "ACiMmAcAAIDCiHkAAAAoTI/G/GWXXZa6urpUKpWsW7duj2N27dqVK6+8MmPGjEl9fX3mzp2bl19+\n",
              "OUnyk5/8JOPHj+/YhgwZkgkTJnQcW6lUcsIJJ3TsX716dU8uBwAAAN4QejTmL7jggjzwwAMZPnz4\n",
              "XsfcdtttaWxsTGNjY5544on06dMnS5cuTZJMnTo169at69gmTJiQiy66qNPxq1ev7th/yimn9ORy\n",
              "AAAA4A2hR2P+1FNPzdChQ/c5Zv369TnrrLNy6KGHplKp5Jxzzskdd9yx27jf/e53ue+++/LhD394\n",
              "v+ayY8eOtLS0dNp27ty5X+cCAACA3tTr98xPnDgxd999d1paWtLW1pa77rorTU1Nu4375je/menT\n",
              "p+eoo47q9P6ZZ56ZcePGZeHChdm+ffteP2fx4sUZOHBgp23t2rXdvRwAAADocb0e83PmzMm0adMy\n",
              "ZcqUTJkyJaNGjUrfvn07jalWq/nGN76RuXPndnp/06ZNeeSRR7JmzZo8//zzueqqq/b6OYsWLUpz\n",
              "c3OnbdKkST2yJgAAAOhJvR7zlUol1113XR599NGsWbMmo0ePzvHHH99pzP3335/W1tZMnTq10/vD\n",
              "hg1Lkhx++OFZsGDBPh+AV1tbmwEDBnTaampqun9BAAAA0MN6PeZbW1uzdevWJMkLL7yQG2+8MVdf\n",
              "fXWnMbfddlvmzJnTKb63bt2aF198MckrT8S/884709DQcOAmDgAAAL2k76sP2X/z5s3Lj370ozz7\n",
              "7LOZOnVq+vfvn40bN+aSSy7Jeeedl/POOy/Nzc057bTT0qdPn+zatSuXX355zj333I5zNDc3Z8WK\n",
              "FXnsscc6nXvDhg2ZN29eKpVK2tvbM2HChI6n4AMAAMDBrFKtVqu9PYnesnDhwixZsqS3pwEAAABd\n",
              "0us/swcAAAC6RswDAABAYcQ8AAAAFEbMAwAAQGHEPAAAABRGzAMAAEBhxDwAAAAURswDAABAYcQ8\n",
              "AAAAFEbMAwAAQGHEPAAAABRGzAMAAEBhxDwAAAAURswDAABAYcQ8AAAAFEbMAwAAQGHEPAAAABRG\n",
              "zAMAAEBhxDwAAAAURswDAABAYcQ8AAAAFEbMAwAAQGHEPAAAABRGzAMAAEBhxDwAAAAURswDAABA\n",
              "YcQ8AAAAFEbMAwAAQGHEPAAAABRGzAMAAEBhxDwAAAAURswDAABAYcQ8AAAAFEbMAwAAQGHEPAAA\n",
              "ABRGzAMAAEBhxDwAAAAURswDAABAYcQ8AAAAFEbMAwAAQGHEPAAAABRGzAMAAEBhxDwAAAAURswD\n",
              "AABAYcQ8AAAAFKZHY/6yyy5LXV1dKpVK1q1bt8cxu3btypVXXpkxY8akvr4+c+fOzcsvv5wkaWpq\n",
              "Sk1NTcaPH9+x/frXv+449p577kl9fX1GjhyZWbNmpaWlpSeXAwAAAG8IPRrzF1xwQR544IEMHz58\n",
              "r2Nuu+22NDY2prGxMU888UT69OmTpUuXduzv379/1q1b17Ede+yxSZJt27Zl7ty5WblyZZ566qkM\n",
              "GTIk119/fU8uBwAAAN4QejTmTz311AwdOnSfY9avX5+zzjorhx56aCqVSs4555zccccdr3ruVatW\n",
              "paGhIfX19UmSBQsWZPny5d0ybwAAAHgj6/V75idOnJi77747LS0taWtry1133ZWmpqaO/du3b8+J\n",
              "J56YCRMm5HOf+1x27tyZJNm8eXOnb/zr6uryzDPPpL29fY+fs2PHjrS0tHTa/nIuAAAAKEmvx/yc\n",
              "OXMybdq0TJkyJVOmTMmoUaPSt2/fJMngwYPz29/+Nr/4xS/y05/+NKtXr84Xv/jF/fqcxYsXZ+DA\n",
              "gZ22tWvXdudSAAAA4IDo9ZivVCq57rrr8uijj2bNmjUZPXp0jj/++CRJbW1tjjrqqCTJkUcemYsv\n",
              "vjirV69OkgwbNiybNm3qOE9TU1MGDx7c8R8C/q9Fixalubm50zZp0qQeXh0AAAB0v16P+dbW1mzd\n",
              "ujVJ8sILL+TGG2/M1VdfnSR57rnn0tbWluSVn8mvWLEiDQ0NSZJp06alsbExGzZsSJLccsstmT17\n",
              "9l4/p7a2NgMGDOi01dTU9OTSAAAAoEf0aMzPmzcvQ4cOzZYtWzJ16tQcd9xxSZJLLrkkd999d5Kk\n",
              "ubk5J598co4//viccsopmT9/fs4999wkyQMPPJCGhoaMGzcuEyZMyDHHHJPPfOYzSV55yv2yZcsy\n",
              "c+bMHHfccdmyZUuuueaanlwOAAAAvCFUqtVqtbcn0VsWLlyYJUuW9PY0AAAAoEt6/Wf2AAAAQNeI\n",
              "eQAAACiMmAcAAIDCiHkAAAAojJgHAACAwoh5AAAAKIyYBwAAgMKIeQAAACiMmAcAAIDCiHkAAAAo\n",
              "jJgHAACAwoh5AAAAKIyYBwAAgMKIeQAAACiMmAcAAIDCiHkAAAAojJgHAACAwoh5AAAAKIyYBwAA\n",
              "gMKIeQAAACiMmAcAAIDCiHkAAAAojJgHAACAwoh5AAAAKIyYBwAAgMKIeQAAACiMmAcAAIDCiHkA\n",
              "AAAojJgHAACAwoh5AAAAKIyYBwAAgMKIeQAAACiMmAcAAIDCiHkAAAAojJgHAACAwoh5AAAAKIyY\n",
              "BwAAgMKIeQAAACiMmAcAAIDCiHkAAAAojJgHAACAwoh5AAAAKIyYBwAAgMKIeQAAACiMmAcAAIDC\n",
              "iHkAAAAoTI/G/GWXXZa6urpUKpWsW7duj2N27dqVK6+8MmPGjEl9fX3mzp2bl19+OUny2GOP5dRT\n",
              "T019fX3GjBmTiy++OC+99FLHsZVKJSeccELGjx+f8ePHZ/Xq1T25HAAAAHhD6NGYv+CCC/LAAw9k\n",
              "+PDhex1z2223pbGxMY2NjXniiSfSp0+fLF26NEnSr1+/fOUrX8mGDRuyfv36bN++PZ///Oc7Hb96\n",
              "9eqsW7cu69atyymnnNKTywEAAIA3hB6N+VNPPTVDhw7d55j169fnrLPOyqGHHppKpZJzzjknd9xx\n",
              "R5Jk5MiRGTt2bJKkpqYmJ554YpqamvZrLjt27EhLS0unbefOnft1LgAAAOhNvX7P/MSJE3P33Xen\n",
              "paUlbW1tueuuu/YY7Nu3b8+yZcsyY8aMTu+feeaZGTduXBYuXJjt27fv9XMWL16cgQMHdtrWrl3b\n",
              "3csBAACAHtfrMT9nzpxMmzYtU6ZMyZQpUzJq1Kj07du305iXX345F154Yd7//vfn/PPP73h/06ZN\n",
              "eeSRR7JmzZo8//zzueqqq/b6OYsWLUpzc3OnbdKkST22LgAAAOgpvR7zlUol1113XR599NGsWbMm\n",
              "o0ePzvHHH9+xv62tLRdeeGEGDx7ccS/9XwwbNixJcvjhh2fBggX7fABebW1tBgwY0GmrqanpmUUB\n",
              "AABAD+r1mG9tbc3WrVuTJC+88EJuvPHGXH311UmS9vb2zJ49O0ceeWRuvfXWVCqVjuO2bt2aF198\n",
              "MckrT8S/884709DQcOAXAAAAAAdYj8b8vHnzMnTo0GzZsiVTp07NcccdlyS55JJLcvfddydJmpub\n",
              "c/LJJ+f444/PKaeckvnz5+fcc89Nktx5551ZsWJFHn744TQ0NGT8+PH5+Mc/niTZsGFDJk+enHHj\n",
              "xuWEE07IH/7wh3z5y1/uyeUAAADAG0KlWq1We3sSvWXhwoVZsmRJb08DAAAAuqTXf2YPAAAAdI2Y\n",
              "BwAAgMKIeQAAACiMmAcAAIDCiHkAAAAojJgHAACAwoh5AAAAKIyYBwAAgMKIeQAAACiMmAcAAIDC\n",
              "iHkAAAAojJgHAACAwoh5AAAAKIyYBwAAgMKIeQAAACiMmAcAAIDCiHkAAAAojJgHAACAwoh5AAAA\n",
              "KIyYBwAAgMKIeQAAACiMmAcAAIDCiHkAAAAojJgHAACAwoh5AAAAKIyYBwAAgMKIeQAAACiMmAcA\n",
              "AIDCiHkAAAAojJgHAACAwoh5AAAAKIyYBwAAgMKIeQAAACiMmAcAAIDCiHkAAAAojJgHAACAwoh5\n",
              "AAAAKIyYBwAAgMKIeQAAACiMmAcAAIDCiHkAAAAojJgHAACAwoh5AAAAKIyYBwAAgMKIeQAAACiM\n",
              "mAcAAIDC9GjMX3bZZamrq0ulUsm6dev2OGbXrl258sorM2bMmNTX12fu3Ll5+eWXO/bfc889qa+v\n",
              "z8iRIzNr1qy0tLS8pn0AAABwsOrRmL/gggvywAMPZPjw4Xsdc9ttt6WxsTGNjY154okn0qdPnyxd\n",
              "ujRJsm3btsydOzcrV67MU089lSFDhuT6669/1X0AAABwMOvRmD/11FMzdOjQfY5Zv359zjrrrBx6\n",
              "6KGpVCo555xzcscddyRJVq1alYaGhtTX1ydJFixYkOXLl7/qvj3ZsWNHWlpaOm07d+7sjmUCAADA\n",
              "AdXr98xPnDgxd999d1paWtLW1pa77rorTU1NSZLNmzd3+la/rq4uzzzzTNrb2/e5b08WL16cgQMH\n",
              "dtrWrl3bo2sDAACAntDrMT9nzpxMmzYtU6ZMyZQpUzJq1Kj07du32z9n0aJFaW5u7rRNmjSp2z8H\n",
              "AAAAelqvx3ylUsl1112XRx99NGvWrMno0aNz/PHHJ0mGDRuWTZs2dYxtamrK4MGD07dv333u25Pa\n",
              "2toMGDCg01ZTU9OziwMAAIAe0Osx39ramq1btyZJXnjhhdx44425+uqrkyTTpk1LY2NjNmzYkCS5\n",
              "5ZZbMnv27FfdBwAAAAez7v89+/8yb968/OhHP8qzzz6bqVOnpn///tm4cWMuueSSnHfeeTnvvPPS\n",
              "3Nyc0047LX369MmuXbty+eWX59xzz02S9O/fP8uWLcvMmTPT3t6eMWPG5Pbbb3/VfQAAAHAwq1Sr\n",
              "1WpvT6K3LFy4MEuWLOntaQAAAECX9PrP7AEAAICuEfMAAABQGDEPAAAAhRHzAAAAUBgxDwAAAIUR\n",
              "8wAAAFAYMQ8AAACFEfMAAABQGDEPAAAAhRHzAAAAUBgxDwAAAIUR8wAAAFAYMQ8AAACFEfMAAABQ\n",
              "GDEPAAAAhRHzAAAAUJhKtVqt9vYkesusWbNSV1fX29OgF+zcuTNr167NpEmTUlNT09vTgb1yrVIC\n",
              "1ymlcK1SCtcqw4cPz+WXX77PMW/qmOfNq6WlJQMHDkxzc3MGDBjQ29OBvXKtUgLXKaVwrVIK1yqv\n",
              "hZ/ZAwAAQGHEPAAAABRGzAMAAEBhxDxvSrW1tfmHf/iH1NbW9vZUYJ9cq5TAdUopXKuUwrXKa+EB\n",
              "eAAAAFAY38wDAABAYcQ8AAAAFEbMAwAAQGHEPAeVp556KieffHJGjRqVE088Mb/61a92G7Nr165c\n",
              "eeWVGTNmTOrr6zN37ty8/PLLHfs3b96cc889N+985zszevTo3HzzzQdyCbxJdMe1+vnPfz6jR4/O\n",
              "+PHjM3ny5Kxdu/ZALoE3gcsuuyx1dXWpVCpZt27dXsfddtttGTlyZI499th87GMfS1tb22vaB93l\n",
              "9V6rP/vZzzJp0qSMHj06xx9/fK6++urs2rXrAM2eN4vu+HdqklSr1ZxxxhkZNGhQz06YNzwxz0Fl\n",
              "3rx5ufTSS/Pf//3f+dSnPpU5c+bsNua2225LY2NjGhsb88QTT6RPnz5ZunRpklf+5Xj++efnIx/5\n",
              "SJ588sk8/vjj+du//dsDvAreDF7vtbpu3brccsstWbt2bdatW5dPfOIT+cQnPnGAV8HB7oILLsgD\n",
              "DzyQ4cOH73XM008/nWuuuSarV6/Oxo0b8/vf/z633nrrq+6D7vR6r9Ujjjgi3/nOd/L444/nkUce\n",
              "yZo1a/Ktb33rQE2fN4nXe53+xZe+9KUce+yxPT1dCiDmOWg899xzefjhh/OhD30oSfLBD34wv/nN\n",
              "b7Jx48ZO49avX5+zzjorhx56aCqVSs4555zccccdSZL77rsvtbW1+Zu/+ZuO8UcfffSBWwRvCt1x\n",
              "rVYqlbS1tWX79u1Jkj/96U8ZOnTogV0IB71TTz31Va+r7373uznvvPNyzDHHpFKpZP78+Vm+fPmr\n",
              "7oPu9Hqv1YaGhowYMSJJ0q9fv4wfPz5NTU09PW3eZF7vdZokv/rVr7Jy5cp8+tOf7unpUgAxz0Hj\n",
              "N7/5TQYPHpy+ffsmeSV2hg0bls2bN3caN3HixNx9991paWlJW1tb7rrrro7/w3788cfz9re/PbNn\n",
              "z05DQ0POP//8/M///M+BXgoHue64VseNG5dPfvKTecc73pGhQ4fmS1/6kltC6BWbN2/u9C1TXV1d\n",
              "x7W8r31woL3W6/HZZ5/Nd7/73XzgAx84kNODJPu+Ttva2vKxj30sX//611NTU9NbU+QNRMzzpjNn\n",
              "zpxMmzYtU6ZMyZQpUzJq1KiOqGpvb8/PfvazXHPNNXn00UczdepUP7On1+zrWn366aezYsWKbNy4\n",
              "MVu2bMknP/nJXHjhhb08Y4CytbS05Nxzz83VV1+dd7/73b09Hejks5/9bGbNmpV3vetdvT0V3iDE\n",
              "PAeNv/7rv84zzzyT9vb2JK/c/7558+YMGzas07hKpZLrrrsujz76aNasWdPxsJskGTZsWBoaGjpe\n",
              "f/jDH05jY6MHNtGtuuNa/d73vpcTTjghQ4YMSZL83d/9XR588MFOD8iDA2HYsGHZtGlTx+umpqaO\n",
              "a3lf++BAe7Xr8c9//nOmTZuWGTNmZOHChb0xRdjndXr//ffn5ptvTl1dXd73vvelpaUldXV1ef75\n",
              "53truvQyMc9B46ijjsqECRPy7W9/O8krsTN06NAcd9xxnca1trZm69atSZIXXnghN954Y66++uok\n",
              "yTnnnJMtW7bkt7/9bZLkxz/+cd71rnflkEMOOYAr4WDXHdfqiBEj8uCDD2bbtm1JknvuuSejRo3K\n",
              "oYceegBXAq888+Huu+/Os88+m2q1mq997WuZPXv2q+6DA21f1+O2bdsybdq0TJs2LX//93/fyzPl\n",
              "zWxf1+nq1auzadOmNDU15YEHHsiAAQPS1NSUt7/97b08a3pNFQ4iGzZsqE6ePLk6cuTI6sSJE6u/\n",
              "/OUvq9VqtTp37tzqD37wg2q1Wq0+++yz1fr6+uro0aOr9fX11X/913/tdI6f/OQn1XHjxlXHjh1b\n",
              "PeWUUzrOAd3p9V6ru3btqn7605+uvvOd76yOHTu2etJJJ1UffvjhXlkLB69LL720+ld/9VfVmpqa\n",
              "6lFHHVU99thjq9Vq5+u0Wq1Wb7311uqIESOqI0aMqF588cXVl19++TXtg+7yeq/Vf/zHf6z27du3\n",
              "Om7cuI7tH//xH3tlLRy8uuPfqX/x9NNPVwcOHHigps4bVKVarVZ7+z8oAAAAAK+dn9kDAABAYcQ8\n",
              "AAAAFEbMAwAAQGHEPACQJLnuuuvS2tp6wD5v3bp1+c53vnPAPg8ADiZiHgBIknz2s5/tcsy3t7fv\n",
              "9+eJeQDYf2IeAMj8+fOTJKecckrGjx+fb33rW3nPe96ThoaGjBs3Lj/84Q87xp522mm57LLLctJJ\n",
              "J+X9739/2trasmDBgowaNSqTJ0/OFVdckdNOO61j/B133JH3vOc9mTBhQk499dSsX78+zz33XK69\n",
              "9tr8x3/8R8aPH9/x+QDAa+NP0wEASZJKpZKtW7dm0KBB+cMf/pAjjzwylUolTU1NmTx5cjZt2pTa\n",
              "2tqcdtpp6devX374wx/mkEMOyVe/+tWsXLkyP/7xj5Mk06dPT1tbW37+85/nwQcfzD/90z/l+9//\n",
              "fmpra7N69erMnz8/v/rVr/LNb34zK1euzMqVK3t34QBQoL69PQEA4I3n6aefzkUXXZQtW7akb9++\n",
              "+eMf/5inn3469fX1SZIPfehDOeSQQ5Ik9913X6fXH/3oR7Ns2bIkyQ9+8IOsX78+73nPezrO/cc/\n",
              "/jEvvfTSAV4RABxcxDwAsJvZs2fnxhtvzAUXXJAkOfLIIzvdT//Wt751r8dWKpWOf65Wq/noRz+a\n",
              "G264oecmCwBvQu6ZBwCSJP37909zc3OSZOvWrXnHO96RJPn2t7+drVu37vW4M844I//+7/+etra2\n",
              "tLW15Vvf+lbHvvPOOy/f/va3s3nz5iTJrl278vDDDydJBgwY0PF5AEDXiHkAIElyxRVX5Oyzz874\n",
              "8ePzpS99KRdccEEaGhry6KOPZtiwYXs9bt68eamrq8vo0aPz3ve+N8cee2wGDRqU5JUH6n3hC1/I\n",
              "+eefn3HjxuX444/veIL9mWeemR07dmTs2LEegAcAXeQBeADA6/bnP/85/fv3T1tbWy666KJMnDgx\n",
              "n/rUp3p7WgBw0BLzAMDr9p73vCc7duxIa2tr3ve+9+Xmm2/OW97ylt6eFgActMQ8AAAAFMY98wAA\n",
              "AFAYMQ8AAACFEfMAAABQGDEPAAAAhRHzAAAAUBgxDwAAAIUR8wAAAFAYMQ8AAACF+X9A6t1QEeM7\n",
              "OwAAAABJRU5ErkJggg==\n",
              "\">\n",
              "      </div>\n",
              "      <script type=\"text/javascript\">\n",
              "        (() => {\n",
              "          const chartElement = document.getElementById(\"chart-f74b7d5f-5c3f-42f2-b965-8e09afdc6e15\");\n",
              "          async function getCodeForChartHandler(event) {\n",
              "            const chartCodeResponse =  await google.colab.kernel.invokeFunction(\n",
              "                'getCodeForChart', [\"chart-f74b7d5f-5c3f-42f2-b965-8e09afdc6e15\"], {});\n",
              "            const responseJson = chartCodeResponse.data['application/json'];\n",
              "            await google.colab.notebook.addCell(responseJson.code, 'code');\n",
              "          }\n",
              "          chartElement.onclick = getCodeForChartHandler;\n",
              "        })();\n",
              "      </script>\n",
              "      <style>\n",
              "        .colab-quickchart-chart-with-code  {\n",
              "            display: block;\n",
              "            float: left;\n",
              "            border: 1px solid transparent;\n",
              "        }\n",
              "\n",
              "        .colab-quickchart-chart-with-code:hover {\n",
              "            cursor: pointer;\n",
              "            border: 1px solid #aaa;\n",
              "        }\n",
              "      </style>"
            ]
          },
          "metadata": {}
        },
        {
          "output_type": "display_data",
          "data": {
            "text/plain": [
              "<google.colab._quickchart_helpers.SectionTitle at 0x7a8b86266c10>"
            ],
            "text/html": [
              "<h4 class=\"colab-quickchart-section-title\">Values</h4>\n",
              "<style>\n",
              "  .colab-quickchart-section-title {\n",
              "      clear: both;\n",
              "  }\n",
              "</style>"
            ]
          },
          "metadata": {}
        },
        {
          "output_type": "display_data",
          "data": {
            "text/plain": [
              "from matplotlib import pyplot as plt\n",
              "_df_6['age'].plot(kind='line', figsize=(8, 4), title='age')\n",
              "plt.gca().spines[['top', 'right']].set_visible(False)"
            ],
            "text/html": [
              "      <div class=\"colab-quickchart-chart-with-code\" id=\"chart-0cebcf40-fadf-422e-b457-0170a80fc4c3\">\n",
              "        <img style=\"width: 180px;\" src=\"data:image/png;base64,iVBORw0KGgoAAAANSUhEUgAAApcAAAFuCAYAAADUGTPdAAAAOnRFWHRTb2Z0d2FyZQBNYXRwbG90\n",
              "bGliIHZlcnNpb24zLjEwLjAsIGh0dHBzOi8vbWF0cGxvdGxpYi5vcmcvlHJYcgAAAAlwSFlzAAAP\n",
              "YQAAD2EBqD+naQAAO3lJREFUeJzt3Xtc1AWi///3AHJRQRRRBAUExktlZpqReAGxttwtze2y3cxK\n",
              "3XBV/Opjt9qTv83dTj7OOR030K7Wlnbb3ExrPbbtchM1b5WadnO4DIiKF4ybwAAzn98fg6ibFuDA\n",
              "cHk9H48eD/0wM77x80BezYUxGYZhCAAAAHABD3cPAAAAQOdBXAIAAMBliEsAAAC4DHEJAAAAlyEu\n",
              "AQAA4DLEJQAAAFyGuAQAAIDLEJcAAABwGeISAAAALkNcAgAAwGWISwAAALgMcQkAAACXIS4BoBme\n",
              "f/55XXXVVQoICFBISIgeeOABnTp1SpJUV1enJUuWKCQkRMHBwXriiSc0fvx4PfXUU43XP3LkiO69\n",
              "916FhYWpX79+uueee3Ty5Ek3fTYA4HrEJQA0Q0hIiD744AOVlpZq165dOnTokBYsWCBJWr58uTZu\n",
              "3KgtW7aoqKhIPj4+2rVrV+N1bTabEhMTFRoaqkOHDikvL09eXl6699573fXpAIDLmQzDMNw9AgA6\n",
              "qg0bNmj27NkqKSlRTEyMFi9erHnz5kmS7Ha7QkNDlZSUpKeeekoffPCBFixYoKKiIplMJknOezIH\n",
              "Dhyow4cPa+DAge78VADAJbzcPQAAOpIPPvhAzz77rHJyclRTUyOHw6EzZ87IbrfryJEjioiIaLys\n",
              "p6enBg0a1Ph7i8Wi48ePq3fv3hfcpo+PjwoLC4lLAJ0CD4sDQBMVFRXpzjvv1IIFC1RYWKjy8nK9\n",
              "+eabkiTDMBQWFqaCgoLGyzscDhUVFTX+PiQkRBERESotLb3gv5qaGo0bN67NPx8AaA3EJQA0UWVl\n",
              "pRwOh/r27StfX19ZLBYtX7688eMPPPCA/vznP+vQoUOqra3V008/rZKSksaPz5gxQ3V1dVq6dKnK\n",
              "ysokSSdOnNB7773X5p8LALQW4hIAmmjYsGFavny5Zs6cKX9/fz344IO6//77Gz/+xBNP6Oc//7km\n",
              "TJigsLAwVVdXa9SoUfL19ZUk+fv7a8eOHSosLNSIESMUEBCgcePGKTs7212fEgC4HC/oAYBWUl9f\n",
              "rwEDBig1NVX33HOPu+cAQJvgnksAcJGKigr9/e9/V21trSorK/XYY4/J4XDolltucfc0AGgzxCUA\n",
              "uIjD4dCf/vQn9e3bV2FhYdq9e7c2b96swMBAd08DgDbDw+IAAABwGe65BAAAgMsQlwAAAHAZ4hIA\n",
              "AAAuQ1wCAADAZdpNXKakpLh7AgAAAC5Tu4nL89+PFwAAAB1Tu4lLAAAAdHzEJQAAAFyGuAQAAIDL\n",
              "EJcAAABwGeISAAAALkNcAgAAwGWISwAAALgMcQkAAACXIS4BAADgMsQlAAAAXIa4BAAA6KDq7A53\n",
              "T/gB4hIAAKCD2ZlXonte2an//L9v3D3lB7zcPQAAAAA/zTAM7cgrUUqaRbvyT0uSDh4p029/NlQ9\n",
              "fNpP0rWfJQAAAPgBwzC0I7dEz6VZtNvqjEpvTw/dfd0gJcVHt6uwlIhLAACAdskwDG3PKVFK+iHt\n",
              "sX4vyRmVvxrrjMoBvfzcvPDiiEsAAIB2xDAMbbWcUkq6RZ8XNESll4fuHRuuRydFK6SXr5sX/jji\n",
              "EgAAoB0wDEPZllN6Lu2Q9haWSpJ8vDx07/XOqOwf0L6j8iziEgAAwI0Mw1DWoZNKSbNo3+FSSc6o\n",
              "vO/6CD06KUr9OkhUnkVcAgAAuIFhGMr87oRS0nO0vyEqfbt56P7rIzR3UpT6+XesqDyLuAQAAGhD\n",
              "hmEo49sTSkm36MuiMkmSXzdPPXBDhOZMiFKwv4+bF14e4hIAAKANGIahtG9OKDXdogNHzkXlzBsi\n",
              "NGdilPr27NhReRZxCQAA0IoMw9A/vz6u1HSLvjpaLknq7u2pmTdEas6EwQrqJFF5FnEJAADQChwO\n",
              "Z1SmpFv0zTFnVPbw9tSD4yI1e0KU+vTwdvPC1kFcAgAAuJDDYeiTr4qVkm7Rt8UVkqSePl56cFyE\n",
              "Zo+PUu9OGpVnEZcAAAAu4HAY+sdXxUr9t6h8KC5Sj4wfrMDunTsqzyIuAQAALoPDYWjzwWNamZ6j\n",
              "7447o9Lfx0sPjR+sR+IGq1f3bm5e2LaISwAAgBawOwz934FjWplukeVEpSTJ39dLD8cN1sNdMCrP\n",
              "8mjpFV9//XWZTCZt3LhRkvOVUE899ZSGDBmiESNGKCEhwVUbAQAA2g27w9CH+47oZ89la+G7e2U5\n",
              "UakAXy/9vylDtO2xyfp/Nw7psmEptfCeS6vVqtWrVys2NrbxWGpqqr788ksdPHhQ3t7eKi4udtlI\n",
              "AAAAd7M7DP19/1GtzLAo9+QZSVIvv256ZPxgzYqLVIBv1w3K8zU7Lh0Oh2bPnq2VK1dqyZIljcf/\n",
              "53/+RxkZGfL2dj5ZNSQkxHUrAQAA3KTe7tBH+49qVUaO8k45ozKwezfNHj9YD46LlD9ReYFmx+WK\n",
              "FSsUFxen0aNHNx4rLy/X8ePH9eGHH+r999+XJC1evFh33333RW/DZrPJZrNdcMxutzd3CgAAQKup\n",
              "tzv04b6jWpWZo/yGqOzdvZtmT4jSg+Mi1dOHl65cTLP+Vg4ePKj169crOzv7guP19fWqr69XdXW1\n",
              "du3aJavVqnHjxmnYsGEaOXLkD25n+fLlWrZs2QXHzn+IHQAAwF3q7Q5t2HtEz2fmyFpSJckZlXMm\n",
              "RmnmDUTlT2nW387WrVtltVplNpslScXFxZo7d66WLVumnj176v7775ckRUZGKi4uTnv27LloXD7x\n",
              "xBNavHjxBceWLl3a0s8BAADgstXZHdrwxRGtysxR4WlnVPbp4a25E6P0QGyEehCVTdKsv6WkpCQl\n",
              "JSU1/j4+Pl6LFi3S9OnTtXfvXv3jH//QvHnzdPr0ae3evVu//e1vL3o7Pj4+8vG58H00PT09WzAf\n",
              "AADg8tTZHfrgiyKtyszR4dPVkqS+PZ1ReX9shLp7E5XN4bK/reXLl+uhhx7SCy+8IEl67LHHNHbs\n",
              "WFfdPAAAgEvV1ju0/osiPZ+Zo6Lvz0XlrydG677YcKKyhS7rby0rK6vx10FBQfroo48udw8AAECr\n",
              "qq136G+fH9YLmbk6UuqMymB/H/16YpTuuz5Cft48mno5SHIAANAl2Ort+ttnRXohM0dHy2okSf38\n",
              "ffTopGjde324fLsRla5AXAIAgE7NVm/Xuj2H9UJWro6dF5VJ8dG6ZyxR6WrEJQAA6JRq6ux6b89h\n",
              "vZiVq+JyZ1SGBPgqKT5ad183iKhsJcQlAADoVGrq7Prr7kK9uCVXx8udb9oyoJev5sVH684xRGVr\n",
              "Iy4BAECnUFNn1zu7CvXSllydqHBGZWgvXyUlxOiuMQPl40VUtgXiEgAAdGjVtXa9vatAL2fn6WRD\n",
              "VIYF+mleQrTuGE1UtjXiEgAAdEhno/KlLXk6VXkuKudPjtEvrx0oby8PNy/smohLAADQoVTV1uut\n",
              "nQV6JTtPpyprJUkDe/tpfkKMZhCVbkdcAgCADuGMrV5v7izQ6uw8lZxxRmV4n+6anxCj268NUzdP\n",
              "orI9IC4BAEC7dsZWr7U7CrR6a55ON0RlRJAzKqePIirbG+ISAAC0S5W2eq351KpXt+bp+6o6SVJk\n",
              "UHfNn2zW9GtC5UVUtkvEJQAAaFcqauqcUbktX6UNURnVt4fmT47RbSOJyvaOuAQAAO1CeU2d1mx3\n",
              "RmVZdUNUBvfQwslm3ToyVJ4eJjcvRFMQlwAAwK3Kquv0xnarXtuWp/KaeklSdHAPLUw06xdXE5Ud\n",
              "DXEJAADcoqy6Tn/Zlq+/bM9XRUNUmvv11IJEs34+YgBR2UERlwAAoE2VVdXpte35ev28qBzSv6cW\n",
              "Jpo19aoB8iAqOzTiEgAAtInSqlq9ti1fb2y3qsLmjMqh/f21MNGsW64KISo7CeISAAC0qu/P1OrV\n",
              "bXla82mBKhuicliIv5ITzfrZlURlZ0NcAgCAVnH6TK1e3ZqnNZ9adabWLkkaPiBAyYlm3XRFf6Ky\n",
              "kyIuAQCAS5VU2rR6a77W7rCqqiEqrxgQoOQpZt04nKjs7IhLAADgEqcqbVqdnac3dxY0RuWVoQFa\n",
              "NGWIpgzvJ5OJqOwKiEsAAHBZTlXa9Ep2nt7cUaDqOmdUjgjrpeREsxKJyi6HuAQAAC1yoqJGr2zJ\n",
              "01u7ClRT55AkjRzYS8lTzEoYSlR2VcQlAABolhPlNXppS57e3lUgW31DVA4K1KIpZsUPCSYquzji\n",
              "EgAANMmJ8hq9uCVX7+wqbIzKUeGBSk40axJRiQbEJQAA+FHFZTV6aUuu3tldqNqGqBwd0VvJiWZN\n",
              "MPclKnEB4hIAAFzUsbJqvZiVq7/uOdwYlWMiemvRlCGKiwkiKnFRxCUAALjA0VJnVL6357Bq7c6o\n",
              "HBvZR8lTzBoXTVTix3m09Iqvv/66TCaTNm7ceMHxjIwMeXp66rnnnrvMaQAAoC0dKa3Wf2w4oPj/\n",
              "ydKbOwtUa3fo+sF99M6c6/Xer2MVF8ND4PhpLbrn0mq1avXq1YqNjb3geFlZmR5//HFNnTrVJeMA\n",
              "AEDrK/q+Si9k5epvnx1Wnd2QJMVG9VFy4hDdEB3k5nXoaJodlw6HQ7Nnz9bKlSu1ZMmSCz42f/58\n",
              "Pfnkk/rggw9cNhAAALSOw6er9EJWjt7/vKgxKsdFByk50azro4hKtEyz43LFihWKi4vT6NGjLzj+\n",
              "/vvvy8PDQ7fddttPxqXNZpPNZrvgmN1ub+4UAADQAoUlVXo+M0frvyhSvcMZleNj+ip5ilnXRfZx\n",
              "8zp0dM2Ky4MHD2r9+vXKzs6+4HhxcbGefvppZWVlNel2li9frmXLll1w7N8fYgcAAK5VWFKlVZkW\n",
              "rf/iiOwNUTnB3FfJiWaNISrhIibDMIymXvjFF1/UH//4R/n4+EhyRmVAQID+8Ic/6I9//KP8/Pwk\n",
              "SadOnZK3t7eSkpL0n//5nz+4nYvdc7l06VKlpKRczucCAAAuwnrqjFZl5mjD3nNROXFIsJITzRod\n",
              "0dvN69DZNCsu/118fLwWLVqk6dOnX3B81qxZuuaaa7Ro0aIm39bixYu1YsWKlk4BAAD/Jv/UGa3M\n",
              "sOjDfUcbozJ+aLAWJpp1bThRidbBz7kEAKCTyTtZqVUZOdq474gamlIJQ4OVPGWIrhkU6NZt6Pwu\n",
              "Ky4v9RzLN95443JuFgAAtEDOiUqtyrDoo/1HG6MycVg/LUw0ayRRiTbCPZcAAHRwOScqlJqeo79/\n",
              "eVRnn+w2ZXh/JSeaNWJgL/eOQ5dDXAIA0EFZjlcoNSNHm86LyhuvcEblVWFEJdyDuAQAoIP5rrhC\n",
              "qRkWbT5wrDEqf3Zlfy1MNOvKUKIS7kVcAgDQQXxbXK7UdIs2HyhuPHbLVSFaMNmsK0ID3LgMOIe4\n",
              "BACgnfvmmDMqPz54LiqnjnBG5fABRCXaF+ISAIB26qujZUpNt+iTr45LkkwmaeqIAVo42ayhIf5u\n",
              "XgdcHHEJAEA7c/BImVLSLfrX1+ei8hdXh2rB5BgN6U9Uon0jLgEAaCcOFDmjMu2bc1F5a0NUmolK\n",
              "dBDEJQAAbvZlUalS0ixK//aEJMnDJN02MlTzJ5sV06+nm9cBzUNcAgDgJvsOlyol7ZAyvzspyRmV\n",
              "068J028mxyg6mKhEx0RcAgDQxvYWfq+UdIuyzo/KUWGanxCjKKISHRxxCQBAG/m8wBmV2YecUenp\n",
              "YdLtDVEZ2beHm9cBrkFcAgDQyj6znlZKukVbLackOaNyxqgwzZ8co4ggohKdC3EJAEAr2WM9rZQ0\n",
              "i7blOKPSy8OkX147UL9JiFF4UHc3rwNaB3EJAICL7corUUq6RZ/mlkhyRuWdYwZqXnyMBvUhKtG5\n",
              "EZcAALjIzrwSpaRZtCPPGZXdPE26Y/QgzYuPJirRZRCXAABcBsMwtKMhKnfln5bkjMq7xgzSvIQY\n",
              "hQX6uXkh0LaISwAAWsAwDO3ILdFzaRbttjqj0tvTQ3dfN0hJ8dEKJSrRRRGXAAA0g2EY2p5TopT0\n",
              "Q9pj/V6SMyp/NdYZlQN6EZXo2ohLAACawDAMbbWcUkq6RZ8XNESll4fuHRuuRydFK6SXr5sXAu0D\n",
              "cQkAwI8wDEPZllN6Lu2Q9haWSpJ8vDx0z9hwJcVHq38AUQmcj7gEAOAiDMNQ1qGTSkmzaN/hUknO\n",
              "qLzv+gg9OilK/YhK4KKISwAAzmMYhjK/O6GU9Bztb4hK324euv/6CM2dFKV+/kQl8GOISwAA5IzK\n",
              "jG9PKCXdoi+LyiQ5o/KB2AjNnRitYH8fNy8EOgbiEgDQpRmGobRvTig13aIDR5xR6dfNUzNviNCc\n",
              "iVHq25OoBJqDuAQAdEmGYeifXx9XarpFXx0tlyR19/bUzBsiNWfCYAURlUCLEJcAgC7F4XBGZUq6\n",
              "Rd8cc0ZlD29PzRwXqTkTotSnh7ebFwIdG3EJAOgSHA5Dn3xVrJR0i74trpAk9fTx0oPjIjR7fJR6\n",
              "E5WASxCXAIBOzeEw9PHBYq3MuDAqH4qL1CPjByuwO1EJuJJHS6/4+uuvy2QyaePGjZKkhx56SEOG\n",
              "DNHIkSMVFxenPXv2uGojAADN5nAY2vTlUd2ckq3fvPOFvi2ukL+PlxZOjtG2xxK05KahhCXQClp0\n",
              "z6XVatXq1asVGxvbeOz222/X6tWr5eXlpU2bNunOO++U1Wp11U4AAJrE7jD0fweOaWW6RZYTlZIk\n",
              "f18vPRw3WA/HDVav7t3cvBDo3Jodlw6HQ7Nnz9bKlSu1ZMmSxuO33XZb469jY2N15MgR1dfXy8uL\n",
              "R94BAK3P3nBP5cqMHOU0RGWAr5ceGR+lWXGR6uVHVAJtodnlt2LFCsXFxWn06NGXvExKSoqmTp16\n",
              "ybC02Wyy2WwXHLPb7c2dAgCA7A5Df99/VKkZFuWdPCNJ6uXXTY+MH6xZcZEK8CUqgbbUrLg8ePCg\n",
              "1q9fr+zs7Ete5q233tK6det+9DLLly/XsmXLLjh2/kPsAAD8lHq7Qx/tP6pVGTnKO+WMysDu3TR7\n",
              "/GA9OC5S/kQl4BbNisutW7fKarXKbDZLkoqLizV37lwdO3ZMSUlJeu+997Rs2TKlp6erf//+l7yd\n",
              "J554QosXL77g2NKlS1swHwDQ1dTbHdq476iez8xRfkNU9u7eTbMnROnBcZHq6cPTsQB3atZXYFJS\n",
              "kpKSkhp/Hx8fr0WLFmn69Olat26dnnzySaWlpSk8PPxHb8fHx0c+Phe+84Gnp2dzpgAAuph6u0Mb\n",
              "9h7RqswcFZRUSXJG5ZyJUZp5A1EJtBcu+0q87777FBISomnTpjUeS09PV1BQkKv+CABAF1Rnd2jD\n",
              "F86oLDztjMo+Pbw1d2KUHoiNUA+iEmhXLusrMisrq/HXdXV1l7sFAIBGdXaH1n9epOezcnT4dLUk\n",
              "KaghKu8nKoF2i69MAEC7Ulvv0PovirQqI0dHSp1R2bent349MVr3xYaruzffuoD2jK9QAEC7UFvv\n",
              "0N8+P6wXMnPPi0ofPTopSvddHyE/b56bD3QExCUAwK1s9Xat+6xIL2bm6GhZjSQp2N9Hj06K1r1j\n",
              "w4lKoIMhLgEAbmGrt2vdnsN6IStXxxqisp+/j5Lio3XP2HD5diMqgY6IuAQAtKmaOrve23NYL2bl\n",
              "qrjcGZUhAb5Kio/W3dcNIiqBDo64BAC0iZo6u97dXaiXtuTqeLnzLYAH9HJG5V1jiEqgsyAuAQCt\n",
              "qqbOrnd2OaPyRIUzKkN7+SopIUZ3jRkoHy+iEuhMiEsAQKuorrXr7V0Fejk7TycbojIs0E/zEqJ1\n",
              "x2iiEuisiEsAgEtV1dbr7Z2Fejk7T6cqz0XlbxJidMfogfL28nDzQgCtibgEALhEVW293tpZoFey\n",
              "83SqslaSNLC3n+YnxGjGtUQl0FUQlwCAy3LGVq83dxZodXaeSs44o3JQHz8tSDDr9mvD1M2TqAS6\n",
              "EuISANAilbZ6rd1h1atb83W6ISojgrrrNwkxun0UUQl0VcQlAKBZKm31WvOpVa9uzdP3VXWSpMig\n",
              "7po/2azp14TKi6gEujTiEgDQJBU1dc6o3Jav0oaoHNy3hxZMjtFtI4lKAE7EJQDgR5XX1OmN7Va9\n",
              "ti1fZdXOqIwKdkblrVcTlQAuRFwCAC6qrPpsVOapvKZekhQd3EMLE836xdWh8vQwuXkhgPaIuAQA\n",
              "XKCsuk5/2Zavv2zPV0VDVMb066mFiWb9fMQAohLAjyIuAQCSpLKqOr22PV+vnxeVQ/r31ILJZk0l\n",
              "KgE0EXEJAF1caVWtXtuWrze2W1Vhc0bl0P7+Wpho1i1XhciDqATQDMQlAHRR35+p1avb8rTm0wJV\n",
              "NkTlsBB/JSea9bMriUoALUNcAkAXc/pMrV7dmqc1n1p1ptYuSRo+IEDJiTG66QqiEsDlIS4BoIso\n",
              "qbRp9dZ8rd1hVVVDVF4xIEDJU8y6cXh/ohKASxCXANDJnaq0aXV2nt7cWdAYlVeGBmjRlCGaMryf\n",
              "TCaiEoDrEJcA0EmdrLBp9dY8vbmjQNV1zqgcEdZLyYlmJRKVAFoJcQkAncyJihq9siVPb+0qUE2d\n",
              "Q5I0cmAvJU8xK2EoUQmgdRGXANBJnCiv0Utb8vT2rgLZ6huiclCgFk0xK35IMFEJoE0QlwDQwR0v\n",
              "r9FLW3L1zq7CxqgcFR6o5ESzJhGVANoYcQkAHVRxWUNU7i5UbUNUjo7oreREsyaY+xKVANzCo6VX\n",
              "fP3112UymbRx40ZJ0okTJ3TzzTfLbDbrqquuUnZ2tqs2AgDOc6ysWv/fhwc18X8y9canVtXWOzQm\n",
              "orfeeuR6vf/oDZrIvZUA3KhF91xarVatXr1asbGxjccef/xxxcbG6h//+If27Nmj22+/Xfn5+erW\n",
              "rZvLxgJAV3a0tFovZuXqvT2HVWt33lM5NrKPkqeYNS46iKAE0C40Oy4dDodmz56tlStXasmSJY3H\n",
              "161bp5ycHEnSddddp9DQUG3ZskVTpkxx3VoA6IKOlFbrhcwcrfvssOrshiTp+sHOqLwhiqgE0L40\n",
              "Oy5XrFihuLg4jR49uvFYSUmJ6urqFBIS0ngsMjJShYWFF70Nm80mm812wTG73d7cKQDQqRV9X6UX\n",
              "snL1t/OiMjaqj5ITh+iG6CA3rwOAi2tWXB48eFDr16+/7OdTLl++XMuWLbvg2PkPsQNAV3b4dJVe\n",
              "yMrR+58XNUbluOggJSeadX0UUQmgfWtWXG7dulVWq1Vms1mSVFxcrLlz52rZsmXy8vJScXFx472X\n",
              "VqtV4eHhF72dJ554QosXL77g2NKlS1uyHwA6jcKSKj2fmaP1XxSp3uGMyriYICUnDtHYwX3cvA4A\n",
              "msZkGIbR0ivHx8dr0aJFmj59umbNmqXIyEg99dRT2rNnj6ZPny6r1drkF/QsXrxYK1asaOkUAOiw\n",
              "CkuqtCrTovVfHJG9ISonmPsqOdGsMZFEJYCOxWU/5/K//uu/9MADD8hsNsvb21tvvfUWrxQHgB9h\n",
              "PXVGqzJztGHvuaicOCRYyYlmjY7o7eZ1ANAylxWXWVlZjb/u37+//vnPf17uHgDo9PJPndHKDIs+\n",
              "3He0MSonDQlW8hSzrg0nKgF0bLxDDwC0kbyTlVqVkaON+46ooSmVMDRYyVOG6JpBgW7dBgCuQlwC\n",
              "QCvLOVGpVRkWfbT/aGNUJg7rp4WJZo0kKgF0MsQlALSSnBMVSk3P0d+/PKqzL52cMtwZlVcPDHTr\n",
              "NgBoLcQlALiY5XiFUjNytOm8qLzxiv5KTjTrqrBe7h0HAK2MuAQAF/muuEKpGRZtPnCsMSp/dmV/\n",
              "LUw068pQohJA10BcAsBl+ra4XKnpFm0+UNx47OYrQ7Qw0awrQgPcuAwA2h5xCQAt9M0xZ1R+fPBc\n",
              "VE4dEaIFk80aPoCoBNA1EZcA0ExfHS1TarpFn3x1XJJkMklTRwzQwslmDQ3xd/M6AHAv4hIAmujg\n",
              "kTKlpFv0r6/PReXPRwzQwkSzhvQnKgFAIi4B4CcdKHJGZdo356Ly1qtDtWByjMxEJQBcgLgEgEv4\n",
              "sqhUKWkWpX97QpLkYZJuGxmq+ZPNiunX083rAKB9Ii4B4N/sO1yqlLRDyvzupCRnVE67JkzzJ8co\n",
              "OpioBIAfQ1wCQIO9hd8rJd2irPOicvqoMM1PiFEUUQkATUJcAujyPi9wRmX2IWdUenqYdHtDVEb2\n",
              "7eHmdQDQsRCXALqsz6ynlZJu0VbLKUnOqJwxyvnwd0QQUQkALUFcAuhy9lhPKyXNom05zqj08jDp\n",
              "l9cO1G8SYhQe1N3N6wCgYyMuAXQZu/JKlJJu0ae5JZKcUXnnmIGaFx+jQX2ISgBwBeISQKe3I7dE\n",
              "KemHtDPvtCSpm6dJd4wepHnx0UQlALgYcQmgUzIMQzvySpSSZtGu/HNRedeYQUqKj9bA3kQlALQG\n",
              "4hJAp2IYhnbklui5NIt2W51R6e3pobuvc0ZlaKCfmxcCQOdGXALoFAzD0PYc58Pfe6zfS3JG5a/G\n",
              "OqNyQC+iEgDaAnEJoEMzDENbLaeUkm7R5wUNUenloXvHhuvRSdEK6eXr5oUA0LUQlwA6JMMwlG05\n",
              "pefSDmlvYakkycfLQ/eMDVdSfLT6BxCVAOAOxCWADsUwDGUdOqmUNIv2HS6V5IzK+66P0KOTotSP\n",
              "qAQAtyIuAXQIhmEo87sTSkmzaH9RmSTJt5uH7r8+QnMnRamfP1EJAO0BcQmgXTMMQxnfnlBKukVf\n",
              "nheVD8RGaO7EaAX7+7h5IQDgfMQlgHbJMAylfXNCqekWHTjijEq/bp6aeUOE5kyMUt+eRCUAtEfE\n",
              "JYB2xTAM/fPr40pNt+iro+WSpO7enpp5Q6TmTBisIKISANq1ZsflTTfdpOLiYnl4eMjf31+pqaka\n",
              "NWqUNm/erCeffFIOh0P19fX67W9/qwcffLA1NgPohBwOZ1SmpFv0zTFnVPbw9tTMcZGaMyFKfXp4\n",
              "u3khAKApmh2X69atU2BgoCRpw4YNmjVrlvbt26f7779fWVlZuvrqq2W1WjVs2DDNmDFD/v7+rt4M\n",
              "oBNxOAx98lWxUtIt+ra4QpIzKmfFRWr2+Cj1JioBoENpdlyeDUtJKisrk8lkkiSZTCaVlpZKksrL\n",
              "yxUUFCQfHx6+AnBxDoehjw8WKzXdou+OO6Oyp4+XHoqL1CPjByuwO1EJAB1Ri55zOXPmTGVmZkqS\n",
              "Nm/eLJPJpPfee08zZsxQjx499P333+uDDz6Qt/fFvznYbDbZbLYLjtnt9pZMAdDBOByGNh88ptR0\n",
              "iw4dr5Qk+TdE5cNEJQB0eCbDMIyWXnnNmjV677339NFHH2nKlCn64x//qIkTJ2rPnj267bbbdODA\n",
              "AfXt2/cH13vqqae0bNmyC47FxsZqx44dLZ0CoJ2zOwz934FjWplukeVEQ1T6eunhuMF6OG6wenXv\n",
              "5uaFAABXuKy4lCQ/Pz9lZWXpgQce0KFDhxqPX3fddXrmmWd04403/uA6F7vncunSpUpJSbmcKQDa\n",
              "IbvD0KYvjyo13aLck2ckSQG+Xnp4/GA9FDdYvfyISgDoTJr1sHhpaamqqqoUGhoqSdq4caOCgoIU\n",
              "GRmpY8eO6ZtvvtHw4cOVk5Oj3NxcDR069KK34+Pj84PnY3p6erbwUwDQHtkdhv6+/6hSMyzKa4jK\n",
              "Xn7d9Mj4wZoVF6kAX6ISADqjZsVlWVmZ7rzzTlVXV8vDw0PBwcHatGmT+vfvr1deeUV33XWXPDw8\n",
              "5HA4tGrVKoWHh7fWbgDtVL3doY/2H9WqjBzlnXJGZWD3bpo9frAeHBcpf6ISADq1y35Y3FUWL16s\n",
              "FStWuHsGgBaqtzu0cd9RrcqwyFpSJckZlXMmRGnmDRFEJQB0EbxDD4DLUm93aMPeI1qVmaOChqjs\n",
              "3b2b5kyM0swbItXTh39mAKAr4V99AC1SZ3dowxfOqCw87YzKPj28NXdilB6IjVAPohIAuiT+9QfQ\n",
              "LHV2h9Z/XqTns3J0+HS1JCmoISrvJyoBoMvjuwCAJqmtd2j9F0ValZGjI6XOqOzb01u/nhit+2LD\n",
              "1d2bf04AAMQlgJ9QW+/Q3z4/rBcyc8+LSh89OilK910fIT9vfowYAOAc4hLARdnq7Vr3WZFezMzR\n",
              "0bIaSVKwv48enRSte8eGE5UAgIsiLgFcwFZv17o9h/VCVq6ONURlP38fJcVH656x4fLtRlQCAC6N\n",
              "uAQgSaqps+u9PYf1YlauisudURkS4Kuk+Gjdfd0gohIA0CTEJdDF1dTZ9e7uQr20JVfHy22SnFE5\n",
              "LyFad40hKgEAzUNcAl1UTZ1d7+xyRuWJCmdUhvbyVVJCjO4aM1A+XkQlAKD5iEugi6mutevtXQV6\n",
              "OTtPJxuiMizQT/MSonXHaKISAHB5iEugi6iqrdfbOwv1cnaeTlWei8rfJMTojtED5e3l4eaFAIDO\n",
              "gLgEOrmq2nq9tbNAr2Tn6VRlrSRpYG8/zU+I0YxriUoAgGsRl0AndcZWrzd3Fmh1dp5KzjijclAf\n",
              "Py1IMOv2a8PUzZOoBAC4HnEJdDKVtnqt3WHVq1vzdbohKiOCuus3CTG6fRRRCQBoXcQl0ElU2uq1\n",
              "5lOrXt2ap++r6iRJkUHdNX+yWdOvCZUXUQkAaAPEJdDBVdTUOaNyW75KG6JycN8eWjA5RreNJCoB\n",
              "AG2LuAQ6qPKaOr2x3arXtuWrrNoZlVF9e2hBYoxuvZqoBAC4B3EJdDBl1WejMk/lNfWSpOjgHlqY\n",
              "aNYvrg6Vp4fJzQsBAF0ZcQl0EGXVdfrLtnz9ZXu+KhqiMqZfTy1MNOvnIwYQlQCAdoG4BNq5sqo6\n",
              "vbYtT69vt6rC5oxKc0NUTiUqAQDtDHEJtFOlVbV6bVu+3jgvKof299fCRLNuuSpEHkQlAKAdIi6B\n",
              "dub7M7V6dVue1nxaoMqGqBwW4q/kRLN+diVRCQBo34hLoJ04faZWq7fmae2nVp2ptUuShg8IUHJi\n",
              "jG66gqgEAHQMxCXgZiWVNq3emq+1O6yqaojKKwYEKHmKWTcO709UAgA6FOIScJNTlTatzs7TmzsL\n",
              "GqPyytAALZoyRFOG95PJRFQCADoe4hJoYycrbHolO1dv7SxUdZ0zKkeE9VJyolmJRCUAoIMjLoE2\n",
              "cqKiRq9sydNbuwpUU+eQJI0c2EvJU8xKGEpUAgA6B+ISaGUnymv00pY8vb2rQLb6hqgcFKhFU8yK\n",
              "HxJMVAIAOpVmx+VNN92k4uJieXh4yN/fX6mpqRo1apRsNpuWLFmiTz75RL6+vho5cqTeeuut1tgM\n",
              "dAjHy2v0Ylau3t1d2BiVo8IDlZxo1iSiEgDQSTU7LtetW6fAwEBJ0oYNGzRr1izt379fjz/+uEwm\n",
              "kw4dOiSTyaTi4mJXbwU6hOKyGr20JVfv7C5UbUNUjo7oreREsyaY+xKVAIBOrdlxeTYsJamsrEwm\n",
              "k0lnzpzRa6+9pqKiosZvnCEhIS4bCXQEx8qq9WJWrv6653BjVI6J6K1FU4YoLiaIqAQAdAktes7l\n",
              "zJkzlZmZKUnavHmzcnNz1adPHz3zzDNKS0uTn5+fnnrqKSUmJl70+jabTTab7YJjdru9JVMAtzta\n",
              "Wq0XsnK0bk+Rau3OqBwb2UfJU8waF01UAgC6FpNhGEZLr7xmzRq99957evrppzV69GitWbNGM2fO\n",
              "1N69e3XjjTfqq6++Uv/+/X9wvaeeekrLli274FhsbKx27NjR0ilAmztSWq0XMnO07rPDqrM7v4zG\n",
              "Du6jRVPMuiGKqAQAdE2XFZeS5OfnJ6vVqtDQUNXW1srT01OSdN1112n58uWaMmXKD65zsXsuly5d\n",
              "qpSUlMuZArSJou+r9Hxmrt7//FxUxkb1UXLiEN0QHeTmdQAAuFezHhYvLS1VVVWVQkNDJUkbN25U\n",
              "UFCQ+vXrp8TERH3yySeaOnWq8vPzlZ+fr+HDh1/0dnx8fOTj43PBsbNRCrRXh09X6YWsHP3tsyLV\n",
              "O5xROS46SMmJZl0fRVQCACA1My7Lysp05513qrq6Wh4eHgoODtamTZtkMpn00ksv6ZFHHtFjjz0m\n",
              "Dw8PvfzyywoLC2ut3UCbKSyp0vOZOVr/xbmojIsJUnLiEI0d3MfN6wAAaF+aFZcRERHavXv3RT8W\n",
              "FRXV+CIfoDMoLKnSqkyL1n9xRPaGqJxg7qvkRLPGRBKVAABcDO/QA/wb66kzWpWZow17z0XlxCHB\n",
              "Sk40a3REbzevAwCgfSMugQb5p85oZYZFH+472hiVk4YEK3mKWdeGE5UAADQFcYkuL+9kpVZl5Gjj\n",
              "viNqaEolDA3WwkSzRhGVAAA0C3GJLivnRKVWZVj00f6jjVGZOKyfFiaaNXJQoFu3AQDQURGX6HJy\n",
              "TlQoNT1Hf//yqM7+lNcpw51RefXAQLduAwCgoyMu0WVYjlcoNSNHm86Lyhuv6K/kRLOuCuvl3nEA\n",
              "AHQSxCU6ve+KK5SaYdHmA8cao/JnV/bXwkSzrgwlKgEAcCXiEp3Wt8XlSk23aPOB4sZjN18ZooWJ\n",
              "Zl0RGuDGZQAAdF7EJTqdb445o/Ljg+eicuqIEC2YbNbwAUQlAACtibhEp/HV0TKlplv0yVfHJUkm\n",
              "kzR1xAAtnGzW0BB/N68DAKBrIC7R4R08UqaUdIv+9fW5qPz5iAFamGjWkP5EJQAAbYm4RId1oMgZ\n",
              "lWnfnIvKW68O1YLJMTITlQAAuAVxiQ7ny6JSpaRZlP7tCUmSh0m6bWSo5k82K6ZfTzevAwCgayMu\n",
              "0WHsO1yqlLRDyvzupCRnVE67JkzzJ8coOpioBACgPSAu0e7tLfxeKekWZZ0XldNHhWl+QoyiiEoA\n",
              "ANoV4hLt1ucFzqjMPuSMSk8Pk25viMrIvj3cvA4AAFwMcYl25zPraaWkW7TVckqSMypnjHI+/B0R\n",
              "RFQCANCeEZdoN/ZYTyslzaJtOc6o9PIw6ZfXDtRvEmIUHtTdzesAAEBTEJdwu115JUpJt+jT3BJJ\n",
              "zqi8c8xAzYuP0aA+RCUAAB0JcQm32ZFbopT0Q9qZd1qS1M3TpDtGD9K8+GiiEgCADoq4RJsyDEM7\n",
              "8kqUkmbRrvxzUXnXmEFKio/WwN5EJQAAHRlxiTZhGIY+zXVG5W6rMyq9PT1093XOqAwN9HPzQgAA\n",
              "4ArEJVqVYRjanlOi59IO6bOC7yU5o/JXY51ROaAXUQkAQGdCXKJVGIahrZZTSkm36POzUenloXuu\n",
              "G6RHiUoAADot4hIuZRiGthw6qZR0i/YWlkqSfLw8dM/YcCXFR6t/gK97BwIAgFZFXMIlDMNQ1qGT\n",
              "SkmzaN/hUknOqLzv+gg9OilK/YhKAAC6BOISl8UwDGV+d0IpaRbtLyqTJPl2c0blrydFqZ8/UQkA\n",
              "QFdCXKJFDMNQ+jcnlJph0ZfnReUDsRGaOzFawf4+bl4IAADcodlxedNNN6m4uFgeHh7y9/dXamqq\n",
              "Ro0a1fjx119/XQ8//LA2bNig6dOnu3Ir2gHDMJT2zQmlpB/SwSPlkiS/bp6aeUOE5kyMUt+eRCUA\n",
              "AF1Zs+Ny3bp1CgwMlCRt2LBBs2bN0v79+yVJVqtVq1evVmxsrEtHwv0Mw9A/vz6u1HSLvjrqjMru\n",
              "3p564IYIzZ0QpSCiEgAAqAVxeTYsJamsrEwmk0mS5HA4NHv2bK1cuVJLlixx2UC4l8Nh6J9fFysl\n",
              "PUffHHNGZQ9vT80cF6k5E6LUp4e3mxcCAID2pEXPuZw5c6YyMzMlSZs3b5YkrVixQnFxcRo9evRP\n",
              "Xt9ms8lms11wzG63t2QKWonDYeiTr4qVkm7Rt8UVkpxROSsuUrPHR6k3UQkAAC6iRXG5du1aSdKa\n",
              "NWv02GOP6b//+7+1fv16ZWdnN+n6y5cv17Jlyy44xkPp7YPDYejjg8VKTbfou+POqOzp46VZ4yL1\n",
              "yPjBRCUAAPhRJsMwjMu5AT8/Pz355JNatWqVfHycz7srLi5WQECAli1bpqSkpB9c52L3XC5dulQp\n",
              "KSmXMwWXwe4wtPnAMa3MsOjQ8UpJkr+Plx6Ki9TD4wcrsDtRCQAAflqz7rksLS1VVVWVQkNDJUkb\n",
              "N25UUFCQfv/73+s//uM/Gi8XHx+vRYsWXfLV4j4+Po0hepanp2czp8MV7A5D/3fgmFLTLco50RCV\n",
              "vl56OG6wHo4brF7du7l5IQAA6EiaFZdlZWW68847VV1dLQ8PDwUHB2vTpk2NL+pBx2F3GNr05VGl\n",
              "pluUe/KMJCnA10sPjx+sh+IGq5cfUQkAAJqvWXEZERGh3bt3/+TlsrKyWroHraze7tDfvzyqlRk5\n",
              "ymuIyl5+3fTI+MGaFRepAF+iEgAAtBzv0NNF1Nsd+mi/MyrzTzmjMrB7N80eP1gPjouUP1EJAABc\n",
              "gLjs5OrtDm3cd1SrMiyyllRJckblnAlRmnlDBFEJAABcirjspOrsDm3Ye0TPZ+aooCEqe3fvpjkT\n",
              "ozTzhkj19OHUAwAA16MwOpk6u0MbvjiiVZk5KjztjMo+Pbw1d2KUHoiNUA+iEgAAtCJKo5Ooszu0\n",
              "/vMiPZ+Vo8OnqyVJQQ1ReT9RCQAA2gjF0cHV1jv0/udFej4zR0dKnVHZt6e3fj0xWvfFhqu7N6cY\n",
              "AAC0Hcqjg6qtd+hvnx/WC5m550Wljx6dFKX7ro+Qnzc/lB4AALQ94rKDsdXbte6zIr2YmaOjZTWS\n",
              "pGB/Hz06KVr3jg0nKgEAgFsRlx1ETZ1d6z47rBezcnWsISr7+fsoKT5a94wNl283ohIAALgfcdnO\n",
              "1dTZ9d4eZ1QWlzujMiTAV0nx0br7ukFEJQAAaFeIy3aqps6ud3cX6qUtuTpebpPkjMp5CdG6awxR\n",
              "CQAA2ifisp2pqbPr7V2FenlLrk5UOKMytJevkhJidNeYgfLxIioBAED7RVy2E9W1dr29q0AvZ+fp\n",
              "ZENUhgX6aV5CtO4YTVQCAICOgbh0s6raer29s1AvZ+fpVOW5qPxNQozuGD1Q3l4ebl4IAADQdMSl\n",
              "m1TV1uvNHQVavTVPpyprJUkDe/tpfkKMZlxLVAIAgI6JuGxjZ2z1enNngVZn56nkjDMqB/U5F5Xd\n",
              "PIlKAADQcRGXbaTSVq+1O6x6dWu+TjdEZURQd/0mIUa3jwojKgEAQKdAXLayipo6rd1RoFe35un7\n",
              "qjpJzqhcMNms6deEyouoBAAAnQhx2Uoqauq05lOrXt2Wr9KGqBzct4fmJ8RoGlEJAAA6KeLSxcpr\n",
              "6vTGdqte25avsmpnVEb17aEFiTG69WqiEgAAdG7EpYuUVdfp9e35+su2fJXX1EuSooJ7KDnRrF9c\n",
              "HSpPD5ObFwIAALQ+4vIylVXX6S/b8vWX7fmqaIjKmH49tWByDFEJAAC6HOKyhcqq6vTatjy9vt2q\n",
              "CpszKs39emphollTRwwgKgEAQJdEXDZTaVWtXtuWrzfOi8oh/XsqOXGIbrkqRB5EJQAA6MKIyyb6\n",
              "/kytXt2WpzWfFqiyISqHhfhrYaJZN19JVAIAAEjE5U86faZWq7fmae2nVp2ptUuShg8IUHJijG66\n",
              "gqgEAAA4H3F5CSWVNq3emq+1O6yqaojKKwYEKHmKWTcO709UAgAAXARx+W9OVdq0OjtPb+4saIzK\n",
              "K0MDlJxo1o1X9JfJRFQCAABcSrPj8qabblJxcbE8PDzk7++v1NRUDR8+XL/61a/09ddfy8/PT/36\n",
              "9dOLL76omJiY1tjcKk5W2PRKdq7e2lmo6jpnVI4I66XkRLMSh/cjKgEAAJqg2XG5bt06BQYGSpI2\n",
              "bNigWbNmadeuXZo7d65uueUWmUwmrVq1SrNnz1ZWVpaL57reiYoavbIlT2/tKlBNnUOSdPXAXlo0\n",
              "xayEoUQlAABAczQ7Ls+GpSSVlZXJZDLJ19dXU6dObTweGxurZ5991iUDW8uJ8hq9tCVPb+8qkK3e\n",
              "GZUjBwVqUaJZ8UODiUoAAIAWaNFzLmfOnKnMzExJ0ubNm3/w8ZSUFE2bNu2S17fZbLLZbBccs9vt\n",
              "LZnSbBU1dVrxr0N6Z1dhY1SOCg9UcqJZk4YQlQAAAJejRXG5du1aSdKaNWv02GOPXRCYzzzzjHJy\n",
              "cpSenn7J6y9fvlzLli274FhsbGxLpjSbj5en/vnVcdnqHbo2PFCLpgzRBHNfohIAAMAFTIZhGJdz\n",
              "A35+fioqKlJQUJCeffZZ/fWvf1VaWtoFD5//u4vdc7l06VKlpKRczpQm+9fXx+XbzUPjY4hKAAAA\n",
              "V2rWPZelpaWqqqpSaGioJGnjxo0KCgpSnz59tGLFCr377rs/GZaS5OPjIx8fnwuOeXp6Nm/5Zbjx\n",
              "iv5t9mcBAAB0Jc2Ky7KyMt15552qrq6Wh4eHgoODtWnTJh05ckRLlixRVFSUEhISJDkDcteuXa0y\n",
              "GgAAAO1Ts+IyIiJCu3fvvujHLvPRdQAAAHQCHu4eAAAAgM6DuAQAAIDLEJcAAABwGeISAAAALkNc\n",
              "AgAAwGWISwAAALgMcQkAAACXIS4BAADgMsQlAAAAXMZktJO31pkxY4YiIyPb5M+y2+3avXu3xo4d\n",
              "26bvaQ7X4Rx2fJzDjo3z1/FxDjs+d5zDiIgIJScn/+hl2k1ctqXy8nL16tVLZWVlCggIcPcctADn\n",
              "sOPjHHZsnL+Oj3PY8bXXc8jD4gAAAHAZ4hIAAAAuQ1wCAADAZbpkXPr4+OgPf/iDfHx83D0FLcQ5\n",
              "7Pg4hx0b56/j4xx2fO31HHbJF/QAAACgdXTJey4BAADQOohLAAAAuAxxCQAAAJfp1HG5cOFCRUZG\n",
              "ymQyad++fZe83GuvvSaz2azo6GjNmTNHdXV1bTcSl9SU85eRkaGxY8fqiiuu0JVXXqnf/e53cjgc\n",
              "bTsUl9TUr0FJMgxDkydPVmBgYJtsQ9M09RweOHBA8fHxGj58uIYPH64PPvig7Ubikppy/hwOhxYv\n",
              "XqwrrrhCV199tRISEpSTk9O2Q3FJNTU1mj59uoYMGaKRI0fqxhtvvOT52bRpk4YNGyaz2awZM2ao\n",
              "vLy8jdc6deq4vOOOO7Rt2zZFRERc8jL5+flaunSptm7dqpycHB0/flyvvPJKG67EpTTl/PXu3Vt/\n",
              "/etf9fXXX+vzzz/Xp59+qrVr17bhSvyYppzDs/785z8rOjq6DVahOZpyDquqqjRt2jQ9/fTT+uab\n",
              "b3Tw4EFNmDChDVfiUppy/j766CNt375d+/fv15dffqnExET9/ve/b8OV+Clz587Vd999p/3792va\n",
              "tGmaPXv2Dy5TWVmpRx55RBs3bpTFYlFoaKj+9Kc/uWFtJ4/LiRMnauDAgT96mffff1+33XabQkJC\n",
              "ZDKZ9Oijj+rdd99to4X4MU05f6NGjVJUVJQkydfXV9dcc42sVmsbrENTNOUcStJXX32ljRs36vHH\n",
              "H2+DVWiOppzDd955R7GxsRo/frwkydPTU8HBwW0xDz+hKefPZDLJZrOppqZGhmGovLy8SV+3aBu+\n",
              "vr6aOnWqTCaTJCk2Nvai3+c+/vhjjRo1SsOGDZMkzZs3z2094+WWP7UdKSwsvOD/6CIjI1VYWOjG\n",
              "RWip4uJivf/++9q0aZO7p6AZ6urqNGfOHL322mvy9PR09xy0wNdffy0fHx/94he/UFFRka6++mr9\n",
              "7//+L4HZQdx6663KzMxUSEiI/P39FRYWpi1btrh7Fi4hJSVF06ZN+8Hxi/XMsWPHVF9fLy+vts29\n",
              "Tn3PJbqO8vJy3Xrrrfrd736nMWPGuHsOmmHZsmWaMWOGhg8f7u4paKH6+nqlpaXp5Zdf1t69exUW\n",
              "FqakpCR3z0ITffbZZzp48KCOHDmio0ePKjExUY8++qi7Z+EinnnmGeXk5Gj58uXunvKjunxchoeH\n",
              "q6CgoPH3VqtV4eHhblyE5qqoqNDNN9+sadOmafHixe6eg2basmWLVq5cqcjISI0fP17l5eWKjIzU\n",
              "yZMn3T0NTRQeHq6EhASFhYXJZDLp/vvv186dO909C020du3axhfTeXh46MEHH1RmZqa7Z+HfPPvs\n",
              "s/rggw/08ccfq3v37j/4+MV6ZsCAAW1+r6VEXOqXv/ylPvroIxUXF8swDL300kv61a9+5e5ZaKLK\n",
              "ykrdfPPNuvnmm/Xkk0+6ew5aYOvWrSooKJDVatW2bdsUEBAgq9XKQ6odyF133aU9e/Y0vjJ18+bN\n",
              "GjlypJtXoamioqKUkZGh2tpaSc5XHF911VVuXoXzrVixQu+++67+9a9/XfInatx888364osv9O23\n",
              "30qSXnjhBff1jNGJzZ071wgLCzM8PT2Nfv36GdHR0YZhGMYjjzxifPjhh42Xe+WVV4yoqCgjKirK\n",
              "ePjhh43a2lp3TcZ5mnL+nn76acPLy8sYOXJk439PP/20O2fjPE39GjwrPz/f6NWrVxuvxI9p6jlc\n",
              "u3atceWVVxojRowwbr75ZqOwsNBdk3Geppy/mpoaY/bs2cawYcOMESNGGDfeeKORm5vrztk4z+HD\n",
              "hw1JRlRUVOP3ubFjxxqGYRhLly41XnzxxcbLfvjhh8bQoUON6OhoY9q0aUZpaalbNvPe4gAAAHCZ\n",
              "Lv+wOAAAAFyHuAQAAIDLEJcAAABwGeISAAAALkNcAgAAwGWISwAAALgMcQkAAACXIS4BAADgMsQl\n",
              "AAAAXIa4BAAAgMsQlwAAAHCZ/x9TzIHf/nKOXgAAAABJRU5ErkJggg==\n",
              "\">\n",
              "      </div>\n",
              "      <script type=\"text/javascript\">\n",
              "        (() => {\n",
              "          const chartElement = document.getElementById(\"chart-0cebcf40-fadf-422e-b457-0170a80fc4c3\");\n",
              "          async function getCodeForChartHandler(event) {\n",
              "            const chartCodeResponse =  await google.colab.kernel.invokeFunction(\n",
              "                'getCodeForChart', [\"chart-0cebcf40-fadf-422e-b457-0170a80fc4c3\"], {});\n",
              "            const responseJson = chartCodeResponse.data['application/json'];\n",
              "            await google.colab.notebook.addCell(responseJson.code, 'code');\n",
              "          }\n",
              "          chartElement.onclick = getCodeForChartHandler;\n",
              "        })();\n",
              "      </script>\n",
              "      <style>\n",
              "        .colab-quickchart-chart-with-code  {\n",
              "            display: block;\n",
              "            float: left;\n",
              "            border: 1px solid transparent;\n",
              "        }\n",
              "\n",
              "        .colab-quickchart-chart-with-code:hover {\n",
              "            cursor: pointer;\n",
              "            border: 1px solid #aaa;\n",
              "        }\n",
              "      </style>"
            ]
          },
          "metadata": {}
        },
        {
          "output_type": "display_data",
          "data": {
            "text/plain": [
              "from matplotlib import pyplot as plt\n",
              "_df_7['income'].plot(kind='line', figsize=(8, 4), title='income')\n",
              "plt.gca().spines[['top', 'right']].set_visible(False)"
            ],
            "text/html": [
              "      <div class=\"colab-quickchart-chart-with-code\" id=\"chart-2cc10336-b3f0-46b1-b8bb-4b117fa67980\">\n",
              "        <img style=\"width: 180px;\" src=\"data:image/png;base64,iVBORw0KGgoAAAANSUhEUgAAArMAAAFuCAYAAACSr5B3AAAAOnRFWHRTb2Z0d2FyZQBNYXRwbG90\n",
              "bGliIHZlcnNpb24zLjEwLjAsIGh0dHBzOi8vbWF0cGxvdGxpYi5vcmcvlHJYcgAAAAlwSFlzAAAP\n",
              "YQAAD2EBqD+naQAAOllJREFUeJzt3Xl0lPXd//9XFhK2JEBYkpA9M2FfRMCwExJb6q0FUfm17lVA\n",
              "3AiHu63ab717+6unHHtbblkUilKKolZU6q5fS0ICQYQoAiIKM1nIRggkkIWQSTK5vn9MCKRFG2CS\n",
              "WfJ8nDPn4PWZ5X1xkfD0Yq6Jj2EYhgAAAAAP5OvqAQAAAIArRcwCAADAYxGzAAAA8FjELAAAADwW\n",
              "MQsAAACPRcwCAADAYxGzAAAA8FjELAAAADwWMQsAAACPRcwCQCf5yU9+ot///veuHgMAvIoPP84W\n",
              "AAAAnoozswAAAPBYxCwAdJKZM2fqt7/9rSTJx8dHq1ev1pQpU9S7d2+NGjVK2dnZbe6/adMmjR07\n",
              "ViEhIRo0aJDS0tJa13bv3q1p06apb9++iouL0+OPPy6bzda6Hhsbq//+7//Wj3/8Y/Xu3Vtms1kZ\n",
              "GRnKzMzU6NGjFRQUpNTUVJWVlbU+pr6+Xr/5zW+UkJCgvn37avr06frqq686+HcFAK4OMQsALvLS\n",
              "Sy9p06ZNOnPmjFJSUnTHHXe0WfvlL3+pZ599VhUVFbJarZo3b54kqbCwUKmpqbrlllt04sQJffrp\n",
              "p3r//ff12GOPtXn+jRs36o9//KOqqqr005/+VHfccYdWrVql9PR0lZaWqq6uTr/73e9a77948WLt\n",
              "3btXWVlZOnnypObPn68f//jHOnPmTKf8fgDAlSBmAcBF/vM//1Mmk0n+/v5auHChCgsLdeLECUnS\n",
              "c889p8cee0ypqany9/dXUFCQZsyYIUl69dVXlZiYqKVLlyogIEBms1lPP/201q9fr4svg1iwYIHG\n",
              "jBkjPz8/3X333SorK9OvfvUrDRgwQEFBQbrlllu0d+9eSVJFRYU2bdqk559/XpGRkfL399cjjzyi\n",
              "kJAQffDBB53/mwMA7eTv6gEAoKuKiIho/XWvXr0kSTU1NRo0aJDy8/M1ZMiQSz6uqKhICQkJbbaZ\n",
              "TCadO3dOJ0+e1MCBAyVJ4eHh//L8/7ytpqZGkmS1WiVJ1113XZvnbWhoUHFx8RXtHwB0BmIWANxQ\n",
              "bGysjh49esm1qKgoff7552225ebmqkePHhowYMAVvV5YWJgk6eDBg4qOjr6i5wAAV+BtBgDghtLS\n",
              "0vTMM88oIyNDdrtdNTU1ysrKkiTdfvvtOnLkiFavXq2Ghgbl5ubqySef1IIFC+Tj43NFrxcTE6O5\n",
              "c+fq4Ycf1rFjxyQ5zhJ//PHHOn78uNP2CwCcjZgFADe0aNEiLV++XEuXLlXfvn1lNpv1zjvvSHKE\n",
              "56effqo33nhDAwcO1KxZs/STn/xEf/zjH6/qNV977TVde+21uv766xUUFKQhQ4boxRdfFB9HDsCd\n",
              "8UMTAAAA4LE4MwsAAACPRcwCAADAYxGzAAAA8FjELAAAADwWMQsAAACPRcwCAADAYxGzAAAA8Fhd\n",
              "NmZXrlzp6hEAAABwlbpszJ7/cY0AAADwXF02ZgEAAOD5iFkAAAB4LGIWAAAAHouYBQAAgMciZgEA\n",
              "AOCxiFkAAAB4LGIWAAAAHouYBQAAgMe6rJhdsmSJYmNj5ePjo/3790uS6uvrNXfuXCUmJmrMmDG6\n",
              "/vrrZbVaWx9TXl6u2bNny2w2a+TIkdqxY0eHrgEAAKDruKyYvfXWW5Wdna2YmJg22xctWqQjR47o\n",
              "wIEDmjNnjhYsWNC69vjjjyspKUkWi0UbN27U7bffrsbGxg5bAwAAQNdxWTE7ffp0RUZGttnWvXt3\n",
              "3XDDDfLx8ZEkJSUlqaCgoHV9y5YtWrx4sSRpwoQJioiIUFZWVoetAQAAwPkMw1CTvdnVY/wLf2c/\n",
              "4cqVKzVnzhxJUkVFhRobGxUWFta6Hhsbq8LCwg5Z+z42m002m63NNrvdftX7CgAA4O0Mw9A/Dp/Q\n",
              "qgyL5o4drAXT4l09UhtOjdk//OEPslqtSk9Pd+bTXrXly5frqaeearMtKSnJRdMAAAC4v+ZmQ58e\n",
              "PqFV6RYdPl4tSaqtb9J9U+Lk6+vj4ukucNqnGTz77LPaunWrPv74Y/Xs2VOSFBoaKn9/f5WVlbXe\n",
              "r6CgQNHR0R2y9n2eeOIJVVVVtblNnDjRWbsOAADgNZqbDX1y6LhuWLVTizd/qcPHq9UrwE8PJydo\n",
              "60NT3CpkJSfF7IoVK/T666/rH//4h/r06dNm7bbbbtO6deskSTk5OSopKdGMGTM6bO1SAgMDFRwc\n",
              "3Obm5+fnjF0HAADwCs3Nhj76+nzE7tN3ZTXqHeivR5JNyn5sln7146Hq1yvA1WP+Cx/DMIz23vmB\n",
              "Bx7Qhx9+qLKyMoWGhiooKEiZmZmKiopSfHy8goKCJDnicc+ePZKkEydO6K677lJ+fr4CAgK0Zs0a\n",
              "JScnd9haey1btkwrVqy4rMcAAAB4m+ZmQx8dOq7V6VYdOVEjSQoK9NcvpsTqvqlx6tPT/QL2YpcV\n",
              "s96EmAUAAF2ZveVM7Kp0iyzltZKkoO7+um9KnO6bEqeQnt1cPGH7OP3TDAAAAOC+7M2GPjhYqtUZ\n",
              "VllbIja4u7/umxqnX0yJU0gPz4jY84hZAACALsDebOj9A6VanWFR7smzkhwRu2BavO6dEqvg7p4V\n",
              "secRswAAAF6syd6s9w+WanW6VXmnHBEb0qObFkyN0z0eHLHnEbMAAABeqMnerHf3l2rNdqvyWyK2\n",
              "T89uWjgtXndPilGQh0fsecQsAACAF2myN+vvX5Xo+e1WFVTUSZL69uymhdPjdfekWPUO9K788669\n",
              "AQAA6KIaWyJ2TYZVhZWOiO3XK6D1TGwvL4vY87xzrwAAALqIRnuztu4r1prtVhVVnpMkhfYK0KLp\n",
              "8bozyXsj9jzv3jsAAAAv1dB0IWKLTzsitn/vAD0wPUF3JEWrZ0DXyLyusZcAAABeoqGpWW99Wazn\n",
              "t1tVcuZ8xAZq8Yx43XFdjHoE+Ll4ws5FzAIAAHgAW5Ndb35RrLWZua0ROyAoUItnJOj2idFdLmLP\n",
              "I2YBAADcmK3Jri1fFGvtdqtKq+olSQODAvXgzAT9fGK0unfrmhF7HjELAADghuob7dryRZHWZubq\n",
              "eEvEDgoO1IMzEvQzIrYVMQsAAOBG6hvt+tveQq3NytWJapskKSy4ux5KTtD88VFE7D8hZgEAANxA\n",
              "faNdr+8t1LqLIjY8pLseSjZp/vhIBfoTsZdCzAIAALhQfaNdr+5xROzJGkfERrRE7G1E7L9FzAIA\n",
              "ALjAuQa7Xt1zTOuy8nSq1hGxg/v00MPJJt16baQC/H1dPKFnIGYBAAA6UV1Dk179vFB/3pGrU7UN\n",
              "kqTIvj30SLJJ88YRsZeLmAUAAOgEdQ1NemX3Ma3fkaeKs46Ijep3IWK7+RGxV4KYBQAA6EBnbU16\n",
              "efcxvbgzT5UtERsT2lMPJ5t08zWDidirRMwCAAB0gFpbk17eXaAXd+TpdF2jJEfEPjrLrLljI+RP\n",
              "xDoFMQsAAOBENfWNrWdiz7REbFz/Xnok2aQ5RKzTEbMAAABOUFPfqL/uKtBL2fmqOueI2Pj+vfRo\n",
              "ikk3jSZiOwoxCwAAcBWqWyJ2w8URO6CX0lLMunF0hPx8fVw8oXcjZgEAAK5A1blGbdyVr79k56u6\n",
              "vkmSZBrYW4/OMhGxnYiYBQAAuAxVdY3asCtfG3flq6YlYs0De2tJilk3jAonYjsZMQsAANAOZ+oa\n",
              "9JfsfG3cVaAamyNiEwf1VlpKon4yMky+RKxLELMAAAA/4PTZBm3IztdfPytQbUvEDg0L0pIUs2aP\n",
              "IGJdjZgFAAC4hMqzDXppZ542fVagsw12SdKw8GClpZj0o+FErLsgZgEAAC5SebZBL+7M08sXRezw\n",
              "8GClpZp1/bBBRKybIWYBAAAkVdTatH5nnl7ZfUx1LRE7IiJYaSlmXT98kHx8iFh3RMwCAIAu7VSt\n",
              "Tet3OCL2XKMjYkcNDlFailkpwwYSsW6OmAUAAF3SyRqb1u/I1ebPC1sjdnRkiJammpU8hIj1FMQs\n",
              "AADoUspr6vXnrDy9uueY6hubJUljovpoaYpZM4cMIGI9DDELAAC6hPLqeq3NytVrewpla3JE7DXR\n",
              "fZSWYtaMRCLWUxGzAADAq52ortfazFy9vvdCxI6L7qOlqYmaZu5PxHo4YhYAAHilsqp6rc206vWc\n",
              "IjW0ROz4mL5KSzVrqomI9RbELAAA8CqlZ85pbWau3sgpUoPdEbETY/spLdWsyQmhRKyXIWYBAIBX\n",
              "KD1zTi9kWrUlp/hCxMb109JUsybFE7HeipgFAAAerfh0nV7IzNWbXxSp0W5IkpLi+yktJVGTEkJd\n",
              "PB06GjELAAA8UlGlI2Lf+vJCxE6KD1VaqllJ8URsV0HMAgAAj1JUWafnt1v11pfFamp2ROwUU6jS\n",
              "UhI1Ma6fi6dDZ/O9nDsvWbJEsbGx8vHx0f79+//tdkmyWCyaPHmyEhMTNWHCBH3zzTcdugYAALxT\n",
              "YUWdfv3WASU/m6m/5RSpqdnQNHN/vbV4kl5dkETIdlGXFbO33nqrsrOzFRMT067tkvTAAw9o0aJF\n",
              "Onr0qB577DHde++9HboGAAC8y7GKs/rVmweU/KdMbfmiuDVi335wkl65/zqNjyViuzIfwzCMy31Q\n",
              "bGys3nnnHY0dO/YHt5eXl8tkMqmyslL+/v4yDEPh4eHKzs5WcHCw09dMJlO792HZsmVasWLF5e46\n",
              "AADoJAWnzmp1hlXv7C+RveXtBDMSB2hJilnXxvR18XRwFx36ntmioiKFh4fL39/xMj4+PoqOjlZh\n",
              "YaFCQkKcvvZ9MWuz2WSz2dpss9vtHbXbAADgKuSdrNWalohtaVglD3FE7DXRRCza6hIXgC1fvlxP\n",
              "PfVUm21JSUkumgYAAFxKbkvEvntRxM4aOlBLUswaG9XHpbPBfXVozEZFRen48eNqampqfUtAYWGh\n",
              "oqOjFRwc7PS17/PEE09o2bJlbbY9+eSTHbnrAACgnazltVqdYdH7B0pbIzZ1mCNiR0f2celscH+X\n",
              "dQHY5Ro4cKDGjRunzZs3S5LefvttRUZGymQydcja9wkMDFRwcHCbm5+fX0fuOgAA+DcsJ2r06Otf\n",
              "6fr/zdK7+x0he/3wQfrg0al66Z4JhCza5bIuAHvggQf04YcfqqysTKGhoQoKCpLVav3e7ZJ05MgR\n",
              "3XvvvaqoqFBwcLA2btyoUaNGddhae3EBGAAArnH0RI1WpVv04dfHdb5CfjR8kJakmDVycIhrh4PH\n",
              "uaJPM/AGxCwAAJ3rSJkjYj86dCFiZ48I06MpJo2IIGJxZbrEBWAAAMB1vj1erVXpFn18qKx12w2j\n",
              "wvToLLOGhQe7cDJ4A2IWAAB0iMOljoj95BtHxPr4SDeMDNejKSYNDSNi4RzELAAAcKpDJVValW7R\n",
              "p4dPSHJE7H+MCteSFLMSBwW5eDp4G2IWAAA4xaGSKj23zaJt316I2JtGR+jRWSaZiVh0EGIWAABc\n",
              "la+Lq7Qy/ai2fVsuSfL1kW4a44hY00AiFh2LmAUAAFfkQNEZrUy3KOO7CxE7Z+xgPTLLpIQBvV08\n",
              "HboKYhYAAFyWrwpPa2W6RZlHTkpyROzcawbrkWST4olYdDJiFgAAtMu+wtNauc2irKOOiPXz9dHc\n",
              "ljOxcf17uXg6dFXELAAA+EFfHqvUc9ss2mk5JckRsfOuGayHk02KJWLhYsQsAAC4pJyCSq3cZlG2\n",
              "1RGx/r4+umVcpB5ONik6tKeLpwMciFkAANDG3vxKrUw/ql3WCkmOiL31WkfERvUjYuFeiFkAACBJ\n",
              "+jyvQiu3WbQ7zxGx3fx8dOu1UXpoZgIRC7dFzAIA0MXtzq3Qc9uOak9+pSRHxM4fH6UHZyYosi8R\n",
              "C/dGzAIA0AUZhuGI2HSL9rZEbICfr+ZPiNSDM00a3KeHiycE2oeYBQCgCzEMQ5+1nInNKTgtyRGx\n",
              "P5sYpcUzEhRBxMLDELMAAHQBhmEo23pKK7dZ9MWxloj199XPJ0Rp8cwEhYcQsfBMxCwAAF7MMAzt\n",
              "sJzSym1Hta/wjCRHxN4+MVoPzkzQoODurh0QuErELAAAXsgwDGUdPanntlm0v+iMJCnQ31e3Xxet\n",
              "xTOIWHgPYhYAAC9iGIYyj5zUc+kWHWiJ2O7dfHXHdTF6YHq8BhKx8DLELAAAXsAwDGV8V66V6RYd\n",
              "LK6S5IjYu5JitGh6ggYEBbp4QqBjELMAAHgwwzCU/q0jYr8ucURsj25+umtSjBZOiydi4fWIWQAA\n",
              "PJBhGPrH4RNalWHRoZJqSVLPgAsR2783EYuugZgFAMCDNDcb+vTwCa1Kt+jwcUfE9grw092TY7Vw\n",
              "Wrz69Qpw8YRA5yJmAQDwAI6ILdNz2yz6rqxGkiNi75kcqwVELLowYhYAADfW3Gzok2/KtCr9QsT2\n",
              "DvTXvZNjdf/UOPUlYtHFEbMAALih5mZDHx06rtXpVh054YjYoEB//WJKrO6bGqc+PYlYQCJmAQBw\n",
              "K/ZmQx99fVyr0i2ylNdKkoK6++sXU+J0/5Q4hfTs5uIJAfdCzAIA4AbszYY+OFiq1RlWWVsiNri7\n",
              "v+6bGqdfTIlTSA8iFrgUYhYAABeyNxt6/0CpVmdYlHvyrCRHxC6YFq97p8QquDsRC/wQYhYAABdo\n",
              "sjfr/YOlWp1uVd4pR8SG9OimBVPjdA8RC7QbMQsAQCdqsjfr3f2lWrPdqvyWiO3Ts5sWTovX3ZNi\n",
              "FETEApeFmAUAoBM02Zv1969K9Px2qwoq6iRJfXt208Lp8bp7Uqx6B/JXMnAl+MoBAKADNbZE7JoM\n",
              "qworHRHbr1dA65nYXkQscFX4CgIAoAM02pu1dV+x1my3qqjynCQptFeAFk2P151JRCzgLHwlAQDg\n",
              "RA1NzXp7X7Ge325V8WlHxPbvHaAHpifojqRo9Qzgr17AmfiKAgDACRqamvXWl46ILTlzPmIDtXhG\n",
              "vO64LkY9AvxcPCHgnYhZAACugq3Jrje/KNbazNzWiB0QFKjFMxJ0+8RoIhboYMQsAABXwNZk15ac\n",
              "Iq3NzFVpVb0kaWBQoB6cmaCfT4xW925ELNAZiFkAAC5DfaNdW74o0gvbc1VW7YjYQcGBenBGgn5G\n",
              "xAKdjpgFAKAd6hvt+tveQq3NytWJapskKSy4ux5KTtD88VFELOAixCwAAD+gvtGu1/YUal1Wrspr\n",
              "HBEbHtJdDyWbNH98pAL9iVjAlXwv585LlixRbGysfHx8tH///tbtFotFkydPVmJioiZMmKBvvvnG\n",
              "ZWsAADhDfaNdG7LzNe2P2/X/f3BY5TU2RYR019NzRyrzVzN1V1IMIQu4gcuK2VtvvVXZ2dmKiYlp\n",
              "s/2BBx7QokWLdPToUT322GO69957XbYGAMDVONdg10s78zT1me36/QeHdbLGpsF9eugPN49S5q+S\n",
              "dScRC7gVH8MwjMt9UGxsrN555x2NHTtW5eXlMplMqqyslL+/vwzDUHh4uLKzsxUcHNypayaTqd37\n",
              "sGzZMq1YseJydx0A4KXqGpq0+fNjWr8jT6dqGyRJkX176OFkk24ZF6kA/8s6/wOgk1z1e2aLiooU\n",
              "Hh4uf3/HU/n4+Cg6OlqFhYUKCQnp1LXvi1mbzSabzdZmm91uv9pdBwB4gbqGJr2y2xGxFWcdERvV\n",
              "r4ceSTZp3rhIdfMjYgF31iUuAFu+fLmeeuqpNtuSkpJcNA0AwB2ctTXp5d3H9OLOPFW2RGx0v556\n",
              "ZJZJN18zmIgFPMRVx2xUVJSOHz+upqam1n/2LywsVHR0tIKDgzt17fs88cQTWrZsWZttTz755NXu\n",
              "OgDAA9XamrTpswK9tDNPp+saJUkxoT31SLJJc4lYwONc9VfswIEDNW7cOG3evFmS9PbbbysyMlIm\n",
              "k6nT175PYGCggoOD29z8/HjzPgB0JTX1jXp+u1VTn8nQ//zfIzpd16i4/r30p9vGKH3ZDN02PoqQ\n",
              "BTzQZV0A9sADD+jDDz9UWVmZQkNDFRQUJKvVqiNHjujee+9VRUWFgoODtXHjRo0aNUqSOn2tvbgA\n",
              "DAC6hpr6Rv11V4Feys5X1TnHmdj4/r30aIpJN42OkD8BC3i0K/o0A29AzAKAd6uub9TG7AJtyM5T\n",
              "dX2TJCl+QC8tmWXWTWMi5Ofr4+IJAThDl7gADADQdVSda9TGXfn6S3Z+a8SaBvbWo7NMunE0EQt4\n",
              "G2IWAOAVquoatWFXvjbuyldNS8SaB/bWkhSzbhgVTsQCXoqYBQB4tDN1DfpLdr427ipQjc0RsYmD\n",
              "WiJ2ZLh8iVjAqxGzAACPdPpsgzZk5+uvnxWotiVih4YFaUmKWbNHhBGxQBdBzAIAPErl2Qa9tDNP\n",
              "mz4r0NkGx09zHBoWpKWpZv1oOBELdDXELADAI1SebdCLO/P08kUROzw8WEtSzPrR8EFELNBFEbMA\n",
              "ALdWUWvT+p15emX3MdW1ROyIiGClpZh1/fBB8vEhYoGujJgFALilU7U2rd/hiNhzjY6IHTk4WEtT\n",
              "EpUybCARC0ASMQsAcDMna2xavyNXmz8vbI3Y0ZEhSksxa9ZQIhZAW8QsAMAtlNfU689ZeXp1zzHV\n",
              "NzZLksZE9dHSFLNmDhlAxAK4JGIWAOBS5dX1WpuVq9f2FMrW5IjYsVF9tDTVrBmJRCyAH0bMAgBc\n",
              "4kR1vdZm5ur1vRcidlx0H6WlJmq6uT8RC6BdiFkAQKcqq6rX2kyrXs8pUkNLxI6P6au0VLOmmohY\n",
              "AJeHmAUAdIrSM+e0NjNXb+QUqcHuiNgJsX21NDVRkxNCiVgAV4SYBQB0qJIz57Q206otOcWtETsx\n",
              "rp+Wppg1iYgFcJWIWQBAhyg+XacXMnP15hdFarQbkqSk+H5KS0nUpIRQF08HwFsQswAApyqqdETs\n",
              "W19eiNhJ8aFKSzUrKZ6IBeBcxCwAwCmKKuv0/Har3vqyWE3NjoidYgpVWkqiJsb1c/F0ALwVMQsA\n",
              "uCqFFXVas92irftKWiN2mrm/0lLMGh9LxALoWMQsAOCKHKs4qzUZVm39qkT2iyJ2aapZ18YQsQA6\n",
              "BzELALgs+accEfvO/gsROyNxgJakmHVtTF8XTwegqyFmAQDtkneytjViWxpWM4cMUFqKWddEE7EA\n",
              "XIOYBQD8oNyWiH33ooidNXSglqSYNTaqj0tnAwBiFgBwSdbyGq3OsOr9A6WtEZs6zBGxoyP7uHQ2\n",
              "ADiPmAUAtGE5UaNVGVZ9cLBURmvEDlJailmjIkNcOxwA/BNiFgAgSTp6okar0i368OvjrRH7o+GD\n",
              "tCTFrJGDiVgA7omYBYAu7ruyaq1Ot+qjQxcidvaIMD2aYtKICCIWgHsjZgGgi/r2eLVWpVv08aGy\n",
              "1m0/GRmmJSlmDQsPduFkANB+xCwAdDGHSx0R+8k3joj18ZFuGBmuR1NMGhpGxALwLMQsAHQRh0qq\n",
              "tCrdok8Pn5DkiNj/GBWuJSlmJQ4KcvF0AHBliFkA8HKHSqr03DaLtn17IWJvHB2hJbNMMhOxADwc\n",
              "MQsAXurr4iqtTD+qbd+WS5J8faSbxkTo0VkmmQYSsQC8AzELAF7mQNEZrUy3KOO7CxE7Z+xgPTLL\n",
              "pIQBvV08HQA4FzELAF7iq8LTWpluUeaRk5IcETu3JWLjiVgAXoqYBQAPt6/wtFZusyjrqCNi/Xx9\n",
              "WiM2rn8vF08HAB2LmAUAD/XlsUo9t82inZZTkhwRO++awXo42aRYIhZAF0HMAoCHySmo1MptFmVb\n",
              "HRHr7+ujeeMcERsTSsQC6FqIWQDwEHvzK7Uy/ah2WSskOSL21msj9XCySVH9erp4OgBwDWIWANzc\n",
              "53kVWrnNot15FyL2tvFRemhmAhELoMsjZgHATe3OrdBz245qT36lJKmb34WIjexLxAKARMwCgFsx\n",
              "DMMRsekW7W2J2AA/X82fEKkHZ5o0uE8PF08IAO7F15lP9sknn2j8+PEaPXq0kpKSdODAAUlSeXm5\n",
              "Zs+eLbPZrJEjR2rHjh2tj+mINQDwNIZhaJf1lOb/ebduf2mP9uZXKsDPV3clxSjzVzP19NxRhCwA\n",
              "XILTzsyePn1ad9xxh3bs2KERI0Zo586duuOOO3To0CE9/vjjSkpK0ieffKKcnBzdfPPNys/PV7du\n",
              "3TpkDQA8hWEYyrae0sptFn1x7LQkKcDfVz+fEKXFMxMUHkLAAsAPcVrM5ubmKjQ0VCNGjJAkTZs2\n",
              "TYWFhdq3b5+2bNkiq9UqSZowYYIiIiKUlZWl1NTUDlkDAHdnGIZ2WE5p5baj2ld4RpIjYm+fGK0H\n",
              "ZyZoUHB31w4IAB7CaTFrNptVUVGhzz77TJMnT9Z7772nmpoa5efnq7GxUWFhYa33jY2NVWFhoSoq\n",
              "Kpy+dik2m002m63NNrvd7qxdB4B2MwxDWUdP6rltFu0vOiNJCvT31e3XRWvxDCIWAC6X02I2JCRE\n",
              "b731lp544gnV1tZq0qRJGj58uGpra531Elds+fLleuqpp9psS0pKctE0ALoiwzCUeeSknku36EBL\n",
              "xHbv5qs7rovRA9PjNZCIBYAr4tRPM0hOTlZycrIkx9nQsLAwTZkyRf7+/iorK2s9k1pQUKDo6GiF\n",
              "hoY6fe1SnnjiCS1btqzNtieffNKZuw4Al2QYhjK+K9fKdIsOFldJckTsXUkxWjQ9QQOCAl08IQB4\n",
              "Nqd+msHx48dbf/373/9es2bNkslk0m233aZ169ZJknJyclRSUqIZM2ZIUoes/bPAwEAFBwe3ufn5\n",
              "+Tlz1wGgDcMwtO3wCf10zS7dv+kLHSyuUo9uflo0PV47fz1L/+c/hhOyAOAETj0z+1//9V/auXOn\n",
              "mpqaNGnSJG3YsEGS9Mwzz+iuu+6S2WxWQECANm/e3PqpAx2xBgCuYhiG/nH4hFZlWHSopFqS1DPA\n",
              "T3dNitHCafHq35uABQBn8jEMw3D1EK6wbNkyrVixwtVjAPASzc2GPj18QqvSLTp83BGxvQL8dPfk\n",
              "WC2YGqdQIhYAOgQ/AQwAroIjYsv03DaLviurkeSI2Hsmx2rBtHj16xXg4gkBwLsRswBwBZqbDX3y\n",
              "TZlWpV+I2N6B/rp3cqzunxqnvkQsAHQKYhYALkNzs6GPDh3X6nSrjpxwRGxQoL9+MSVW902NU5+e\n",
              "RCwAdCZiFgDawd5s6KOvj2tVukWWcsfnZwd199cvpsTp/ilxCunJBagA4ArELAD8AHuzoQ8Olmp1\n",
              "hlXWiyL2/qlx+sWUOIX0IGIBwJWIWQC4BHuzofcPlGp1hkW5J89KkoK7++v+qfG6d0osEQsAboKY\n",
              "BYCLNNmb9f7BUq1OtyrvlCNiQ3p004KpcbpnSqyCuxOxAOBOiFkAkCNi391fqjXbrcpvidg+Pbtp\n",
              "4bR43T0pRkFELAC4JWIWQJfWZG/W378q0fPbrSqoqJMk9e3ZTQumxeueybHqHci3SQBwZ3yXBtAl\n",
              "NbZE7JoMqworHRHbr1dA65nYXkQsAHgEvlsD6FIa7c3auq9Ya7ZbVVR5TpIU2itAi6bH684kIhYA\n",
              "PA3ftQF0CQ1NzXp7X7Ge325V8WlHxPbvfSFiewbw7RAAPBHfvQF4tYamZr31pSNiS86cj9hALZ4R\n",
              "rzuui1GPAD8XTwgAuBrELACvZGuy680virU2M7c1YgcEBWrxjATdPjGaiAUAL0HMAvAqtia7tuQU\n",
              "6YXMXB2vqpckDTwfsddFq3s3IhYAvAkxC8Ar1DfateWLIr2wPVdl1Y6IHRQcqAdnJOhnE4lYAPBW\n",
              "xCwAj1bfaNff9hZqbVauTlTbJElhwd31UHKC5o+PImIBwMsRswA8Un2jXa/tKdS6rFyV1zgiNjyk\n",
              "ux6amaD5E6IU6E/EAkBXQMwC8Cj1jXa92hKxJ1siNiKkux5KNum28ZFELAB0McQsAI9wrsGuV/cc\n",
              "07qsPJ2qdUTs4D499HCySbdeG6kAf18XTwgAcAViFoBbq2to0ubPj2n9jjydqm2QJEX2dUTsLeOI\n",
              "WADo6ohZAG6prqFJr+x2RGzFWUfERvXroUeSTZo3LlLd/IhYAAAxC8DNnLU16eXdx/TizjxVtkRs\n",
              "dL+eemSWSTdfM5iIBQC0QcwCcAu1tiZt+qxAL+3M0+m6RklSTGhPPZJs0lwiFgDwPYhZAC5VU9/Y\n",
              "eib2TEvExvXvpUeSTZozNkL+RCwA4AcQswBcorq+UZt2Feil7HxVnXNEbHz/Xno0xaSbRhOxAID2\n",
              "IWYBdKrq+kZtzC7Qhuw8Vdc3SZLiB/TSkllm3TQmQn6+Pi6eEADgSYhZAJ2i6lyjNu7K11+y81sj\n",
              "1jSwtx6dZdKNo4lYAMCVIWYBdKiqukZt2JWvjbvyVdMSseaBvbUkxawbRoUTsQCAq0LMAugQZ+oa\n",
              "tCE7X3/dVaAamyNiEwe1ROzIcPkSsQAAJyBmATjV6bMtEftZgWpbInZoWJCWpJg1e0QYEQsAcCpi\n",
              "FoBTVJ5t0Es787TpswKdbbBLckTs0lSzfjSciAUAdAxiFsBVqai16cWd+Xp5d4HqWiJ2eHiwlqSY\n",
              "9aPhg4hYAECHImYBXJGKWpvW78zTK7uPtUbsiIhgpaWYdf3wQfLxIWIBAB2PmAVwWU7V2rR+hyNi\n",
              "zzU6Inbk4GAtTUlUyrCBRCwAoFMRswDapbymXuuz8rR5zzHVNzZLkkZHhigtxaxZQ4lYAIBrELMA\n",
              "flB5Tb3+nJWnVy+K2DFRfbQ0xayZQwYQsQAAlyJmAVxSeXW91mbl6rU9hbI1OSJ2bFQfLU01a0Yi\n",
              "EQsAcA/ELIA2yqrqtS4rV6/tLVRDS8SOi+6jtNRETTf3J2IBAG6FmAUgyRGxazOtej2nqDVix8f0\n",
              "VVqqWVNNRCwAwD0Rs0AXV3rmnNZm5uqNnCI12B0ROyG2r5amJmpyQigRCwBwa77OfLKPPvpI48aN\n",
              "09ixYzVy5Eht2rRJklReXq7Zs2fLbDZr5MiR2rFjR+tjOmINwL9XcuacfvvO15r5P5l65fNjarA3\n",
              "a2JcP7224DpteWCSpnA2FgDgAZx2ZtYwDN15553KzMzU6NGjVVBQoKFDh2revHl6/PHHlZSUpE8+\n",
              "+UQ5OTm6+eablZ+fr27dunXIGoDvV3y6Ti9k5urNL4rUaDckSdfF9dPS1ERNSgh18XQAAFwep77N\n",
              "wMfHR2fOnJEkVVdXKzQ0VIGBgdqyZYusVqskacKECYqIiFBWVpZSU1M7ZA3AvyqqrNMLmVa99WVx\n",
              "a8ROig9VWqpZSfFELADAMzktZn18fPTGG29o3rx56tWrl06fPq2tW7eqpqZGjY2NCgsLa71vbGys\n",
              "CgsLVVFR4fS1S7HZbLLZbG222e12Z+064NaKKuv0/HZHxDY1OyJ2iilUaSmJmhjXz8XTAQBwdZwW\n",
              "s01NTXr66ae1detWTZ8+XTk5OfrpT3+q/fv3O+slrtjy5cv11FNPtdmWlJTkommAzlFYUac12y3a\n",
              "uq+kNWKnmvorLdWsCbFELADAOzjtArD9+/ertLRU06dPl+T4p//IyEgdPHhQ/v7+Kisra71vQUGB\n",
              "oqOjFRoa6vS1S3niiSdUVVXV5jZx4kRn7TrgVgpOndUv3zyg5D9lassXjrOx08z99faDk7R5wXWE\n",
              "LADAqzgtZqOionT8+HF9++23kiSr1arc3FwNGTJEt912m9atWydJysnJUUlJiWbMmCFJHbL2zwID\n",
              "AxUcHNzm5ufn56xdB9xC/qmz+s8tB5SyIktvfVkse7OhGYkD9PaDk/XK/dfp2hgiFgDgfZz2NoNB\n",
              "gwZp/fr1mj9/vnx9fdXc3Kw1a9YoOjpazzzzjO666y6ZzWYFBARo8+bNrZ860BFrQFeSd7JWazKs\n",
              "emd/iVreTaCZQwYoLcWsa6L7unY4AAA6mI9hGIarh3CFZcuWacWKFa4eA7hi1vJarcmw6L0Dpa0R\n",
              "O2voQC1JMWtsVB+XzgYAQGfhJ4ABHsZaXqPVGVa9d6BU5/9XNHWYI2JHR/Zx6WwAAHQ2YhbwEJYT\n",
              "NVqVYdUHBy+O2EFKSzFrVGSIa4cDAMBFiFnAzR0pq9GqDIs++vp4a8T+aPggLUkxa+RgIhYA0LUR\n",
              "s4Cb+q6sWqvTrfrw6+Ot22aPCNOjKSaNiCBiAQCQiFnA7Xx7vFqr0i36+NCFz1H+ycgwLUkxa1h4\n",
              "sAsnAwDA/RCzgJs4XOqI2E++cUSsj490w8hwPZpi0tAwIhYAgEshZgEXO1RSpVXpFn16+IQkR8T+\n",
              "x6hwLUkxK3FQkIunAwDAvRGzgIscKqnSc9ss2vbthYi9cXSElswyyUzEAgDQLsQs0Mm+Lq7SyvSj\n",
              "2vZtuSTJ10e6aUyEHp1lkmkgEQsAwOUgZoFOcqDojFamW5Tx3YWInTN2sB6ZZVLCgN4ung4AAM9E\n",
              "zAId7KvC01qZblHmkZOSHBE7tyVi44lYAACuCjELdJB9hae1cptFWUcdEevn69MasXH9e7l4OgAA\n",
              "vAMxCzjZl8cq9dw2i3ZaTklyROy8awbr4WSTYolYAACcipgFnCSnoFIrt1mUbb0QsbeMc0RsTCgR\n",
              "CwBARyBmgau0N79SK9OPape1QpLk7+ujW6+N1MPJJkX16+ni6QAA8G7ELHCFPs+r0MptFu3OuxCx\n",
              "t42P0kMzE4hYAAA6CTELXKbduRV6bttR7cmvlCR187sQsZF9iVgAADoTMQu0g2EYjohNt2hvS8QG\n",
              "+Plq/oRIPTjTpMF9erh4QgAAuiZiFvgBhmFol7VCK9OPKqfgtCRHxP5/E6L04MwERRCxAAC4FDEL\n",
              "XIJhGMq2ntJz2yz68lhLxPr76ucTorR4ZoLCQ4hYAADcATELXMQwDO2wnNLKbUe1r/CMJEfE3j4x\n",
              "WotnJCgspLtrBwQAAG0Qs4AcEZt59KRWbrNof9EZSVKgv69uv84RsYOCiVgAANwRMYsuzTAMZR45\n",
              "qefSLTrQErHdu/nqjuti9MD0eA0kYgEAcGvELLokwzCU8V25VqZbdLC4SpIjYu9KitHC6fEaGETE\n",
              "AgDgCYhZdCmGYWjbt+ValW7R1yWOiO3RzU93TYrRwmnxGhAU6OIJAQDA5SBm0SUYhqF/HD6hlekW\n",
              "fVNaLUnqGXAhYvv3JmIBAPBExCy8WnOzoU8Pn9CqdIsOH3dEbK8AP909OVYLpsYplIgFAMCjEbPw\n",
              "Ss3Nhv7vN2VamW7Rd2U1khwRe8/kWC2YFq9+vQJcPCEAAHAGYhZepbnZ0CfflGnVRRHbO9Bf906O\n",
              "1f1T49SXiAUAwKsQs/AKzc2GPjp0XKvTrTpywhGxQYH+uneKI2L79CRiAQDwRsQsPJq92dCHXx/X\n",
              "6nSLLOW1kqSg7v76xZQ43T8lTiE9u7l4QgAA0JGIWXgke7OhDw6WanWGVdaLIvb+qXH6xZQ4hfQg\n",
              "YgEA6AqIWXgUe7Oh9w+UanWGRbknz0qSgrv76/6p8bp3SiwRCwBAF0PMwiM02Zv13oFSrcmwKu+U\n",
              "I2JDenTTgqlxumdKrIK7E7EAAHRFxCzcWpO9We/uL9Wa7Vblt0Rsn57dtHBavO6eFKMgIhYAgC6N\n",
              "mIVbarI36+9flej57VYVVNRJkvr27KYF0+J1z+RY9Q7kjy4AACBm4WYa7c36+74SrdluVWGlI2L7\n",
              "9QrQwmnxumtSDBELAADaoAzgFhrtzdq6r1hrtltVVHlOkhTaK0CLpsfrzqQY9SJiAQDAJVAIcKmG\n",
              "pma9va9Yz2+3qvi0I2L7974QsT0D+CMKAAC+H6UAl2hoatabXxbphe25KjlzPmIDtXhGvO64LkY9\n",
              "AvxcPCEAAPAExCw6la3Jrje/KNYL260qraqXJA0ICtTiGQm6fWI0EQsAAC6Lr7OeqKKiQmPHjm29\n",
              "JSYmyt/fX5WVlSovL9fs2bNlNps1cuRI7dixo/VxHbEG92NrsuuV3QWa+T+Z+u07h1RaVa+BQYH6\n",
              "rxuHa+evk3X/1DhCFgAAXDannZkNDQ3V/v37W//72WefVVZWlvr166f77rtPSUlJ+uSTT5STk6Ob\n",
              "b75Z+fn56tatmx5//HGnr8F91Dfa9UZOkdZm5qqs2nEmdlBwoB6ckaCfTYxW924ELAAAuHId9jaD\n",
              "DRs2aPny5ZKkLVu2yGq1SpImTJigiIgIZWVlKTU1tUPW4Hr1jXb9bW+h1mbl6kS1TZIUFtxdDyUn\n",
              "aP74KCIWAAA4RYfE7GeffabTp0/rxhtvVEVFhRobGxUWFta6Hhsbq8LCwg5ZuxSbzSabzdZmm91u\n",
              "d9bu4iL1jXa9tqdQ67JyVV7j+D0PD+muh2YmaP6EKAX6E7EAAMB5OiRmN2zYoLvvvlv+/u5xfdny\n",
              "5cv11FNPtdmWlJTkomm807kGu17dc0x/3pGnky0RGxHSXQ8lm3Tb+EgiFgAAdAin12Ztba22bNmi\n",
              "nJwcSY730vr7+6usrKz1TGpBQYGio6M7ZO1SnnjiCS1btqzNtieffNLZu94lnY/YdVl5OlXriNjB\n",
              "fXro4WSTbr02UgH+TrvGEAAA4F84vTTeeOMNjRkzRkOHDm3ddtttt2ndunWSpJycHJWUlGjGjBkd\n",
              "tvbPAgMDFRwc3Obm58eZwqtR19Ck9TtyNe2PGXr6w291qtamyL49tHzeKG3/5Uzdfl00IQsAADqc\n",
              "08/MbtiwQQsXLmyz7ZlnntFdd90ls9msgIAAbd68ufVTBzpiDR3nrK1Jr3x+TC/uyFPF2QZJUlS/\n",
              "Hnok2aR54yLVzY+ABQAAncfHMAzD1UO4wrJly7RixQpXj+Exztqa9PLuY3pxZ54qWyI2ul9PPTLL\n",
              "pJuvGUzEAgAAl3CPK7TgtmptTdr0WYFe2pmn03WNkqSY0J56JNmkuUQsAABwMWIWl1RT3+iI2Ox8\n",
              "nWmJ2Lj+vfRIsklzxkbIn4gFAABugJhFG9X1jdq0yxGxVeccERvfv5ceTTHpptFELAAAcC/ELCQ5\n",
              "InZjdoE2ZOepur5JkhQ/oJeWzDLrpjER8vP1cfGEAAAA/4qY7eKqzjXqL9n5+suufNW0RKxpYG89\n",
              "OsukG0cTsQAAwL0Rs11UVV2jNuzK18aLItY8sLeWpJh1w6hwIhYAAHgEYraLOVPXoA3Z+frrrgLV\n",
              "2BwRmzioJWJHhsuXiAUAAB6EmO0iTp9tidjPClTbErFDBgUpLdWs2SPCiFgAAOCRiFkvV3m2QS/t\n",
              "zNOmzwp0tsEuSRoaFqS0FLN+TMQCAAAPR8x6qYpam17cma+XdxeoriVih4cHa0mKWT8aPoiIBQAA\n",
              "XoGY9TIVtTat35mnV3Yfa43YERHBSksx6/rhg+TjQ8QCAADvQcx6iVO1Nq3f4YjYc42OiB05OFhp\n",
              "KYlKHTaQiAUAAF6JmPVw5TX1Wp+Vp817jqm+sVmSNDoyRGkpZs0aSsQCAADvRsx6qPKaev05K0+v\n",
              "XhSxYyJDtDQ1UTOHDCBiAQBAl0DMepjy6nqtzcrVa3sKZWtyROzYqD5KSzVrZiIRCwAAuhZi1kOU\n",
              "VdVrXVauXttbqIaWiB0X3UdpqYmabu5PxAIAgC6JmHVzx6vOaV1mrl7PKWqN2Gtj+mppqllTTUQs\n",
              "AADo2ohZN1V65pzWZubqjZwiNdgdETshtq/SUhI1xRRKxAIAAIiYdTslZ85pbaZVW3KKWyN2Ylw/\n",
              "LU0xa1ICEQsAAHAxYtZNFJ+u0wuZuXrziyI12g1J0nVx/bQ0NVGTEkJdPB0AAIB7ImZdrKiyTi9k\n",
              "WvXWl8WtETspPlRpqWYlxROxAAAAP4SYdZGiyjo9v90RsU3NjoidYgpVWkqiJsb1c/F0AAAAnoGY\n",
              "7WSFFXVas92irftKWiN2qqm/0lLNmhBLxAIAAFwOYraTFJw6qzXbrfr7VyWyt0TsNHN/LU0169oY\n",
              "IhYAAOBKELMdrLy6Xs98ckTv7L8QsTMSB2hJilnXxvR18XQAAACejZjtYP5+vvr40HHZmw3NHDJA\n",
              "aSlmXRNNxAIAADgDMdvB+vUK0NNzRyp+QG+Njerj6nEAAAC8CjHbCeaNi3T1CAAAAF7J19UDAAAA\n",
              "AFeKmAUAAIDHImYBAADgsYhZAAAAeCxiFgAAAB6LmAUAAIDHImYBAADgsYhZAAAAeCxiFgAAAB6L\n",
              "mAUAAIDHImYBAADgsXwMwzBcPYQrzJs3T7GxsZ3yWna7XXv37tXEiRPl5+fXKa8J5+IYejaOn+fj\n",
              "GHo+jqHnc8UxjImJUVpa2g/ep8vGbGeqrq5WSEiIqqqqFBwc7OpxcAU4hp6N4+f5OIaej2Po+dz1\n",
              "GPI2AwAAAHgsYhYAAAAei5gFAACAxyJmO0FgYKB+97vfKTAw0NWj4ApxDD0bx8/zcQw9H8fQ87nr\n",
              "MeQCMAAAAHgszswCAADAYxGzAAAA8FjELAAAADwWMeskS5YsUWxsrHx8fLR///7vvd+GDRtkNpuV\n",
              "kJCghQsXqrGxsfOGxA9qzzHMyMjQxIkTNXz4cI0YMUK//vWv1dzc3LmD4nu19+tQkgzD0KxZs9Sn\n",
              "T59OmQ3t095j+PXXX2vmzJkaNmyYhg0bpq1bt3bekPhe7Tl+zc3NWrZsmYYPH67Ro0crOTlZVqu1\n",
              "cwfF96qvr9fcuXOVmJioMWPG6Prrr//e4/PBBx9o6NChMpvNmjdvnqqrqzt5Wgdi1kluvfVWZWdn\n",
              "KyYm5nvvk5+fryeffFI7d+6U1WrViRMntH79+k6cEj+kPcewb9+++tvf/qbDhw/ryy+/1GeffaaX\n",
              "X365E6fED2nPMTzvf//3f5WQkNAJU+FytOcY1tXVac6cOXr66af17bff6tChQ5o2bVonTonv057j\n",
              "995772nXrl06cOCADh48qJSUFP3mN7/pxCnx7yxatEhHjhzRgQMHNGfOHC1YsOBf7lNbW6v7779f\n",
              "77zzjiwWiyIiIvT73//eBdMSs04zffp0RUZG/uB93nrrLf30pz9VWFiYfHx8tHjxYr3++uudNCH+\n",
              "nfYcw2uuuUbx8fGSpO7du2vs2LEqKCjohOnQHu05hpL0zTff6J133tHjjz/eCVPhcrTnGL722mtK\n",
              "SkrS1KlTJUl+fn4aMGBAZ4yHf6M9x8/Hx0c2m0319fUyDEPV1dXt+rpF5+jevbtuuOEG+fj4SJKS\n",
              "kpIu+ffcxx9/rGuuuUZDhw6VJD300EMuaxp/l7xqF1VYWNjm/1ZjY2NVWFjowolwNcrKyvTWW2/p\n",
              "gw8+cPUouAyNjY1auHChNmzYID8/P1ePgytw+PBhBQYG6sYbb1RxcbFGjx6tP/3pTwSth7jpppu0\n",
              "fft2hYWFKSgoSIMHD1ZWVparx8L3WLlypebMmfMv2y/VNMePH1dTU5P8/Ts3LzkzC1yB6upq3XTT\n",
              "Tfr1r3+t8ePHu3ocXIannnpK8+bN07Bhw1w9Cq5QU1OTtm3bpj//+c/66quvNHjwYD344IOuHgvt\n",
              "9MUXX+jQoUMqKSlRaWmpUlJStHjxYlePhUv4wx/+IKvVquXLl7t6lB9EzHai6OhoHTt2rPW/CwoK\n",
              "FB0d7cKJcCVqamo0e/ZszZkzR8uWLXP1OLhMWVlZWr16tWJjYzV16lRVV1crNjZWJ0+edPVoaKfo\n",
              "6GglJydr8ODB8vHx0Z133qnPP//c1WOhnV5++eXWiy99fX11zz33aPv27a4eC//k2Wef1datW/Xx\n",
              "xx+rZ8+e/7J+qaYJDw/v9LOyEjHbqW655Ra99957Kisrk2EYWrdunX72s5+5eixchtraWs2ePVuz\n",
              "Z8/Wb3/7W1ePgyuwc+dOHTt2TAUFBcrOzlZwcLAKCgr4J2oPMn/+fOXk5LReOf3RRx9pzJgxLp4K\n",
              "7RUfH6+MjAw1NDRIclwRP3LkSBdPhYutWLFCr7/+uv7xj3987ye+zJ49W/v27dN3330nSXrhhRdc\n",
              "1zQGnGLRokXG4MGDDT8/P2PgwIFGQkKCYRiGcf/99xvvvvtu6/3Wr19vxMfHG/Hx8cZ9991nNDQ0\n",
              "uGpk/JP2HMOnn37a8Pf3N8aMGdN6e/rpp105Ni7S3q/D8/Lz842QkJBOnhI/pL3H8OWXXzZGjBhh\n",
              "jBo1ypg9e7ZRWFjoqpFxkfYcv/r6emPBggXG0KFDjVGjRhnXX3+9kZub68qxcZGioiJDkhEfH9/6\n",
              "99zEiRMNwzCMJ5980li7dm3rfd99911jyJAhRkJCgjFnzhzjzJkzLpnZxzAMwzUZDQAAAFwd3mYA\n",
              "AAAAj0XMAgAAwGMRswAAAPBYxCwAAAA8FjELAAAAj0XMAgAAwGMRswAAAPBYxCwAAAA8FjELAAAA\n",
              "j0XMAgAAwGMRswAAAPBY/w+lIWY1p8x69gAAAABJRU5ErkJggg==\n",
              "\">\n",
              "      </div>\n",
              "      <script type=\"text/javascript\">\n",
              "        (() => {\n",
              "          const chartElement = document.getElementById(\"chart-2cc10336-b3f0-46b1-b8bb-4b117fa67980\");\n",
              "          async function getCodeForChartHandler(event) {\n",
              "            const chartCodeResponse =  await google.colab.kernel.invokeFunction(\n",
              "                'getCodeForChart', [\"chart-2cc10336-b3f0-46b1-b8bb-4b117fa67980\"], {});\n",
              "            const responseJson = chartCodeResponse.data['application/json'];\n",
              "            await google.colab.notebook.addCell(responseJson.code, 'code');\n",
              "          }\n",
              "          chartElement.onclick = getCodeForChartHandler;\n",
              "        })();\n",
              "      </script>\n",
              "      <style>\n",
              "        .colab-quickchart-chart-with-code  {\n",
              "            display: block;\n",
              "            float: left;\n",
              "            border: 1px solid transparent;\n",
              "        }\n",
              "\n",
              "        .colab-quickchart-chart-with-code:hover {\n",
              "            cursor: pointer;\n",
              "            border: 1px solid #aaa;\n",
              "        }\n",
              "      </style>"
            ]
          },
          "metadata": {}
        }
      ]
    },
    {
      "cell_type": "code",
      "source": [
        "# Filter only positive target class\n",
        "positive = df[df['target'] == 1]\n",
        "print(positive)\n",
        "\n",
        "\n"
      ],
      "metadata": {
        "colab": {
          "base_uri": "https://localhost:8080/"
        },
        "id": "s5_ORpWdj2jI",
        "outputId": "6f279175-73a1-4565-c195-70474102a3b3"
      },
      "execution_count": null,
      "outputs": [
        {
          "output_type": "stream",
          "name": "stdout",
          "text": [
            "   age  income  target\n",
            "1   32   64000       1\n",
            "2   47  120000       1\n"
          ]
        }
      ]
    },
    {
      "cell_type": "code",
      "source": [
        "import matplotlib.pyplot as plt\n",
        "\n",
        "epochs = np.arange(1, 6)\n",
        "train_loss = [0.9, 0.7, 0.5, 0.4, 0.3]\n",
        "val_loss = [1.0, 0.8, 0.6, 0.45, 0.35]\n",
        "\n",
        "plt.plot(epochs, train_loss, label='Train Loss')\n",
        "plt.plot(epochs, val_loss, label='Val Loss')\n",
        "plt.xlabel(\"Epoch\")\n",
        "plt.ylabel(\"Loss\")\n",
        "plt.title(\"Training vs Validation Loss\")\n",
        "plt.legend()\n",
        "plt.show()\n"
      ],
      "metadata": {
        "colab": {
          "base_uri": "https://localhost:8080/",
          "height": 472
        },
        "id": "w3QR4H40j659",
        "outputId": "5c826abc-0aec-40b6-ad4e-dc41764307f3"
      },
      "execution_count": null,
      "outputs": [
        {
          "output_type": "display_data",
          "data": {
            "text/plain": [
              "<Figure size 640x480 with 1 Axes>"
            ],
            "image/png": "[encoded data removed]"
          },
          "metadata": {}
        }
      ]
    },
    {
      "cell_type": "code",
      "source": [
        "# Class distribution\n",
        "classes = ['Class 0', 'Class 1']\n",
        "counts = [100, 250]\n",
        "\n",
        "plt.bar(classes, counts)\n",
        "plt.title(\"Class Distribution\")\n",
        "plt.ylabel(\"Count\")\n",
        "plt.show()\n"
      ],
      "metadata": {
        "colab": {
          "base_uri": "https://localhost:8080/",
          "height": 452
        },
        "id": "0SmgHZJGkEXu",
        "outputId": "a9c828a9-9aa1-4263-fb49-0ba7bdfdcc09"
      },
      "execution_count": null,
      "outputs": [
        {
          "output_type": "display_data",
          "data": {
            "text/plain": [
              "<Figure size 640x480 with 1 Axes>"
            ],
            "image/png": "[encoded data removed]"
          },
          "metadata": {}
        }
      ]
    },
    {
      "cell_type": "code",
      "source": [
        "# Feature distribution (e.g., age)\n",
        "ages = df['age']\n",
        "\n",
        "plt.hist(ages, bins=5)\n",
        "plt.title(\"Age Distribution\")\n",
        "plt.xlabel(\"Age\")\n",
        "plt.ylabel(\"Frequency\")\n",
        "plt.show()\n"
      ],
      "metadata": {
        "colab": {
          "base_uri": "https://localhost:8080/",
          "height": 472
        },
        "id": "1kqHfjgCkRNo",
        "outputId": "6d209704-bc56-4857-e507-9309d1638c54"
      },
      "execution_count": null,
      "outputs": [
        {
          "output_type": "display_data",
          "data": {
            "text/plain": [
              "<Figure size 640x480 with 1 Axes>"
            ],
            "image/png": "[encoded data removed]"
          },
          "metadata": {}
        }
      ]
    },
    {
      "cell_type": "code",
      "source": [
        "\n",
        "sentence = \"apple banana apple orange banana apple\"\n",
        "\n",
        "\n",
        "words = sentence.split()\n",
        "\n",
        "\n",
        "freq = {}\n",
        "\n",
        "\n",
        "for word in words:\n",
        "    if word in freq:\n",
        "        freq[word] += 1\n",
        "    else:\n",
        "        freq[word] = 1\n",
        "\n",
        "\n",
        "print(freq)\n"
      ],
      "metadata": {
        "colab": {
          "base_uri": "https://localhost:8080/"
        },
        "id": "R-FJHyREkkRV",
        "outputId": "3e1a837a-7034-4217-90fd-2967dc03c362"
      },
      "execution_count": null,
      "outputs": [
        {
          "output_type": "stream",
          "name": "stdout",
          "text": [
            "{'apple': 3, 'banana': 2, 'orange': 1}\n"
          ]
        }
      ]
    },
    {
      "cell_type": "code",
      "source": [
        "from collections import Counter\n",
        "\n",
        "sentence = \"apple banana apple orange banana apple\"\n",
        "words = sentence.split()\n",
        "\n",
        "freq = Counter(words)\n",
        "print(dict(freq))\n"
      ],
      "metadata": {
        "colab": {
          "base_uri": "https://localhost:8080/"
        },
        "id": "fMf3_VYu1KTp",
        "outputId": "2d097b37-fb3d-43ef-9772-804617c685da"
      },
      "execution_count": null,
      "outputs": [
        {
          "output_type": "stream",
          "name": "stdout",
          "text": [
            "{'apple': 3, 'banana': 2, 'orange': 1}\n"
          ]
        }
      ]
    },
    {
      "cell_type": "code",
      "source": [
        "nums = [1,2,3,4,3,2,2,2,3,3,1,3]\n",
        "unique_nums = list(set(nums))\n",
        "print(unique_nums)"
      ],
      "metadata": {
        "colab": {
          "base_uri": "https://localhost:8080/"
        },
        "id": "hs2SPiET11no",
        "outputId": "efa5d67d-d65c-4787-9e9f-a64c35a5f9c6"
      },
      "execution_count": null,
      "outputs": [
        {
          "output_type": "stream",
          "name": "stdout",
          "text": [
            "[1, 2, 3, 4]\n"
          ]
        }
      ]
    },
    {
      "cell_type": "code",
      "source": [
        "from collections import defaultdict\n",
        "\n",
        "people = [\n",
        "    {'name': 'Ali', 'city': 'Dhaka'},\n",
        "    {'name': 'Sara', 'city': 'Chittagong'},\n",
        "    {'name': 'Ovi', 'city': 'Dhaka'}\n",
        "]\n",
        "\n",
        "grouped = defaultdict(list)\n",
        "\n",
        "for person in people:\n",
        "    grouped[person['city']].append(person['name'])\n",
        "\n",
        "print(dict(grouped))\n"
      ],
      "metadata": {
        "colab": {
          "base_uri": "https://localhost:8080/"
        },
        "id": "QygUkTcqPrtF",
        "outputId": "acf86035-affc-40e0-d97c-15adf8f5b740"
      },
      "execution_count": null,
      "outputs": [
        {
          "output_type": "stream",
          "name": "stdout",
          "text": [
            "{'Dhaka': ['Ali', 'Ovi'], 'Chittagong': ['Sara']}\n"
          ]
        }
      ]
    },
    {
      "cell_type": "code",
      "source": [
        "import re\n",
        "spam_keywords = [\"win\", \"free\", \"offer\", \"prize\", \"cash\", \"urgent\"]\n",
        "\n",
        "def is_spam(message, keywords):\n",
        "    message = message.lower()\n",
        "    for keyword in keywords:\n",
        "        # \\b ensures whole-word match\n",
        "        if re.search(r'\\b' + re.escape(keyword) + r'\\b', message):\n",
        "            return True\n",
        "    return False\n",
        "print(is_spam(\"Hey, are you free tomorrow?\", spam_keywords))  # Now returns False\n"
      ],
      "metadata": {
        "colab": {
          "base_uri": "https://localhost:8080/"
        },
        "id": "pOvdhiw6vbsu",
        "outputId": "ded9f0da-ab99-4220-b1c7-03f4a224e09f"
      },
      "execution_count": null,
      "outputs": [
        {
          "output_type": "stream",
          "name": "stdout",
          "text": [
            "True\n"
          ]
        }
      ]
    },
    {
      "cell_type": "code",
      "source": [
        "import re\n",
        "\n",
        "# 📦 Dataset (Spam keywords and messages)\n",
        "spam_keywords = [\"win\", \"free\", \"offer\", \"prize\", \"cash\", \"urgent\"]\n",
        "\n",
        "messages = [\n",
        "    \"You won a free cash prize!\",\n",
        "    \"Meeting at 5pm today\",\n",
        "    \"Limited time offer just for you\",\n",
        "    \"Urgent! Claim your prize now!\",\n",
        "    \"Hey, are you free tomorrow?\"  # Test message\n",
        "]\n",
        "\n",
        "# 🔍 Improved function to detect spam\n",
        "def is_spam(message, keywords):\n",
        "    message = message.lower()\n",
        "    for keyword in keywords:\n",
        "        # Match only whole words using word boundaries (\\b)\n",
        "        if re.search(r'\\b' + re.escape(keyword) + r'\\b', message):\n",
        "            return True\n",
        "    return False\n",
        "\n",
        "# 🧪 Analyze each message\n",
        "results = []\n",
        "for msg in messages:\n",
        "    spam = is_spam(msg, spam_keywords)\n",
        "    results.append({\n",
        "        \"message\": msg,\n",
        "        \"is_spam\": spam\n",
        "    })\n",
        "\n",
        "# 📩 Print results\n",
        "print(\"📩 Spam Detection Results:\")\n",
        "for result in results:\n",
        "    label = \"SPAM\" if result[\"is_spam\"] else \"NOT SPAM\"\n",
        "    print(f\"[{label}] {result['message']}\")\n",
        "\n",
        "# 🔁 Extra test case\n",
        "print(\"\\nTest case:\")\n",
        "test_message = \"Hey, are you free tomorrow?\"\n",
        "print(f\"Message: '{test_message}' → Spam: {is_spam(test_message, spam_keywords)}\")\n"
      ],
      "metadata": {
        "colab": {
          "base_uri": "https://localhost:8080/"
        },
        "id": "AmVPpKXuwN5d",
        "outputId": "52287d36-46dd-4b42-a31c-ae419b53042d"
      },
      "execution_count": null,
      "outputs": [
        {
          "output_type": "stream",
          "name": "stdout",
          "text": [
            "📩 Spam Detection Results:\n",
            "[SPAM] You won a free cash prize!\n",
            "[NOT SPAM] Meeting at 5pm today\n",
            "[SPAM] Limited time offer just for you\n",
            "[SPAM] Urgent! Claim your prize now!\n",
            "[SPAM] Hey, are you free tomorrow?\n",
            "\n",
            "Test case:\n",
            "Message: 'Hey, are you free tomorrow?' → Spam: True\n"
          ]
        }
      ]
    },
    {
      "cell_type": "code",
      "source": [
        "data = {'a': 10, 'b': 5, 'c': 30}\n",
        "\n",
        "\n",
        "sorted_data = sorted(data.items(), key=lambda x: x[1], reverse=True)\n",
        "\n",
        "print(sorted_data)\n"
      ],
      "metadata": {
        "colab": {
          "base_uri": "https://localhost:8080/"
        },
        "id": "VxK-cRcZWmrh",
        "outputId": "eb5bef79-d8aa-449a-ca35-267a499cafaa"
      },
      "execution_count": null,
      "outputs": [
        {
          "output_type": "stream",
          "name": "stdout",
          "text": [
            "[('c', 30), ('a', 10), ('b', 5)]\n"
          ]
        }
      ]
    },
    {
      "cell_type": "code",
      "source": [
        "from collections import Counter\n",
        "\n",
        "nums = [3, 1, 2, 2, 3, 3, 4, 2]\n",
        "\n",
        "freq = Counter(nums)  # Output: {3: 3, 2: 3, 1: 1, 4: 1}\n",
        "\n",
        "top2 = [item[0] for item in freq.most_common(2)]\n",
        "\n",
        "print(top2)\n"
      ],
      "metadata": {
        "colab": {
          "base_uri": "https://localhost:8080/"
        },
        "id": "Fi9KSqjj7gVi",
        "outputId": "a0c3a4d6-fc75-43fa-df85-b0f64533f98d"
      },
      "execution_count": null,
      "outputs": [
        {
          "output_type": "stream",
          "name": "stdout",
          "text": [
            "[3, 2]\n"
          ]
        }
      ]
    },
    {
      "cell_type": "code",
      "source": [
        "from collections import Counter\n",
        "\n",
        "\n",
        "nums = list(map(int, input(\"Enter numbers separated by space: \").split()))\n",
        "top_n = int(input(\"How many top frequent elements you want? \"))\n",
        "\n",
        "\n",
        "freq = Counter(nums)\n",
        "\n",
        "\n",
        "top_n_elements = [item[0] for item in freq.most_common(top_n)]\n",
        "\n",
        "\n",
        "print(f\"Top {top_n} frequent elements:\", top_n_elements)\n",
        "\n"
      ],
      "metadata": {
        "colab": {
          "base_uri": "https://localhost:8080/"
        },
        "id": "QHW5pUhu-aUk",
        "outputId": "bfb47ce3-95cd-4a84-82ca-92a1b13105be"
      },
      "execution_count": null,
      "outputs": [
        {
          "output_type": "stream",
          "name": "stdout",
          "text": [
            "Enter numbers separated by space: 2 3 4 1 2 3 1 3 2 1 3 1\n",
            "How many top frequent elements you want? 3 \n",
            "Top 3 frequent elements: [3, 1, 2]\n"
          ]
        }
      ]
    },
    {
      "cell_type": "code",
      "source": [
        "original = {'a': 1, 'b': 2, 'c': 3}\n",
        "\n",
        "reversed_dict = {v: k for k, v in original.items()}\n",
        "\n",
        "print(reversed_dict)\n"
      ],
      "metadata": {
        "colab": {
          "base_uri": "https://localhost:8080/"
        },
        "id": "VGddCIHR-h09",
        "outputId": "283c7754-2efe-4e42-9927-5bed5c549df2"
      },
      "execution_count": null,
      "outputs": [
        {
          "output_type": "stream",
          "name": "stdout",
          "text": [
            "{1: 'a', 2: 'b', 3: 'c'}\n"
          ]
        }
      ]
    },
    {
      "cell_type": "code",
      "source": [
        "d = {'a': 1, 'b': 2, 'c': 1}\n",
        "#when same values then dic do not repeat it\n",
        "reversed_d = {v: k for k, v in d.items()}\n",
        "print(reversed_d)\n"
      ],
      "metadata": {
        "colab": {
          "base_uri": "https://localhost:8080/"
        },
        "id": "W35J03XlJbBH",
        "outputId": "b53cf224-c7f2-4fd6-b67e-7435ecca1211"
      },
      "execution_count": null,
      "outputs": [
        {
          "output_type": "stream",
          "name": "stdout",
          "text": [
            "{1: 'c', 2: 'b'}\n"
          ]
        }
      ]
    },
    {
      "cell_type": "markdown",
      "source": [],
      "metadata": {
        "id": "LdnGRapypgAC"
      }
    },
    {
      "cell_type": "code",
      "source": [
        "d = {'a': 1, 'b': 2, 'c': 1}\n",
        "\n",
        "reversed_d = {}\n",
        "\n",
        "for key in d:\n",
        "    value = d[key]\n",
        "    if value in reversed_d:\n",
        "        reversed_d[value].append(key)\n",
        "    else:\n",
        "        reversed_d[value] = [key]\n",
        "\n",
        "print(reversed_d)\n"
      ],
      "metadata": {
        "colab": {
          "base_uri": "https://localhost:8080/"
        },
        "id": "n6ROeXv_JjQM",
        "outputId": "644568d9-4a37-4e14-9b15-e7e656af4b34"
      },
      "execution_count": null,
      "outputs": [
        {
          "output_type": "stream",
          "name": "stdout",
          "text": [
            "{1: ['a', 'c'], 2: ['b']}\n"
          ]
        }
      ]
    },
    {
      "cell_type": "code",
      "source": [
        "list1 = [1, 2, 3, 2]\n",
        "list2 = [2, 3, 4, 3]\n",
        "\n",
        "\n",
        "set1 = set(list1)\n",
        "set2 = set(list2)\n",
        "\n",
        "\n",
        "common = list(set1 & set2)\n",
        "\n",
        "print(common)\n"
      ],
      "metadata": {
        "colab": {
          "base_uri": "https://localhost:8080/"
        },
        "id": "QnW7L2gUz4bH",
        "outputId": "9649cb18-1afe-4370-f19c-cf0ae150e626"
      },
      "execution_count": null,
      "outputs": [
        {
          "output_type": "stream",
          "name": "stdout",
          "text": [
            "[2, 3]\n"
          ]
        }
      ]
    },
    {
      "cell_type": "code",
      "source": [
        "import pandas as pd\n",
        "import random\n",
        "import numpy as np\n",
        "import os\n",
        "\n",
        "# Seed\n",
        "random.seed(42)\n",
        "np.random.seed(42)\n",
        "\n",
        "# Sample data\n",
        "data = []\n",
        "for i in range(1000):\n",
        "    user_id = random.randint(100, 120)\n",
        "    device_id = random.choice(['D001', 'D002', 'D003', 'D004', 'D005', 'D006'])\n",
        "    amount = random.choice([100, 200, 300, 500, 1000, 2000, 5000, 15000])\n",
        "    location = random.choice([\n",
        "        'Dhaka', 'Chittagong', 'Sylhet', 'Khulna',\n",
        "        'Rajshahi', 'Barisal', 'Rangpur', 'Mymensingh',\n",
        "        'London', 'Dubai', 'New York'\n",
        "    ])\n",
        "    action = random.choice(['send_money', 'cash_in', 'cash_out', 'balance_check'])\n",
        "    txn_time = pd.Timestamp('2025-05-01') + pd.to_timedelta(random.randint(0, 86400), unit='s')\n",
        "\n",
        "    # IP address\n",
        "    ip_address = random.choice(['192.168.1.1', '192.168.1.2', '203.0.113.5', '198.51.100.10', '10.0.0.5'])\n",
        "\n",
        "    # Random message (some have suspicious links)\n",
        "    messages = [\n",
        "        \"Payment for rent\",\n",
        "        \"Check this offer: http://bit.ly/fraudlink\",\n",
        "        \"Received salary\",\n",
        "        \"Click to verify: http://phishingsite.com\",\n",
        "        \"Send money to mom\",\n",
        "        \"Install this app: http://danger.apk\",\n",
        "        \"Invoice payment\"\n",
        "    ]\n",
        "    message = random.choice(messages)\n",
        "\n",
        "    data.append([user_id, device_id, amount, location, action, txn_time, ip_address, message])\n",
        "\n",
        "# Create DataFrame\n",
        "df = pd.DataFrame(data, columns=[\n",
        "    'user_id', 'device_id', 'amount', 'location', 'action', 'txn_time',\n",
        "    'ip_address', 'message'\n",
        "])\n",
        "\n",
        "# Create the 'data' directory if it doesn't exist\n",
        "if not os.path.exists('data'):\n",
        "    os.makedirs('data')\n",
        "\n",
        "# Save\n",
        "df.to_csv('data/transactions.csv', index=False)\n",
        "\n",
        "print(\"✅ Updated transaction data created with IP and message fields at data/transactions.csv\")"
      ],
      "metadata": {
        "colab": {
          "base_uri": "https://localhost:8080/"
        },
        "id": "omNeTv0z9m4t",
        "outputId": "d7200327-1935-46bf-9f3d-4b324135f25c"
      },
      "execution_count": null,
      "outputs": [
        {
          "output_type": "stream",
          "name": "stdout",
          "text": [
            "✅ Updated transaction data created with IP and message fields at data/transactions.csv\n"
          ]
        }
      ]
    },
    {
      "cell_type": "code",
      "source": [
        "python ip_mismatch.py\n",
        "python suspicious_link.py"
      ],
      "metadata": {
        "id": "XMFSPA6TC4dh"
      },
      "execution_count": null,
      "outputs": []
    },
    {
      "cell_type": "code",
      "source": [
        "import pandas as pd\n",
        "import os\n",
        "os.makedirs('output', exist_ok=True)\n",
        "\n",
        "df = pd.read_csv('data/transactions.csv', parse_dates=['txn_time'])\n",
        "\n",
        "\n",
        "df = df.sort_values(by=['user_id', 'txn_time'])\n",
        "\n",
        "\n",
        "df['prev_txn_time'] = df.groupby('user_id')['txn_time'].shift(1)\n",
        "\n",
        "\n",
        "df['time_diff_sec'] = (df['txn_time'] - df['prev_txn_time']).dt.total_seconds()\n",
        "\n",
        "\n",
        "df['quick_repeat'] = df['time_diff_sec'] < 60\n",
        "\n",
        "\n",
        "df['high_freq_flag'] = df.groupby('user_id')['quick_repeat'].transform(lambda x: x.rolling(window=5, min_periods=1).sum() >= 3)\n",
        "\n",
        "\n",
        "suspicious = df[df['high_freq_flag'] == True]\n",
        "\n",
        "\n",
        "suspicious.to_csv('output/high_frequency.csv', index=False)\n",
        "\n",
        "print(f\"✅ Suspicious high frequency transactions: {len(suspicious)} saved to output/high_frequency.csv\")\n"
      ],
      "metadata": {
        "colab": {
          "base_uri": "https://localhost:8080/"
        },
        "id": "U_FtqrZDHao1",
        "outputId": "9d7b438e-8e0a-46b1-fa38-2d48d0e951ed"
      },
      "execution_count": null,
      "outputs": [
        {
          "output_type": "stream",
          "name": "stdout",
          "text": [
            "✅ Suspicious high frequency transactions: 2 saved to output/high_frequency.csv\n"
          ]
        }
      ]
    },
    {
      "cell_type": "code",
      "source": [
        "n = int(input(\"Enter a number: \"))\n",
        "if 1<=n and n<=100:\n",
        "  if n%2 !=0:\n",
        "    print(\"Weird\")\n",
        "  elif n%2==0 and 2<=n<=5:\n",
        "    print(\"Not Weird\")\n",
        "  elif n%2==0 and 6<=n<=20:\n",
        "    print(\"Weird\")\n",
        "  elif n%2==0 and n>20:\n",
        "    print(\"Not Weird\")\n",
        "else:\n",
        "  print(\"Out of range\")\n"
      ],
      "metadata": {
        "id": "BlYwnb3aYDI3",
        "colab": {
          "base_uri": "https://localhost:8080/"
        },
        "outputId": "273478b5-6425-4004-8653-1c70b479f9ac"
      },
      "execution_count": null,
      "outputs": [
        {
          "output_type": "stream",
          "name": "stdout",
          "text": [
            "Enter a number: 24\n",
            "Not Weird\n"
          ]
        }
      ]
    },
    {
      "cell_type": "code",
      "source": [
        "def plusMinus(arr):\n",
        "    n = len(arr)\n",
        "    pos = neg = zero = 0\n",
        "\n",
        "    for num in arr:\n",
        "        if num > 0:\n",
        "            pos += 1\n",
        "        elif num < 0:\n",
        "            neg += 1\n",
        "        else:\n",
        "            zero += 1\n",
        "\n",
        "    print(\"{:.6f}\".format(pos / n))\n",
        "    print(\"{:.6f}\".format(neg / n))\n",
        "    print(\"{:.6f}\".format(zero / n))\n",
        "\n",
        "if __name__ == '__main__':\n",
        "    n = int(input())\n",
        "    arr = list(map(int, input().rstrip().split()))\n",
        "    plusMinus(arr)\n"
      ],
      "metadata": {
        "colab": {
          "base_uri": "https://localhost:8080/"
        },
        "id": "WsNKiLOzTfbj",
        "outputId": "c5b64c2d-991d-485f-fc82-110fbfdd91f7"
      },
      "execution_count": null,
      "outputs": [
        {
          "output_type": "stream",
          "name": "stdout",
          "text": [
            "4\n",
            "1 0 -9 -1 1\n",
            "0.400000\n",
            "0.400000\n",
            "0.200000\n"
          ]
        }
      ]
    },
    {
      "cell_type": "code",
      "source": [
        "data = []\n",
        "with open(\"trainingdata.txt\", \"r\") as file:\n",
        "    for line in file:\n",
        "        x, y = map(float, line.strip().split(\",\"))\n",
        "\n",
        "        if y < 8.0 and x > 0:\n",
        "            data.append((x, y))\n",
        "\n",
        "n = len(data)\n",
        "sum_x = sum(x for x, y in data)\n",
        "sum_y = sum(y for x, y in data)\n",
        "sum_xy = sum(x * y for x, y in data)\n",
        "sum_x2 = sum(x * x for x, y in data)\n",
        "\n",
        "slope = (n * sum_xy - sum_x * sum_y) / (n * sum_x2 - sum_x * sum_x)\n",
        "intercept = (sum_y - slope * sum_x) / n\n",
        "\n",
        "x_input = float(input())\n",
        "predicted = slope * x_input + intercept\n",
        "\n",
        "\n",
        "if predicted > 8.0:\n",
        "    predicted = 8.0\n",
        "\n",
        "print(f\"{predicted:.2f}\")\n"
      ],
      "metadata": {
        "id": "1MQR005EIgwz",
        "colab": {
          "base_uri": "https://localhost:8080/"
        },
        "outputId": "72519304-a9d7-4599-aef3-61ad32462494"
      },
      "execution_count": null,
      "outputs": [
        {
          "output_type": "stream",
          "name": "stdout",
          "text": [
            "0.09\n",
            "0.18\n"
          ]
        }
      ]
    },
    {
      "cell_type": "code",
      "source": [
        "#!/bin/python3\n",
        "\n",
        "import math\n",
        "import os\n",
        "import random\n",
        "import re\n",
        "import sys\n",
        "\n",
        "#\n",
        "# Complete the 'miniMaxSum' function below.\n",
        "#\n",
        "# The function accepts INTEGER_ARRAY arr as parameter.\n",
        "#\n",
        "\n",
        "def miniMaxSum(arr):\n",
        "    # Write your code here\n",
        "    total = sum(arr)\n",
        "    print(total- max(arr),total-min(arr))\n",
        "\n",
        "if __name__ == '__main__':\n",
        "\n",
        "    arr = list(map(int, input().rstrip().split()))\n",
        "\n",
        "    miniMaxSum(arr)\n"
      ],
      "metadata": {
        "colab": {
          "base_uri": "https://localhost:8080/"
        },
        "id": "zMdcESkPD1b5",
        "outputId": "24b66868-9553-449c-80d1-7bdbe7a5a850"
      },
      "execution_count": null,
      "outputs": [
        {
          "output_type": "stream",
          "name": "stdout",
          "text": [
            "1 2 3 4 5 6\n",
            "15 20\n"
          ]
        }
      ]
    },
    {
      "cell_type": "code",
      "source": [
        "if __name__ == '__main__':\n",
        "    a = int(input())\n",
        "    b = int(input())\n",
        "    print(a+b)\n",
        "    print(a-b)\n",
        "    print(a*b)\n"
      ],
      "metadata": {
        "colab": {
          "base_uri": "https://localhost:8080/"
        },
        "id": "QQ4LCtwLD-c8",
        "outputId": "6b61b8a3-c3a9-4494-89f2-44a47f407366"
      },
      "execution_count": null,
      "outputs": [
        {
          "output_type": "stream",
          "name": "stdout",
          "text": [
            "3\n",
            "5\n",
            "8\n",
            "-2\n",
            "15\n"
          ]
        }
      ]
    },
    {
      "cell_type": "code",
      "source": [
        "if __name__ == '__main__':\n",
        "    a = int(input())\n",
        "    b = int(input())\n",
        "    print(a//b)\n",
        "    print(a/b)\n"
      ],
      "metadata": {
        "colab": {
          "base_uri": "https://localhost:8080/"
        },
        "id": "JsCOILesz4eF",
        "outputId": "ae9776b5-4722-4da6-921c-7f648c9ab3cd"
      },
      "execution_count": null,
      "outputs": [
        {
          "output_type": "stream",
          "name": "stdout",
          "text": [
            "3\n",
            "4\n",
            "0\n",
            "0.75\n"
          ]
        }
      ]
    },
    {
      "cell_type": "code",
      "source": [
        "#!/bin/python3\n",
        "\n",
        "import os\n",
        "\n",
        "def timeConversion(s):\n",
        "    period = s[-2:]\n",
        "    hour = int(s[:2])\n",
        "    rest = s[2:-2]\n",
        "\n",
        "    if period == 'AM':\n",
        "        if hour == 12:\n",
        "            hour = 0\n",
        "    else:\n",
        "        if hour != 12:\n",
        "            hour += 12\n",
        "\n",
        "    return '{:02d}{}'.format(hour, rest)\n",
        "\n",
        "if __name__ == '__main__':\n",
        "    fptr = open(os.environ['OUTPUT_PATH'], 'w')\n",
        "    s = input()\n",
        "    result = timeConversion(s)\n",
        "    fptr.write(result + '\\n')\n",
        "    fptr.close()\n"
      ],
      "metadata": {
        "colab": {
          "base_uri": "https://localhost:8080/",
          "height": 245
        },
        "id": "vX7hJY4541nz",
        "outputId": "51470657-79ba-4538-8ea4-2dd25edf712d"
      },
      "execution_count": null,
      "outputs": [
        {
          "output_type": "error",
          "ename": "KeyError",
          "evalue": "'OUTPUT_PATH'",
          "traceback": [
            "\u001b[0;31m---------------------------------------------------------------------------\u001b[0m",
            "\u001b[0;31mKeyError\u001b[0m                                  Traceback (most recent call last)",
            "\u001b[0;32m<ipython-input-2-a721b9407112>\u001b[0m in \u001b[0;36m<cell line: 0>\u001b[0;34m()\u001b[0m\n\u001b[1;32m     18\u001b[0m \u001b[0;34m\u001b[0m\u001b[0m\n\u001b[1;32m     19\u001b[0m \u001b[0;32mif\u001b[0m \u001b[0m__name__\u001b[0m \u001b[0;34m==\u001b[0m \u001b[0;34m'__main__'\u001b[0m\u001b[0;34m:\u001b[0m\u001b[0;34m\u001b[0m\u001b[0;34m\u001b[0m\u001b[0m\n\u001b[0;32m---> 20\u001b[0;31m     \u001b[0mfptr\u001b[0m \u001b[0;34m=\u001b[0m \u001b[0mopen\u001b[0m\u001b[0;34m(\u001b[0m\u001b[0mos\u001b[0m\u001b[0;34m.\u001b[0m\u001b[0menviron\u001b[0m\u001b[0;34m[\u001b[0m\u001b[0;34m'OUTPUT_PATH'\u001b[0m\u001b[0;34m]\u001b[0m\u001b[0;34m,\u001b[0m \u001b[0;34m'w'\u001b[0m\u001b[0;34m)\u001b[0m\u001b[0;34m\u001b[0m\u001b[0;34m\u001b[0m\u001b[0m\n\u001b[0m\u001b[1;32m     21\u001b[0m     \u001b[0ms\u001b[0m \u001b[0;34m=\u001b[0m \u001b[0minput\u001b[0m\u001b[0;34m(\u001b[0m\u001b[0;34m)\u001b[0m\u001b[0;34m\u001b[0m\u001b[0;34m\u001b[0m\u001b[0m\n\u001b[1;32m     22\u001b[0m     \u001b[0mresult\u001b[0m \u001b[0;34m=\u001b[0m \u001b[0mtimeConversion\u001b[0m\u001b[0;34m(\u001b[0m\u001b[0ms\u001b[0m\u001b[0;34m)\u001b[0m\u001b[0;34m\u001b[0m\u001b[0;34m\u001b[0m\u001b[0m\n",
            "\u001b[0;32m/usr/lib/python3.11/os.py\u001b[0m in \u001b[0;36m__getitem__\u001b[0;34m(self, key)\u001b[0m\n",
            "\u001b[0;31mKeyError\u001b[0m: 'OUTPUT_PATH'"
          ]
        }
      ]
    },
    {
      "source": [
        "#!/bin/python3\n",
        "\n",
        "import os\n",
        "\n",
        "def timeConversion(s):\n",
        "    period = s[-2:]\n",
        "    hour = int(s[:2])\n",
        "    rest = s[2:-2]\n",
        "\n",
        "    if period == 'AM':\n",
        "        if hour == 12:\n",
        "            hour = 0\n",
        "    else:\n",
        "        if hour != 12:\n",
        "            hour += 12\n",
        "\n",
        "    return '{:02d}{}'.format(hour, rest)\n",
        "\n",
        "if __name__ == '__main__':\n",
        "    # Instead of using an environment variable, we'll print the output\n",
        "    # or save it to a file of your choice.\n",
        "    # Comment out or remove the following two lines:\n",
        "    # fptr = open(os.environ['OUTPUT_PATH'], 'w')\n",
        "    # fptr.write(result + '\\n')\n",
        "    # fptr.close()\n",
        "\n",
        "    s = input()\n",
        "    result = timeConversion(s)\n",
        "    print(result) # Print the result to the console\n",
        "    # Or, save to a file:\n",
        "    # with open('output.txt', 'w') as f:\n",
        "    #    f.write(result + '\\n')"
      ],
      "cell_type": "code",
      "metadata": {
        "colab": {
          "base_uri": "https://localhost:8080/"
        },
        "id": "Ahi27cg36hUS",
        "outputId": "6f68f5ce-009e-4062-8c89-f27e7abb6d09"
      },
      "execution_count": null,
      "outputs": [
        {
          "output_type": "stream",
          "name": "stdout",
          "text": [
            "09:20:30PM\n",
            "21:20:30\n"
          ]
        }
      ]
    },
    {
      "cell_type": "code",
      "source": [
        "def printTransactions(m, k, d, names, owned, prices):\n",
        "    transactions = []\n",
        "\n",
        "    for i in range(k):\n",
        "        name = names[i]\n",
        "        shares_owned = owned[i]\n",
        "        history = prices[i]\n",
        "        avg_old = sum(history[:4]) / 4\n",
        "        current_price = history[4]\n",
        "\n",
        "        # SELL strategy: current price is higher than average\n",
        "        if shares_owned > 0 and current_price > avg_old:\n",
        "            transactions.append((name, \"SELL\", shares_owned))\n",
        "\n",
        "    # BUY strategy: current price is lower than average\n",
        "    buy_candidates = []\n",
        "    for i in range(k):\n",
        "        name = names[i]\n",
        "        history = prices[i]\n",
        "        avg_old = sum(history[:4]) / 4\n",
        "        current_price = history[4]\n",
        "\n",
        "        if current_price < avg_old:\n",
        "            score = (avg_old - current_price) / current_price\n",
        "            buy_candidates.append((score, name, current_price))\n",
        "\n",
        "    # Sort descending by score\n",
        "    buy_candidates.sort(reverse=True)\n",
        "\n",
        "    for _, name, price in buy_candidates:\n",
        "        max_shares = int(m // price)\n",
        "        if max_shares > 0:\n",
        "            transactions.append((name, \"BUY\", max_shares))\n",
        "            m -= max_shares * price\n",
        "\n",
        "    print(len(transactions))\n",
        "    for name, action, qty in transactions:\n",
        "        print(f\"{name} {action} {qty}\")\n",
        "\n",
        "\n",
        "printTransactions(\n",
        "    90,\n",
        "    2,\n",
        "    400,\n",
        "    [\"iStreet\", \"HR\"],\n",
        "    [10, 0],\n",
        "    [\n",
        "        [4.54, 5.53, 6.56, 5.54, 7.60],\n",
        "        [30.54, 27.53, 24.42, 20.11, 17.50]\n",
        "    ]\n",
        ")\n",
        "\n"
      ],
      "metadata": {
        "colab": {
          "base_uri": "https://localhost:8080/"
        },
        "id": "ZUXMpHW-bfgu",
        "outputId": "2d7935a6-181c-4a01-8c1a-0462ef919532"
      },
      "execution_count": null,
      "outputs": [
        {
          "output_type": "stream",
          "name": "stdout",
          "text": [
            "2\n",
            "iStreet SELL 10\n",
            "HR BUY 5\n"
          ]
        }
      ]
    },
    {
      "cell_type": "markdown",
      "source": [
        "from math import sqrt\n",
        "from heapq import heappush, heappop\n",
        "\n",
        "def printTransactions(money, k, d, name, owned, prices):\n",
        "    def mean(nums):\n",
        "        return sum(nums) / len(nums)\n",
        "\n",
        "    def sd(nums):\n",
        "        average = mean(nums)\n",
        "        return sqrt(sum([(x - average) ** 2 for x in nums]) / len(nums))\n",
        "\n",
        "    def info(price):\n",
        "        \n",
        "        return (price[-1] - price[-2]) / price[-2] if price[-2] != 0 else 0\n",
        "\n",
        "    res = []\n",
        "    drop = []\n",
        "\n",
        "    for i in range(k):\n",
        "        cur_info = info(prices[i])\n",
        "        if cur_info > 0 and owned[i] > 0:\n",
        "            res.append((name[i], 'SELL', str(owned[i])))\n",
        "        elif cur_info < 0:\n",
        "            heappush(drop, (cur_info, i, name[i]))\n",
        "\n",
        "    while money > 0.0 and drop:\n",
        "        rate, idx, n = heappop(drop)\n",
        "        amount = int(money / prices[idx][-1])\n",
        "        if amount > 0:\n",
        "            res.append((n, 'BUY', str(amount)))\n",
        "            money -= amount * prices[idx][-1]\n",
        "\n",
        "    print(len(res))\n",
        "    for r in res:\n",
        "        print(' '.join(r))\n",
        "\n",
        "\n",
        "if __name__ == '__main__':\n",
        "    m_input = input().strip().split()\n",
        "    m = float(m_input[0])\n",
        "    k = int(m_input[1])\n",
        "    d = int(m_input[2])\n",
        "\n",
        "    names = []\n",
        "    owned = []\n",
        "    prices = []\n",
        "\n",
        "    for _ in range(k):\n",
        "        temp = input().strip().split()\n",
        "        names.append(temp[0])\n",
        "        owned.append(int(temp[1]))\n",
        "        prices.append([float(i) for i in temp[2:7]])\n",
        "\n",
        "    printTransactions(m, k, d, names, owned, prices)\n"
      ],
      "metadata": {
        "id": "15AlPBr0dlIT"
      }
    },
    {
      "cell_type": "code",
      "source": [
        "from math import sqrt\n",
        "from heapq import heappush, heappop\n",
        "\n",
        "def printTransactions(money, k, d, name, owned, prices):\n",
        "    def mean(nums):\n",
        "        return sum(nums) / len(nums)\n",
        "\n",
        "    def sd(nums):\n",
        "        average = mean(nums)\n",
        "        return sqrt(sum([(x - average) ** 2 for x in nums]) / len(nums))\n",
        "\n",
        "    def info(price):\n",
        "\n",
        "        return (price[-1] - price[-2]) / price[-2] if price[-2] != 0 else 0\n",
        "\n",
        "    res = []\n",
        "    drop = []\n",
        "\n",
        "    for i in range(k):\n",
        "        cur_info = info(prices[i])\n",
        "        if cur_info > 0 and owned[i] > 0:\n",
        "            res.append((name[i], 'SELL', str(owned[i])))\n",
        "        elif cur_info < 0:\n",
        "            heappush(drop, (cur_info, i, name[i]))\n",
        "\n",
        "    while money > 0.0 and drop:\n",
        "        rate, idx, n = heappop(drop)\n",
        "        amount = int(money / prices[idx][-1])\n",
        "        if amount > 0:\n",
        "            res.append((n, 'BUY', str(amount)))\n",
        "            money -= amount * prices[idx][-1]\n",
        "\n",
        "    print(len(res))\n",
        "    for r in res:\n",
        "        print(' '.join(r))\n",
        "\n",
        "\n",
        "if __name__ == '__main__':\n",
        "    m_input = input().strip().split()\n",
        "    m = float(m_input[0])\n",
        "    k = int(m_input[1])\n",
        "    d = int(m_input[2])\n",
        "\n",
        "    names = []\n",
        "    owned = []\n",
        "    prices = []\n",
        "\n",
        "    for _ in range(k):\n",
        "        temp = input().strip().split()\n",
        "        names.append(temp[0])\n",
        "        owned.append(int(temp[1]))\n",
        "        prices.append([float(i) for i in temp[2:7]])\n",
        "\n",
        "    printTransactions(m, k, d, names, owned, prices)\n"
      ],
      "metadata": {
        "colab": {
          "base_uri": "https://localhost:8080/"
        },
        "id": "qxGS_WGld7ks",
        "outputId": "43278d0e-852b-4598-f632-3332ea38a62a"
      },
      "execution_count": null,
      "outputs": [
        {
          "output_type": "stream",
          "name": "stdout",
          "text": [
            "90 2 400\n",
            "iStreet 10 4.54 5.53 6.56 5.54 7.60\n",
            "HR 0 30.54 27.53 24.42 20.11 17.50\n",
            "2\n",
            "iStreet SELL 10\n",
            "HR BUY 5\n"
          ]
        }
      ]
    },
    {
      "cell_type": "code",
      "source": [
        "n = int(input(\"given number\"))\n",
        "for i in range(n):\n",
        "  print(i*i)"
      ],
      "metadata": {
        "colab": {
          "base_uri": "https://localhost:8080/"
        },
        "id": "SwDL1o05JqKt",
        "outputId": "27fd03eb-ffa4-4a07-92ec-3d768393b34f"
      },
      "execution_count": null,
      "outputs": [
        {
          "output_type": "stream",
          "name": "stdout",
          "text": [
            "given number5\n",
            "0\n",
            "1\n",
            "4\n",
            "9\n",
            "16\n"
          ]
        }
      ]
    },
    {
      "source": [
        "# Import the os module\n",
        "import os\n",
        "\n",
        "def matchingStrings(strings, queries):\n",
        "\n",
        "    counts = {}\n",
        "    for s in strings:\n",
        "        counts[s] = counts.get(s, 0) + 1\n",
        "\n",
        "    return [counts.get(q, 0) for q in queries]\n",
        "\n",
        "\n",
        "if __name__ == '__main__':\n",
        "\n",
        "\n",
        "    strings_count = int(input().strip())\n",
        "\n",
        "    strings = []\n",
        "\n",
        "    for _ in range(strings_count):\n",
        "        strings_item = input()\n",
        "        strings.append(strings_item)\n",
        "\n",
        "    queries_count = int(input().strip())\n",
        "\n",
        "    queries = []\n",
        "\n",
        "    for _ in range(queries_count):\n",
        "        queries_item = input()\n",
        "        queries.append(queries_item)\n",
        "\n",
        "    res = matchingStrings(strings, queries)\n",
        "\n",
        "\n",
        "    print('\\n'.join(map(str, res)))\n",
        "\n"
      ],
      "cell_type": "code",
      "metadata": {
        "colab": {
          "base_uri": "https://localhost:8080/"
        },
        "id": "6m0PTHhtThc-",
        "outputId": "27207d3c-a58c-4ba0-f03e-1aaefdee8d04"
      },
      "execution_count": null,
      "outputs": [
        {
          "output_type": "stream",
          "name": "stdout",
          "text": [
            "3\n",
            "ab\n",
            "ab\n",
            "abc\n",
            "3\n",
            "ab\n",
            "bc\n",
            "abc\n",
            "2\n",
            "0\n",
            "1\n"
          ]
        }
      ]
    },
    {
      "cell_type": "code",
      "source": [
        "n= int(input(\"Enter a number: \"))\n",
        "for i in range(n):\n",
        "  print(i+1,end='')"
      ],
      "metadata": {
        "colab": {
          "base_uri": "https://localhost:8080/"
        },
        "id": "u5k5zji010-W",
        "outputId": "f967f27c-ea38-432b-946a-bbe6d6b09305"
      },
      "execution_count": 8,
      "outputs": [
        {
          "output_type": "stream",
          "name": "stdout",
          "text": [
            "Enter a number: 4\n",
            "1234"
          ]
        }
      ]
    },
    {
      "cell_type": "code",
      "source": [
        "import numpy\n",
        "\n",
        "def arrays(arr):\n",
        "    # complete this function\n",
        "    # use numpy.array\n",
        "    reverse_array = numpy.flip(arr)\n",
        "    return numpy.array(reverse_array, float)\n",
        "\n",
        "\n",
        "arr = input().strip().split(' ')\n",
        "result = arrays(arr)\n",
        "print(result)"
      ],
      "metadata": {
        "colab": {
          "base_uri": "https://localhost:8080/"
        },
        "id": "-jZhHgDhAqLD",
        "outputId": "7888e0d2-1896-4797-ac7e-cc0634e6aef8"
      },
      "execution_count": 9,
      "outputs": [
        {
          "output_type": "stream",
          "name": "stdout",
          "text": [
            "1 2 3.7 -9 -10\n",
            "[-10.   -9.    3.7   2.    1. ]\n"
          ]
        }
      ]
    },
    {
      "source": [
        "x = int(input())\n",
        "y = int(input())\n",
        "z = int(input())\n",
        "n = int(input())\n",
        "result = [\n",
        "    [i,j,k]\n",
        "    for i in range(x+1)\n",
        "    for j in range(y+1)\n",
        "    for k in range(z+1)\n",
        "    if i+j+k != n\n",
        "]\n",
        "\n",
        "print(result)"
      ],
      "cell_type": "code",
      "metadata": {
        "colab": {
          "base_uri": "https://localhost:8080/"
        },
        "id": "Nmdx4OZ0cMMI",
        "outputId": "2827d9f8-8cac-465c-e295-bd8814a86d43"
      },
      "execution_count": 12,
      "outputs": [
        {
          "output_type": "stream",
          "name": "stdout",
          "text": [
            "1\n",
            "2\n",
            "3\n",
            "4\n",
            "[[0, 0, 0], [0, 0, 1], [0, 0, 2], [0, 0, 3], [0, 1, 0], [0, 1, 1], [0, 1, 2], [0, 2, 0], [0, 2, 1], [0, 2, 3], [1, 0, 0], [1, 0, 1], [1, 0, 2], [1, 1, 0], [1, 1, 1], [1, 1, 3], [1, 2, 0], [1, 2, 2], [1, 2, 3]]\n"
          ]
        }
      ]
    },
    {
      "source": [],
      "cell_type": "code",
      "metadata": {
        "id": "ZokzdvFkcIdp"
      },
      "execution_count": null,
      "outputs": []
    }
  ]
}