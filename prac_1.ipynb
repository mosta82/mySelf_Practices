{
  "nbformat": 4,
  "nbformat_minor": 0,
  "metadata": {
    "colab": {
      "provenance": [],
      "authorship_tag": "ABX9TyNR6Y6DedZLRR2WSTokgeZu",
      "include_colab_link": true
    },
    "kernelspec": {
      "name": "python3",
      "display_name": "Python 3"
    },
    "language_info": {
      "name": "python"
    }
  },
  "cells": [
    {
      "cell_type": "markdown",
      "metadata": {
        "id": "view-in-github",
        "colab_type": "text"
      },
      "source": [
        "<a href=\"https://colab.research.google.com/github/mosta82/mySelf_Practices/blob/main/prac_1.ipynb\" target=\"_parent\"><img src=\"https://colab.research.google.com/assets/colab-badge.svg\" alt=\"Open In Colab\"/></a>"
      ]
    },
    {
      "cell_type": "code",
      "execution_count": null,
      "metadata": {
        "colab": {
          "base_uri": "https://localhost:8080/"
        },
        "id": "i-e7Yy7ampiv",
        "outputId": "4f1eccae-6d75-4e4e-97dd-340b120cc683"
      },
      "outputs": [
        {
          "output_type": "stream",
          "name": "stdout",
          "text": [
            "What's ur name?mors\n",
            "What's ur fav color?red\n",
            "What's ur fav singer?ami\n",
            "How old are you?22\n",
            "mors red ami 22\n",
            "<class 'str'>\n",
            "<class 'str'>\n",
            "<class 'str'>\n",
            "<class 'str'>\n"
          ]
        }
      ],
      "source": [
        "  nam = input(\"What's ur name?\")\n",
        "  color = input(\"What's ur fav color?\")\n",
        "  singer = input(\"What's ur fav singer?\")\n",
        "  age = input(\"How old are you?\")\n",
        "  print(nam+\" \" + color+\" \" + singer+\" \" + age)\n",
        "  #print(type)\n",
        "  print(type(nam))\n",
        "  print(type(color))\n",
        "  print(type(singer))\n",
        "  print(type(age))"
      ]
    },
    {
      "cell_type": "code",
      "source": [],
      "metadata": {
        "id": "2m2-yr86nCc2"
      },
      "execution_count": null,
      "outputs": []
    },
    {
      "cell_type": "code",
      "source": [
        "user = int(input('how old are you?'))\n",
        "if user>18:\n",
        "  print('you are adult')\n",
        "else:\n",
        "  print('you are not adult')"
      ],
      "metadata": {
        "id": "T1MbGhxLnP9C"
      },
      "execution_count": null,
      "outputs": []
    },
    {
      "cell_type": "code",
      "source": [
        "a=12\n",
        "b=13\n",
        "c=14\n",
        "max_num = max(a,b,c)\n",
        "print(max_num)"
      ],
      "metadata": {
        "id": "EB58WFQP-aRl"
      },
      "execution_count": null,
      "outputs": []
    },
    {
      "cell_type": "code",
      "source": [
        "mark = int(input(\"typing ur mark number: \"))\n",
        "if mark>=90 & mark<=100:\n",
        "  print('Grade: A+')\n",
        "elif mark>=80 & mark<90:\n",
        "  print(\"Grade: A\")\n",
        "elif mark>=70 & mark<80:\n",
        "  print(\"Grade: B\")\n",
        "elif mark>=60 & mark<70:\n",
        "  print(\"Grade: C\")\n",
        "elif mark>50 & mark<60:\n",
        "  print(\"Grade: D\")\n",
        "elif mark>100 or mark<0:\n",
        "  print(\"Invalid Mark. Please enter a value between 0 and 100.\")\n",
        "elif mark<50:\n",
        "  print(\"Grade: F(Fail)\")\n"
      ],
      "metadata": {
        "id": "B_toTa5W_HVj"
      },
      "execution_count": null,
      "outputs": []
    },
    {
      "cell_type": "code",
      "source": [
        "mark = int(input(\"typing your mark number: \"))\n",
        "\n",
        "if mark > 100 or mark < 0:\n",
        "    print(\"Invalid Mark. Please enter a value between 0 and 100.\")\n",
        "elif mark >= 90:\n",
        "    print(\"Grade: A+\")\n",
        "elif mark >= 80:\n",
        "    print(\"Grade: A\")\n",
        "elif mark >= 70:\n",
        "    print(\"Grade: B\")\n",
        "elif mark >= 60:\n",
        "    print(\"Grade: C\")\n",
        "elif mark >= 50:\n",
        "    print(\"Grade: D\")\n",
        "else:\n",
        "    print(\"Grade: F (Fail)\")\n"
      ],
      "metadata": {
        "id": "pF83qgEGPSkt"
      },
      "execution_count": null,
      "outputs": []
    },
    {
      "cell_type": "code",
      "source": [
        "user = int(input(\"Given input number\"))\n",
        "if(user%2==0):\n",
        "  if(user%3==0):\n",
        "    if(user%5==0):\n",
        "      print(\"Given number is divisible by 2,3,5\")\n",
        "else:\n",
        "  user()"
      ],
      "metadata": {
        "id": "ZHP7vyIAsC0b"
      },
      "execution_count": null,
      "outputs": []
    },
    {
      "cell_type": "code",
      "source": [
        "global_var = 10\n",
        "def my_func():\n",
        "    local_var = 20\n",
        "    global global_var\n",
        "    global_var += 5  # Modify global variable"
      ],
      "metadata": {
        "id": "SIbnphy_nEPI"
      },
      "execution_count": null,
      "outputs": []
    },
    {
      "cell_type": "code",
      "source": [
        "a = \"hello\"\n",
        "b = \"Hello\"\n",
        "print(a is b)  # True (interning reuses the same object)"
      ],
      "metadata": {
        "id": "XflmEjrBpF2k"
      },
      "execution_count": null,
      "outputs": []
    },
    {
      "cell_type": "code",
      "source": [
        "count = 0\n",
        "while count < 3:\n",
        "    print(count)\n",
        "    count += 1"
      ],
      "metadata": {
        "id": "qcW0EfmQtGX-"
      },
      "execution_count": null,
      "outputs": []
    },
    {
      "cell_type": "code",
      "source": [],
      "metadata": {
        "id": "-bomRftftL1t"
      },
      "execution_count": null,
      "outputs": []
    },
    {
      "cell_type": "code",
      "source": [
        "for num in [1, 2, 3, 4]:\n",
        "    if num == 3:\n",
        "        break    # Exit loop\n",
        "    print(num)"
      ],
      "metadata": {
        "id": "xeIz8exAt_yI"
      },
      "execution_count": null,
      "outputs": []
    },
    {
      "cell_type": "code",
      "source": [
        "for i in range(3):\n",
        "    print(i)\n",
        "else:\n",
        "    print(\"Loop finished!\")"
      ],
      "metadata": {
        "id": "jdNDN2B2uQzR"
      },
      "execution_count": null,
      "outputs": []
    },
    {
      "cell_type": "code",
      "source": [
        "squares = [x**2 for x in range(10)]\n",
        "even_squares = [x**2 for x in range(10) if x % 2 == 0]\n",
        "print(squares)\n",
        "print(even_squares)"
      ],
      "metadata": {
        "id": "fzYOmj67uaNA"
      },
      "execution_count": null,
      "outputs": []
    },
    {
      "cell_type": "code",
      "source": [
        "gen = (x**2 for x in range(10))  # Lazy evaluation\n",
        "print(next(gen))  # 0\n",
        "print(next(gen))  # 1\n",
        "print(next(gen))  # 4"
      ],
      "metadata": {
        "id": "-4IbGQLpuysh"
      },
      "execution_count": null,
      "outputs": []
    },
    {
      "cell_type": "code",
      "source": [
        "import numpy as np\n",
        "arr = np.arange(1e6)  # 1 million elements\n",
        "squared = arr ** 2    # Computed in C speed\n",
        "print(squared)"
      ],
      "metadata": {
        "id": "PPn_rwlUwX15"
      },
      "execution_count": null,
      "outputs": []
    },
    {
      "cell_type": "code",
      "source": [
        "def greet(name):\n",
        "    return f\"Hello, {name}!\"\n",
        "\n",
        "\n",
        "nam = greet(\"Morshed\")\n",
        "print(nam)"
      ],
      "metadata": {
        "id": "yxkULkkruoQ1"
      },
      "execution_count": null,
      "outputs": []
    },
    {
      "cell_type": "code",
      "source": [
        "def adder(*num):\n",
        "    sum = 0\n",
        "\n",
        "    for n in num:\n",
        "        sum = sum + n\n",
        "\n",
        "    print(\"Sum:\",sum)\n",
        "\n",
        "adder(3,5)\n",
        "adder(4,5,6,7)\n",
        "adder(1,2,3,5,6)"
      ],
      "metadata": {
        "id": "F_NfbdAcQ1XG"
      },
      "execution_count": null,
      "outputs": []
    },
    {
      "cell_type": "code",
      "source": [
        "number1 = 10\n",
        "number2 = 15\n",
        "\n",
        "sum = number1 + number2\n",
        "\n",
        "print(\"The sum is:\", sum)\n",
        "# print('The product is:', product)"
      ],
      "metadata": {
        "id": "YDZjCXkAyO9G"
      },
      "execution_count": null,
      "outputs": []
    },
    {
      "cell_type": "code",
      "source": [
        "# Step 1: Input three numbers\n",
        "a = int(input(\"Enter number a: \"))\n",
        "b = int(input(\"Enter number b: \"))\n",
        "c = int(input(\"Enter number c: \"))\n",
        "\n",
        "# Step 2: Find maximum using logic\n",
        "if a >= b and a >= c:\n",
        "    max_num = a\n",
        "elif b >= a and b >= c:\n",
        "    max_num = b\n",
        "else:\n",
        "    max_num = c\n",
        "\n",
        "# Step 3: Find minimum using logic\n",
        "if a <= b and a <= c:\n",
        "    min_num = a\n",
        "elif b <= a and b <= c:\n",
        "    min_num = b\n",
        "else:\n",
        "    min_num = c\n",
        "\n",
        "# Step 4: Print result\n",
        "print(f\"✅ Maximum Number is: {max_num}\")\n",
        "print(f\"✅ Minimum Number is: {min_num}\")\n"
      ],
      "metadata": {
        "id": "NaEuQmxYK7lW"
      },
      "execution_count": null,
      "outputs": []
    },
    {
      "cell_type": "code",
      "source": [
        "a = int(input(\"Enter number a: \"))\n",
        "b = int(input(\"Enter number b: \"))\n",
        "c = int(input(\"Enter number c: \"))\n",
        "\n",
        "if a>=b and a>=c:\n",
        "  max_num = a\n",
        "elif b>=a and b>=c:\n",
        "  max_num = b\n",
        "else:\n",
        "  max_num = c\n",
        "\n",
        "\n",
        "if a<=b and a<=c:\n",
        "  min_num = a\n",
        "elif b<=a and b<=c:\n",
        "  min_num = b\n",
        "else:\n",
        "  min_num = c\n",
        "\n",
        "print(f\"Maximum Number is: {max_num}\")\n",
        "print(f\"Minimum Number is: {min_num}\")\n"
      ],
      "metadata": {
        "id": "b5tYCSj8wOfO"
      },
      "execution_count": null,
      "outputs": []
    },
    {
      "cell_type": "code",
      "source": [
        "r"
      ],
      "metadata": {
        "id": "MS-hfHo12Nu8"
      },
      "execution_count": null,
      "outputs": []
    },
    {
      "cell_type": "code",
      "source": [
        "year = int(input(\"Enter a year: \"))\n",
        "\n",
        "if (year % 4 == 0 and year %100 !=0 ) or (year % 400 ==0):\n",
        "  print(f\"{year} is a leap year\")\n",
        "else:\n",
        "  print(f\"{year}is not a leap year\")"
      ],
      "metadata": {
        "id": "1V2a160_zEGA"
      },
      "execution_count": null,
      "outputs": []
    },
    {
      "cell_type": "code",
      "source": [
        "pas = input(\"Enter a password: \")\n",
        "\n",
        "has_upper = False\n",
        "has_lower = False\n",
        "has_num = False\n",
        "has_spe = False\n",
        "\n",
        "for char in pas:\n",
        "  if char.isupper():\n",
        "    has_upper = True\n",
        "  elif char.islower():\n",
        "    has_lower = True\n",
        "  elif char.isdigit():\n",
        "    has_num = True\n",
        "  elif not char.isalnum():\n",
        "    has_spe = True\n",
        "\n",
        "\n",
        "if (len(pas)>=8)and has_upper and has_lower and has_num and has_spe:\n",
        "  print(\"strong password\")\n",
        "else:\n",
        "  print(\"Not strong password\")\n",
        "  if (len(pas)<8):\n",
        "    print(\"Password must be at least 8 characters long\")\n",
        "  if not has_upper:\n",
        "    print(\"upper charter misssing\")\n",
        "  if not has_lower:\n",
        "    print(\"lower charter missing\")\n",
        "\n",
        "  if not has_num:\n",
        "          print(\"not digit\")\n",
        "  if not has_spe:\n",
        "          print(\"atleast spesial character plaese\")"
      ],
      "metadata": {
        "id": "l5V8pXyo2nqR"
      },
      "execution_count": null,
      "outputs": []
    },
    {
      "cell_type": "code",
      "source": [
        "a = int(input(\"Enter number a: \"))\n",
        "b = int(input(\"Enter number b: \"))\n",
        "c = int(input(\"Enter number c: \"))\n",
        "if a<= b and a<=c:\n",
        "  if b<=c:\n",
        "    order = (a,b,c)\n",
        "  else:\n",
        "    order = (a,c,b)\n",
        "elif b<= c and b<=a:\n",
        "  if a<=c:\n",
        "    order = (b,a,c)\n",
        "  else:\n",
        "    order = (b,c,a)\n",
        "\n",
        "else:\n",
        "  if a<=b:\n",
        "    order = (c,a,b)\n",
        "  else:\n",
        "    order = (c,b,a)\n",
        "print(order)\n",
        "\n"
      ],
      "metadata": {
        "id": "bDZ9-NwU_CNx"
      },
      "execution_count": null,
      "outputs": []
    },
    {
      "cell_type": "code",
      "source": [
        "import numpy as np\n",
        "\n",
        "# Imagine a CSV file of students with [age, height, weight]\n",
        "data = np.array([\n",
        "  [18, 5.6, 60],\n",
        "  [20, 5.8, 65],\n",
        "  [22, 6.0, 72]\n",
        "])\n",
        "\n",
        "print(\"Shape:\", data.shape)  # (3, 3) → 3 rows, 3 features\n",
        "\n"
      ],
      "metadata": {
        "id": "_bHQPo9XLJ57"
      },
      "execution_count": null,
      "outputs": []
    },
    {
      "cell_type": "code",
      "source": [
        "# Model configuration using dictionary\n",
        "config = {\n",
        "    \"learning_rate\": 0.01,\n",
        "    \"batch_size\": 32,\n",
        "    \"optimizer\": \"adam\"\n",
        "}\n",
        "\n",
        "print(\"Learning rate:\", config[\"learning_rate\"])\n"
      ],
      "metadata": {
        "id": "KJUg9JQbk9mO"
      },
      "execution_count": null,
      "outputs": []
    },
    {
      "cell_type": "code",
      "source": [
        "# Dataset\n",
        "data = [\n",
        "    {\"text\": \"hello\", \"label\": 0},\n",
        "    {\"text\": \"hi\", \"label\": 0},\n",
        "    {\"text\": \"bye\", \"label\": 1}\n",
        "]\n",
        "\n",
        "# Function to preprocess\n",
        "def preprocess(text):\n",
        "    return text.upper()\n",
        "\n",
        "# Training loop\n",
        "for sample in data:\n",
        "    input_text = preprocess(sample[\"text\"])\n",
        "    label = sample[\"label\"]\n",
        "    print(f\"Input: {input_text}, Label: {label}\")\n"
      ],
      "metadata": {
        "id": "5rekxVnjTQdh"
      },
      "execution_count": null,
      "outputs": []
    },
    {
      "cell_type": "code",
      "source": [
        "# Dataset (Spam keywords and messages)\n",
        "spam_keywords = [\"win\", \"free\", \"offer\", \"prize\", \"cash\", \"urgent\"]\n",
        "\n",
        "messages = [\n",
        "    \"You won a free cash prize!\",\n",
        "    \"Meeting at 5pm today\",\n",
        "    \"Limited time offer just for you\",\n",
        "    \"Hey, are you free tomorrow?\",\n",
        "    \"Urgent! Claim your prize now!\"\n",
        "]\n",
        "\n",
        "# Function to detect spam\n",
        "def is_spam(message, keywords):\n",
        "    message = message.lower()\n",
        "    for keyword in keywords:\n",
        "        if keyword in message:\n",
        "            return True\n",
        "    return False\n",
        "\n",
        "# Analyze each message\n",
        "results = []\n",
        "for msg in messages:\n",
        "    spam = is_spam(msg, spam_keywords)\n",
        "    results.append({\n",
        "        \"message\": msg,\n",
        "        \"is_spam\": spam\n",
        "    })\n",
        "\n",
        "# Print result\n",
        "print(\"📩 Spam Detection Results:\")\n",
        "for result in results:\n",
        "    label = \"SPAM\" if result[\"is_spam\"] else \"NOT SPAM\"\n",
        "    print(f\"[{label}] {result['message']}\")\n",
        "\n",
        "print(is_spam(\"Hey, are you free tomorrow?\", spam_keywords))\n"
      ],
      "metadata": {
        "id": "rXYXV7HlNACF"
      },
      "execution_count": null,
      "outputs": []
    },
    {
      "cell_type": "code",
      "source": [
        "import numpy as np\n",
        "\n",
        "# Feature vector (1 sample, 3 features)\n",
        "x = np.array([0.5, 1.2, 3.3])\n",
        "\n",
        "# 2D Array: 5 samples × 3 features\n",
        "X = np.random.rand(5, 3)\n",
        "print(X.shape)  # (5, 3)\n"
      ],
      "metadata": {
        "id": "FE9zKL8QiK2g"
      },
      "execution_count": null,
      "outputs": []
    },
    {
      "cell_type": "code",
      "source": [
        "# Weights: 3 features → 1 output\n",
        "W = np.random.rand(3, 1)\n",
        "# Dot product for model prediction: y = XW\n",
        "y_pred = X @ W\n",
        "print(y_pred)\n",
        "print(y_pred.shape)  # (5, 1)\n",
        "\n"
      ],
      "metadata": {
        "id": "T-4xdB9hifKb"
      },
      "execution_count": null,
      "outputs": []
    },
    {
      "cell_type": "code",
      "source": [
        "import pandas as pd\n",
        "\n",
        "data = {\n",
        "    'age': [25, 32, 47],\n",
        "    'income': [50000, 64000, 120000],\n",
        "    'target': [0, 1, 1]\n",
        "}\n",
        "df = pd.DataFrame(data)\n",
        "print(df)\n"
      ],
      "metadata": {
        "id": "MX2LofkPizCf"
      },
      "execution_count": null,
      "outputs": []
    },
    {
      "cell_type": "code",
      "source": [
        "# Access 'income' column\n",
        "df['income']\n",
        "\n",
        "# Access first row\n",
        "df.iloc[0]\n",
        "\n",
        "# Access by condition\n",
        "df[df['income'] > 60000]\n"
      ],
      "metadata": {
        "id": "jYSPtMgwjnmS"
      },
      "execution_count": null,
      "outputs": []
    },
    {
      "cell_type": "code",
      "source": [
        "# Filter only positive target class\n",
        "positive = df[df['target'] == 1]\n",
        "print(positive)\n",
        "\n",
        "\n"
      ],
      "metadata": {
        "id": "s5_ORpWdj2jI"
      },
      "execution_count": null,
      "outputs": []
    },
    {
      "cell_type": "code",
      "source": [
        "import matplotlib.pyplot as plt\n",
        "\n",
        "epochs = np.arange(1, 6)\n",
        "train_loss = [0.9, 0.7, 0.5, 0.4, 0.3]\n",
        "val_loss = [1.0, 0.8, 0.6, 0.45, 0.35]\n",
        "\n",
        "plt.plot(epochs, train_loss, label='Train Loss')\n",
        "plt.plot(epochs, val_loss, label='Val Loss')\n",
        "plt.xlabel(\"Epoch\")\n",
        "plt.ylabel(\"Loss\")\n",
        "plt.title(\"Training vs Validation Loss\")\n",
        "plt.legend()\n",
        "plt.show()\n"
      ],
      "metadata": {
        "id": "w3QR4H40j659"
      },
      "execution_count": null,
      "outputs": []
    },
    {
      "cell_type": "code",
      "source": [
        "# Class distribution\n",
        "classes = ['Class 0', 'Class 1']\n",
        "counts = [100, 250]\n",
        "\n",
        "plt.bar(classes, counts)\n",
        "plt.title(\"Class Distribution\")\n",
        "plt.ylabel(\"Count\")\n",
        "plt.show()\n"
      ],
      "metadata": {
        "id": "0SmgHZJGkEXu"
      },
      "execution_count": null,
      "outputs": []
    },
    {
      "cell_type": "code",
      "source": [
        "# Feature distribution (e.g., age)\n",
        "ages = df['age']\n",
        "\n",
        "plt.hist(ages, bins=5)\n",
        "plt.title(\"Age Distribution\")\n",
        "plt.xlabel(\"Age\")\n",
        "plt.ylabel(\"Frequency\")\n",
        "plt.show()\n"
      ],
      "metadata": {
        "id": "1kqHfjgCkRNo"
      },
      "execution_count": null,
      "outputs": []
    },
    {
      "cell_type": "code",
      "source": [
        "\n",
        "sentence = \"apple banana apple orange banana apple\"\n",
        "\n",
        "\n",
        "words = sentence.split()\n",
        "\n",
        "\n",
        "freq = {}\n",
        "\n",
        "\n",
        "for word in words:\n",
        "    if word in freq:\n",
        "        freq[word] += 1\n",
        "    else:\n",
        "        freq[word] = 1\n",
        "\n",
        "\n",
        "print(freq)\n"
      ],
      "metadata": {
        "id": "R-FJHyREkkRV"
      },
      "execution_count": null,
      "outputs": []
    },
    {
      "cell_type": "code",
      "source": [
        "from collections import Counter\n",
        "\n",
        "sentence = \"apple banana apple orange banana apple\"\n",
        "words = sentence.split()\n",
        "\n",
        "freq = Counter(words)\n",
        "print(dict(freq))\n"
      ],
      "metadata": {
        "id": "fMf3_VYu1KTp"
      },
      "execution_count": null,
      "outputs": []
    },
    {
      "cell_type": "code",
      "source": [
        "nums = [1,2,3,4,3,2,2,2,3,3,1,3]\n",
        "unique_nums = list(set(nums))\n",
        "print(unique_nums)"
      ],
      "metadata": {
        "id": "hs2SPiET11no"
      },
      "execution_count": null,
      "outputs": []
    },
    {
      "cell_type": "code",
      "source": [
        "from collections import defaultdict\n",
        "\n",
        "people = [\n",
        "    {'name': 'Ali', 'city': 'Dhaka'},\n",
        "    {'name': 'Sara', 'city': 'Chittagong'},\n",
        "    {'name': 'Ovi', 'city': 'Dhaka'}\n",
        "]\n",
        "\n",
        "grouped = defaultdict(list)\n",
        "\n",
        "for person in people:\n",
        "    grouped[person['city']].append(person['name'])\n",
        "\n",
        "print(dict(grouped))\n"
      ],
      "metadata": {
        "id": "QygUkTcqPrtF"
      },
      "execution_count": null,
      "outputs": []
    },
    {
      "cell_type": "code",
      "source": [
        "import re\n",
        "spam_keywords = [\"win\", \"free\", \"offer\", \"prize\", \"cash\", \"urgent\"]\n",
        "\n",
        "def is_spam(message, keywords):\n",
        "    message = message.lower()\n",
        "    for keyword in keywords:\n",
        "        # \\b ensures whole-word match\n",
        "        if re.search(r'\\b' + re.escape(keyword) + r'\\b', message):\n",
        "            return True\n",
        "    return False\n",
        "print(is_spam(\"Hey, are you free tomorrow?\", spam_keywords))  # Now returns False\n"
      ],
      "metadata": {
        "id": "pOvdhiw6vbsu"
      },
      "execution_count": null,
      "outputs": []
    },
    {
      "cell_type": "code",
      "source": [
        "import re\n",
        "\n",
        "# 📦 Dataset (Spam keywords and messages)\n",
        "spam_keywords = [\"win\", \"free\", \"offer\", \"prize\", \"cash\", \"urgent\"]\n",
        "\n",
        "messages = [\n",
        "    \"You won a free cash prize!\",\n",
        "    \"Meeting at 5pm today\",\n",
        "    \"Limited time offer just for you\",\n",
        "    \"Urgent! Claim your prize now!\",\n",
        "    \"Hey, are you free tomorrow?\"  # Test message\n",
        "]\n",
        "\n",
        "# 🔍 Improved function to detect spam\n",
        "def is_spam(message, keywords):\n",
        "    message = message.lower()\n",
        "    for keyword in keywords:\n",
        "        # Match only whole words using word boundaries (\\b)\n",
        "        if re.search(r'\\b' + re.escape(keyword) + r'\\b', message):\n",
        "            return True\n",
        "    return False\n",
        "\n",
        "# 🧪 Analyze each message\n",
        "results = []\n",
        "for msg in messages:\n",
        "    spam = is_spam(msg, spam_keywords)\n",
        "    results.append({\n",
        "        \"message\": msg,\n",
        "        \"is_spam\": spam\n",
        "    })\n",
        "\n",
        "# 📩 Print results\n",
        "print(\"📩 Spam Detection Results:\")\n",
        "for result in results:\n",
        "    label = \"SPAM\" if result[\"is_spam\"] else \"NOT SPAM\"\n",
        "    print(f\"[{label}] {result['message']}\")\n",
        "\n",
        "# 🔁 Extra test case\n",
        "print(\"\\nTest case:\")\n",
        "test_message = \"Hey, are you free tomorrow?\"\n",
        "print(f\"Message: '{test_message}' → Spam: {is_spam(test_message, spam_keywords)}\")\n"
      ],
      "metadata": {
        "id": "AmVPpKXuwN5d"
      },
      "execution_count": null,
      "outputs": []
    },
    {
      "cell_type": "code",
      "source": [
        "data = {'a': 10, 'b': 5, 'c': 30}\n",
        "\n",
        "\n",
        "sorted_data = sorted(data.items(), key=lambda x: x[1], reverse=True)\n",
        "\n",
        "print(sorted_data)\n"
      ],
      "metadata": {
        "id": "VxK-cRcZWmrh"
      },
      "execution_count": null,
      "outputs": []
    },
    {
      "cell_type": "code",
      "source": [
        "from collections import Counter\n",
        "\n",
        "nums = [3, 1, 2, 2, 3, 3, 4, 2]\n",
        "\n",
        "freq = Counter(nums)  # Output: {3: 3, 2: 3, 1: 1, 4: 1}\n",
        "\n",
        "top2 = [item[0] for item in freq.most_common(2)]\n",
        "\n",
        "print(top2)\n"
      ],
      "metadata": {
        "id": "Fi9KSqjj7gVi"
      },
      "execution_count": null,
      "outputs": []
    },
    {
      "cell_type": "code",
      "source": [
        "from collections import Counter\n",
        "\n",
        "\n",
        "nums = list(map(int, input(\"Enter numbers separated by space: \").split()))\n",
        "top_n = int(input(\"How many top frequent elements you want? \"))\n",
        "\n",
        "\n",
        "freq = Counter(nums)\n",
        "\n",
        "\n",
        "top_n_elements = [item[0] for item in freq.most_common(top_n)]\n",
        "\n",
        "\n",
        "print(f\"Top {top_n} frequent elements:\", top_n_elements)\n",
        "\n"
      ],
      "metadata": {
        "id": "QHW5pUhu-aUk"
      },
      "execution_count": null,
      "outputs": []
    },
    {
      "cell_type": "code",
      "source": [
        "original = {'a': 1, 'b': 2, 'c': 3}\n",
        "\n",
        "reversed_dict = {v: k for k, v in original.items()}\n",
        "\n",
        "print(reversed_dict)\n"
      ],
      "metadata": {
        "id": "VGddCIHR-h09"
      },
      "execution_count": null,
      "outputs": []
    },
    {
      "cell_type": "code",
      "source": [
        "d = {'a': 1, 'b': 2, 'c': 1}\n",
        "#when same values then dic do not repeat it\n",
        "reversed_d = {v: k for k, v in d.items()}\n",
        "print(reversed_d)\n"
      ],
      "metadata": {
        "id": "W35J03XlJbBH"
      },
      "execution_count": null,
      "outputs": []
    },
    {
      "cell_type": "markdown",
      "source": [],
      "metadata": {
        "id": "LdnGRapypgAC"
      }
    },
    {
      "cell_type": "code",
      "source": [
        "d = {'a': 1, 'b': 2, 'c': 1}\n",
        "\n",
        "reversed_d = {}\n",
        "\n",
        "for key in d:\n",
        "    value = d[key]\n",
        "    if value in reversed_d:\n",
        "        reversed_d[value].append(key)\n",
        "    else:\n",
        "        reversed_d[value] = [key]\n",
        "\n",
        "print(reversed_d)\n"
      ],
      "metadata": {
        "id": "n6ROeXv_JjQM"
      },
      "execution_count": null,
      "outputs": []
    },
    {
      "cell_type": "code",
      "source": [
        "list1 = [1, 2, 3, 2]\n",
        "list2 = [2, 3, 4, 3]\n",
        "\n",
        "\n",
        "set1 = set(list1)\n",
        "set2 = set(list2)\n",
        "\n",
        "\n",
        "common = list(set1 & set2)\n",
        "\n",
        "print(common)\n"
      ],
      "metadata": {
        "id": "QnW7L2gUz4bH"
      },
      "execution_count": null,
      "outputs": []
    },
    {
      "cell_type": "code",
      "source": [
        "import pandas as pd\n",
        "import random\n",
        "import numpy as np\n",
        "import os\n",
        "\n",
        "# Seed\n",
        "random.seed(42)\n",
        "np.random.seed(42)\n",
        "\n",
        "# Sample data\n",
        "data = []\n",
        "for i in range(1000):\n",
        "    user_id = random.randint(100, 120)\n",
        "    device_id = random.choice(['D001', 'D002', 'D003', 'D004', 'D005', 'D006'])\n",
        "    amount = random.choice([100, 200, 300, 500, 1000, 2000, 5000, 15000])\n",
        "    location = random.choice([\n",
        "        'Dhaka', 'Chittagong', 'Sylhet', 'Khulna',\n",
        "        'Rajshahi', 'Barisal', 'Rangpur', 'Mymensingh',\n",
        "        'London', 'Dubai', 'New York'\n",
        "    ])\n",
        "    action = random.choice(['send_money', 'cash_in', 'cash_out', 'balance_check'])\n",
        "    txn_time = pd.Timestamp('2025-05-01') + pd.to_timedelta(random.randint(0, 86400), unit='s')\n",
        "\n",
        "    # IP address\n",
        "    ip_address = random.choice(['192.168.1.1', '192.168.1.2', '203.0.113.5', '198.51.100.10', '10.0.0.5'])\n",
        "\n",
        "    # Random message (some have suspicious links)\n",
        "    messages = [\n",
        "        \"Payment for rent\",\n",
        "        \"Check this offer: http://bit.ly/fraudlink\",\n",
        "        \"Received salary\",\n",
        "        \"Click to verify: http://phishingsite.com\",\n",
        "        \"Send money to mom\",\n",
        "        \"Install this app: http://danger.apk\",\n",
        "        \"Invoice payment\"\n",
        "    ]\n",
        "    message = random.choice(messages)\n",
        "\n",
        "    data.append([user_id, device_id, amount, location, action, txn_time, ip_address, message])\n",
        "\n",
        "# Create DataFrame\n",
        "df = pd.DataFrame(data, columns=[\n",
        "    'user_id', 'device_id', 'amount', 'location', 'action', 'txn_time',\n",
        "    'ip_address', 'message'\n",
        "])\n",
        "\n",
        "# Create the 'data' directory if it doesn't exist\n",
        "if not os.path.exists('data'):\n",
        "    os.makedirs('data')\n",
        "\n",
        "# Save\n",
        "df.to_csv('data/transactions.csv', index=False)\n",
        "\n",
        "print(\"✅ Updated transaction data created with IP and message fields at data/transactions.csv\")"
      ],
      "metadata": {
        "id": "omNeTv0z9m4t"
      },
      "execution_count": null,
      "outputs": []
    },
    {
      "cell_type": "code",
      "source": [
        "import pandas as pd\n",
        "import os\n",
        "os.makedirs('output', exist_ok=True)\n",
        "\n",
        "df = pd.read_csv('data/transactions.csv', parse_dates=['txn_time'])\n",
        "\n",
        "\n",
        "df = df.sort_values(by=['user_id', 'txn_time'])\n",
        "\n",
        "\n",
        "df['prev_txn_time'] = df.groupby('user_id')['txn_time'].shift(1)\n",
        "\n",
        "\n",
        "df['time_diff_sec'] = (df['txn_time'] - df['prev_txn_time']).dt.total_seconds()\n",
        "\n",
        "\n",
        "df['quick_repeat'] = df['time_diff_sec'] < 60\n",
        "\n",
        "\n",
        "df['high_freq_flag'] = df.groupby('user_id')['quick_repeat'].transform(lambda x: x.rolling(window=5, min_periods=1).sum() >= 3)\n",
        "\n",
        "\n",
        "suspicious = df[df['high_freq_flag'] == True]\n",
        "\n",
        "\n",
        "suspicious.to_csv('output/high_frequency.csv', index=False)\n",
        "\n",
        "print(f\"✅ Suspicious high frequency transactions: {len(suspicious)} saved to output/high_frequency.csv\")\n"
      ],
      "metadata": {
        "id": "U_FtqrZDHao1"
      },
      "execution_count": null,
      "outputs": []
    },
    {
      "cell_type": "code",
      "source": [
        "n = int(input(\"Enter a number: \"))\n",
        "if 1<=n and n<=100:\n",
        "  if n%2 !=0:\n",
        "    print(\"Weird\")\n",
        "  elif n%2==0 and 2<=n<=5:\n",
        "    print(\"Not Weird\")\n",
        "  elif n%2==0 and 6<=n<=20:\n",
        "    print(\"Weird\")\n",
        "  elif n%2==0 and n>20:\n",
        "    print(\"Not Weird\")\n",
        "else:\n",
        "  print(\"Out of range\")\n"
      ],
      "metadata": {
        "id": "BlYwnb3aYDI3"
      },
      "execution_count": null,
      "outputs": []
    },
    {
      "cell_type": "code",
      "source": [
        "def plusMinus(arr):\n",
        "    n = len(arr)\n",
        "    pos = neg = zero = 0\n",
        "\n",
        "    for num in arr:\n",
        "        if num > 0:\n",
        "            pos += 1\n",
        "        elif num < 0:\n",
        "            neg += 1\n",
        "        else:\n",
        "            zero += 1\n",
        "\n",
        "    print(\"{:.6f}\".format(pos / n))\n",
        "    print(\"{:.6f}\".format(neg / n))\n",
        "    print(\"{:.6f}\".format(zero / n))\n",
        "\n",
        "if __name__ == '__main__':\n",
        "    n = int(input())\n",
        "    arr = list(map(int, input().rstrip().split()))\n",
        "    plusMinus(arr)\n"
      ],
      "metadata": {
        "id": "WsNKiLOzTfbj"
      },
      "execution_count": null,
      "outputs": []
    },
    {
      "cell_type": "code",
      "source": [
        "data = []\n",
        "with open(\"trainingdata.txt\", \"r\") as file:\n",
        "    for line in file:\n",
        "        x, y = map(float, line.strip().split(\",\"))\n",
        "\n",
        "        if y < 8.0 and x > 0:\n",
        "            data.append((x, y))\n",
        "\n",
        "n = len(data)\n",
        "sum_x = sum(x for x, y in data)\n",
        "sum_y = sum(y for x, y in data)\n",
        "sum_xy = sum(x * y for x, y in data)\n",
        "sum_x2 = sum(x * x for x, y in data)\n",
        "\n",
        "slope = (n * sum_xy - sum_x * sum_y) / (n * sum_x2 - sum_x * sum_x)\n",
        "intercept = (sum_y - slope * sum_x) / n\n",
        "\n",
        "x_input = float(input())\n",
        "predicted = slope * x_input + intercept\n",
        "\n",
        "\n",
        "if predicted > 8.0:\n",
        "    predicted = 8.0\n",
        "\n",
        "print(f\"{predicted:.2f}\")\n"
      ],
      "metadata": {
        "id": "1MQR005EIgwz"
      },
      "execution_count": null,
      "outputs": []
    },
    {
      "cell_type": "code",
      "source": [
        "#!/bin/python3\n",
        "\n",
        "import math\n",
        "import os\n",
        "import random\n",
        "import re\n",
        "import sys\n",
        "\n",
        "#\n",
        "# Complete the 'miniMaxSum' function below.\n",
        "#\n",
        "# The function accepts INTEGER_ARRAY arr as parameter.\n",
        "#\n",
        "\n",
        "def miniMaxSum(arr):\n",
        "    # Write your code here\n",
        "    total = sum(arr)\n",
        "    print(total- max(arr),total-min(arr))\n",
        "\n",
        "if __name__ == '__main__':\n",
        "\n",
        "    arr = list(map(int, input().rstrip().split()))\n",
        "\n",
        "    miniMaxSum(arr)\n"
      ],
      "metadata": {
        "id": "zMdcESkPD1b5"
      },
      "execution_count": null,
      "outputs": []
    },
    {
      "cell_type": "code",
      "source": [
        "if __name__ == '__main__':\n",
        "    a = int(input())\n",
        "    b = int(input())\n",
        "    print(a+b)\n",
        "    print(a-b)\n",
        "    print(a*b)\n"
      ],
      "metadata": {
        "id": "QQ4LCtwLD-c8"
      },
      "execution_count": null,
      "outputs": []
    },
    {
      "cell_type": "code",
      "source": [
        "if __name__ == '__main__':\n",
        "    a = int(input())\n",
        "    b = int(input())\n",
        "    print(a//b)\n",
        "    print(a/b)\n"
      ],
      "metadata": {
        "id": "JsCOILesz4eF"
      },
      "execution_count": null,
      "outputs": []
    },
    {
      "source": [
        "#!/bin/python3\n",
        "\n",
        "import os\n",
        "\n",
        "def timeConversion(s):\n",
        "    period = s[-2:]\n",
        "    hour = int(s[:2])\n",
        "    rest = s[2:-2]\n",
        "\n",
        "    if period == 'AM':\n",
        "        if hour == 12:\n",
        "            hour = 0\n",
        "    else:\n",
        "        if hour != 12:\n",
        "            hour += 12\n",
        "\n",
        "    return '{:02d}{}'.format(hour, rest)\n",
        "\n",
        "if __name__ == '__main__':\n",
        "    # Instead of using an environment variable, we'll print the output\n",
        "    # or save it to a file of your choice.\n",
        "    # Comment out or remove the following two lines:\n",
        "    # fptr = open(os.environ['OUTPUT_PATH'], 'w')\n",
        "    # fptr.write(result + '\\n')\n",
        "    # fptr.close()\n",
        "\n",
        "    s = input()\n",
        "    result = timeConversion(s)\n",
        "    print(result) # Print the result to the console\n",
        "    # Or, save to a file:\n",
        "    # with open('output.txt', 'w') as f:\n",
        "    #    f.write(result + '\\n')"
      ],
      "cell_type": "code",
      "metadata": {
        "id": "Ahi27cg36hUS"
      },
      "execution_count": null,
      "outputs": []
    },
    {
      "cell_type": "code",
      "source": [
        "def printTransactions(m, k, d, names, owned, prices):\n",
        "    transactions = []\n",
        "\n",
        "    for i in range(k):\n",
        "        name = names[i]\n",
        "        shares_owned = owned[i]\n",
        "        history = prices[i]\n",
        "        avg_old = sum(history[:4]) / 4\n",
        "        current_price = history[4]\n",
        "\n",
        "        # SELL strategy: current price is higher than average\n",
        "        if shares_owned > 0 and current_price > avg_old:\n",
        "            transactions.append((name, \"SELL\", shares_owned))\n",
        "\n",
        "    # BUY strategy: current price is lower than average\n",
        "    buy_candidates = []\n",
        "    for i in range(k):\n",
        "        name = names[i]\n",
        "        history = prices[i]\n",
        "        avg_old = sum(history[:4]) / 4\n",
        "        current_price = history[4]\n",
        "\n",
        "        if current_price < avg_old:\n",
        "            score = (avg_old - current_price) / current_price\n",
        "            buy_candidates.append((score, name, current_price))\n",
        "\n",
        "    # Sort descending by score\n",
        "    buy_candidates.sort(reverse=True)\n",
        "\n",
        "    for _, name, price in buy_candidates:\n",
        "        max_shares = int(m // price)\n",
        "        if max_shares > 0:\n",
        "            transactions.append((name, \"BUY\", max_shares))\n",
        "            m -= max_shares * price\n",
        "\n",
        "    print(len(transactions))\n",
        "    for name, action, qty in transactions:\n",
        "        print(f\"{name} {action} {qty}\")\n",
        "\n",
        "\n",
        "printTransactions(\n",
        "    90,\n",
        "    2,\n",
        "    400,\n",
        "    [\"iStreet\", \"HR\"],\n",
        "    [10, 0],\n",
        "    [\n",
        "        [4.54, 5.53, 6.56, 5.54, 7.60],\n",
        "        [30.54, 27.53, 24.42, 20.11, 17.50]\n",
        "    ]\n",
        ")\n",
        "\n"
      ],
      "metadata": {
        "id": "ZUXMpHW-bfgu"
      },
      "execution_count": null,
      "outputs": []
    },
    {
      "cell_type": "markdown",
      "source": [
        "from math import sqrt\n",
        "from heapq import heappush, heappop\n",
        "\n",
        "def printTransactions(money, k, d, name, owned, prices):\n",
        "    def mean(nums):\n",
        "        return sum(nums) / len(nums)\n",
        "\n",
        "    def sd(nums):\n",
        "        average = mean(nums)\n",
        "        return sqrt(sum([(x - average) ** 2 for x in nums]) / len(nums))\n",
        "\n",
        "    def info(price):\n",
        "        \n",
        "        return (price[-1] - price[-2]) / price[-2] if price[-2] != 0 else 0\n",
        "\n",
        "    res = []\n",
        "    drop = []\n",
        "\n",
        "    for i in range(k):\n",
        "        cur_info = info(prices[i])\n",
        "        if cur_info > 0 and owned[i] > 0:\n",
        "            res.append((name[i], 'SELL', str(owned[i])))\n",
        "        elif cur_info < 0:\n",
        "            heappush(drop, (cur_info, i, name[i]))\n",
        "\n",
        "    while money > 0.0 and drop:\n",
        "        rate, idx, n = heappop(drop)\n",
        "        amount = int(money / prices[idx][-1])\n",
        "        if amount > 0:\n",
        "            res.append((n, 'BUY', str(amount)))\n",
        "            money -= amount * prices[idx][-1]\n",
        "\n",
        "    print(len(res))\n",
        "    for r in res:\n",
        "        print(' '.join(r))\n",
        "\n",
        "\n",
        "if __name__ == '__main__':\n",
        "    m_input = input().strip().split()\n",
        "    m = float(m_input[0])\n",
        "    k = int(m_input[1])\n",
        "    d = int(m_input[2])\n",
        "\n",
        "    names = []\n",
        "    owned = []\n",
        "    prices = []\n",
        "\n",
        "    for _ in range(k):\n",
        "        temp = input().strip().split()\n",
        "        names.append(temp[0])\n",
        "        owned.append(int(temp[1]))\n",
        "        prices.append([float(i) for i in temp[2:7]])\n",
        "\n",
        "    printTransactions(m, k, d, names, owned, prices)\n"
      ],
      "metadata": {
        "id": "15AlPBr0dlIT"
      }
    },
    {
      "cell_type": "code",
      "source": [
        "from math import sqrt\n",
        "from heapq import heappush, heappop\n",
        "\n",
        "def printTransactions(money, k, d, name, owned, prices):\n",
        "    def mean(nums):\n",
        "        return sum(nums) / len(nums)\n",
        "\n",
        "    def sd(nums):\n",
        "        average = mean(nums)\n",
        "        return sqrt(sum([(x - average) ** 2 for x in nums]) / len(nums))\n",
        "\n",
        "    def info(price):\n",
        "\n",
        "        return (price[-1] - price[-2]) / price[-2] if price[-2] != 0 else 0\n",
        "\n",
        "    res = []\n",
        "    drop = []\n",
        "\n",
        "    for i in range(k):\n",
        "        cur_info = info(prices[i])\n",
        "        if cur_info > 0 and owned[i] > 0:\n",
        "            res.append((name[i], 'SELL', str(owned[i])))\n",
        "        elif cur_info < 0:\n",
        "            heappush(drop, (cur_info, i, name[i]))\n",
        "\n",
        "    while money > 0.0 and drop:\n",
        "        rate, idx, n = heappop(drop)\n",
        "        amount = int(money / prices[idx][-1])\n",
        "        if amount > 0:\n",
        "            res.append((n, 'BUY', str(amount)))\n",
        "            money -= amount * prices[idx][-1]\n",
        "\n",
        "    print(len(res))\n",
        "    for r in res:\n",
        "        print(' '.join(r))\n",
        "\n",
        "\n",
        "if __name__ == '__main__':\n",
        "    m_input = input().strip().split()\n",
        "    m = float(m_input[0])\n",
        "    k = int(m_input[1])\n",
        "    d = int(m_input[2])\n",
        "\n",
        "    names = []\n",
        "    owned = []\n",
        "    prices = []\n",
        "\n",
        "    for _ in range(k):\n",
        "        temp = input().strip().split()\n",
        "        names.append(temp[0])\n",
        "        owned.append(int(temp[1]))\n",
        "        prices.append([float(i) for i in temp[2:7]])\n",
        "\n",
        "    printTransactions(m, k, d, names, owned, prices)\n"
      ],
      "metadata": {
        "id": "qxGS_WGld7ks"
      },
      "execution_count": null,
      "outputs": []
    },
    {
      "cell_type": "code",
      "source": [
        "n = int(input(\"given number\"))\n",
        "for i in range(n):\n",
        "  print(i*i)"
      ],
      "metadata": {
        "id": "SwDL1o05JqKt"
      },
      "execution_count": null,
      "outputs": []
    },
    {
      "source": [
        "# Import the os module\n",
        "import os\n",
        "\n",
        "def matchingStrings(strings, queries):\n",
        "\n",
        "    counts = {}\n",
        "    for s in strings:\n",
        "        counts[s] = counts.get(s, 0) + 1\n",
        "\n",
        "    return [counts.get(q, 0) for q in queries]\n",
        "\n",
        "\n",
        "if __name__ == '__main__':\n",
        "\n",
        "\n",
        "    strings_count = int(input().strip())\n",
        "\n",
        "    strings = []\n",
        "\n",
        "    for _ in range(strings_count):\n",
        "        strings_item = input()\n",
        "        strings.append(strings_item)\n",
        "\n",
        "    queries_count = int(input().strip())\n",
        "\n",
        "    queries = []\n",
        "\n",
        "    for _ in range(queries_count):\n",
        "        queries_item = input()\n",
        "        queries.append(queries_item)\n",
        "\n",
        "    res = matchingStrings(strings, queries)\n",
        "\n",
        "\n",
        "    print('\\n'.join(map(str, res)))\n",
        "\n"
      ],
      "cell_type": "code",
      "metadata": {
        "id": "6m0PTHhtThc-"
      },
      "execution_count": null,
      "outputs": []
    },
    {
      "cell_type": "code",
      "source": [
        "n= int(input(\"Enter a number: \"))\n",
        "for i in range(n):\n",
        "  print(i+1,end='')"
      ],
      "metadata": {
        "id": "u5k5zji010-W"
      },
      "execution_count": null,
      "outputs": []
    },
    {
      "cell_type": "code",
      "source": [
        "import numpy\n",
        "\n",
        "def arrays(arr):\n",
        "    # complete this function\n",
        "    # use numpy.array\n",
        "    reverse_array = numpy.flip(arr)\n",
        "    return numpy.array(reverse_array, float)\n",
        "\n",
        "\n",
        "arr = input().strip().split(' ')\n",
        "result = arrays(arr)\n",
        "print(result)"
      ],
      "metadata": {
        "id": "-jZhHgDhAqLD"
      },
      "execution_count": null,
      "outputs": []
    },
    {
      "source": [
        "x = int(input())\n",
        "y = int(input())\n",
        "z = int(input())\n",
        "n = int(input())\n",
        "result = [\n",
        "    [i,j,k]\n",
        "    for i in range(x+1)\n",
        "    for j in range(y+1)\n",
        "    for k in range(z+1)\n",
        "    if i+j+k != n\n",
        "]\n",
        "\n",
        "print(result)"
      ],
      "cell_type": "code",
      "metadata": {
        "id": "Nmdx4OZ0cMMI"
      },
      "execution_count": null,
      "outputs": []
    },
    {
      "source": [
        "n = int(input())\n",
        "arr = map(int, input().split())\n",
        "arrr = list(set(arr))\n",
        "arrr.sort(reverse=True)\n",
        "print(arrr[1])"
      ],
      "cell_type": "code",
      "metadata": {
        "id": "ZokzdvFkcIdp"
      },
      "execution_count": null,
      "outputs": []
    },
    {
      "cell_type": "code",
      "source": [
        "#!/bin/python3\n",
        "\n",
        "import math\n",
        "import os\n",
        "import random\n",
        "import re\n",
        "import sys\n",
        "\n",
        "#\n",
        "# Complete the 'lonelyinteger' function below.\n",
        "#\n",
        "# The function is expected to return an INTEGER.\n",
        "# The function accepts INTEGER_ARRAY a as parameter.\n",
        "#\n",
        "\n",
        "def lonelyinteger(a):\n",
        "\n",
        "    # Write your code here\n",
        "    result = 0\n",
        "    for num in a:\n",
        "        result ^= num\n",
        "    return result\n",
        "if __name__ == '__main__':\n",
        "    # fptr = open(os.environ['OUTPUT_PATH'], 'w')\n",
        "\n",
        "    n = int(input().strip())\n",
        "\n",
        "    a = list(map(int, input().rstrip().split()))\n",
        "\n",
        "    result = lonelyinteger(a)\n",
        "    print(result)\n",
        "\n",
        "    # fptr.write(str(result) + '\\n')\n",
        "\n",
        "    # fptr.close()\n"
      ],
      "metadata": {
        "id": "AP7fu4ARoz0s"
      },
      "execution_count": null,
      "outputs": []
    },
    {
      "cell_type": "code",
      "source": [
        "\n",
        "\n",
        "import math\n",
        "import os\n",
        "import random\n",
        "import re\n",
        "import sys\n",
        "\n",
        "#\n",
        "# Complete the 'flippingBits' function below.\n",
        "#\n",
        "# The function is expected to return a LONG_INTEGER.\n",
        "# The function accepts LONG_INTEGER n as parameter.\n",
        "#\n",
        "\n",
        "def flippingBits(n):\n",
        "    # Write your code here\n",
        "    return (2**32 - 1) - n\n",
        "\n",
        "if __name__ == '__main__':\n",
        "    # fptr = open(os.environ['OUTPUT_PATH'], 'w')\n",
        "\n",
        "    q = int(input().strip())\n",
        "\n",
        "    for q_itr in range(q):\n",
        "        n = int(input().strip())\n",
        "\n",
        "        result = flippingBits(n)\n",
        "        print(result)\n",
        "\n",
        "        # fptr.write(str(result) + '\\n')\n",
        "\n",
        "    # fptr.close()\n"
      ],
      "metadata": {
        "id": "3-ZMz3K_3InX"
      },
      "execution_count": null,
      "outputs": []
    },
    {
      "cell_type": "code",
      "source": [
        "from collections import defaultdict\n",
        "\n",
        "# Step 1: Read input\n",
        "n, m = map(int, input().split())  # n = size of group A, m = size of group B\n",
        "\n",
        "# Step 2: Create a defaultdict to store list of positions\n",
        "group_a = defaultdict(list)\n",
        "\n",
        "# Step 3: Read Group A words and store their 1-based positions\n",
        "for i in range(1, n+1):  # 1 to n inclusive\n",
        "    word = input()\n",
        "    group_a[word].append(i)  # Store index\n",
        "\n",
        "# Step 4: For each word in Group B, print positions or -1\n",
        "for _ in range(m):\n",
        "    word = input()\n",
        "    if word in group_a:\n",
        "        print(' '.join(map(str, group_a[word])))\n",
        "    else:\n",
        "        print(-1)\n"
      ],
      "metadata": {
        "id": "JqXjO9Tj2wmp"
      },
      "execution_count": null,
      "outputs": []
    },
    {
      "cell_type": "code",
      "source": [],
      "metadata": {
        "id": "c4eklHRQFrcA"
      },
      "execution_count": null,
      "outputs": []
    },
    {
      "cell_type": "code",
      "source": [
        "#!/bin/python3\n",
        "\n",
        "import math\n",
        "import os\n",
        "import random\n",
        "import re\n",
        "import sys\n",
        "\n",
        "#\n",
        "# Complete the 'diagonalDifference' function below.\n",
        "#\n",
        "# The function is expected to return an INTEGER.\n",
        "# The function accepts 2D_INTEGER_ARRAY arr as parameter.\n",
        "#\n",
        "\n",
        "def diagonalDifference(arr):\n",
        "    # Write your code here\n",
        "    left_to_right = 0\n",
        "    right_to_left = 0\n",
        "    for i in range(len(arr)):\n",
        "        left_to_right += arr[i][i]\n",
        "        right_to_left += arr[i][len(arr) - 1 - i]\n",
        "    return abs(left_to_right - right_to_left)\n",
        "\n",
        "\n",
        "\n",
        "if __name__ == '__main__':\n",
        "    # fptr = open(os.environ['OUTPUT_PATH'], 'w')\n",
        "\n",
        "    n = int(input().strip())\n",
        "\n",
        "    arr = []\n",
        "\n",
        "    for _ in range(n):\n",
        "        arr.append(list(map(int, input().rstrip().split())))\n",
        "\n",
        "    result = diagonalDifference(arr)\n",
        "    print(result)\n",
        "\n",
        "\n",
        "    # fptr.write(str(result) + '\\n')\n",
        "\n",
        "    # fptr.close()\n"
      ],
      "metadata": {
        "id": "HpDRAkU_Ggik"
      },
      "execution_count": null,
      "outputs": []
    },
    {
      "cell_type": "code",
      "source": [
        "n = int(input())\n",
        "students= []\n",
        "for _ in range(n):\n",
        "    name = input()\n",
        "    score = float(input())\n",
        "    students.append([name,score])\n",
        "\n",
        "\n",
        "\n",
        "score = [student[1] for student in students]\n",
        "score.sort()\n",
        "print(score)\n",
        "second_lowest = score[1]\n",
        "names = []\n",
        "for student in students:\n",
        "    if student[1]==second_lowest:\n",
        "        names.append(student[0])\n",
        "\n",
        "names.sort()\n",
        "print(names)"
      ],
      "metadata": {
        "id": "kIvqH1EN7C87"
      },
      "execution_count": null,
      "outputs": []
    },
    {
      "cell_type": "code",
      "source": [],
      "metadata": {
        "id": "6BOVfJgOjxAR"
      },
      "execution_count": null,
      "outputs": []
    },
    {
      "cell_type": "code",
      "source": [
        "n = int(input())\n",
        "student_marks = {}\n",
        "for _ in range(n):\n",
        "  name,*line = input().split()\n",
        "  scores = list(map(float,line))\n",
        "  student_marks[name] = scores\n",
        "\n",
        "query_name = input()\n",
        "query_scores = student_marks[query_name]\n",
        "avg = sum(query_scores)/len(query_scores)\n",
        "print(f\"{avg:.2f}\")\n",
        "\n",
        "\n",
        "\n"
      ],
      "metadata": {
        "id": "eyRY5OjojGWQ"
      },
      "execution_count": null,
      "outputs": []
    },
    {
      "cell_type": "code",
      "source": [
        "def countingSort(arr):\n",
        "  freq = [0]*100\n",
        "\n",
        "  for num in arr:\n",
        "    freq[num] += 1\n",
        "\n",
        "  return freq\n",
        "\n",
        "\n",
        "if __name__ == '__main__':\n",
        "  n = int(input())\n",
        "  arr = list(map(int,input().rstrip().split()))\n",
        "  result = countingSort(arr)\n",
        "  print(result)"
      ],
      "metadata": {
        "id": "spm3xtEgo3ah"
      },
      "execution_count": null,
      "outputs": []
    },
    {
      "cell_type": "code",
      "source": [
        "def pangrams(s):\n",
        "    s = s.lower()\n",
        "    alphabet_set = set()\n",
        "    for char in s:\n",
        "        if char.isalpha():\n",
        "          alphabet_set.add(char)\n",
        "\n",
        "    return \"pangram\" if len(alphabet_set)==26 else \"not pangram\"\n",
        "\n",
        "\n",
        "\n",
        "if __name__ == '__main__':\n",
        "    # fptr = open(os.environ['OUTPUT_PATH'], 'w')\n",
        "\n",
        "    s = input()\n",
        "\n",
        "    result = pangrams(s)\n",
        "    print(result)\n"
      ],
      "metadata": {
        "id": "yFuWSx3kFK6i"
      },
      "execution_count": null,
      "outputs": []
    },
    {
      "cell_type": "code",
      "source": [
        "if __name__ == '__main__':\n",
        "    N = int(input())\n",
        "    my_list = []\n",
        "    for _  in range(N):\n",
        "        command = input().split()\n",
        "        if command[0] == 'insert':\n",
        "            my_list.insert(int(command[1]), int(command[2]))\n",
        "        elif command[0] == 'print':\n",
        "            print(my_list)\n",
        "        elif command[0] == 'remove':\n",
        "            my_list.remove(int(command[1]))\n",
        "        elif command[0] == 'append':\n",
        "            my_list.append(int(command[1]))\n",
        "        elif command[0] == 'sort':\n",
        "            my_list.sort()\n",
        "        elif command[0] == 'pop':\n",
        "            my_list.pop()\n",
        "        elif command[0] == 'reverse':\n",
        "            my_list.reverse()"
      ],
      "metadata": {
        "id": "yL2HB3dvIX61"
      },
      "execution_count": null,
      "outputs": []
    },
    {
      "cell_type": "code",
      "source": [
        "if __name__ == '__main__':\n",
        "    n = int(input())\n",
        "    integer_list = map(int,input().split())\n",
        "    t = tuple(integer_list)\n",
        "    print(hash(t))\n"
      ],
      "metadata": {
        "id": "ipaaqtsSiHqh"
      },
      "execution_count": null,
      "outputs": []
    },
    {
      "cell_type": "code",
      "source": [
        "if __name__ == '__main__':\n",
        "    s = input()\n",
        "    swap_case = ''\n",
        "    for char in s:\n",
        "        if char.isupper():\n",
        "            swap_case += char.lower()\n",
        "        elif char.islower():\n",
        "            swap_case += char.upper()\n",
        "        else:\n",
        "            swap_case += char\n",
        "    print(swap_case)"
      ],
      "metadata": {
        "id": "sZBSUpHu66zk"
      },
      "execution_count": null,
      "outputs": []
    },
    {
      "cell_type": "code",
      "source": [
        "def swap_case(n):\n",
        " return n.swapcase()\n",
        "if __name__ == '__main__':\n",
        "  n = input()\n",
        "  print(swap_case(n))\n"
      ],
      "metadata": {
        "id": "W8CnrZQa8MFa"
      },
      "execution_count": null,
      "outputs": []
    },
    {
      "cell_type": "code",
      "source": [
        "\n",
        "\n",
        "def split_and_join(line):\n",
        "    # write your code here\n",
        "    line = line.split()\n",
        "    line = \"-\".join(line)\n",
        "    return line\n",
        "\n",
        "if __name__ == '__main__':\n",
        "    line = input()\n",
        "    result = split_and_join(line)\n",
        "    print(result)"
      ],
      "metadata": {
        "id": "kOipds9UFuTX"
      },
      "execution_count": null,
      "outputs": []
    },
    {
      "cell_type": "code",
      "source": [
        "def print_full_name(first, last):\n",
        "    # Write your code here\n",
        "    print(f\"Hello {first} {last}! You just delved into python.\")\n",
        "\n",
        "if __name__ == '__main__':\n",
        "    first_name = input()\n",
        "    last_name = input()\n",
        "    print_full_name(first_name, last_name)"
      ],
      "metadata": {
        "id": "1RJD7nPqOay_"
      },
      "execution_count": null,
      "outputs": []
    },
    {
      "cell_type": "code",
      "source": [
        "def mutate_string(string, position, character):\n",
        "    string = list(string)\n",
        "    string[position] = character\n",
        "    return \"\".join(string)\n",
        "\n",
        "\n",
        "if __name__ == '__main__':\n",
        "    s = input()\n",
        "    i, c = input().split()\n",
        "    s_new = mutate_string(s, int(i), c)\n",
        "    print(s_new)"
      ],
      "metadata": {
        "id": "UWCrNWFrT1GG"
      },
      "execution_count": null,
      "outputs": []
    },
    {
      "cell_type": "code",
      "source": [
        "def count_substring(string, sub_string):\n",
        "    count = 0\n",
        "    for i in range(len(string)- len(sub_string)+1):\n",
        "        if string[i:i+len(sub_string)] == sub_string:\n",
        "            count += 1\n",
        "    return count\n",
        "\n",
        "\n",
        "if __name__ == '__main__':\n",
        "    string = input().strip()\n",
        "    sub_string = input().strip()\n",
        "\n",
        "    count = count_substring(string, sub_string)\n",
        "    print(count)"
      ],
      "metadata": {
        "id": "AUo60eJeZZpr"
      },
      "execution_count": null,
      "outputs": []
    },
    {
      "cell_type": "code",
      "source": [
        "def twoArrays(k, A, B):\n",
        "    A_sorted = sorted(A)\n",
        "    B_sorted = sorted(B, reverse=True)\n",
        "    for a, b in zip(A_sorted, B_sorted):\n",
        "        if a + b < k:\n",
        "            return \"NO\"\n",
        "    return \"YES\"\n",
        "\n",
        "if __name__ == '__main__':\n",
        "    q = int(input().strip())\n",
        "    for _ in range(q):\n",
        "        n, k = map(int, input().split())\n",
        "        A = list(map(int, input().split()))\n",
        "        B = list(map(int, input().split()))\n",
        "        result = twoArrays(k, A, B)\n",
        "        print(result)"
      ],
      "metadata": {
        "id": "cnHd8wBI8GOS"
      },
      "execution_count": null,
      "outputs": []
    },
    {
      "cell_type": "code",
      "source": [
        "def birthday(s, d, m):\n",
        "    count = 0\n",
        "    for i in range(len(s)-m+1):\n",
        "        if sum(s[i:i+m])==d:\n",
        "          count += 1\n",
        "\n",
        "    return count\n",
        "\n",
        "if __name__ == '__main__':\n",
        "    n = int(input().strip())\n",
        "    s = list(map(int, input().split()))\n",
        "    d, m = map(int, input().split())\n",
        "    result = birthday(s, d, m)\n",
        "    print(result)"
      ],
      "metadata": {
        "id": "2ING4844BlYU"
      },
      "execution_count": null,
      "outputs": []
    },
    {
      "cell_type": "code",
      "source": [
        "s = input().strip()\n",
        "\n",
        "print(any(c.isalnum() for c in s))\n",
        "\n",
        "print(any(c.isalpha() for c in s))\n",
        "\n",
        "print(any(c.isdigit() for c in s))\n",
        "\n",
        "print(any(c.islower() for c in s))\n",
        "\n",
        "print(any(c.isupper() for c in s))"
      ],
      "metadata": {
        "id": "KIQAvDBhCm7J"
      },
      "execution_count": null,
      "outputs": []
    },
    {
      "cell_type": "code",
      "source": [
        "thickness = int(input())  # Must be an odd number\n",
        "c = 'H'\n",
        "\n",
        "# Top Cone\n",
        "for i in range(thickness):\n",
        "    print((c*i).rjust(thickness-1) + c + (c*i).ljust(thickness-1))\n",
        "\n",
        "# Top Pillars\n",
        "for i in range(thickness+1):\n",
        "    print((c*thickness).center(thickness*2)+(c*thickness).center(thickness*6))\n",
        "\n",
        "# Middle Belt\n",
        "for i in range((thickness+1)//2):\n",
        "    print((c*thickness*5).center(thickness*6))\n",
        "\n",
        "# Bottom Pillars\n",
        "for i in range(thickness+1):\n",
        "    print((c*thickness).center(thickness*2)+(c*thickness).center(thickness*6))\n",
        "\n",
        "# Bottom Cone\n",
        "for i in range(thickness):\n",
        "    print(((c*(thickness-i-1)).rjust(thickness)+c+(c*(thickness-i-1)).ljust(thickness)).rjust(thickness*6))\n"
      ],
      "metadata": {
        "id": "KGAO8Fgz7CaF"
      },
      "execution_count": null,
      "outputs": []
    },
    {
      "cell_type": "code",
      "source": [
        "import textwrap\n",
        "\n",
        "def wrap(string, max_width):\n",
        "    wrapped_lines = textwrap.wrap(string, max_width)\n",
        "    return '\\n'.join(wrapped_lines)\n",
        "\n",
        "if __name__ == '__main__':\n",
        "    string = input().strip()\n",
        "    max_width = int(input().strip())\n",
        "    result = wrap(string, max_width)\n",
        "    print(result)"
      ],
      "metadata": {
        "id": "Reu1CfvK1bHb"
      },
      "execution_count": null,
      "outputs": []
    },
    {
      "cell_type": "code",
      "source": [
        "N, M = map(int, input().split())\n",
        "\n",
        "# Top part\n",
        "for i in range(1, N, 2):\n",
        "    pattern = \".|.\" * i\n",
        "    print(pattern.center(M, '-'))\n",
        "\n",
        "# Middle part\n",
        "print(\"WELCOME\".center(M, '-'))\n",
        "\n",
        "# Bottom part\n",
        "for i in range(N-2, 0, -2):\n",
        "    pattern = \".|.\" * i\n",
        "    print(pattern.center(M, '-'))"
      ],
      "metadata": {
        "id": "FzFHBxWmF2oV"
      },
      "execution_count": null,
      "outputs": []
    },
    {
      "cell_type": "code",
      "source": [
        "def print_formatted(number):\n",
        "    # your code goes here\n",
        "\n",
        "    width = len(bin(number)[2:])\n",
        "    for i in range(1, number + 1):\n",
        "\n",
        "        print(str(i).rjust(width),       # Decimal\n",
        "              oct(i)[2:].rjust(width),   # Octal (without '0o')\n",
        "              hex(i)[2:].upper().rjust(width),  # Hex (without '0x' and uppercase)\n",
        "              bin(i)[2:].rjust(width))   # Binary (without '0b')\n",
        "\n",
        "\n",
        "if __name__ == '__main__':\n",
        "    n = int(input())\n",
        "    print_formatted(n)"
      ],
      "metadata": {
        "id": "n4N679CWJCk3"
      },
      "execution_count": null,
      "outputs": []
    },
    {
      "cell_type": "code",
      "source": [
        "import string\n",
        "\n",
        "def print_rangoli(size):\n",
        "    # Get all lowercase English letters\n",
        "    alphabets = string.ascii_lowercase\n",
        "\n",
        "    # Create a list to store each line of the rangoli\n",
        "    lines = []\n",
        "\n",
        "    # Build the pattern line by line (top half including the middle)\n",
        "    for i in range(size):\n",
        "        # Get the slice of letters needed for this line\n",
        "        left = alphabets[size-1:i:-1]  # from size-1 down to i+1\n",
        "        center = alphabets[i]         # current center letter\n",
        "        right = alphabets[i+1:size]   # from i+1 up to size-1\n",
        "        row = '-'.join(left + center + right)\n",
        "        # Center align the row with dashes\n",
        "        lines.append(row.center(4*size - 3, '-'))\n",
        "\n",
        "    # Bottom half is mirror of top half excluding the center\n",
        "    bottom = lines[::-1][:-1]\n",
        "\n",
        "    # Join top + bottom with newline\n",
        "    return '\\n'.join( bottom+lines)\n",
        "if __name__ == '__main__':\n",
        "    size = int(input())\n",
        "    n = print_rangoli(size)\n",
        "    print(n)\n"
      ],
      "metadata": {
        "id": "vzjQ7wqD4DhW"
      },
      "execution_count": null,
      "outputs": []
    },
    {
      "cell_type": "code",
      "source": [
        "def rangoli(size):\n",
        "    if size == 0:\n",
        "        return \"\"\n",
        "    alpha = 'abcdefghijklmnopqrstuvwxyz'\n",
        "    lines = []\n",
        "    for i in range(size):\n",
        "        # Create the left part of the line\n",
        "        left_part = '-'.join(alpha[size-1:i:-1] + alpha[i:size])\n",
        "        # Center the left part and fill the rest with '-'\n",
        "        line = left_part.center(4*size - 3, '-')\n",
        "        lines.append(line)\n",
        "    # The bottom half is the mirror of the top half (excluding the middle line)\n",
        "    bottom_lines = lines[:-1][::-1]\n",
        "    lines += bottom_lines\n",
        "    return '\\n'.join(lines)\n",
        "\n",
        "if __name__ == '__main__':\n",
        "    size = int(input())\n",
        "    n = rangoli(size)\n",
        "    print(n)"
      ],
      "metadata": {
        "id": "NxOmZeHr75hG"
      },
      "execution_count": null,
      "outputs": []
    },
    {
      "cell_type": "code",
      "source": [
        "def rangoli(size):\n",
        "    if size == 0:\n",
        "        return \"Size is empty\"\n",
        "    alpha = 'abcdefghijklmnopqrstuvwxyz'\n",
        "    lines = []\n",
        "    max_length = 4 * size - 3\n",
        "    for i in range(size):\n",
        "        # Create the left part of the line\n",
        "        left_part = '-'.join(alpha[size-1:i:-1] + alpha[i:size])\n",
        "        # Center the left part and fill the rest with '-'\n",
        "        line = left_part.center(max_length, '-')\n",
        "        lines.append(line)\n",
        "    # The bottom half is the mirror of the top half (excluding the middle line)\n",
        "    # print(lines)\n",
        "    bottom_lines = lines[::-1][:-1]\n",
        "    bottom_lines += lines\n",
        "    print('\\n'.join(bottom_lines))\n",
        "\n",
        "n = int(input())\n",
        "rangoli(n)"
      ],
      "metadata": {
        "id": "9ei0nY9y_6Z-"
      },
      "execution_count": null,
      "outputs": []
    },
    {
      "cell_type": "code",
      "source": [
        "def capitalize_full_name(full_name):\n",
        "    # Split the name into words\n",
        "    words = full_name.split()\n",
        "\n",
        "    # Capitalize each word properly\n",
        "    capitalized_words = [word.capitalize() for word in words]\n",
        "\n",
        "    # Join back the capitalized words with spaces\n",
        "    return ' '.join(capitalized_words)\n",
        "\n",
        "# Input from user\n",
        "if __name__ == '__main__':\n",
        "    name = input()\n",
        "    print(capitalize_full_name(name))\n"
      ],
      "metadata": {
        "id": "UECdc0kuN1Rb"
      },
      "execution_count": null,
      "outputs": []
    },
    {
      "cell_type": "code",
      "source": [
        "def minion_game(string):\n",
        "    vowel = 'AEIOU'\n",
        "    stuart_score = 0\n",
        "    kevin_score = 0\n",
        "    for i in range(len(string)):\n",
        "        if string[i] in vowel:\n",
        "            kevin_score += (len(string) - i)\n",
        "        else:\n",
        "            stuart_score += (len(string) - i)\n",
        "\n",
        "    if stuart_score > kevin_score:\n",
        "        print(f\"Stuart {stuart_score}\")\n",
        "    elif kevin_score > stuart_score:\n",
        "        print(f\"Kevin {kevin_score}\")\n",
        "    else:\n",
        "        print(\"Draw\")\n",
        "\n",
        "if __name__ == '__main__':\n",
        "    s = input()\n",
        "    minion_game(s)"
      ],
      "metadata": {
        "id": "H6R-vdXQgNi-"
      },
      "execution_count": null,
      "outputs": []
    },
    {
      "cell_type": "code",
      "source": [
        "def merge_the_tools(s, k):\n",
        "    n = len(s)\n",
        "    for i in range(0, n, k):\n",
        "        substring = s[i:i+k]\n",
        "        seen = set()\n",
        "        result = []\n",
        "        for char in substring:\n",
        "            if char not in seen:\n",
        "                seen.add(char)\n",
        "                result.append(char)\n",
        "        print(''.join(result))\n",
        "\n",
        "if __name__ == '__main__':\n",
        "    s = input()\n",
        "    k = int(input())\n",
        "    merge_the_tools(s, k)"
      ],
      "metadata": {
        "id": "ly3p3zunqhA4"
      },
      "execution_count": null,
      "outputs": []
    },
    {
      "cell_type": "code",
      "source": [
        "def merge_the_tools(s, k):\n",
        "    for i in range(0,len(s),k):\n",
        "        substring = s[i:i+k]\n",
        "        result = ''\n",
        "        for char in substring:\n",
        "            if char not in result:\n",
        "                result += char\n",
        "        print(result)\n",
        "\n",
        "if __name__ == '__main__':\n",
        "    s = input()\n",
        "    k = int(input())\n",
        "    merge_the_tools(s, k)"
      ],
      "metadata": {
        "id": "L7-g-rTfrYKu"
      },
      "execution_count": null,
      "outputs": []
    },
    {
      "cell_type": "code",
      "source": [
        "from collections import defaultdict\n",
        "\n",
        "def sockMerchant(n, ar):\n",
        "    color_counts = defaultdict(int)\n",
        "    for color in ar:\n",
        "        color_counts[color] += 1\n",
        "    total_pairs = 0\n",
        "    for count in color_counts.values():\n",
        "        total_pairs += count // 2\n",
        "    return total_pairs\n",
        "\n",
        "if __name__ == '__main__':\n",
        "    n = int(input())\n",
        "    ar = list(map(int, input().split()))\n",
        "    print(sockMerchant(n, ar))"
      ],
      "metadata": {
        "id": "_DYwADJPu3Dv"
      },
      "execution_count": null,
      "outputs": []
    },
    {
      "cell_type": "code",
      "source": [
        "from itertools import product\n",
        "\n",
        "# Input reading\n",
        "A = list(map(int, input().split()))\n",
        "B = list(map(int, input().split()))\n",
        "\n",
        "# Cartesian product\n",
        "result = product(A, B)\n",
        "\n",
        "# Print result\n",
        "print(*result)\n"
      ],
      "metadata": {
        "id": "6Y_C518IYiUh"
      },
      "execution_count": null,
      "outputs": []
    },
    {
      "cell_type": "code",
      "source": [
        "# Single tuple\n",
        "t1 = (5, 10)\n",
        "\n",
        "# Nested tuple\n",
        "t2 = (1, (2, 3))\n",
        "\n",
        "# Loop through tuple\n",
        "for item in t1:\n",
        "    print(item)\n"
      ],
      "metadata": {
        "id": "VKB5q0OUaFG0"
      },
      "execution_count": null,
      "outputs": []
    },
    {
      "cell_type": "code",
      "source": [
        "from itertools import product\n",
        "A = [1, 2]\n",
        "B = [3, 4]\n",
        "result = product(A, B)\n",
        "print(result)\n",
        "print(*result)\n"
      ],
      "metadata": {
        "id": "ySh8iJDNaN3T"
      },
      "execution_count": null,
      "outputs": []
    },
    {
      "cell_type": "code",
      "source": [
        "from itertools import permutations\n",
        "\n",
        "s, k = input().split()\n",
        "k = int(k)\n",
        "\n",
        "perm = permutations(sorted(s), k)  # sorted to ensure lexicographic order\n",
        "\n",
        "for p in perm:\n",
        "    print(''.join(p))\n"
      ],
      "metadata": {
        "id": "3yJ75y1WsIHw"
      },
      "execution_count": null,
      "outputs": []
    },
    {
      "cell_type": "code",
      "source": [],
      "metadata": {
        "id": "_AuKxNYaxjYz"
      },
      "execution_count": null,
      "outputs": []
    },
    {
      "cell_type": "code",
      "source": [
        "from itertools import combinations\n",
        "\n",
        "s, k = input().split()\n",
        "k = int(k)\n",
        "\n",
        "s = sorted(s)\n",
        "\n",
        "for i in range(1, k + 1):\n",
        "    for combo in combinations(s, i):\n",
        "        print(''.join(combo))\n"
      ],
      "metadata": {
        "id": "C4csF-E3xhee"
      },
      "execution_count": null,
      "outputs": []
    },
    {
      "cell_type": "code",
      "source": [
        "from collections import Counter\n",
        "\n",
        "num_shoes = int(input())\n",
        "shoe_sizes = list(map(int, input().split()))\n",
        "inventory = Counter(shoe_sizes)\n",
        "num_customers = int(input())\n",
        "\n",
        "total_earned = 0\n",
        "\n",
        "for _ in range(num_customers):\n",
        "    size, price = map(int, input().split())\n",
        "    if inventory[size] > 0:\n",
        "        total_earned += price\n",
        "        inventory[size] -= 1\n",
        "\n",
        "print(total_earned)\n"
      ],
      "metadata": {
        "id": "KDhpDBjEHWvA"
      },
      "execution_count": null,
      "outputs": []
    },
    {
      "cell_type": "code",
      "source": [
        "import math\n",
        "\n",
        "# Step 1: Read the two sides\n",
        "AB = int(input())   # y\n",
        "BC = int(input())   # x\n",
        "\n",
        "# Step 2: Assign variables\n",
        "x = BC\n",
        "y = AB\n",
        "\n",
        "# Step 3: Calculate the cosine of the angle\n",
        "cos_theta = x / math.hypot(x, y)   # math.hypot(x, y) = sqrt(x^2 + y^2)\n",
        "\n",
        "# Step 4: Get the angle in radians\n",
        "theta_rad = math.acos(cos_theta)\n",
        "\n",
        "# Step 5: Convert angle to degrees\n",
        "theta_deg = math.degrees(theta_rad)\n",
        "\n",
        "# Step 6: Round to nearest integer\n",
        "result = round(theta_deg)\n",
        "\n",
        "# Step 7: Output with degree symbol\n",
        "print(f\"{result}°\")\n"
      ],
      "metadata": {
        "id": "BUpkeEZpTMtU"
      },
      "execution_count": null,
      "outputs": []
    },
    {
      "cell_type": "code",
      "source": [
        "import math\n",
        "\n",
        "# Read the lengths of sides AC and BC\n",
        "AC = int(input())\n",
        "BC = int(input())\n",
        "\n",
        "# Calculate the angle in radians using arctangent\n",
        "angle_rad = math.atan2(AC, BC)\n",
        "\n",
        "# Convert to degrees\n",
        "angle_deg = math.degrees(angle_rad)\n",
        "\n",
        "# Round to the nearest integer\n",
        "rounded_angle = round(angle_deg)\n",
        "\n",
        "# Output the result with degree symbol\n",
        "print(f\"{rounded_angle}°\")"
      ],
      "metadata": {
        "id": "fAIejstLT5bZ"
      },
      "execution_count": null,
      "outputs": []
    },
    {
      "cell_type": "code",
      "source": [
        "import math\n",
        "\n",
        "# Read the lengths of sides AC and BC\n",
        "AC = int(input())\n",
        "BC = int(input())\n",
        "\n",
        "# Calculate the angle in radians using arctangent\n",
        "angle_rad = math.atan2(AC, BC)\n",
        "\n",
        "# Convert to degrees\n",
        "angle_deg = math.degrees(angle_rad)\n",
        "\n",
        "# Round to the nearest integer\n",
        "rounded_angle = round(angle_deg)\n",
        "\n",
        "# Output the result with degree symbol\n",
        "print(f\"{rounded_angle}°\")"
      ],
      "metadata": {
        "id": "bwJS3YgcUeY6"
      },
      "execution_count": null,
      "outputs": []
    },
    {
      "cell_type": "code",
      "source": [
        "import math\n",
        "\n",
        "# Read input lengths\n",
        "AC = int(input())\n",
        "BC = int(input())\n",
        "\n",
        "# Calculate angle in radians\n",
        "angle_rad = math.atan2(AC, BC)\n",
        "\n",
        "# Convert to degrees\n",
        "angle_deg = math.degrees(angle_rad)\n",
        "\n",
        "# Round to nearest integer\n",
        "result = round(angle_deg)\n",
        "\n",
        "# Output with degree symbol using Unicode escape\n",
        "print(f\"{result}\\u00b0\")"
      ],
      "metadata": {
        "id": "ZrEQWj_gWBms"
      },
      "execution_count": null,
      "outputs": []
    },
    {
      "cell_type": "code",
      "source": [
        "import math\n",
        "\n",
        "AB = int(input())\n",
        "BC = int(input())\n",
        "\n",
        "x = BC\n",
        "y = AB\n",
        "\n",
        "cos_theta = x / math.hypot(x, y)\n",
        "theta_rad = math.acos(cos_theta)\n",
        "theta_deg = math.degrees(theta_rad)\n",
        "result = round(theta_deg)\n",
        "\n",
        "print(result)\n"
      ],
      "metadata": {
        "id": "9n15-Ck1i7LI"
      },
      "execution_count": null,
      "outputs": []
    },
    {
      "cell_type": "code",
      "source": [
        "n = int(input())\n",
        "for i in range(1, n+1):\n",
        "    print(((10**i - 1)//9)**2)\n"
      ],
      "metadata": {
        "id": "SohsQzrOlSBf"
      },
      "execution_count": null,
      "outputs": []
    },
    {
      "cell_type": "code",
      "source": [
        "def average(array):\n",
        "    distinct_heights = set(array)\n",
        "    avg = sum(distinct_heights) / len(distinct_heights)\n",
        "    return avg\n",
        "\n",
        "if __name__ == '__main__':\n",
        "    n = int(input())\n",
        "    arr = list(map(int, input().split()))\n",
        "    avg = average(arr)\n",
        "    print(\"{0:.3f}\".format(avg))"
      ],
      "metadata": {
        "id": "YFkUrYTgrKOi"
      },
      "execution_count": null,
      "outputs": []
    },
    {
      "cell_type": "code",
      "source": [
        "# Step 1-2: Read set A\n",
        "m = int(input())\n",
        "a = set(map(int, input().split()))\n",
        "\n",
        "# Step 3-4: Read set B\n",
        "n = int(input())\n",
        "b = set(map(int, input().split()))\n",
        "\n",
        "# Step 5: Find symmetric difference (values in a or b but not both)\n",
        "sym_diff = a.symmetric_difference(b)\n",
        "\n",
        "# Step 6: Print in ascending order\n",
        "for num in sorted(sym_diff):\n",
        "    print(num)\n"
      ],
      "metadata": {
        "id": "QenVTVz2spcl"
      },
      "execution_count": null,
      "outputs": []
    },
    {
      "cell_type": "code",
      "source": [
        "# Read the first line to get n and m\n",
        "n, m = map(int, input().split())\n",
        "\n",
        "# Read the array\n",
        "arr = list(map(int, input().split()))\n",
        "\n",
        "# Read sets A and B\n",
        "A = set(map(int, input().split()))\n",
        "B = set(map(int, input().split()))\n",
        "\n",
        "# Initialize happiness\n",
        "happiness = 0\n",
        "\n",
        "# Calculate happiness\n",
        "for num in arr:\n",
        "    if num in A:\n",
        "        happiness += 1\n",
        "    elif num in B:\n",
        "        happiness -= 1\n",
        "\n",
        "# Output the result\n",
        "print(happiness)"
      ],
      "metadata": {
        "id": "kd1gnBJ6ul2f"
      },
      "execution_count": null,
      "outputs": []
    },
    {
      "cell_type": "code",
      "source": [
        "import calendar\n",
        "\n",
        "month, day, year = map(int, input().split())\n",
        "day_of_week = calendar.weekday(year, month, day)\n",
        "day_name = calendar.day_name[day_of_week].upper()\n",
        "print(day_name)"
      ],
      "metadata": {
        "id": "jOn6jdPPm_Je"
      },
      "execution_count": null,
      "outputs": []
    },
    {
      "cell_type": "code",
      "source": [
        "from datetime import datetime\n",
        "\n",
        "n = int(input())\n",
        "for _ in range(n):\n",
        "    t1 = input()\n",
        "    t2 = input()\n",
        "\n",
        "\n",
        "    format_str = \"%a %d %b %Y %H:%M:%S %z\"\n",
        "\n",
        "\n",
        "    dt1 = datetime.strptime(t1, format_str)\n",
        "    dt2 = datetime.strptime(t2, format_str)\n",
        "\n",
        "\n",
        "    diff = abs(int((dt1 - dt2).total_seconds()))\n",
        "\n",
        "    print(diff)\n"
      ],
      "metadata": {
        "id": "DsaaXsLKuC0R"
      },
      "execution_count": null,
      "outputs": []
    },
    {
      "cell_type": "code",
      "source": [
        "# Read number of test cases\n",
        "T = int(input())\n",
        "\n",
        "for _ in range(T):\n",
        "    try:\n",
        "        a, b = input().split()\n",
        "        print(int(a) // int(b))\n",
        "    except (ZeroDivisionError, ValueError) as e:\n",
        "        print(\"Error Code:\", e)\n"
      ],
      "metadata": {
        "id": "FfLJMLu6JdmQ"
      },
      "execution_count": null,
      "outputs": []
    },
    {
      "cell_type": "code",
      "source": [
        "import re\n",
        "\n",
        "T = int(input())\n",
        "for _ in range(T):\n",
        "    s = input().strip()\n",
        "    try:\n",
        "        re.compile(s)\n",
        "        print(\"True\")\n",
        "    except re.error:\n",
        "        print(\"False\")"
      ],
      "metadata": {
        "id": "pOsolg2bSVPE"
      },
      "execution_count": null,
      "outputs": []
    },
    {
      "cell_type": "code",
      "source": [
        "import re\n",
        "\n",
        "T = int(input())\n",
        "for _ in range(T):\n",
        "    s = input().strip()  # safely read pattern\n",
        "    try:\n",
        "        re.compile(s)\n",
        "        print(\"True\")\n",
        "    except re.error:\n",
        "        print(\"False\")\n"
      ],
      "metadata": {
        "id": "QDM1e8EMUh0M"
      },
      "execution_count": null,
      "outputs": []
    },
    {
      "cell_type": "code",
      "source": [
        "def pageCount(n, p):\n",
        "    from_front = p // 2\n",
        "    from_back = (n // 2) - (p // 2)\n",
        "    return min(from_front, from_back)\n",
        "\n",
        "if __name__ == '__main__':\n",
        "    n = int(input().strip())\n",
        "    p = int(input().strip())\n",
        "    result = pageCount(n, p)\n",
        "    print(result)"
      ],
      "metadata": {
        "id": "xIhJ_F4um9Yi"
      },
      "execution_count": null,
      "outputs": []
    },
    {
      "cell_type": "code",
      "source": [
        "from collections import namedtuple\n",
        "n, fields = int(input()), input().split()\n",
        "Student = namedtuple('Student', fields)\n",
        "print(f\"{sum(int(Student(*input().split()).MARKS) for _ in range(n)) / n:.2f}\")\n"
      ],
      "metadata": {
        "id": "skdfmrKfDPN-"
      },
      "execution_count": null,
      "outputs": []
    },
    {
      "cell_type": "code",
      "source": [
        "from collections import OrderedDict\n",
        "\n",
        "items = OrderedDict()\n",
        "for _ in range(int(input())):\n",
        "    *name, price = input().split()\n",
        "    item_name = ' '.join(name)\n",
        "    items[item_name] = items.get(item_name, 0) + int(price)\n",
        "\n",
        "for item, net_price in items.items():\n",
        "    print(item, net_price)\n"
      ],
      "metadata": {
        "id": "NYr1dbmgDgGJ"
      },
      "execution_count": null,
      "outputs": []
    },
    {
      "cell_type": "code",
      "source": [
        "from collections import OrderedDict\n",
        "\n",
        "word_count = OrderedDict()\n",
        "for _ in range(int(input())):\n",
        "    word = input().strip()\n",
        "    word_count[word] = word_count.get(word, 0) + 1\n",
        "\n",
        "print(len(word_count))\n",
        "print(*word_count.values())\n"
      ],
      "metadata": {
        "id": "NqZiCx0wMNxn"
      },
      "execution_count": null,
      "outputs": []
    },
    {
      "cell_type": "code",
      "source": [
        "from collections import deque\n",
        "\n",
        "d = deque()\n",
        "for _ in range(int(input())):\n",
        "    method, *args = input().split()\n",
        "    getattr(d, method)(*map(int, args))\n",
        "\n",
        "print(*d)\n"
      ],
      "metadata": {
        "id": "D_pibzVNOcc6"
      },
      "execution_count": null,
      "outputs": []
    },
    {
      "cell_type": "code",
      "source": [
        "def caesarCipher(s, k):\n",
        "    result = []\n",
        "    k = k % 26\n",
        "\n",
        "    for c in s:\n",
        "        if 'a' <= c <= 'z':\n",
        "\n",
        "            new_c = chr((ord(c) - ord('a') + k) % 26 + ord('a'))\n",
        "            result.append(new_c)\n",
        "        elif 'A' <= c <= 'Z':\n",
        "\n",
        "            new_c = chr((ord(c) - ord('A') + k) % 26 + ord('A'))\n",
        "            result.append(new_c)\n",
        "        else:\n",
        "\n",
        "            result.append(c)\n",
        "\n",
        "    return ''.join(result)\n",
        "if __name__ == '__main__':\n",
        "\n",
        "\n",
        "    n = int(input().strip())\n",
        "\n",
        "    s = input()\n",
        "\n",
        "    k = int(input().strip())\n",
        "\n",
        "    result = caesarCipher(s, k)\n",
        "    print(result)\n"
      ],
      "metadata": {
        "id": "QOVOnkkwy_0l"
      },
      "execution_count": null,
      "outputs": []
    },
    {
      "cell_type": "code",
      "source": [
        "def maxMin(k, arr):\n",
        "    arr.sort()\n",
        "    min_unfairness = float('inf')\n",
        "    for i in range(len(arr) - k + 1):\n",
        "        unfairness = arr[i + k - 1] - arr[i]\n",
        "        min_unfairness = min(min_unfairness, unfairness)\n",
        "    return min_unfairness\n",
        "if __name__ == '__main__':\n",
        "    # fptr = open(os.environ['OUTPUT_PATH'], 'w')\n",
        "\n",
        "    n = int(input().strip())\n",
        "\n",
        "    k = int(input().strip())\n",
        "\n",
        "    arr = []\n",
        "\n",
        "    for _ in range(n):\n",
        "        arr_item = int(input().strip())\n",
        "        arr.append(arr_item)\n",
        "    result = maxMin(k, arr)\n",
        "    print(result)\n"
      ],
      "metadata": {
        "id": "3dXR5dPa6jBq"
      },
      "execution_count": null,
      "outputs": []
    },
    {
      "cell_type": "code",
      "source": [
        "def distinct_stamps():\n",
        "    n = int(input())\n",
        "    country_set = set()\n",
        "\n",
        "    for _ in range(n):\n",
        "        country = input()\n",
        "        country_set.add(country)\n",
        "\n",
        "    print(len(country_set))\n",
        "\n",
        "distinct_stamps()"
      ],
      "metadata": {
        "id": "j2b9Sb9L-wyo"
      },
      "execution_count": null,
      "outputs": []
    },
    {
      "cell_type": "code",
      "source": [
        "from itertools import combinations_with_replacement\n",
        "\n",
        "# Input\n",
        "s, k = input().split()\n",
        "k = int(k)\n",
        "\n",
        "# Sort the string to make sure output is in lex order\n",
        "s = ''.join(sorted(s))\n",
        "\n",
        "# Generate and print combinations\n",
        "for combo in combinations_with_replacement(s, k):\n",
        "    print(''.join(combo))\n"
      ],
      "metadata": {
        "id": "yGboKjO0Cp0o"
      },
      "execution_count": null,
      "outputs": []
    },
    {
      "cell_type": "code",
      "source": [
        "from itertools import groupby\n",
        "\n",
        "s = input()\n",
        "\n",
        "for k, g in groupby(s):\n",
        "    print(f\"({len(list(g))}, {k})\", end=\" \")\n"
      ],
      "metadata": {
        "id": "4Rp7zmdKCulT"
      },
      "execution_count": null,
      "outputs": []
    },
    {
      "cell_type": "code",
      "source": [
        "from itertools import combinations\n",
        "\n",
        "# Input\n",
        "n = int(input())                       # length of list\n",
        "letters = input().split()             # list of letters\n",
        "k = int(input())                      # number of indices to select\n",
        "\n",
        "# Step 1: Generate all combinations of k elements\n",
        "all_combinations = list(combinations(letters, k))\n",
        "\n",
        "# Step 2: Count how many of those combinations contain at least one 'a'\n",
        "# count_with_a = sum(1 for combo in all_combinations if 'a' in combo)\n",
        "count_with_a = 0\n",
        "for combo in all_combinations:\n",
        "    if 'a' in combo:\n",
        "        count_with_a += 1\n",
        "\n",
        "# Step 3: Calculate probability\n",
        "probability = count_with_a / len(all_combinations)\n",
        "\n",
        "# Step 4: Print result rounded to 4 decimal places\n",
        "print(f\"{probability:.4f}\")\n"
      ],
      "metadata": {
        "id": "L2FrBFJ-IA5G"
      },
      "execution_count": null,
      "outputs": []
    },
    {
      "cell_type": "code",
      "source": [
        "from itertools import product\n",
        "\n",
        "# Input: number of lists (k) and modulo value (M)\n",
        "k, M = map(int, input().split())\n",
        "\n",
        "# Create a list to store all input lists\n",
        "lists = []\n",
        "\n",
        "# Read each of the k lists\n",
        "for _ in range(k):\n",
        "    # Ignore the first number (it's just the count of elements)\n",
        "    lst = list(map(int, input().split()))[1:]\n",
        "    lists.append(lst)\n",
        "\n",
        "# Generate all possible combinations picking 1 element from each list\n",
        "all_combinations = product(*lists)\n",
        "\n",
        "# For each combination, calculate the sum of squares % M, and track max\n",
        "max_value = 0\n",
        "\n",
        "for combo in all_combinations:\n",
        "    total = sum(x**2 for x in combo) % M\n",
        "    if total > max_value:\n",
        "        max_value = total\n",
        "\n",
        "# Output the result\n",
        "print(max_value)\n"
      ],
      "metadata": {
        "id": "jY_tncVCaaGo",
        "outputId": "337d5b51-016d-4e4d-b729-b485c005732b",
        "colab": {
          "base_uri": "https://localhost:8080/"
        }
      },
      "execution_count": null,
      "outputs": [
        {
          "output_type": "stream",
          "name": "stdout",
          "text": [
            "3 1000\n",
            "2 5 4\n",
            "3 7 8 9 \n",
            "5 7 8 9 5 10\n",
            "206\n"
          ]
        }
      ]
    },
    {
      "cell_type": "code",
      "source": [
        "# Read number of elements\n",
        "n = int(input())\n",
        "\n",
        "# Read elements and create set of integers\n",
        "s = set(map(int, input().split()))\n",
        "\n",
        "# Read number of commands\n",
        "N = int(input())\n",
        "\n",
        "for _ in range(N):\n",
        "    command = input().split()\n",
        "\n",
        "    # For commands like \"pop\"\n",
        "    if command[0] == \"pop\":\n",
        "        s.pop()\n",
        "\n",
        "    # For commands like \"remove x\"\n",
        "    elif command[0] == \"remove\":\n",
        "        x = int(command[1])\n",
        "        s.remove(x)\n",
        "\n",
        "    # For commands like \"discard x\"\n",
        "    elif command[0] == \"discard\":\n",
        "        x = int(command[1])\n",
        "        s.discard(x)\n",
        "\n",
        "# Print sum of remaining elements\n",
        "print(sum(s))\n"
      ],
      "metadata": {
        "colab": {
          "base_uri": "https://localhost:8080/"
        },
        "id": "MCimvHhmIQlv",
        "outputId": "c4f0fa77-296e-46dc-b1ab-524c8043896a"
      },
      "execution_count": null,
      "outputs": [
        {
          "output_type": "stream",
          "name": "stdout",
          "text": [
            "4\n",
            "1 2 3 4\n",
            "2\n",
            "pop\n",
            "pop\n",
            "7\n"
          ]
        }
      ]
    },
    {
      "cell_type": "code",
      "source": [
        "# Input\n",
        "n_english = int(input())\n",
        "english_rolls = set(map(int, input().split()))\n",
        "n_french = int(input())\n",
        "french_rolls = set(map(int, input().split()))\n",
        "\n",
        "# Union of both sets\n",
        "union_students = english_rolls.union(french_rolls)\n",
        "\n",
        "# Count unique students\n",
        "print(len(union_students))\n"
      ],
      "metadata": {
        "id": "EGElOeGmzzy3",
        "outputId": "7a06015c-1f5b-4564-a843-27509f53cb9f",
        "colab": {
          "base_uri": "https://localhost:8080/"
        }
      },
      "execution_count": null,
      "outputs": [
        {
          "output_type": "stream",
          "name": "stdout",
          "text": [
            "9\n",
            "1 2 3 4 5 6 7 8 9\n",
            "9\n",
            "10 1 2 3 11 21 55 6 8\n",
            "13\n"
          ]
        }
      ]
    },
    {
      "cell_type": "code",
      "source": [
        "#!/bin/python3\n",
        "\n",
        "import math\n",
        "import os\n",
        "import random\n",
        "import re\n",
        "import sys\n",
        "from collections import Counter\n",
        "\n",
        "if __name__ == '__main__':\n",
        "    s = input().strip()\n",
        "\n",
        "    # Count the frequency of each character\n",
        "    char_counts = Counter(s)\n",
        "\n",
        "    # Sort by:\n",
        "    # 1. Descending order of count (-x[1])\n",
        "    # 2. Alphabetical order (x[0])\n",
        "    sorted_chars = sorted(char_counts.items(), key=lambda x: (-x[1], x[0]))\n",
        "\n",
        "    # Print the top 3 characters\n",
        "    for char, count in sorted_chars[:3]:\n",
        "        print(char, count)\n"
      ],
      "metadata": {
        "colab": {
          "base_uri": "https://localhost:8080/"
        },
        "id": "cvwQ6W9Tl0W4",
        "outputId": "731bd7c3-91f3-45dd-848c-f0ca4e046940"
      },
      "execution_count": null,
      "outputs": [
        {
          "output_type": "stream",
          "name": "stdout",
          "text": [
            "aabbbccde\n",
            "b 3\n",
            "a 2\n",
            "c 2\n"
          ]
        }
      ]
    },
    {
      "cell_type": "code",
      "source": [
        "def can_stack(cubes):\n",
        "    left = 0\n",
        "    right = len(cubes) -1\n",
        "    current_top = float('inf')\n",
        "\n",
        "    while left <= right:\n",
        "        if cubes[left] >= cubes[right]:\n",
        "            pick = cubes[left]\n",
        "            if pick <= current_top:\n",
        "                current_top = pick\n",
        "                left +=1\n",
        "            else:\n",
        "                return \"No\"\n",
        "        else:\n",
        "            pick = cubes[right]\n",
        "            if pick <= current_top:\n",
        "                current_top = pick\n",
        "                right -=1\n",
        "            else:\n",
        "                return \"No\"\n",
        "    return \"Yes\"\n",
        "\n",
        "T = int(input())\n",
        "for _ in range(T):\n",
        "    n = int(input())\n",
        "    cubes = list(map(int, input().split()))\n",
        "    print(can_stack(cubes))\n"
      ],
      "metadata": {
        "colab": {
          "base_uri": "https://localhost:8080/"
        },
        "id": "VqMGf3_CaAlW",
        "outputId": "fabd6c99-4481-4122-83eb-1d414af6a5a8"
      },
      "execution_count": null,
      "outputs": [
        {
          "output_type": "stream",
          "name": "stdout",
          "text": [
            "1\n",
            "6\n",
            "4 3 2 1 3 4\n",
            "Yes\n"
          ]
        }
      ]
    },
    {
      "cell_type": "code",
      "source": [
        "# Input reading\n",
        "n_english = int(input())           # Not needed for logic, just to read the next line\n",
        "english = set(map(int, input().split()))\n",
        "\n",
        "n_french = int(input())            # Not needed for logic, just to read the next line\n",
        "french = set(map(int, input().split()))\n",
        "\n",
        "# Find intersection\n",
        "both = english & french\n",
        "\n",
        "# Output count\n",
        "print(len(both))\n"
      ],
      "metadata": {
        "colab": {
          "base_uri": "https://localhost:8080/"
        },
        "id": "KGXrCHK8wyv4",
        "outputId": "57cb34f3-be72-4b8f-d039-3e41522357a5"
      },
      "execution_count": 1,
      "outputs": [
        {
          "output_type": "stream",
          "name": "stdout",
          "text": [
            "9\n",
            "1 2 3 4 5 6 7 8 9\n",
            "9\n",
            "10 1 2 3 11 21 55 6 8\n",
            "5\n"
          ]
        }
      ]
    },
    {
      "cell_type": "code",
      "source": [
        "# Step 1: Read input\n",
        "n_english = int(input())\n",
        "english = set(map(int, input().split()))\n",
        "\n",
        "n_french = int(input())\n",
        "french = set(map(int, input().split()))\n",
        "\n",
        "# Step 2: Calculate difference\n",
        "only_english = english - french\n",
        "\n",
        "# Step 3: Print the number of students\n",
        "print(len(only_english))\n"
      ],
      "metadata": {
        "colab": {
          "base_uri": "https://localhost:8080/"
        },
        "id": "n3U0msMRy57U",
        "outputId": "9b2ed255-5435-4477-91f6-e4e67ea72867"
      },
      "execution_count": 2,
      "outputs": [
        {
          "output_type": "stream",
          "name": "stdout",
          "text": [
            "9\n",
            "1 2 3 4 5 6 7 8 9\n",
            "9\n",
            "10 1 2 3 11 21 55 6 8\n",
            "4\n"
          ]
        }
      ]
    },
    {
      "cell_type": "code",
      "source": [
        "# Step 1: Read inputs\n",
        "n_english = int(input())\n",
        "english = set(map(int, input().split()))\n",
        "\n",
        "n_french = int(input())\n",
        "french = set(map(int, input().split()))\n",
        "\n",
        "# Step 2: Symmetric difference\n",
        "sym_diff = english ^ french\n",
        "\n",
        "# Step 3: Output count\n",
        "print(len(sym_diff))\n"
      ],
      "metadata": {
        "colab": {
          "base_uri": "https://localhost:8080/"
        },
        "id": "nV58tWxg02Kz",
        "outputId": "6118ada3-3dc6-4c26-939c-dae10300905b"
      },
      "execution_count": 3,
      "outputs": [
        {
          "output_type": "stream",
          "name": "stdout",
          "text": [
            "9\n",
            "1 2 3 4 5 6 7 8 9\n",
            "9\n",
            "10 1 2 3 11 21 55 6 8\n",
            "8\n"
          ]
        }
      ]
    }
  ]
}