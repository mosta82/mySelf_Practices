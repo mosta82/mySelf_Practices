{
  "nbformat": 4,
  "nbformat_minor": 0,
  "metadata": {
    "colab": {
      "provenance": [],
      "authorship_tag": "ABX9TyNmVg6Ecr1ogdFl+rea+Eer",
      "include_colab_link": true
    },
    "kernelspec": {
      "name": "python3",
      "display_name": "Python 3"
    },
    "language_info": {
      "name": "python"
    }
  },
  "cells": [
    {
      "cell_type": "markdown",
      "metadata": {
        "id": "view-in-github",
        "colab_type": "text"
      },
      "source": [
        "<a href=\"https://colab.research.google.com/github/mosta82/mySelf_Practices/blob/main/FastAPI_Learning.ipynb\" target=\"_parent\"><img src=\"https://colab.research.google.com/assets/colab-badge.svg\" alt=\"Open In Colab\"/></a>"
      ]
    },
    {
      "cell_type": "code",
      "execution_count": null,
      "metadata": {
        "colab": {
          "base_uri": "https://localhost:8080/"
        },
        "id": "01UDpS2wbvy4",
        "outputId": "ea2589da-f1a6-4c0e-d4ac-051683976311"
      },
      "outputs": [
        {
          "output_type": "stream",
          "name": "stdout",
          "text": [
            "My name is Rahim and I am 25 years old.\n"
          ]
        }
      ],
      "source": [
        "age = 25\n",
        "name = \"Rahim\"\n",
        "print(f\"My name is {name} and I am {age} years old.\")"
      ]
    },
    {
      "cell_type": "code",
      "source": [
        "num = 10\n",
        "if num > 0:\n",
        "    print(\"Positive\")\n",
        "elif num < 0:\n",
        "    print(\"Negative\")\n",
        "else:\n",
        "    print(\"Zero\")"
      ],
      "metadata": {
        "colab": {
          "base_uri": "https://localhost:8080/"
        },
        "id": "zRggfH9llMAI",
        "outputId": "2afb5135-fc09-45f9-8013-98ce8e058329"
      },
      "execution_count": null,
      "outputs": [
        {
          "output_type": "stream",
          "name": "stdout",
          "text": [
            "Positive\n"
          ]
        }
      ]
    },
    {
      "cell_type": "code",
      "source": [
        "for i in range(1, 6):  # Prints 1 to 5\n",
        "    print(i)\n"
      ],
      "metadata": {
        "id": "XuvoRHoFlb99",
        "outputId": "be3b7813-5458-4282-bbe7-3738bc447974",
        "colab": {
          "base_uri": "https://localhost:8080/"
        }
      },
      "execution_count": null,
      "outputs": [
        {
          "output_type": "stream",
          "name": "stdout",
          "text": [
            "1\n",
            "2\n",
            "3\n",
            "4\n",
            "5\n"
          ]
        }
      ]
    },
    {
      "cell_type": "code",
      "source": [
        "count = 0\n",
        "while count < 3:\n",
        "    print(\"Hello!\")\n",
        "    count += 1"
      ],
      "metadata": {
        "id": "nv4QarEllfSS",
        "outputId": "e954132a-3c83-42c4-accc-34945883aa28",
        "colab": {
          "base_uri": "https://localhost:8080/"
        }
      },
      "execution_count": null,
      "outputs": [
        {
          "output_type": "stream",
          "name": "stdout",
          "text": [
            "Hello!\n",
            "Hello!\n",
            "Hello!\n"
          ]
        }
      ]
    },
    {
      "cell_type": "code",
      "source": [
        "num = int(input(\"Enter a number: \"))\n",
        "if num % 2 == 0:\n",
        "    print(\"Even\")\n",
        "else:\n",
        "    print(\"Odd\")"
      ],
      "metadata": {
        "id": "_gkiiXNMlqC-",
        "outputId": "49bc5c10-04a9-4642-cae5-cce02cb27466",
        "colab": {
          "base_uri": "https://localhost:8080/"
        }
      },
      "execution_count": null,
      "outputs": [
        {
          "output_type": "stream",
          "name": "stdout",
          "text": [
            "Enter a number: 5\n",
            "Odd\n"
          ]
        }
      ]
    },
    {
      "cell_type": "code",
      "source": [
        "total = 0\n",
        "for i in range(1, 51):\n",
        "    total += i\n",
        "print(\"Sum:\", total)  # Output: 1275"
      ],
      "metadata": {
        "id": "oIlbBp8_lubI",
        "outputId": "4083c610-75e6-4f54-eaf3-8a6b39ec06f2",
        "colab": {
          "base_uri": "https://localhost:8080/"
        }
      },
      "execution_count": null,
      "outputs": [
        {
          "output_type": "stream",
          "name": "stdout",
          "text": [
            "Sum: 1275\n"
          ]
        }
      ]
    },
    {
      "cell_type": "code",
      "source": [
        "def add(a, b):\n",
        "    return a + b\n",
        "\n",
        "result = add(5, 3)\n",
        "print(result)  # Output: 8"
      ],
      "metadata": {
        "id": "go7cKlYuEdKX",
        "outputId": "9ce4e254-9240-4220-87d4-b232580faa61",
        "colab": {
          "base_uri": "https://localhost:8080/"
        }
      },
      "execution_count": null,
      "outputs": [
        {
          "output_type": "stream",
          "name": "stdout",
          "text": [
            "8\n"
          ]
        }
      ]
    },
    {
      "cell_type": "code",
      "source": [
        "def greet(name=\"Guest\"):\n",
        "    return f\"Hello, {name}!\"\n",
        "\n",
        "print(greet())          # Output: Hello, Guest!\n",
        "print(greet(\"Alice\"))   # Output: Hello, Alice!"
      ],
      "metadata": {
        "id": "KcJEyamzFALc",
        "outputId": "b8bbb957-3252-4757-d1d8-b81f303cc2cd",
        "colab": {
          "base_uri": "https://localhost:8080/"
        }
      },
      "execution_count": null,
      "outputs": [
        {
          "output_type": "stream",
          "name": "stdout",
          "text": [
            "Hello, Guest!\n",
            "Hello, Alice!\n"
          ]
        }
      ]
    },
    {
      "cell_type": "code",
      "source": [
        "student = {\n",
        "    \"name\": \"Rahim\",\n",
        "    \"age\": 22,\n",
        "    \"courses\": [\"Python\", \"FastAPI\"]\n",
        "}\n",
        "\n",
        "print(student[\"name\"])  # Output: Rahim"
      ],
      "metadata": {
        "id": "0WSLMH8vFkzF",
        "outputId": "39a49ff9-4086-4a46-88ae-7873c4023e23",
        "colab": {
          "base_uri": "https://localhost:8080/"
        }
      },
      "execution_count": null,
      "outputs": [
        {
          "output_type": "stream",
          "name": "stdout",
          "text": [
            "Rahim\n"
          ]
        }
      ]
    },
    {
      "cell_type": "code",
      "source": [
        "import json\n",
        "\n",
        "# Python dict → JSON\n",
        "student_json = json.dumps(student)\n",
        "print(student_json)  # Output: {\"name\": \"Rahim\", \"age\": 22, ...}\n",
        "\n",
        "# JSON → Python dict\n",
        "student_dict = json.loads(student_json)\n",
        "print(student_dict[\"age\"])  # Output: 22"
      ],
      "metadata": {
        "id": "I_vNuX8eJLG_",
        "outputId": "cf7b8354-e0b6-4d4d-da9b-0a2de1b48782",
        "colab": {
          "base_uri": "https://localhost:8080/"
        }
      },
      "execution_count": null,
      "outputs": [
        {
          "output_type": "stream",
          "name": "stdout",
          "text": [
            "{\"name\": \"Rahim\", \"age\": 22, \"courses\": [\"Python\", \"FastAPI\"]}\n",
            "22\n"
          ]
        }
      ]
    },
    {
      "cell_type": "code",
      "source": [
        "import json\n",
        "\n",
        "data = {\"name\": \"Alice\", \"age\": 25}\n",
        "\n",
        "with open(\"data.json\", \"w\") as file:\n",
        "    json.dump(data, file)  # Saves JSON to 'data.json'"
      ],
      "metadata": {
        "id": "qggKNnA7Jneb"
      },
      "execution_count": null,
      "outputs": []
    },
    {
      "cell_type": "code",
      "source": [
        "with open(\"data.json\", \"r\") as file:\n",
        "    loaded_data = json.load(file)\n",
        "\n",
        "print(loaded_data[\"name\"])  # Output: Alice"
      ],
      "metadata": {
        "id": "rZKWTHpnKPN3",
        "outputId": "4ad960ae-b0ef-4603-bdf2-f84ef19f77ae",
        "colab": {
          "base_uri": "https://localhost:8080/"
        }
      },
      "execution_count": null,
      "outputs": [
        {
          "output_type": "stream",
          "name": "stdout",
          "text": [
            "Alice\n"
          ]
        }
      ]
    },
    {
      "cell_type": "code",
      "source": [
        "import json\n",
        "\n",
        "student = {\n",
        "    \"name\": input(\"Enter name: \"),\n",
        "    \"age\": int(input(\"Enter age: \")),\n",
        "    \"courses\": input(\"Enter courses (comma-separated): \").split(\",\")\n",
        "}\n",
        "\n",
        "with open(\"students.json\", \"w\") as file:\n",
        "    json.dump(student, file)\n",
        "\n",
        "with open(\"students.json\", \"r\") as file:\n",
        "    print(json.load(file))"
      ],
      "metadata": {
        "id": "inxm6M8HLMmB",
        "outputId": "aa5d990e-db80-4755-c2bb-8cb79c551536",
        "colab": {
          "base_uri": "https://localhost:8080/"
        }
      },
      "execution_count": null,
      "outputs": [
        {
          "output_type": "stream",
          "name": "stdout",
          "text": [
            "Enter name: Mostafizur \n",
            "Enter age: 25\n",
            "Enter courses (comma-separated): Math,English\n",
            "{'name': 'Mostafizur ', 'age': 25, 'courses': ['Math', 'English']}\n"
          ]
        }
      ]
    },
    {
      "cell_type": "code",
      "source": [
        "def calculate(a, b, operation):\n",
        "    if operation == \"add\":\n",
        "        return a + b\n",
        "    elif operation == \"subtract\":\n",
        "        return a - b\n",
        "    elif operation == \"multiply\":\n",
        "        return a * b\n",
        "    elif operation == \"divide\":\n",
        "        return a / b\n",
        "    else:\n",
        "        return \"Invalid operation!\"\n",
        "\n",
        "print(calculate(10, 5, \"add\"))  # Output: 15\n",
        "print(calculate(10, 5, \"subtract\"))\n",
        "print(calculate(10, 5, \"divide\"))\n"
      ],
      "metadata": {
        "id": "J7lj5tbCLpiK",
        "outputId": "9eb3a43c-0e2d-4631-fe1f-11f2dfb6bb3a",
        "colab": {
          "base_uri": "https://localhost:8080/"
        }
      },
      "execution_count": null,
      "outputs": [
        {
          "output_type": "stream",
          "name": "stdout",
          "text": [
            "15\n",
            "5\n",
            "2.0\n"
          ]
        }
      ]
    },
    {
      "cell_type": "code",
      "source": [
        "import json\n",
        "\n",
        "student = {\n",
        "    \"name\": \"Mostafiz\",\n",
        "    \"age\": 23,\n",
        "    \"class\": \"CSE\"\n",
        "}\n",
        "\n",
        "json_data = json.dumps(student)  # dict -> JSON string\n",
        "print(json_data)\n"
      ],
      "metadata": {
        "colab": {
          "base_uri": "https://localhost:8080/"
        },
        "id": "046Zl0yDDCCo",
        "outputId": "5692af7b-d45b-436f-a158-1def4eaea796"
      },
      "execution_count": null,
      "outputs": [
        {
          "output_type": "stream",
          "name": "stdout",
          "text": [
            "{\"name\": \"Mostafiz\", \"age\": 23, \"class\": \"CSE\"}\n"
          ]
        }
      ]
    },
    {
      "cell_type": "code",
      "source": [
        "import json\n",
        "\n",
        "json_text = '{\"name\": \"Rahim\", \"age\": 20, \"class\": \"CSE\"}'\n",
        "student_dict = json.loads(json_text)  # JSON string -> dict\n",
        "\n",
        "print(student_dict[\"name\"])\n",
        "print(student_dict[\"age\"])\n"
      ],
      "metadata": {
        "colab": {
          "base_uri": "https://localhost:8080/"
        },
        "id": "1tgFKH9uDTYe",
        "outputId": "0acfdb2d-18ba-4f7b-a145-6ac485163c4d"
      },
      "execution_count": null,
      "outputs": [
        {
          "output_type": "stream",
          "name": "stdout",
          "text": [
            "Rahim\n",
            "20\n"
          ]
        }
      ]
    },
    {
      "cell_type": "code",
      "source": [
        "import json\n",
        "\n",
        "student = {\"name\": \"Mostafiz\", \"age\": 23, \"class\": \"CSE\"}\n",
        "\n",
        "with open(\"student.json\", \"w\") as file:\n",
        "    json.dump(student, file)\n"
      ],
      "metadata": {
        "id": "OwH7gyy-FNSp"
      },
      "execution_count": null,
      "outputs": []
    },
    {
      "cell_type": "code",
      "source": [
        "import json\n",
        "\n",
        "with open(\"student.json\", \"r\") as file:\n",
        "    data = json.load(file)\n",
        "\n",
        "print(data)\n",
        "print(data[\"name\"])\n"
      ],
      "metadata": {
        "colab": {
          "base_uri": "https://localhost:8080/"
        },
        "id": "vvqnGaubGMnA",
        "outputId": "754062a9-818d-469e-f20e-2b917b43b9f3"
      },
      "execution_count": null,
      "outputs": [
        {
          "output_type": "stream",
          "name": "stdout",
          "text": [
            "{'name': 'Mostafiz', 'age': 23, 'class': 'CSE'}\n",
            "Mostafiz\n"
          ]
        }
      ]
    },
    {
      "cell_type": "code",
      "source": [
        "import json\n",
        "\n",
        "def save_student(name, age):\n",
        "    student = {\"name\": name, \"age\": age}\n",
        "    with open(\"student1.json\", \"w\") as file:\n",
        "        json.dump(student, file)\n",
        "    print(\"Student saved successfully!\")\n",
        "\n",
        "save_student(\"Rahim\", 20)\n"
      ],
      "metadata": {
        "colab": {
          "base_uri": "https://localhost:8080/"
        },
        "id": "Z8GrBIz1Gs0W",
        "outputId": "b5ab539d-7100-42f7-bee1-2222987a5dde"
      },
      "execution_count": null,
      "outputs": [
        {
          "output_type": "stream",
          "name": "stdout",
          "text": [
            "Student saved successfully!\n"
          ]
        }
      ]
    },
    {
      "cell_type": "code",
      "source": [
        "def read_student():\n",
        "    with open(\"student1.json\", \"r\") as file:\n",
        "        data = json.load(file)\n",
        "    return data\n",
        "\n",
        "print(read_student())\n"
      ],
      "metadata": {
        "colab": {
          "base_uri": "https://localhost:8080/"
        },
        "id": "sMXqE1_zHIFF",
        "outputId": "f6326399-b086-4081-f4c2-6a174054109f"
      },
      "execution_count": null,
      "outputs": [
        {
          "output_type": "stream",
          "name": "stdout",
          "text": [
            "{'name': 'Rahim', 'age': 20}\n"
          ]
        }
      ]
    },
    {
      "cell_type": "code",
      "source": [
        "import json\n",
        "\n",
        "students = []\n",
        "\n",
        "for i in range(3):\n",
        "    name = input(\"Enter name: \")\n",
        "    age = int(input(\"Enter age: \"))\n",
        "    students.append({\"name\": name, \"age\": age})\n",
        "\n",
        "with open(\"students.json\", \"w\") as file:\n",
        "    json.dump(students, file)\n",
        "\n",
        "print(\"All students saved successfully!\")\n"
      ],
      "metadata": {
        "id": "LSms6m8EH8e4",
        "outputId": "f3db0c95-27d9-4441-eee3-5345799bca7b",
        "colab": {
          "base_uri": "https://localhost:8080/"
        }
      },
      "execution_count": null,
      "outputs": [
        {
          "output_type": "stream",
          "name": "stdout",
          "text": [
            "Enter name: Morshed \n",
            "Enter age: 24\n",
            "Enter name: Rahman \n",
            "Enter age: 25\n",
            "Enter name: Moatafizur \n",
            "Enter age: 25\n",
            "All students saved successfully!\n"
          ]
        }
      ]
    },
    {
      "cell_type": "code",
      "source": [
        "students = [\n",
        "    {\"name\": \"Alice\", \"age\": 22},\n",
        "    {\"name\": \"Bob\", \"age\": 19},\n",
        "    {\"name\": \"Charlie\", \"age\": 25}\n",
        "]\n",
        "\n",
        "filtered_students = [student for student in students if student[\"age\"] > 20]\n",
        "print(filtered_students)\n",
        "# Output: [{'name': 'Alice', 'age': 22}, {'name': 'Charlie', 'age': 25}]"
      ],
      "metadata": {
        "colab": {
          "base_uri": "https://localhost:8080/"
        },
        "id": "q2fWv76EW4LD",
        "outputId": "9f2ef13b-ab1f-4421-98e3-c7d0d1d1bb4f"
      },
      "execution_count": null,
      "outputs": [
        {
          "output_type": "stream",
          "name": "stdout",
          "text": [
            "[{'name': 'Alice', 'age': 22}, {'name': 'Charlie', 'age': 25}]\n"
          ]
        }
      ]
    },
    {
      "cell_type": "code",
      "source": [
        "sentence = \"hello world hello python world\"\n",
        "words = sentence.split()\n",
        "word_count = {}\n",
        "\n",
        "for word in words:\n",
        "    word_count[word] = word_count.get(word, 0) + 1\n",
        "\n",
        "print(word_count)\n",
        "# Output: {'hello': 2, 'world': 2, 'python': 1}"
      ],
      "metadata": {
        "id": "_JTgkBlVYhkJ",
        "outputId": "12bfdb63-e4f2-41cf-da94-055f8190c5ac",
        "colab": {
          "base_uri": "https://localhost:8080/"
        }
      },
      "execution_count": null,
      "outputs": [
        {
          "output_type": "stream",
          "name": "stdout",
          "text": [
            "{'hello': 2, 'world': 2, 'python': 1}\n"
          ]
        }
      ]
    },
    {
      "cell_type": "code",
      "source": [
        "def count_digits(N):\n",
        "    sequence = \"\"\n",
        "    for i in range(1, N+1):\n",
        "        sequence += str(i)\n",
        "    count = [0] * 10\n",
        "    for digit in sequence:\n",
        "        count[int(digit)] += 1\n",
        "\n",
        "    print(*count)\n",
        "count_digits(15)\n"
      ],
      "metadata": {
        "id": "Jc1L0GxEaAe5",
        "outputId": "78fbda9c-d784-4e72-9b69-1687db0fabe6",
        "colab": {
          "base_uri": "https://localhost:8080/"
        }
      },
      "execution_count": null,
      "outputs": [
        {
          "output_type": "stream",
          "name": "stdout",
          "text": [
            "1 8 2 2 2 2 1 1 1 1\n"
          ]
        }
      ]
    },
    {
      "cell_type": "code",
      "source": [
        "num = int(input(\"Enter a number: \"))\n",
        "\n",
        "if num % 2 == 0:\n",
        "    print(\"Even Number\")\n",
        "else:\n",
        "    print(\"Odd Number\")"
      ],
      "metadata": {
        "id": "uJuH9eAL0h_y",
        "outputId": "8c9aa5b2-b902-4d90-f604-daf757f9e446",
        "colab": {
          "base_uri": "https://localhost:8080/"
        }
      },
      "execution_count": 1,
      "outputs": [
        {
          "output_type": "stream",
          "name": "stdout",
          "text": [
            "Enter a number: 21\n",
            "Odd Number\n"
          ]
        }
      ]
    },
    {
      "cell_type": "code",
      "source": [
        "num = int(input(\"Enter a number: \"))\n",
        "\n",
        "if num > 0:\n",
        "    print(\"Positive Number\")\n",
        "elif num < 0:\n",
        "    print(\"Negative Number\")\n",
        "else:\n",
        "    print(\"Number is Zero\")\n"
      ],
      "metadata": {
        "id": "A_VUrQXT02nl",
        "outputId": "568e4bf2-1d60-49f0-e97f-dfe40141b3b5",
        "colab": {
          "base_uri": "https://localhost:8080/"
        }
      },
      "execution_count": 2,
      "outputs": [
        {
          "output_type": "stream",
          "name": "stdout",
          "text": [
            "Enter a number: 21\n",
            "Positive Number\n"
          ]
        }
      ]
    },
    {
      "cell_type": "code",
      "source": [
        "a = int(input(\"Enter first number: \"))\n",
        "b = int(input(\"Enter second number: \"))\n",
        "c = int(input(\"Enter third number: \"))\n",
        "\n",
        "if a >= b and a >= c:\n",
        "    print(\"Largest number is:\", a)\n",
        "elif b >= a and b >= c:\n",
        "    print(\"Largest number is:\", b)\n",
        "else:\n",
        "    print(\"Largest number is:\", c)\n"
      ],
      "metadata": {
        "id": "Wwkv-Q3l1SRm",
        "outputId": "024f4d2f-7a3d-43de-e706-5ea7872ce23e",
        "colab": {
          "base_uri": "https://localhost:8080/"
        }
      },
      "execution_count": 3,
      "outputs": [
        {
          "output_type": "stream",
          "name": "stdout",
          "text": [
            "Enter first number: 12\n",
            "Enter second number: 45\n",
            "Enter third number: 65\n",
            "Largest number is: 65\n"
          ]
        }
      ]
    }
  ]
}