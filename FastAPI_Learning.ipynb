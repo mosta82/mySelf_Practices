{
  "nbformat": 4,
  "nbformat_minor": 0,
  "metadata": {
    "colab": {
      "provenance": [],
      "authorship_tag": "ABX9TyNMy5+yZ81xoVM0SAQxOFJw",
      "include_colab_link": true
    },
    "kernelspec": {
      "name": "python3",
      "display_name": "Python 3"
    },
    "language_info": {
      "name": "python"
    }
  },
  "cells": [
    {
      "cell_type": "markdown",
      "metadata": {
        "id": "view-in-github",
        "colab_type": "text"
      },
      "source": [
        "<a href=\"https://colab.research.google.com/github/mosta82/mySelf_Practices/blob/main/FastAPI_Learning.ipynb\" target=\"_parent\"><img src=\"https://colab.research.google.com/assets/colab-badge.svg\" alt=\"Open In Colab\"/></a>"
      ]
    },
    {
      "cell_type": "code",
      "execution_count": null,
      "metadata": {
        "colab": {
          "base_uri": "https://localhost:8080/"
        },
        "id": "01UDpS2wbvy4",
        "outputId": "ea2589da-f1a6-4c0e-d4ac-051683976311"
      },
      "outputs": [
        {
          "output_type": "stream",
          "name": "stdout",
          "text": [
            "My name is Rahim and I am 25 years old.\n"
          ]
        }
      ],
      "source": [
        "age = 25\n",
        "name = \"Rahim\"\n",
        "print(f\"My name is {name} and I am {age} years old.\")"
      ]
    },
    {
      "cell_type": "code",
      "source": [
        "num = 10\n",
        "if num > 0:\n",
        "    print(\"Positive\")\n",
        "elif num < 0:\n",
        "    print(\"Negative\")\n",
        "else:\n",
        "    print(\"Zero\")"
      ],
      "metadata": {
        "colab": {
          "base_uri": "https://localhost:8080/"
        },
        "id": "zRggfH9llMAI",
        "outputId": "2afb5135-fc09-45f9-8013-98ce8e058329"
      },
      "execution_count": null,
      "outputs": [
        {
          "output_type": "stream",
          "name": "stdout",
          "text": [
            "Positive\n"
          ]
        }
      ]
    },
    {
      "cell_type": "code",
      "source": [
        "for i in range(1, 6):  # Prints 1 to 5\n",
        "    print(i)\n"
      ],
      "metadata": {
        "id": "XuvoRHoFlb99",
        "outputId": "be3b7813-5458-4282-bbe7-3738bc447974",
        "colab": {
          "base_uri": "https://localhost:8080/"
        }
      },
      "execution_count": null,
      "outputs": [
        {
          "output_type": "stream",
          "name": "stdout",
          "text": [
            "1\n",
            "2\n",
            "3\n",
            "4\n",
            "5\n"
          ]
        }
      ]
    },
    {
      "cell_type": "code",
      "source": [
        "count = 0\n",
        "while count < 3:\n",
        "    print(\"Hello!\")\n",
        "    count += 1"
      ],
      "metadata": {
        "id": "nv4QarEllfSS",
        "outputId": "e954132a-3c83-42c4-accc-34945883aa28",
        "colab": {
          "base_uri": "https://localhost:8080/"
        }
      },
      "execution_count": null,
      "outputs": [
        {
          "output_type": "stream",
          "name": "stdout",
          "text": [
            "Hello!\n",
            "Hello!\n",
            "Hello!\n"
          ]
        }
      ]
    },
    {
      "cell_type": "code",
      "source": [
        "num = int(input(\"Enter a number: \"))\n",
        "if num % 2 == 0:\n",
        "    print(\"Even\")\n",
        "else:\n",
        "    print(\"Odd\")"
      ],
      "metadata": {
        "id": "_gkiiXNMlqC-",
        "outputId": "49bc5c10-04a9-4642-cae5-cce02cb27466",
        "colab": {
          "base_uri": "https://localhost:8080/"
        }
      },
      "execution_count": null,
      "outputs": [
        {
          "output_type": "stream",
          "name": "stdout",
          "text": [
            "Enter a number: 5\n",
            "Odd\n"
          ]
        }
      ]
    },
    {
      "cell_type": "code",
      "source": [
        "total = 0\n",
        "for i in range(1, 51):\n",
        "    total += i\n",
        "print(\"Sum:\", total)  # Output: 1275"
      ],
      "metadata": {
        "id": "oIlbBp8_lubI",
        "outputId": "4083c610-75e6-4f54-eaf3-8a6b39ec06f2",
        "colab": {
          "base_uri": "https://localhost:8080/"
        }
      },
      "execution_count": null,
      "outputs": [
        {
          "output_type": "stream",
          "name": "stdout",
          "text": [
            "Sum: 1275\n"
          ]
        }
      ]
    },
    {
      "cell_type": "code",
      "source": [
        "def add(a, b):\n",
        "    return a + b\n",
        "\n",
        "result = add(5, 3)\n",
        "print(result)  # Output: 8"
      ],
      "metadata": {
        "id": "go7cKlYuEdKX",
        "outputId": "9ce4e254-9240-4220-87d4-b232580faa61",
        "colab": {
          "base_uri": "https://localhost:8080/"
        }
      },
      "execution_count": null,
      "outputs": [
        {
          "output_type": "stream",
          "name": "stdout",
          "text": [
            "8\n"
          ]
        }
      ]
    },
    {
      "cell_type": "code",
      "source": [
        "def greet(name=\"Guest\"):\n",
        "    return f\"Hello, {name}!\"\n",
        "\n",
        "print(greet())          # Output: Hello, Guest!\n",
        "print(greet(\"Alice\"))   # Output: Hello, Alice!"
      ],
      "metadata": {
        "id": "KcJEyamzFALc",
        "outputId": "b8bbb957-3252-4757-d1d8-b81f303cc2cd",
        "colab": {
          "base_uri": "https://localhost:8080/"
        }
      },
      "execution_count": null,
      "outputs": [
        {
          "output_type": "stream",
          "name": "stdout",
          "text": [
            "Hello, Guest!\n",
            "Hello, Alice!\n"
          ]
        }
      ]
    },
    {
      "cell_type": "code",
      "source": [
        "student = {\n",
        "    \"name\": \"Rahim\",\n",
        "    \"age\": 22,\n",
        "    \"courses\": [\"Python\", \"FastAPI\"]\n",
        "}\n",
        "\n",
        "print(student[\"name\"])  # Output: Rahim"
      ],
      "metadata": {
        "id": "0WSLMH8vFkzF",
        "outputId": "39a49ff9-4086-4a46-88ae-7873c4023e23",
        "colab": {
          "base_uri": "https://localhost:8080/"
        }
      },
      "execution_count": null,
      "outputs": [
        {
          "output_type": "stream",
          "name": "stdout",
          "text": [
            "Rahim\n"
          ]
        }
      ]
    },
    {
      "cell_type": "code",
      "source": [
        "import json\n",
        "\n",
        "# Python dict → JSON\n",
        "student_json = json.dumps(student)\n",
        "print(student_json)  # Output: {\"name\": \"Rahim\", \"age\": 22, ...}\n",
        "\n",
        "# JSON → Python dict\n",
        "student_dict = json.loads(student_json)\n",
        "print(student_dict[\"age\"])  # Output: 22"
      ],
      "metadata": {
        "id": "I_vNuX8eJLG_",
        "outputId": "cf7b8354-e0b6-4d4d-da9b-0a2de1b48782",
        "colab": {
          "base_uri": "https://localhost:8080/"
        }
      },
      "execution_count": null,
      "outputs": [
        {
          "output_type": "stream",
          "name": "stdout",
          "text": [
            "{\"name\": \"Rahim\", \"age\": 22, \"courses\": [\"Python\", \"FastAPI\"]}\n",
            "22\n"
          ]
        }
      ]
    },
    {
      "cell_type": "code",
      "source": [
        "import json\n",
        "\n",
        "data = {\"name\": \"Alice\", \"age\": 25}\n",
        "\n",
        "with open(\"data.json\", \"w\") as file:\n",
        "    json.dump(data, file)  # Saves JSON to 'data.json'"
      ],
      "metadata": {
        "id": "qggKNnA7Jneb"
      },
      "execution_count": null,
      "outputs": []
    },
    {
      "cell_type": "code",
      "source": [
        "with open(\"data.json\", \"r\") as file:\n",
        "    loaded_data = json.load(file)\n",
        "\n",
        "print(loaded_data[\"name\"])  # Output: Alice"
      ],
      "metadata": {
        "id": "rZKWTHpnKPN3",
        "outputId": "4ad960ae-b0ef-4603-bdf2-f84ef19f77ae",
        "colab": {
          "base_uri": "https://localhost:8080/"
        }
      },
      "execution_count": null,
      "outputs": [
        {
          "output_type": "stream",
          "name": "stdout",
          "text": [
            "Alice\n"
          ]
        }
      ]
    },
    {
      "cell_type": "code",
      "source": [
        "import json\n",
        "\n",
        "student = {\n",
        "    \"name\": input(\"Enter name: \"),\n",
        "    \"age\": int(input(\"Enter age: \")),\n",
        "    \"courses\": input(\"Enter courses (comma-separated): \").split(\",\")\n",
        "}\n",
        "\n",
        "with open(\"students.json\", \"w\") as file:\n",
        "    json.dump(student, file)\n",
        "\n",
        "with open(\"students.json\", \"r\") as file:\n",
        "    print(json.load(file))"
      ],
      "metadata": {
        "id": "inxm6M8HLMmB",
        "outputId": "aa5d990e-db80-4755-c2bb-8cb79c551536",
        "colab": {
          "base_uri": "https://localhost:8080/"
        }
      },
      "execution_count": null,
      "outputs": [
        {
          "output_type": "stream",
          "name": "stdout",
          "text": [
            "Enter name: Mostafizur \n",
            "Enter age: 25\n",
            "Enter courses (comma-separated): Math,English\n",
            "{'name': 'Mostafizur ', 'age': 25, 'courses': ['Math', 'English']}\n"
          ]
        }
      ]
    },
    {
      "cell_type": "code",
      "source": [
        "def calculate(a, b, operation):\n",
        "    if operation == \"add\":\n",
        "        return a + b\n",
        "    elif operation == \"subtract\":\n",
        "        return a - b\n",
        "    elif operation == \"multiply\":\n",
        "        return a * b\n",
        "    elif operation == \"divide\":\n",
        "        return a / b\n",
        "    else:\n",
        "        return \"Invalid operation!\"\n",
        "\n",
        "print(calculate(10, 5, \"add\"))  # Output: 15\n",
        "print(calculate(10, 5, \"subtract\"))\n",
        "print(calculate(10, 5, \"divide\"))\n"
      ],
      "metadata": {
        "id": "J7lj5tbCLpiK",
        "outputId": "9eb3a43c-0e2d-4631-fe1f-11f2dfb6bb3a",
        "colab": {
          "base_uri": "https://localhost:8080/"
        }
      },
      "execution_count": null,
      "outputs": [
        {
          "output_type": "stream",
          "name": "stdout",
          "text": [
            "15\n",
            "5\n",
            "2.0\n"
          ]
        }
      ]
    },
    {
      "cell_type": "code",
      "source": [
        "import json\n",
        "\n",
        "student = {\n",
        "    \"name\": \"Mostafiz\",\n",
        "    \"age\": 23,\n",
        "    \"class\": \"CSE\"\n",
        "}\n",
        "\n",
        "json_data = json.dumps(student)  # dict -> JSON string\n",
        "print(json_data)\n"
      ],
      "metadata": {
        "colab": {
          "base_uri": "https://localhost:8080/"
        },
        "id": "046Zl0yDDCCo",
        "outputId": "5692af7b-d45b-436f-a158-1def4eaea796"
      },
      "execution_count": null,
      "outputs": [
        {
          "output_type": "stream",
          "name": "stdout",
          "text": [
            "{\"name\": \"Mostafiz\", \"age\": 23, \"class\": \"CSE\"}\n"
          ]
        }
      ]
    },
    {
      "cell_type": "code",
      "source": [
        "import json\n",
        "\n",
        "json_text = '{\"name\": \"Rahim\", \"age\": 20, \"class\": \"CSE\"}'\n",
        "student_dict = json.loads(json_text)  # JSON string -> dict\n",
        "\n",
        "print(student_dict[\"name\"])\n",
        "print(student_dict[\"age\"])\n"
      ],
      "metadata": {
        "colab": {
          "base_uri": "https://localhost:8080/"
        },
        "id": "1tgFKH9uDTYe",
        "outputId": "0acfdb2d-18ba-4f7b-a145-6ac485163c4d"
      },
      "execution_count": null,
      "outputs": [
        {
          "output_type": "stream",
          "name": "stdout",
          "text": [
            "Rahim\n",
            "20\n"
          ]
        }
      ]
    },
    {
      "cell_type": "code",
      "source": [
        "import json\n",
        "\n",
        "student = {\"name\": \"Mostafiz\", \"age\": 23, \"class\": \"CSE\"}\n",
        "\n",
        "with open(\"student.json\", \"w\") as file:\n",
        "    json.dump(student, file)\n"
      ],
      "metadata": {
        "id": "OwH7gyy-FNSp"
      },
      "execution_count": null,
      "outputs": []
    },
    {
      "cell_type": "code",
      "source": [
        "import json\n",
        "\n",
        "with open(\"student.json\", \"r\") as file:\n",
        "    data = json.load(file)\n",
        "\n",
        "print(data)\n",
        "print(data[\"name\"])\n"
      ],
      "metadata": {
        "colab": {
          "base_uri": "https://localhost:8080/"
        },
        "id": "vvqnGaubGMnA",
        "outputId": "754062a9-818d-469e-f20e-2b917b43b9f3"
      },
      "execution_count": null,
      "outputs": [
        {
          "output_type": "stream",
          "name": "stdout",
          "text": [
            "{'name': 'Mostafiz', 'age': 23, 'class': 'CSE'}\n",
            "Mostafiz\n"
          ]
        }
      ]
    },
    {
      "cell_type": "code",
      "source": [
        "import json\n",
        "\n",
        "def save_student(name, age):\n",
        "    student = {\"name\": name, \"age\": age}\n",
        "    with open(\"student1.json\", \"w\") as file:\n",
        "        json.dump(student, file)\n",
        "    print(\"Student saved successfully!\")\n",
        "\n",
        "save_student(\"Rahim\", 20)\n"
      ],
      "metadata": {
        "colab": {
          "base_uri": "https://localhost:8080/"
        },
        "id": "Z8GrBIz1Gs0W",
        "outputId": "b5ab539d-7100-42f7-bee1-2222987a5dde"
      },
      "execution_count": null,
      "outputs": [
        {
          "output_type": "stream",
          "name": "stdout",
          "text": [
            "Student saved successfully!\n"
          ]
        }
      ]
    },
    {
      "cell_type": "code",
      "source": [
        "def read_student():\n",
        "    with open(\"student1.json\", \"r\") as file:\n",
        "        data = json.load(file)\n",
        "    return data\n",
        "\n",
        "print(read_student())\n"
      ],
      "metadata": {
        "colab": {
          "base_uri": "https://localhost:8080/"
        },
        "id": "sMXqE1_zHIFF",
        "outputId": "f6326399-b086-4081-f4c2-6a174054109f"
      },
      "execution_count": null,
      "outputs": [
        {
          "output_type": "stream",
          "name": "stdout",
          "text": [
            "{'name': 'Rahim', 'age': 20}\n"
          ]
        }
      ]
    },
    {
      "cell_type": "code",
      "source": [
        "import json\n",
        "\n",
        "students = []\n",
        "\n",
        "for i in range(3):\n",
        "    name = input(\"Enter name: \")\n",
        "    age = int(input(\"Enter age: \"))\n",
        "    students.append({\"name\": name, \"age\": age})\n",
        "\n",
        "with open(\"students.json\", \"w\") as file:\n",
        "    json.dump(students, file)\n",
        "\n",
        "print(\"All students saved successfully!\")\n"
      ],
      "metadata": {
        "id": "LSms6m8EH8e4",
        "outputId": "f3db0c95-27d9-4441-eee3-5345799bca7b",
        "colab": {
          "base_uri": "https://localhost:8080/"
        }
      },
      "execution_count": null,
      "outputs": [
        {
          "output_type": "stream",
          "name": "stdout",
          "text": [
            "Enter name: Morshed \n",
            "Enter age: 24\n",
            "Enter name: Rahman \n",
            "Enter age: 25\n",
            "Enter name: Moatafizur \n",
            "Enter age: 25\n",
            "All students saved successfully!\n"
          ]
        }
      ]
    },
    {
      "cell_type": "code",
      "source": [
        "students = [\n",
        "    {\"name\": \"Alice\", \"age\": 22},\n",
        "    {\"name\": \"Bob\", \"age\": 19},\n",
        "    {\"name\": \"Charlie\", \"age\": 25}\n",
        "]\n",
        "\n",
        "filtered_students = [student for student in students if student[\"age\"] > 20]\n",
        "print(filtered_students)\n",
        "# Output: [{'name': 'Alice', 'age': 22}, {'name': 'Charlie', 'age': 25}]"
      ],
      "metadata": {
        "colab": {
          "base_uri": "https://localhost:8080/"
        },
        "id": "q2fWv76EW4LD",
        "outputId": "9f2ef13b-ab1f-4421-98e3-c7d0d1d1bb4f"
      },
      "execution_count": null,
      "outputs": [
        {
          "output_type": "stream",
          "name": "stdout",
          "text": [
            "[{'name': 'Alice', 'age': 22}, {'name': 'Charlie', 'age': 25}]\n"
          ]
        }
      ]
    },
    {
      "cell_type": "code",
      "source": [
        "sentence = \"hello world hello python world\"\n",
        "words = sentence.split()\n",
        "word_count = {}\n",
        "\n",
        "for word in words:\n",
        "    word_count[word] = word_count.get(word, 0) + 1\n",
        "\n",
        "print(word_count)\n",
        "# Output: {'hello': 2, 'world': 2, 'python': 1}"
      ],
      "metadata": {
        "id": "_JTgkBlVYhkJ",
        "outputId": "12bfdb63-e4f2-41cf-da94-055f8190c5ac",
        "colab": {
          "base_uri": "https://localhost:8080/"
        }
      },
      "execution_count": null,
      "outputs": [
        {
          "output_type": "stream",
          "name": "stdout",
          "text": [
            "{'hello': 2, 'world': 2, 'python': 1}\n"
          ]
        }
      ]
    },
    {
      "cell_type": "code",
      "source": [
        "def count_digits(N):\n",
        "    sequence = \"\"\n",
        "    for i in range(1, N+1):\n",
        "        sequence += str(i)\n",
        "    count = [0] * 10\n",
        "    for digit in sequence:\n",
        "        count[int(digit)] += 1\n",
        "\n",
        "    print(*count)\n",
        "count_digits(15)\n"
      ],
      "metadata": {
        "id": "Jc1L0GxEaAe5",
        "outputId": "78fbda9c-d784-4e72-9b69-1687db0fabe6",
        "colab": {
          "base_uri": "https://localhost:8080/"
        }
      },
      "execution_count": null,
      "outputs": [
        {
          "output_type": "stream",
          "name": "stdout",
          "text": [
            "1 8 2 2 2 2 1 1 1 1\n"
          ]
        }
      ]
    },
    {
      "cell_type": "code",
      "source": [
        "num = int(input(\"Enter a number: \"))\n",
        "\n",
        "if num % 2 == 0:\n",
        "    print(\"Even Number\")\n",
        "else:\n",
        "    print(\"Odd Number\")"
      ],
      "metadata": {
        "colab": {
          "base_uri": "https://localhost:8080/"
        },
        "id": "uJuH9eAL0h_y",
        "outputId": "8c9aa5b2-b902-4d90-f604-daf757f9e446"
      },
      "execution_count": null,
      "outputs": [
        {
          "output_type": "stream",
          "name": "stdout",
          "text": [
            "Enter a number: 21\n",
            "Odd Number\n"
          ]
        }
      ]
    },
    {
      "cell_type": "code",
      "source": [
        "num = int(input(\"Enter a number: \"))\n",
        "\n",
        "if num > 0:\n",
        "    print(\"Positive Number\")\n",
        "elif num < 0:\n",
        "    print(\"Negative Number\")\n",
        "else:\n",
        "    print(\"Number is Zero\")\n"
      ],
      "metadata": {
        "colab": {
          "base_uri": "https://localhost:8080/"
        },
        "id": "A_VUrQXT02nl",
        "outputId": "568e4bf2-1d60-49f0-e97f-dfe40141b3b5"
      },
      "execution_count": null,
      "outputs": [
        {
          "output_type": "stream",
          "name": "stdout",
          "text": [
            "Enter a number: 21\n",
            "Positive Number\n"
          ]
        }
      ]
    },
    {
      "cell_type": "code",
      "source": [
        "a = int(input(\"Enter first number: \"))\n",
        "b = int(input(\"Enter second number: \"))\n",
        "c = int(input(\"Enter third number: \"))\n",
        "\n",
        "if a >= b and a >= c:\n",
        "    print(\"Largest number is:\", a)\n",
        "elif b >= a and b >= c:\n",
        "    print(\"Largest number is:\", b)\n",
        "else:\n",
        "    print(\"Largest number is:\", c)\n"
      ],
      "metadata": {
        "colab": {
          "base_uri": "https://localhost:8080/"
        },
        "id": "Wwkv-Q3l1SRm",
        "outputId": "024f4d2f-7a3d-43de-e706-5ea7872ce23e"
      },
      "execution_count": null,
      "outputs": [
        {
          "output_type": "stream",
          "name": "stdout",
          "text": [
            "Enter first number: 12\n",
            "Enter second number: 45\n",
            "Enter third number: 65\n",
            "Largest number is: 65\n"
          ]
        }
      ]
    },
    {
      "cell_type": "code",
      "source": [
        "n = int(input(\"Enter a number: \"))\n",
        "total = 0\n",
        "\n",
        "for i in range(1, n+1):\n",
        "    total += i\n",
        "\n",
        "print(\"Sum is:\", total)\n"
      ],
      "metadata": {
        "colab": {
          "base_uri": "https://localhost:8080/"
        },
        "id": "gcMi2Glv2p90",
        "outputId": "a6367801-9295-41cc-d085-d8f0316d7a55"
      },
      "execution_count": null,
      "outputs": [
        {
          "output_type": "stream",
          "name": "stdout",
          "text": [
            "Enter a number: 15\n",
            "Sum is: 120\n"
          ]
        }
      ]
    },
    {
      "cell_type": "code",
      "source": [
        "num = int(input(\"Enter a number: \"))\n",
        "fact = 1\n",
        "\n",
        "for i in range(1, num+1):\n",
        "    fact *= i   # fact = fact * i\n",
        "\n",
        "print(\"Factorial is:\", fact)\n"
      ],
      "metadata": {
        "colab": {
          "base_uri": "https://localhost:8080/"
        },
        "id": "f3j7HFgz3JmI",
        "outputId": "eef68d3d-32ee-4358-b955-710e4a46eec2"
      },
      "execution_count": null,
      "outputs": [
        {
          "output_type": "stream",
          "name": "stdout",
          "text": [
            "Enter a number: 3\n",
            "Factorial is: 6\n"
          ]
        }
      ]
    },
    {
      "cell_type": "code",
      "source": [
        "n = int(input(\"How many terms? \"))\n",
        "a, b = 0, 1\n",
        "\n",
        "for _ in range(n):\n",
        "    print(a, end=\" \")\n",
        "    a, b = b, a + b\n"
      ],
      "metadata": {
        "colab": {
          "base_uri": "https://localhost:8080/"
        },
        "id": "kwRkhmpA3XWW",
        "outputId": "3574f97d-d247-49a5-a6a1-05bc83396d42"
      },
      "execution_count": null,
      "outputs": [
        {
          "output_type": "stream",
          "name": "stdout",
          "text": [
            "How many terms? 7\n",
            "0 1 1 2 3 5 8 "
          ]
        }
      ]
    },
    {
      "cell_type": "code",
      "source": [
        "num = int(input(\"Enter a number: \"))\n",
        "\n",
        "for i in range(1, 11):\n",
        "    print(num, \"x\", i, \"=\", num * i)\n"
      ],
      "metadata": {
        "colab": {
          "base_uri": "https://localhost:8080/"
        },
        "id": "7AKkq--p6Tkt",
        "outputId": "323556ce-4c53-4862-df00-64ec86f9b5f1"
      },
      "execution_count": null,
      "outputs": [
        {
          "output_type": "stream",
          "name": "stdout",
          "text": [
            "Enter a number: 12\n",
            "12 x 1 = 12\n",
            "12 x 2 = 24\n",
            "12 x 3 = 36\n",
            "12 x 4 = 48\n",
            "12 x 5 = 60\n",
            "12 x 6 = 72\n",
            "12 x 7 = 84\n",
            "12 x 8 = 96\n",
            "12 x 9 = 108\n",
            "12 x 10 = 120\n"
          ]
        }
      ]
    },
    {
      "cell_type": "code",
      "source": [
        "num = int(input(\"Enter a number: \"))\n",
        "count = 0\n",
        "\n",
        "while num > 0:\n",
        "    count += 1\n",
        "    num //= 10\n",
        "\n",
        "print(\"Total digits:\", count)\n"
      ],
      "metadata": {
        "colab": {
          "base_uri": "https://localhost:8080/"
        },
        "id": "8m7RPmQ-6hN4",
        "outputId": "082dd300-d05d-48a1-c441-37b08edb97be"
      },
      "execution_count": null,
      "outputs": [
        {
          "output_type": "stream",
          "name": "stdout",
          "text": [
            "Enter a number: 12\n",
            "Total digits: 2\n"
          ]
        }
      ]
    },
    {
      "cell_type": "code",
      "source": [
        "num = int(input(\"Enter a number: \"))\n",
        "reverse = 0\n",
        "\n",
        "while num > 0:\n",
        "    digit = num % 10\n",
        "    reverse = reverse * 10 + digit\n",
        "    num //= 10\n",
        "\n",
        "print(\"Reversed number:\", reverse)\n"
      ],
      "metadata": {
        "colab": {
          "base_uri": "https://localhost:8080/"
        },
        "id": "dDiZ2qnV8JhR",
        "outputId": "4fc68553-de07-4901-9691-dbe314b2384a"
      },
      "execution_count": null,
      "outputs": [
        {
          "output_type": "stream",
          "name": "stdout",
          "text": [
            "Enter a number: 1234\n",
            "Reversed number: 4321\n"
          ]
        }
      ]
    },
    {
      "cell_type": "code",
      "source": [
        "num = int(input(\"Enter a number: \"))\n",
        "temp = num\n",
        "reverse = 0\n",
        "\n",
        "while num > 0:\n",
        "    reverse = reverse * 10 + num % 10\n",
        "    num //= 10\n",
        "\n",
        "if temp == reverse:\n",
        "    print(\"Palindrome Number\")\n",
        "else:\n",
        "    print(\"Not Palindrome\")\n"
      ],
      "metadata": {
        "id": "SQfHrN1y9t2d",
        "outputId": "6b09d103-2e1e-424f-b572-8178b0d739f8",
        "colab": {
          "base_uri": "https://localhost:8080/"
        }
      },
      "execution_count": null,
      "outputs": [
        {
          "output_type": "stream",
          "name": "stdout",
          "text": [
            "Enter a number: 123\n",
            "Not Palindrome\n"
          ]
        }
      ]
    },
    {
      "cell_type": "code",
      "source": [
        "text = \"Hello FastAPI\"\n",
        "print(\"Length:\", len(text))\n"
      ],
      "metadata": {
        "colab": {
          "base_uri": "https://localhost:8080/"
        },
        "id": "O4AvaBQ1HQ7b",
        "outputId": "dff4fab6-c9a4-4217-9503-31583941eaa0"
      },
      "execution_count": 1,
      "outputs": [
        {
          "output_type": "stream",
          "name": "stdout",
          "text": [
            "Length: 13\n"
          ]
        }
      ]
    },
    {
      "cell_type": "code",
      "source": [
        "text = \"Python\"\n",
        "reverse = text[::-1]\n",
        "print(\"Reversed:\", reverse)\n",
        ""
      ],
      "metadata": {
        "colab": {
          "base_uri": "https://localhost:8080/"
        },
        "id": "ri6QER9JHUxh",
        "outputId": "129fccd3-0ccd-4e4e-8c66-c27f803bc90a"
      },
      "execution_count": 3,
      "outputs": [
        {
          "output_type": "stream",
          "name": "stdout",
          "text": [
            "Reversed: nohtyP\n"
          ]
        }
      ]
    },
    {
      "cell_type": "code",
      "source": [
        "text = \"banana\"\n",
        "count = text.count(\"a\")\n",
        "print(\"'a' found:\", count, \"times\")\n"
      ],
      "metadata": {
        "colab": {
          "base_uri": "https://localhost:8080/"
        },
        "id": "RIimf4XqHqL5",
        "outputId": "eeadcaa1-cbfc-4275-ac9e-7ea47a40a846"
      },
      "execution_count": 4,
      "outputs": [
        {
          "output_type": "stream",
          "name": "stdout",
          "text": [
            "'a' found: 3 times\n"
          ]
        }
      ]
    },
    {
      "cell_type": "code",
      "source": [
        "sentence = \"I am learning FastAPI\"\n",
        "words = sentence.split()\n",
        "print(words)\n"
      ],
      "metadata": {
        "colab": {
          "base_uri": "https://localhost:8080/"
        },
        "id": "XwwRosQoaDWU",
        "outputId": "98e0ec9e-40a5-4ed8-dc54-663d29dbfad5"
      },
      "execution_count": 5,
      "outputs": [
        {
          "output_type": "stream",
          "name": "stdout",
          "text": [
            "['I', 'am', 'learning', 'FastAPI']\n"
          ]
        }
      ]
    },
    {
      "cell_type": "code",
      "source": [
        "numbers = [10, 20, 30, 40]\n",
        "total = sum(numbers)\n",
        "print(\"Total:\", total)\n"
      ],
      "metadata": {
        "colab": {
          "base_uri": "https://localhost:8080/"
        },
        "id": "ydMHqEd6aK80",
        "outputId": "71e45faf-b3a2-4fe2-ff5c-e6a622271c61"
      },
      "execution_count": 6,
      "outputs": [
        {
          "output_type": "stream",
          "name": "stdout",
          "text": [
            "Total: 100\n"
          ]
        }
      ]
    },
    {
      "cell_type": "code",
      "source": [
        "numbers = [5, 8, 2, 10, 3]\n",
        "print(\"Max:\", max(numbers))\n"
      ],
      "metadata": {
        "colab": {
          "base_uri": "https://localhost:8080/"
        },
        "id": "zAKbsT2zaenT",
        "outputId": "481b308f-4296-4881-b21a-8198112661c3"
      },
      "execution_count": 7,
      "outputs": [
        {
          "output_type": "stream",
          "name": "stdout",
          "text": [
            "Max: 10\n"
          ]
        }
      ]
    },
    {
      "cell_type": "code",
      "source": [
        "numbers = [5, 2, 8, 1, 9]\n",
        "numbers.sort()\n",
        "print(\"Sorted:\", numbers)\n"
      ],
      "metadata": {
        "colab": {
          "base_uri": "https://localhost:8080/"
        },
        "id": "ppWjzaECaq70",
        "outputId": "9517d375-c44f-461a-b967-1d745c9f827b"
      },
      "execution_count": 8,
      "outputs": [
        {
          "output_type": "stream",
          "name": "stdout",
          "text": [
            "Sorted: [1, 2, 5, 8, 9]\n"
          ]
        }
      ]
    },
    {
      "cell_type": "code",
      "source": [
        "student = {\"name\": \"Alice\", \"age\": 22, \"grade\": \"A\"}\n",
        "print(\"Name:\", student[\"name\"])\n"
      ],
      "metadata": {
        "colab": {
          "base_uri": "https://localhost:8080/"
        },
        "id": "Qiyby6yDavBk",
        "outputId": "b2cb6611-0266-446a-9965-8cb7c116d209"
      },
      "execution_count": 9,
      "outputs": [
        {
          "output_type": "stream",
          "name": "stdout",
          "text": [
            "Name: Alice\n"
          ]
        }
      ]
    },
    {
      "cell_type": "code",
      "source": [
        "student = {\"name\": \"Bob,Bobo\", \"age\": \"20, 21\"\n",
        "\n",
        "           }\n",
        "\n",
        "for key, value in student.items():\n",
        "    print(key, \":\", value)\n"
      ],
      "metadata": {
        "colab": {
          "base_uri": "https://localhost:8080/"
        },
        "id": "znQ2aq-Aa4Qe",
        "outputId": "0ea25173-1cb7-44f9-e479-91715d55cb65"
      },
      "execution_count": 13,
      "outputs": [
        {
          "output_type": "stream",
          "name": "stdout",
          "text": [
            "name : Bob,Bobo\n",
            "age : 20, 21\n"
          ]
        }
      ]
    },
    {
      "cell_type": "code",
      "source": [
        "students = [\n",
        "    {\"name\": \"Alice\", \"age\": 22},\n",
        "    {\"name\": \"Bob\", \"age\": 19},\n",
        "    {\"name\": \"Charlie\", \"age\": 25}\n",
        "]\n",
        "\n",
        "\n",
        "filtered = [s for s in students if s[\"age\"] > 20]\n",
        "print(filtered)\n"
      ],
      "metadata": {
        "id": "XkB3DPtibucy",
        "outputId": "9b599897-0244-42a2-b0ab-06dafb59636e",
        "colab": {
          "base_uri": "https://localhost:8080/"
        }
      },
      "execution_count": 14,
      "outputs": [
        {
          "output_type": "stream",
          "name": "stdout",
          "text": [
            "[{'name': 'Alice', 'age': 22}, {'name': 'Charlie', 'age': 25}]\n"
          ]
        }
      ]
    }
  ]
}