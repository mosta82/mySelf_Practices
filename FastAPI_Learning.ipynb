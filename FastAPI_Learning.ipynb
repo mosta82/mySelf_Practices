{
  "nbformat": 4,
  "nbformat_minor": 0,
  "metadata": {
    "colab": {
      "provenance": [],
      "authorship_tag": "ABX9TyMVoNR7b80D0HDRo05jTpZN",
      "include_colab_link": true
    },
    "kernelspec": {
      "name": "python3",
      "display_name": "Python 3"
    },
    "language_info": {
      "name": "python"
    }
  },
  "cells": [
    {
      "cell_type": "markdown",
      "metadata": {
        "id": "view-in-github",
        "colab_type": "text"
      },
      "source": [
        "<a href=\"https://colab.research.google.com/github/mosta82/mySelf_Practices/blob/main/FastAPI_Learning.ipynb\" target=\"_parent\"><img src=\"https://colab.research.google.com/assets/colab-badge.svg\" alt=\"Open In Colab\"/></a>"
      ]
    },
    {
      "cell_type": "code",
      "execution_count": null,
      "metadata": {
        "colab": {
          "base_uri": "https://localhost:8080/"
        },
        "id": "01UDpS2wbvy4",
        "outputId": "ea2589da-f1a6-4c0e-d4ac-051683976311"
      },
      "outputs": [
        {
          "output_type": "stream",
          "name": "stdout",
          "text": [
            "My name is Rahim and I am 25 years old.\n"
          ]
        }
      ],
      "source": [
        "age = 25\n",
        "name = \"Rahim\"\n",
        "print(f\"My name is {name} and I am {age} years old.\")"
      ]
    },
    {
      "cell_type": "code",
      "source": [
        "num = 10\n",
        "if num > 0:\n",
        "    print(\"Positive\")\n",
        "elif num < 0:\n",
        "    print(\"Negative\")\n",
        "else:\n",
        "    print(\"Zero\")"
      ],
      "metadata": {
        "colab": {
          "base_uri": "https://localhost:8080/"
        },
        "id": "zRggfH9llMAI",
        "outputId": "2afb5135-fc09-45f9-8013-98ce8e058329"
      },
      "execution_count": null,
      "outputs": [
        {
          "output_type": "stream",
          "name": "stdout",
          "text": [
            "Positive\n"
          ]
        }
      ]
    },
    {
      "cell_type": "code",
      "source": [
        "for i in range(1, 6):  # Prints 1 to 5\n",
        "    print(i)\n"
      ],
      "metadata": {
        "id": "XuvoRHoFlb99",
        "outputId": "be3b7813-5458-4282-bbe7-3738bc447974",
        "colab": {
          "base_uri": "https://localhost:8080/"
        }
      },
      "execution_count": null,
      "outputs": [
        {
          "output_type": "stream",
          "name": "stdout",
          "text": [
            "1\n",
            "2\n",
            "3\n",
            "4\n",
            "5\n"
          ]
        }
      ]
    },
    {
      "cell_type": "code",
      "source": [
        "count = 0\n",
        "while count < 3:\n",
        "    print(\"Hello!\")\n",
        "    count += 1"
      ],
      "metadata": {
        "id": "nv4QarEllfSS",
        "outputId": "e954132a-3c83-42c4-accc-34945883aa28",
        "colab": {
          "base_uri": "https://localhost:8080/"
        }
      },
      "execution_count": null,
      "outputs": [
        {
          "output_type": "stream",
          "name": "stdout",
          "text": [
            "Hello!\n",
            "Hello!\n",
            "Hello!\n"
          ]
        }
      ]
    },
    {
      "cell_type": "code",
      "source": [
        "num = int(input(\"Enter a number: \"))\n",
        "if num % 2 == 0:\n",
        "    print(\"Even\")\n",
        "else:\n",
        "    print(\"Odd\")"
      ],
      "metadata": {
        "id": "_gkiiXNMlqC-",
        "outputId": "49bc5c10-04a9-4642-cae5-cce02cb27466",
        "colab": {
          "base_uri": "https://localhost:8080/"
        }
      },
      "execution_count": null,
      "outputs": [
        {
          "output_type": "stream",
          "name": "stdout",
          "text": [
            "Enter a number: 5\n",
            "Odd\n"
          ]
        }
      ]
    },
    {
      "cell_type": "code",
      "source": [
        "total = 0\n",
        "for i in range(1, 51):\n",
        "    total += i\n",
        "print(\"Sum:\", total)  # Output: 1275"
      ],
      "metadata": {
        "id": "oIlbBp8_lubI",
        "outputId": "4083c610-75e6-4f54-eaf3-8a6b39ec06f2",
        "colab": {
          "base_uri": "https://localhost:8080/"
        }
      },
      "execution_count": null,
      "outputs": [
        {
          "output_type": "stream",
          "name": "stdout",
          "text": [
            "Sum: 1275\n"
          ]
        }
      ]
    },
    {
      "cell_type": "code",
      "source": [
        "def add(a, b):\n",
        "    return a + b\n",
        "\n",
        "result = add(5, 3)\n",
        "print(result)  # Output: 8"
      ],
      "metadata": {
        "id": "go7cKlYuEdKX",
        "outputId": "9ce4e254-9240-4220-87d4-b232580faa61",
        "colab": {
          "base_uri": "https://localhost:8080/"
        }
      },
      "execution_count": 1,
      "outputs": [
        {
          "output_type": "stream",
          "name": "stdout",
          "text": [
            "8\n"
          ]
        }
      ]
    },
    {
      "cell_type": "code",
      "source": [
        "def greet(name=\"Guest\"):\n",
        "    return f\"Hello, {name}!\"\n",
        "\n",
        "print(greet())          # Output: Hello, Guest!\n",
        "print(greet(\"Alice\"))   # Output: Hello, Alice!"
      ],
      "metadata": {
        "id": "KcJEyamzFALc",
        "outputId": "b8bbb957-3252-4757-d1d8-b81f303cc2cd",
        "colab": {
          "base_uri": "https://localhost:8080/"
        }
      },
      "execution_count": 2,
      "outputs": [
        {
          "output_type": "stream",
          "name": "stdout",
          "text": [
            "Hello, Guest!\n",
            "Hello, Alice!\n"
          ]
        }
      ]
    },
    {
      "cell_type": "code",
      "source": [
        "student = {\n",
        "    \"name\": \"Rahim\",\n",
        "    \"age\": 22,\n",
        "    \"courses\": [\"Python\", \"FastAPI\"]\n",
        "}\n",
        "\n",
        "print(student[\"name\"])  # Output: Rahim"
      ],
      "metadata": {
        "id": "0WSLMH8vFkzF",
        "outputId": "39a49ff9-4086-4a46-88ae-7873c4023e23",
        "colab": {
          "base_uri": "https://localhost:8080/"
        }
      },
      "execution_count": 3,
      "outputs": [
        {
          "output_type": "stream",
          "name": "stdout",
          "text": [
            "Rahim\n"
          ]
        }
      ]
    },
    {
      "cell_type": "code",
      "source": [
        "import json\n",
        "\n",
        "# Python dict → JSON\n",
        "student_json = json.dumps(student)\n",
        "print(student_json)  # Output: {\"name\": \"Rahim\", \"age\": 22, ...}\n",
        "\n",
        "# JSON → Python dict\n",
        "student_dict = json.loads(student_json)\n",
        "print(student_dict[\"age\"])  # Output: 22"
      ],
      "metadata": {
        "id": "I_vNuX8eJLG_",
        "outputId": "cf7b8354-e0b6-4d4d-da9b-0a2de1b48782",
        "colab": {
          "base_uri": "https://localhost:8080/"
        }
      },
      "execution_count": 4,
      "outputs": [
        {
          "output_type": "stream",
          "name": "stdout",
          "text": [
            "{\"name\": \"Rahim\", \"age\": 22, \"courses\": [\"Python\", \"FastAPI\"]}\n",
            "22\n"
          ]
        }
      ]
    },
    {
      "cell_type": "code",
      "source": [
        "import json\n",
        "\n",
        "data = {\"name\": \"Alice\", \"age\": 25}\n",
        "\n",
        "with open(\"data.json\", \"w\") as file:\n",
        "    json.dump(data, file)  # Saves JSON to 'data.json'"
      ],
      "metadata": {
        "id": "qggKNnA7Jneb"
      },
      "execution_count": 5,
      "outputs": []
    },
    {
      "cell_type": "code",
      "source": [
        "with open(\"data.json\", \"r\") as file:\n",
        "    loaded_data = json.load(file)\n",
        "\n",
        "print(loaded_data[\"name\"])  # Output: Alice"
      ],
      "metadata": {
        "id": "rZKWTHpnKPN3",
        "outputId": "4ad960ae-b0ef-4603-bdf2-f84ef19f77ae",
        "colab": {
          "base_uri": "https://localhost:8080/"
        }
      },
      "execution_count": 6,
      "outputs": [
        {
          "output_type": "stream",
          "name": "stdout",
          "text": [
            "Alice\n"
          ]
        }
      ]
    },
    {
      "cell_type": "code",
      "source": [
        "import json\n",
        "\n",
        "student = {\n",
        "    \"name\": input(\"Enter name: \"),\n",
        "    \"age\": int(input(\"Enter age: \")),\n",
        "    \"courses\": input(\"Enter courses (comma-separated): \").split(\",\")\n",
        "}\n",
        "\n",
        "with open(\"students.json\", \"w\") as file:\n",
        "    json.dump(student, file)\n",
        "\n",
        "with open(\"students.json\", \"r\") as file:\n",
        "    print(json.load(file))"
      ],
      "metadata": {
        "id": "inxm6M8HLMmB",
        "outputId": "0d102019-485d-486f-e570-02386af82685",
        "colab": {
          "base_uri": "https://localhost:8080/"
        }
      },
      "execution_count": 7,
      "outputs": [
        {
          "output_type": "stream",
          "name": "stdout",
          "text": [
            "Enter name: Mostafizur \n",
            "Enter age: 25\n",
            "Enter courses (comma-separated): CSE\n",
            "{'name': 'Mostafizur ', 'age': 25, 'courses': ['CSE']}\n"
          ]
        }
      ]
    },
    {
      "cell_type": "code",
      "source": [
        "def calculate(a, b, operation):\n",
        "    if operation == \"add\":\n",
        "        return a + b\n",
        "    elif operation == \"subtract\":\n",
        "        return a - b\n",
        "    elif operation == \"multiply\":\n",
        "        return a * b\n",
        "    elif operation == \"divide\":\n",
        "        return a / b\n",
        "    else:\n",
        "        return \"Invalid operation!\"\n",
        "\n",
        "print(calculate(10, 5, \"add\"))  # Output: 15\n",
        "print(calculate(10, 5, \"subtract\"))\n",
        "print(calculate(10, 5, \"divide\"))\n"
      ],
      "metadata": {
        "id": "J7lj5tbCLpiK",
        "outputId": "9eb3a43c-0e2d-4631-fe1f-11f2dfb6bb3a",
        "colab": {
          "base_uri": "https://localhost:8080/"
        }
      },
      "execution_count": 10,
      "outputs": [
        {
          "output_type": "stream",
          "name": "stdout",
          "text": [
            "15\n",
            "5\n",
            "2.0\n"
          ]
        }
      ]
    }
  ]
}